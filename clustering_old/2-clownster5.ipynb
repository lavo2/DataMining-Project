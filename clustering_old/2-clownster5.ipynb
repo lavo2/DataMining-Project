{
 "cells": [
  {
   "cell_type": "code",
   "execution_count": 1,
   "metadata": {},
   "outputs": [
    {
     "name": "stderr",
     "output_type": "stream",
     "text": [
      "Feature combinations of size 7: 100%|██████████| 36/36 [36:38<00:00, 61.07s/it]"
     ]
    },
    {
     "name": "stdout",
     "output_type": "stream",
     "text": [
      "Best Silhouette Score: 0.502052683871164\n",
      "Best Feature Set: ('avg_age', 'avg_crash_severity_score', 'combined_weather_road_severity', 'fatality_rate', 'speeding_influence', 'damage_cost_LB', 'pct_neo_patented_drivers')\n",
      "Best K: 2\n"
     ]
    },
    {
     "name": "stderr",
     "output_type": "stream",
     "text": [
      "\n"
     ]
    }
   ],
   "source": [
    "from itertools import combinations\n",
    "from sklearn.cluster import KMeans\n",
    "from sklearn.metrics import silhouette_score\n",
    "from sklearn.preprocessing import StandardScaler\n",
    "import pandas as pd\n",
    "from tqdm import tqdm\n",
    "df = pd.read_csv('dataset/incident_profile_95_cleaned.csv')\n",
    "\n",
    "selected_features = ['avg_age', 'avg_crash_severity_score', 'avg_lighting_severity',\n",
    "           'combined_weather_road_severity', 'fatality_rate', 'speeding_influence',\n",
    "           'damage_cost_LB', 'weekend_crash_rate', 'pct_neo_patented_drivers']\n",
    "\n",
    "best_score = -1\n",
    "best_features = None\n",
    "best_k = None\n",
    "\n",
    "NUMBER_OF_FEATURES = 7\n",
    "# Store all combinations and their scores\n",
    "combinations_scores = []\n",
    "for combo in tqdm(combinations(selected_features, NUMBER_OF_FEATURES), desc=f'Feature combinations of size {NUMBER_OF_FEATURES}', total=len(list(combinations(selected_features, NUMBER_OF_FEATURES)))):\n",
    "    X = df[list(combo)]\n",
    "    \n",
    "    #print(f'Features: {combo}')\n",
    "    # Standardize the features\n",
    "    scaler = StandardScaler()\n",
    "    X_scaled = scaler.fit_transform(X)\n",
    "    \n",
    "    # Test different values of K\n",
    "    for k in range(2, 11):\n",
    "        kmeans = KMeans(n_clusters=k, random_state=42)\n",
    "        kmeans.fit(X_scaled)\n",
    "        score = silhouette_score(X_scaled, kmeans.labels_)\n",
    "        \n",
    "        combinations_scores.append((combo, k, score))\n",
    "\n",
    "# Sort combinations by score in descending order\n",
    "combinations_scores.sort(key=lambda x: x[2], reverse=True)\n",
    "\n",
    "# Print the best combination\n",
    "best_combo, best_k, best_score = combinations_scores[0]\n",
    "print(f'Best Silhouette Score: {best_score}')\n",
    "print(f'Best Feature Set: {best_combo}')\n",
    "print(f'Best K: {best_k}')"
   ]
  },
  {
   "cell_type": "code",
   "execution_count": 2,
   "metadata": {},
   "outputs": [],
   "source": [
    "combinations_scores_df = pd.DataFrame(combinations_scores, columns=['Features', 'K', 'Score'])\n",
    "combinations_scores_df.to_csv('combinations_scores7.csv', index=False)"
   ]
  }
 ],
 "metadata": {
  "kernelspec": {
   "display_name": ".venv",
   "language": "python",
   "name": "python3"
  },
  "language_info": {
   "codemirror_mode": {
    "name": "ipython",
    "version": 3
   },
   "file_extension": ".py",
   "mimetype": "text/x-python",
   "name": "python",
   "nbconvert_exporter": "python",
   "pygments_lexer": "ipython3",
   "version": "3.12.6"
  }
 },
 "nbformat": 4,
 "nbformat_minor": 2
}
