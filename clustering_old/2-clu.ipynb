{
 "cells": [
  {
   "cell_type": "code",
   "execution_count": 2,
   "metadata": {},
   "outputs": [
    {
     "name": "stdout",
     "output_type": "stream",
     "text": [
      "<itertools.combinations object at 0x000002CFB7BB36F0>\n"
     ]
    },
    {
     "data": {
      "text/plain": [
       "210"
      ]
     },
     "execution_count": 2,
     "metadata": {},
     "output_type": "execute_result"
    }
   ],
   "source": [
    "from itertools import combinations\n",
    "from sklearn.cluster import KMeans\n",
    "from sklearn.metrics import silhouette_score\n",
    "from sklearn.preprocessing import StandardScaler\n",
    "import pandas as pd\n",
    "from tqdm import tqdm\n",
    "from concurrent.futures import ThreadPoolExecutor\n",
    "\n",
    "df = pd.read_csv('dataset/incident_profile_95.csv')\n",
    "\n",
    "selected_features = ['avg_age', 'avg_crash_severity_score', 'avg_lighting_severity',\n",
    "           'combined_weather_road_severity', 'fatality_rate', 'injury_severity_score', 'speeding_influence',\n",
    "           'damage_cost_LB', 'weekend_crash_rate', 'pct_neo_patented_drivers']\n",
    "\n",
    "print(combinations(selected_features, 4))\n",
    "len(list(combinations(selected_features, 4)))\n",
    "len(list(combinations(selected_features, 6)))"
   ]
  }
 ],
 "metadata": {
  "kernelspec": {
   "display_name": ".venv",
   "language": "python",
   "name": "python3"
  },
  "language_info": {
   "codemirror_mode": {
    "name": "ipython",
    "version": 3
   },
   "file_extension": ".py",
   "mimetype": "text/x-python",
   "name": "python",
   "nbconvert_exporter": "python",
   "pygments_lexer": "ipython3",
   "version": "3.12.6"
  }
 },
 "nbformat": 4,
 "nbformat_minor": 2
}
