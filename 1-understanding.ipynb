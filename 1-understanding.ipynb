{
 "cells": [
  {
   "cell_type": "markdown",
   "metadata": {},
   "source": [
    "Data Understaninbg"
   ]
  },
  {
   "cell_type": "markdown",
   "metadata": {},
   "source": [
    "# Dataset Loading"
   ]
  },
  {
   "cell_type": "code",
   "execution_count": 277,
   "metadata": {},
   "outputs": [],
   "source": [
    "import pandas as pd\n",
    "crashes = pd.read_csv('dataset/crashes.csv', low_memory=False)\n",
    "people = pd.read_csv('dataset/people.csv', low_memory=False)\n",
    "vehicles = pd.read_csv('dataset/vehicles.csv', low_memory=False)"
   ]
  },
  {
   "cell_type": "markdown",
   "metadata": {},
   "source": [
    "# Dataset Analisys"
   ]
  },
  {
   "cell_type": "markdown",
   "metadata": {},
   "source": [
    "first of all we want analyse the dataset columns, fix the types and keep only the relevant one."
   ]
  },
  {
   "cell_type": "code",
   "execution_count": 278,
   "metadata": {},
   "outputs": [
    {
     "name": "stdout",
     "output_type": "stream",
     "text": [
      "<class 'pandas.core.frame.DataFrame'>\n",
      "RangeIndex: 912164 entries, 0 to 912163\n",
      "Data columns (total 48 columns):\n",
      " #   Column                         Non-Null Count   Dtype  \n",
      "---  ------                         --------------   -----  \n",
      " 0   CRASH_RECORD_ID                912164 non-null  object \n",
      " 1   CRASH_DATE_EST_I               67271 non-null   object \n",
      " 2   CRASH_DATE                     912164 non-null  object \n",
      " 3   POSTED_SPEED_LIMIT             912164 non-null  int64  \n",
      " 4   TRAFFIC_CONTROL_DEVICE         912164 non-null  object \n",
      " 5   DEVICE_CONDITION               912164 non-null  object \n",
      " 6   WEATHER_CONDITION              912164 non-null  object \n",
      " 7   LIGHTING_CONDITION             912164 non-null  object \n",
      " 8   FIRST_CRASH_TYPE               912164 non-null  object \n",
      " 9   TRAFFICWAY_TYPE                912164 non-null  object \n",
      " 10  LANE_CNT                       199023 non-null  float64\n",
      " 11  ALIGNMENT                      912164 non-null  object \n",
      " 12  ROADWAY_SURFACE_COND           912164 non-null  object \n",
      " 13  ROAD_DEFECT                    912164 non-null  object \n",
      " 14  REPORT_TYPE                    883567 non-null  object \n",
      " 15  CRASH_TYPE                     912164 non-null  object \n",
      " 16  INTERSECTION_RELATED_I         209688 non-null  object \n",
      " 17  NOT_RIGHT_OF_WAY_I             41472 non-null   object \n",
      " 18  HIT_AND_RUN_I                  286050 non-null  object \n",
      " 19  DAMAGE                         912164 non-null  object \n",
      " 20  DATE_POLICE_NOTIFIED           912164 non-null  object \n",
      " 21  PRIM_CONTRIBUTORY_CAUSE        912164 non-null  object \n",
      " 22  SEC_CONTRIBUTORY_CAUSE         912164 non-null  object \n",
      " 23  STREET_NO                      912164 non-null  int64  \n",
      " 24  STREET_DIRECTION               912160 non-null  object \n",
      " 25  STREET_NAME                    912163 non-null  object \n",
      " 26  BEAT_OF_OCCURRENCE             912159 non-null  float64\n",
      " 27  PHOTOS_TAKEN_I                 12532 non-null   object \n",
      " 28  STATEMENTS_TAKEN_I             21119 non-null   object \n",
      " 29  DOORING_I                      2870 non-null    object \n",
      " 30  WORK_ZONE_I                    5060 non-null    object \n",
      " 31  WORK_ZONE_TYPE                 3902 non-null    object \n",
      " 32  WORKERS_PRESENT_I              1302 non-null    object \n",
      " 33  NUM_UNITS                      912164 non-null  int64  \n",
      " 34  MOST_SEVERE_INJURY             910154 non-null  object \n",
      " 35  INJURIES_TOTAL                 910168 non-null  float64\n",
      " 36  INJURIES_FATAL                 910168 non-null  float64\n",
      " 37  INJURIES_INCAPACITATING        910168 non-null  float64\n",
      " 38  INJURIES_NON_INCAPACITATING    910168 non-null  float64\n",
      " 39  INJURIES_REPORTED_NOT_EVIDENT  910168 non-null  float64\n",
      " 40  INJURIES_NO_INDICATION         910168 non-null  float64\n",
      " 41  INJURIES_UNKNOWN               910168 non-null  float64\n",
      " 42  CRASH_HOUR                     912164 non-null  int64  \n",
      " 43  CRASH_DAY_OF_WEEK              912164 non-null  int64  \n",
      " 44  CRASH_MONTH                    912164 non-null  int64  \n",
      " 45  LATITUDE                       905503 non-null  float64\n",
      " 46  LONGITUDE                      905503 non-null  float64\n",
      " 47  LOCATION                       905503 non-null  object \n",
      "dtypes: float64(11), int64(6), object(31)\n",
      "memory usage: 334.0+ MB\n"
     ]
    }
   ],
   "source": [
    "crashes.info()"
   ]
  },
  {
   "cell_type": "markdown",
   "metadata": {},
   "source": [
    "| **Column Name**               | **Type**           | **Description**                                                                                                                                   |\n",
    "|-------------------------------|---------------------|---------------------------------------------------------------------------------------------------------------------------------------------------|\n",
    "| CRASH_RECORD_ID               | String             | Unique identifier for the crash in the Crash dataset.                                                                                             |\n",
    "| RD_NO                         | String             | Chicago Police Department Records Division Number (may be blank if no corresponding record).                                                      |\n",
    "| CRASH_DATE                    | DateTime           | Date and time (MM/DD/YYYY HH:MM:SS) when the crash occurred.                                                                                      |\n",
    "| POSTED_SPEED_LIMIT            | Integer            | The posted speed limit where the crash occurred.                                                                                                  |\n",
    "| TRAFFIC_CONTROL_DEVICE        | String             | Type of traffic control device present (e.g., signal, stop sign, etc.).                                                                           |\n",
    "| DEVICE_CONDITION              | String             | Condition of the traffic control device (e.g., functioning, malfunctioning).                                                                      |\n",
    "| WEATHER_CONDITION             | String             | Weather conditions at the time of the crash (e.g., clear, rain, snow).                                                                            |\n",
    "| LIGHTING_CONDITION            | String             | Lighting condition at the time (e.g., daylight, dark, dusk).                                                                                      |\n",
    "| FIRST_CRASH_TYPE              | String             | The first harmful event or action in the crash (e.g., rear-end, sideswipe).                                                                       |\n",
    "| TRAFFICWAY_TYPE               | String             | Type of trafficway (e.g., one-way, two-way).                                                                                                      |\n",
    "| LANE_CNT                      | Integer/Float      | Number of lanes on the roadway.                                                                                                                   |\n",
    "| ALIGNMENT                     | String             | Alignment of the roadway (e.g., straight, curved).                                                                                                |\n",
    "| ROADWAY_SURFACE_COND          | String             | Roadway surface condition (e.g., dry, wet, icy).                                                                                                 |\n",
    "| ROAD_DEFECT                   | String             | Presence of any road defects (e.g., potholes).                                                                                                    |\n",
    "| REPORT_TYPE                   | String             | Type of police report filed (e.g., On Site, Supplement).                                                                                         |\n",
    "| CRASH_TYPE                    | String             | High-level category (e.g., pedestrian crash, bicycle crash, other).                                                                               |\n",
    "| INTERSECTION_RELATED_I        | String (Y/N)       | Indicates if the crash was intersection-related (Y/N).                                                                                            |\n",
    "| NOT_RIGHT_OF_WAY              | String (Y/N)       | Indicates if the crash involved failure to yield right-of-way.                                                                                    |\n",
    "| HIT_AND_RUN_I                 | String (Y/N)       | Indicates if the crash was a hit-and-run (Y/N).                                                                                                   |\n",
    "| DAMAGE                        | String             | Estimated extent of damage (e.g., over $1,500).                                                                                                   |\n",
    "| DATE_POLICE_NOTIFIED          | DateTime           | Date and time (MM/DD/YYYY HH:MM:SS) when the police were notified.                                                                                |\n",
    "| PRIM_CONTRIBUTORY_CAUSE       | String             | Primary cause of the crash as determined by the report (e.g., speeding).                                                                          |\n",
    "| SEC_CONTRIBUTORY_CAUSE        | String             | Secondary cause contributing to the crash.                                                                                                        |\n",
    "| STREET_NO                     | Integer            | Street number where the crash occurred.                                                                                                           |\n",
    "| STREET_DIRECTION              | String             | Street directional (N, S, E, W).                                                                                                                  |\n",
    "| STREET_NAME                   | String             | Street name where the crash occurred.                                                                                                             |\n",
    "| BEAT_OF_OCCURRENCE            | Integer            | Police district beat number where the crash occurred.                                                                                             |\n",
    "| PHOTOS_TAKEN_I                | String (Y/N)       | Indicates if photos were taken at the scene (Y/N).                                                                                                |\n",
    "| STATEMENTS_TAKEN_I            | String (Y/N)       | Indicates if statements were taken (Y/N).                                                                                                         |\n",
    "| DOORING_I                     | String (Y/N)       | Indicates if a bicyclist was “doored” by a vehicle occupant (Y/N).                                                                                 |\n",
    "| WORK_ZONE_I                   | String (Y/N)       | Indicates if the crash occurred in a work zone (Y/N).                                                                                             |\n",
    "| WORK_ZONE_TYPE                | String             | Type of work zone (if applicable).                                                                                                                |\n",
    "| WORKERS_PRESENT_I             | String (Y/N)       | Indicates if workers were present in the work zone (Y/N).                                                                                         |\n",
    "| NUM_UNITS                     | Integer            | Number of vehicles and/or pedestrians involved in the crash.                                                                                      |\n",
    "| MOST_SEVERE_INJURY            | String             | Most severe injury reported (e.g., Fatal, Serious, etc.).                                                                                        |\n",
    "| INJURIES_TOTAL                | Integer            | Total number of reported injuries in the crash.                                                                                                   |\n",
    "| INJURIES_FATAL                | Integer            | Number of fatal injuries.                                                                                                                         |\n",
    "| INJURIES_INCAPACITATING       | Integer            | Number of incapacitating injuries.                                                                                                                |\n",
    "| INJURIES_NON_INCAPACITATING   | Integer            | Number of non-incapacitating injuries.                                                                                                            |\n",
    "| INJURIES_REPORTED_NOT_EVIDENT | Integer            | Number of reported injuries that were not evident.                                                                                                |\n",
    "| INJURIES_NO_INDICATION        | Integer            | Number of individuals with no indication of injury.                                                                                              |\n",
    "| INJURIES_UNKNOWN              | Integer            | Number of individuals with unknown injury status.                                                                                                 |\n",
    "| CRASH_HOUR                    | Integer            | Hour of the day (0–23) when the crash occurred.                                                                                                   |\n",
    "| CRASH_DAY_OF_WEEK             | Integer            | Day of the week (1=Sunday, 7=Saturday) when the crash occurred.                                                                                   |\n",
    "| CRASH_MONTH                   | Integer            | Month (1–12) when the crash occurred.                                                                                                             |\n",
    "| LATITUDE                      | Float              | Latitude of the crash location.                                                                                                                   |\n",
    "| LONGITUDE                     | Float              | Longitude of the crash location.                                                                                                                  |\n",
    "| LOCATION                      | Geolocation (Point) | Combined latitude/longitude location point.                                                                                                        |\n"
   ]
  },
  {
   "cell_type": "code",
   "execution_count": 279,
   "metadata": {},
   "outputs": [],
   "source": [
    "# casting dates\n",
    "crashes['DATE_POLICE_NOTIFIED'] = pd.to_datetime(crashes['DATE_POLICE_NOTIFIED'])\n",
    "crashes['CRASH_DATE'] = pd.to_datetime(crashes['CRASH_DATE'])\n",
    "# casting Y/N to boolean\n",
    "yn_cols = [\n",
    "    \"CRASH_DATE_EST_I\",        # \"Y\" if date is estimated, else NaN\n",
    "    \"INTERSECTION_RELATED_I\",  # \"Y\" or \"N\"\n",
    "    \"NOT_RIGHT_OF_WAY_I\",\n",
    "    \"HIT_AND_RUN_I\",\n",
    "    \"DOORING_I\",\n",
    "    \"WORK_ZONE_I\",\n",
    "    \"WORKERS_PRESENT_I\"\n",
    "]\n",
    "for col in yn_cols:\n",
    "    # Map \"Y\" -> True, \"N\" -> False, anything else (NaN included) stays NaN\n",
    "    crashes[col] = crashes[col].map({\"Y\": True, \"N\": False})"
   ]
  },
  {
   "cell_type": "code",
   "execution_count": 280,
   "metadata": {},
   "outputs": [],
   "source": [
    "pd.set_option('display.max_columns', None)"
   ]
  },
  {
   "cell_type": "code",
   "execution_count": 281,
   "metadata": {},
   "outputs": [
    {
     "data": {
      "text/html": [
       "<div>\n",
       "<style scoped>\n",
       "    .dataframe tbody tr th:only-of-type {\n",
       "        vertical-align: middle;\n",
       "    }\n",
       "\n",
       "    .dataframe tbody tr th {\n",
       "        vertical-align: top;\n",
       "    }\n",
       "\n",
       "    .dataframe thead th {\n",
       "        text-align: right;\n",
       "    }\n",
       "</style>\n",
       "<table border=\"1\" class=\"dataframe\">\n",
       "  <thead>\n",
       "    <tr style=\"text-align: right;\">\n",
       "      <th></th>\n",
       "      <th>CRASH_RECORD_ID</th>\n",
       "      <th>CRASH_DATE_EST_I</th>\n",
       "      <th>CRASH_DATE</th>\n",
       "      <th>POSTED_SPEED_LIMIT</th>\n",
       "      <th>TRAFFIC_CONTROL_DEVICE</th>\n",
       "      <th>DEVICE_CONDITION</th>\n",
       "      <th>WEATHER_CONDITION</th>\n",
       "      <th>LIGHTING_CONDITION</th>\n",
       "      <th>FIRST_CRASH_TYPE</th>\n",
       "      <th>TRAFFICWAY_TYPE</th>\n",
       "      <th>LANE_CNT</th>\n",
       "      <th>ALIGNMENT</th>\n",
       "      <th>ROADWAY_SURFACE_COND</th>\n",
       "      <th>ROAD_DEFECT</th>\n",
       "      <th>REPORT_TYPE</th>\n",
       "      <th>CRASH_TYPE</th>\n",
       "      <th>INTERSECTION_RELATED_I</th>\n",
       "      <th>NOT_RIGHT_OF_WAY_I</th>\n",
       "      <th>HIT_AND_RUN_I</th>\n",
       "      <th>DAMAGE</th>\n",
       "      <th>DATE_POLICE_NOTIFIED</th>\n",
       "      <th>PRIM_CONTRIBUTORY_CAUSE</th>\n",
       "      <th>SEC_CONTRIBUTORY_CAUSE</th>\n",
       "      <th>STREET_NO</th>\n",
       "      <th>STREET_DIRECTION</th>\n",
       "      <th>STREET_NAME</th>\n",
       "      <th>BEAT_OF_OCCURRENCE</th>\n",
       "      <th>PHOTOS_TAKEN_I</th>\n",
       "      <th>STATEMENTS_TAKEN_I</th>\n",
       "      <th>DOORING_I</th>\n",
       "      <th>WORK_ZONE_I</th>\n",
       "      <th>WORK_ZONE_TYPE</th>\n",
       "      <th>WORKERS_PRESENT_I</th>\n",
       "      <th>NUM_UNITS</th>\n",
       "      <th>MOST_SEVERE_INJURY</th>\n",
       "      <th>INJURIES_TOTAL</th>\n",
       "      <th>INJURIES_FATAL</th>\n",
       "      <th>INJURIES_INCAPACITATING</th>\n",
       "      <th>INJURIES_NON_INCAPACITATING</th>\n",
       "      <th>INJURIES_REPORTED_NOT_EVIDENT</th>\n",
       "      <th>INJURIES_NO_INDICATION</th>\n",
       "      <th>INJURIES_UNKNOWN</th>\n",
       "      <th>CRASH_HOUR</th>\n",
       "      <th>CRASH_DAY_OF_WEEK</th>\n",
       "      <th>CRASH_MONTH</th>\n",
       "      <th>LATITUDE</th>\n",
       "      <th>LONGITUDE</th>\n",
       "      <th>LOCATION</th>\n",
       "    </tr>\n",
       "  </thead>\n",
       "  <tbody>\n",
       "    <tr>\n",
       "      <th>0</th>\n",
       "      <td>6c1659069e9c6285a650e70d6f9b574ed5f64c12888479...</td>\n",
       "      <td>NaN</td>\n",
       "      <td>2023-08-18 12:50:00</td>\n",
       "      <td>15</td>\n",
       "      <td>OTHER</td>\n",
       "      <td>FUNCTIONING PROPERLY</td>\n",
       "      <td>CLEAR</td>\n",
       "      <td>DAYLIGHT</td>\n",
       "      <td>REAR END</td>\n",
       "      <td>OTHER</td>\n",
       "      <td>NaN</td>\n",
       "      <td>STRAIGHT AND LEVEL</td>\n",
       "      <td>DRY</td>\n",
       "      <td>NO DEFECTS</td>\n",
       "      <td>ON SCENE</td>\n",
       "      <td>INJURY AND / OR TOW DUE TO CRASH</td>\n",
       "      <td>NaN</td>\n",
       "      <td>NaN</td>\n",
       "      <td>NaN</td>\n",
       "      <td>OVER $1,500</td>\n",
       "      <td>2023-08-18 12:55:00</td>\n",
       "      <td>FOLLOWING TOO CLOSELY</td>\n",
       "      <td>DISTRACTION - FROM INSIDE VEHICLE</td>\n",
       "      <td>700</td>\n",
       "      <td>W</td>\n",
       "      <td>OHARE ST</td>\n",
       "      <td>1654.0</td>\n",
       "      <td>NaN</td>\n",
       "      <td>NaN</td>\n",
       "      <td>NaN</td>\n",
       "      <td>NaN</td>\n",
       "      <td>NaN</td>\n",
       "      <td>NaN</td>\n",
       "      <td>2</td>\n",
       "      <td>NONINCAPACITATING INJURY</td>\n",
       "      <td>1.0</td>\n",
       "      <td>0.0</td>\n",
       "      <td>0.0</td>\n",
       "      <td>1.0</td>\n",
       "      <td>0.0</td>\n",
       "      <td>1.0</td>\n",
       "      <td>0.0</td>\n",
       "      <td>12</td>\n",
       "      <td>6</td>\n",
       "      <td>8</td>\n",
       "      <td>NaN</td>\n",
       "      <td>NaN</td>\n",
       "      <td>NaN</td>\n",
       "    </tr>\n",
       "    <tr>\n",
       "      <th>1</th>\n",
       "      <td>5f54a59fcb087b12ae5b1acff96a3caf4f2d37e79f8db4...</td>\n",
       "      <td>NaN</td>\n",
       "      <td>2023-07-29 14:45:00</td>\n",
       "      <td>30</td>\n",
       "      <td>TRAFFIC SIGNAL</td>\n",
       "      <td>FUNCTIONING PROPERLY</td>\n",
       "      <td>CLEAR</td>\n",
       "      <td>DAYLIGHT</td>\n",
       "      <td>PARKED MOTOR VEHICLE</td>\n",
       "      <td>DIVIDED - W/MEDIAN (NOT RAISED)</td>\n",
       "      <td>NaN</td>\n",
       "      <td>STRAIGHT AND LEVEL</td>\n",
       "      <td>DRY</td>\n",
       "      <td>NO DEFECTS</td>\n",
       "      <td>ON SCENE</td>\n",
       "      <td>NO INJURY / DRIVE AWAY</td>\n",
       "      <td>NaN</td>\n",
       "      <td>NaN</td>\n",
       "      <td>True</td>\n",
       "      <td>OVER $1,500</td>\n",
       "      <td>2023-07-29 14:45:00</td>\n",
       "      <td>FAILING TO REDUCE SPEED TO AVOID CRASH</td>\n",
       "      <td>OPERATING VEHICLE IN ERRATIC, RECKLESS, CARELE...</td>\n",
       "      <td>2101</td>\n",
       "      <td>S</td>\n",
       "      <td>ASHLAND AVE</td>\n",
       "      <td>1235.0</td>\n",
       "      <td>NaN</td>\n",
       "      <td>NaN</td>\n",
       "      <td>NaN</td>\n",
       "      <td>NaN</td>\n",
       "      <td>NaN</td>\n",
       "      <td>NaN</td>\n",
       "      <td>4</td>\n",
       "      <td>NO INDICATION OF INJURY</td>\n",
       "      <td>0.0</td>\n",
       "      <td>0.0</td>\n",
       "      <td>0.0</td>\n",
       "      <td>0.0</td>\n",
       "      <td>0.0</td>\n",
       "      <td>1.0</td>\n",
       "      <td>0.0</td>\n",
       "      <td>14</td>\n",
       "      <td>7</td>\n",
       "      <td>7</td>\n",
       "      <td>41.854120</td>\n",
       "      <td>-87.665902</td>\n",
       "      <td>POINT (-87.665902342962 41.854120262952)</td>\n",
       "    </tr>\n",
       "    <tr>\n",
       "      <th>2</th>\n",
       "      <td>61fcb8c1eb522a6469b460e2134df3d15f82e81fd93e9c...</td>\n",
       "      <td>NaN</td>\n",
       "      <td>2023-08-18 17:58:00</td>\n",
       "      <td>30</td>\n",
       "      <td>NO CONTROLS</td>\n",
       "      <td>NO CONTROLS</td>\n",
       "      <td>CLEAR</td>\n",
       "      <td>DAYLIGHT</td>\n",
       "      <td>PEDALCYCLIST</td>\n",
       "      <td>NOT DIVIDED</td>\n",
       "      <td>NaN</td>\n",
       "      <td>STRAIGHT AND LEVEL</td>\n",
       "      <td>DRY</td>\n",
       "      <td>NO DEFECTS</td>\n",
       "      <td>ON SCENE</td>\n",
       "      <td>INJURY AND / OR TOW DUE TO CRASH</td>\n",
       "      <td>NaN</td>\n",
       "      <td>NaN</td>\n",
       "      <td>NaN</td>\n",
       "      <td>$501 - $1,500</td>\n",
       "      <td>2023-08-18 18:01:00</td>\n",
       "      <td>FAILING TO REDUCE SPEED TO AVOID CRASH</td>\n",
       "      <td>UNABLE TO DETERMINE</td>\n",
       "      <td>3422</td>\n",
       "      <td>N</td>\n",
       "      <td>LONG AVE</td>\n",
       "      <td>1633.0</td>\n",
       "      <td>NaN</td>\n",
       "      <td>NaN</td>\n",
       "      <td>NaN</td>\n",
       "      <td>NaN</td>\n",
       "      <td>NaN</td>\n",
       "      <td>NaN</td>\n",
       "      <td>2</td>\n",
       "      <td>NONINCAPACITATING INJURY</td>\n",
       "      <td>1.0</td>\n",
       "      <td>0.0</td>\n",
       "      <td>0.0</td>\n",
       "      <td>1.0</td>\n",
       "      <td>0.0</td>\n",
       "      <td>1.0</td>\n",
       "      <td>0.0</td>\n",
       "      <td>17</td>\n",
       "      <td>6</td>\n",
       "      <td>8</td>\n",
       "      <td>41.942976</td>\n",
       "      <td>-87.761883</td>\n",
       "      <td>POINT (-87.761883496974 41.942975745006)</td>\n",
       "    </tr>\n",
       "    <tr>\n",
       "      <th>3</th>\n",
       "      <td>004cd14d0303a9163aad69a2d7f341b7da2a8572b2ab33...</td>\n",
       "      <td>NaN</td>\n",
       "      <td>2019-11-26 08:38:00</td>\n",
       "      <td>25</td>\n",
       "      <td>NO CONTROLS</td>\n",
       "      <td>NO CONTROLS</td>\n",
       "      <td>CLEAR</td>\n",
       "      <td>DAYLIGHT</td>\n",
       "      <td>PEDESTRIAN</td>\n",
       "      <td>ONE-WAY</td>\n",
       "      <td>NaN</td>\n",
       "      <td>CURVE ON GRADE</td>\n",
       "      <td>DRY</td>\n",
       "      <td>NO DEFECTS</td>\n",
       "      <td>ON SCENE</td>\n",
       "      <td>INJURY AND / OR TOW DUE TO CRASH</td>\n",
       "      <td>NaN</td>\n",
       "      <td>NaN</td>\n",
       "      <td>NaN</td>\n",
       "      <td>OVER $1,500</td>\n",
       "      <td>2019-11-26 08:38:00</td>\n",
       "      <td>UNABLE TO DETERMINE</td>\n",
       "      <td>NOT APPLICABLE</td>\n",
       "      <td>5</td>\n",
       "      <td>W</td>\n",
       "      <td>TERMINAL ST</td>\n",
       "      <td>1655.0</td>\n",
       "      <td>Y</td>\n",
       "      <td>Y</td>\n",
       "      <td>NaN</td>\n",
       "      <td>NaN</td>\n",
       "      <td>NaN</td>\n",
       "      <td>NaN</td>\n",
       "      <td>2</td>\n",
       "      <td>FATAL</td>\n",
       "      <td>1.0</td>\n",
       "      <td>1.0</td>\n",
       "      <td>0.0</td>\n",
       "      <td>0.0</td>\n",
       "      <td>0.0</td>\n",
       "      <td>1.0</td>\n",
       "      <td>0.0</td>\n",
       "      <td>8</td>\n",
       "      <td>3</td>\n",
       "      <td>11</td>\n",
       "      <td>NaN</td>\n",
       "      <td>NaN</td>\n",
       "      <td>NaN</td>\n",
       "    </tr>\n",
       "    <tr>\n",
       "      <th>4</th>\n",
       "      <td>a1d5f0ea90897745365a4cbb06cc60329a120d89753fac...</td>\n",
       "      <td>NaN</td>\n",
       "      <td>2023-08-18 10:45:00</td>\n",
       "      <td>20</td>\n",
       "      <td>NO CONTROLS</td>\n",
       "      <td>NO CONTROLS</td>\n",
       "      <td>CLEAR</td>\n",
       "      <td>DAYLIGHT</td>\n",
       "      <td>FIXED OBJECT</td>\n",
       "      <td>OTHER</td>\n",
       "      <td>NaN</td>\n",
       "      <td>STRAIGHT AND LEVEL</td>\n",
       "      <td>DRY</td>\n",
       "      <td>NO DEFECTS</td>\n",
       "      <td>ON SCENE</td>\n",
       "      <td>NO INJURY / DRIVE AWAY</td>\n",
       "      <td>NaN</td>\n",
       "      <td>NaN</td>\n",
       "      <td>NaN</td>\n",
       "      <td>OVER $1,500</td>\n",
       "      <td>2023-08-18 10:48:00</td>\n",
       "      <td>FOLLOWING TOO CLOSELY</td>\n",
       "      <td>DRIVING SKILLS/KNOWLEDGE/EXPERIENCE</td>\n",
       "      <td>3</td>\n",
       "      <td>W</td>\n",
       "      <td>TERMINAL ST</td>\n",
       "      <td>1653.0</td>\n",
       "      <td>NaN</td>\n",
       "      <td>NaN</td>\n",
       "      <td>NaN</td>\n",
       "      <td>NaN</td>\n",
       "      <td>NaN</td>\n",
       "      <td>NaN</td>\n",
       "      <td>1</td>\n",
       "      <td>NO INDICATION OF INJURY</td>\n",
       "      <td>0.0</td>\n",
       "      <td>0.0</td>\n",
       "      <td>0.0</td>\n",
       "      <td>0.0</td>\n",
       "      <td>0.0</td>\n",
       "      <td>1.0</td>\n",
       "      <td>0.0</td>\n",
       "      <td>10</td>\n",
       "      <td>6</td>\n",
       "      <td>8</td>\n",
       "      <td>NaN</td>\n",
       "      <td>NaN</td>\n",
       "      <td>NaN</td>\n",
       "    </tr>\n",
       "  </tbody>\n",
       "</table>\n",
       "</div>"
      ],
      "text/plain": [
       "                                     CRASH_RECORD_ID CRASH_DATE_EST_I  \\\n",
       "0  6c1659069e9c6285a650e70d6f9b574ed5f64c12888479...              NaN   \n",
       "1  5f54a59fcb087b12ae5b1acff96a3caf4f2d37e79f8db4...              NaN   \n",
       "2  61fcb8c1eb522a6469b460e2134df3d15f82e81fd93e9c...              NaN   \n",
       "3  004cd14d0303a9163aad69a2d7f341b7da2a8572b2ab33...              NaN   \n",
       "4  a1d5f0ea90897745365a4cbb06cc60329a120d89753fac...              NaN   \n",
       "\n",
       "           CRASH_DATE  POSTED_SPEED_LIMIT TRAFFIC_CONTROL_DEVICE  \\\n",
       "0 2023-08-18 12:50:00                  15                  OTHER   \n",
       "1 2023-07-29 14:45:00                  30         TRAFFIC SIGNAL   \n",
       "2 2023-08-18 17:58:00                  30            NO CONTROLS   \n",
       "3 2019-11-26 08:38:00                  25            NO CONTROLS   \n",
       "4 2023-08-18 10:45:00                  20            NO CONTROLS   \n",
       "\n",
       "       DEVICE_CONDITION WEATHER_CONDITION LIGHTING_CONDITION  \\\n",
       "0  FUNCTIONING PROPERLY             CLEAR           DAYLIGHT   \n",
       "1  FUNCTIONING PROPERLY             CLEAR           DAYLIGHT   \n",
       "2           NO CONTROLS             CLEAR           DAYLIGHT   \n",
       "3           NO CONTROLS             CLEAR           DAYLIGHT   \n",
       "4           NO CONTROLS             CLEAR           DAYLIGHT   \n",
       "\n",
       "       FIRST_CRASH_TYPE                  TRAFFICWAY_TYPE  LANE_CNT  \\\n",
       "0              REAR END                            OTHER       NaN   \n",
       "1  PARKED MOTOR VEHICLE  DIVIDED - W/MEDIAN (NOT RAISED)       NaN   \n",
       "2          PEDALCYCLIST                      NOT DIVIDED       NaN   \n",
       "3            PEDESTRIAN                          ONE-WAY       NaN   \n",
       "4          FIXED OBJECT                            OTHER       NaN   \n",
       "\n",
       "            ALIGNMENT ROADWAY_SURFACE_COND ROAD_DEFECT REPORT_TYPE  \\\n",
       "0  STRAIGHT AND LEVEL                  DRY  NO DEFECTS    ON SCENE   \n",
       "1  STRAIGHT AND LEVEL                  DRY  NO DEFECTS    ON SCENE   \n",
       "2  STRAIGHT AND LEVEL                  DRY  NO DEFECTS    ON SCENE   \n",
       "3      CURVE ON GRADE                  DRY  NO DEFECTS    ON SCENE   \n",
       "4  STRAIGHT AND LEVEL                  DRY  NO DEFECTS    ON SCENE   \n",
       "\n",
       "                         CRASH_TYPE INTERSECTION_RELATED_I NOT_RIGHT_OF_WAY_I  \\\n",
       "0  INJURY AND / OR TOW DUE TO CRASH                    NaN                NaN   \n",
       "1            NO INJURY / DRIVE AWAY                    NaN                NaN   \n",
       "2  INJURY AND / OR TOW DUE TO CRASH                    NaN                NaN   \n",
       "3  INJURY AND / OR TOW DUE TO CRASH                    NaN                NaN   \n",
       "4            NO INJURY / DRIVE AWAY                    NaN                NaN   \n",
       "\n",
       "  HIT_AND_RUN_I         DAMAGE DATE_POLICE_NOTIFIED  \\\n",
       "0           NaN    OVER $1,500  2023-08-18 12:55:00   \n",
       "1          True    OVER $1,500  2023-07-29 14:45:00   \n",
       "2           NaN  $501 - $1,500  2023-08-18 18:01:00   \n",
       "3           NaN    OVER $1,500  2019-11-26 08:38:00   \n",
       "4           NaN    OVER $1,500  2023-08-18 10:48:00   \n",
       "\n",
       "                  PRIM_CONTRIBUTORY_CAUSE  \\\n",
       "0                   FOLLOWING TOO CLOSELY   \n",
       "1  FAILING TO REDUCE SPEED TO AVOID CRASH   \n",
       "2  FAILING TO REDUCE SPEED TO AVOID CRASH   \n",
       "3                     UNABLE TO DETERMINE   \n",
       "4                   FOLLOWING TOO CLOSELY   \n",
       "\n",
       "                              SEC_CONTRIBUTORY_CAUSE  STREET_NO  \\\n",
       "0                  DISTRACTION - FROM INSIDE VEHICLE        700   \n",
       "1  OPERATING VEHICLE IN ERRATIC, RECKLESS, CARELE...       2101   \n",
       "2                                UNABLE TO DETERMINE       3422   \n",
       "3                                     NOT APPLICABLE          5   \n",
       "4                DRIVING SKILLS/KNOWLEDGE/EXPERIENCE          3   \n",
       "\n",
       "  STREET_DIRECTION  STREET_NAME  BEAT_OF_OCCURRENCE PHOTOS_TAKEN_I  \\\n",
       "0                W     OHARE ST              1654.0            NaN   \n",
       "1                S  ASHLAND AVE              1235.0            NaN   \n",
       "2                N     LONG AVE              1633.0            NaN   \n",
       "3                W  TERMINAL ST              1655.0              Y   \n",
       "4                W  TERMINAL ST              1653.0            NaN   \n",
       "\n",
       "  STATEMENTS_TAKEN_I DOORING_I WORK_ZONE_I WORK_ZONE_TYPE WORKERS_PRESENT_I  \\\n",
       "0                NaN       NaN         NaN            NaN               NaN   \n",
       "1                NaN       NaN         NaN            NaN               NaN   \n",
       "2                NaN       NaN         NaN            NaN               NaN   \n",
       "3                  Y       NaN         NaN            NaN               NaN   \n",
       "4                NaN       NaN         NaN            NaN               NaN   \n",
       "\n",
       "   NUM_UNITS        MOST_SEVERE_INJURY  INJURIES_TOTAL  INJURIES_FATAL  \\\n",
       "0          2  NONINCAPACITATING INJURY             1.0             0.0   \n",
       "1          4   NO INDICATION OF INJURY             0.0             0.0   \n",
       "2          2  NONINCAPACITATING INJURY             1.0             0.0   \n",
       "3          2                     FATAL             1.0             1.0   \n",
       "4          1   NO INDICATION OF INJURY             0.0             0.0   \n",
       "\n",
       "   INJURIES_INCAPACITATING  INJURIES_NON_INCAPACITATING  \\\n",
       "0                      0.0                          1.0   \n",
       "1                      0.0                          0.0   \n",
       "2                      0.0                          1.0   \n",
       "3                      0.0                          0.0   \n",
       "4                      0.0                          0.0   \n",
       "\n",
       "   INJURIES_REPORTED_NOT_EVIDENT  INJURIES_NO_INDICATION  INJURIES_UNKNOWN  \\\n",
       "0                            0.0                     1.0               0.0   \n",
       "1                            0.0                     1.0               0.0   \n",
       "2                            0.0                     1.0               0.0   \n",
       "3                            0.0                     1.0               0.0   \n",
       "4                            0.0                     1.0               0.0   \n",
       "\n",
       "   CRASH_HOUR  CRASH_DAY_OF_WEEK  CRASH_MONTH   LATITUDE  LONGITUDE  \\\n",
       "0          12                  6            8        NaN        NaN   \n",
       "1          14                  7            7  41.854120 -87.665902   \n",
       "2          17                  6            8  41.942976 -87.761883   \n",
       "3           8                  3           11        NaN        NaN   \n",
       "4          10                  6            8        NaN        NaN   \n",
       "\n",
       "                                   LOCATION  \n",
       "0                                       NaN  \n",
       "1  POINT (-87.665902342962 41.854120262952)  \n",
       "2  POINT (-87.761883496974 41.942975745006)  \n",
       "3                                       NaN  \n",
       "4                                       NaN  "
      ]
     },
     "execution_count": 281,
     "metadata": {},
     "output_type": "execute_result"
    }
   ],
   "source": [
    "crashes.head()"
   ]
  },
  {
   "cell_type": "code",
   "execution_count": 282,
   "metadata": {},
   "outputs": [],
   "source": [
    "columns_to_drop = ['TRAFFIC_CONTROL_DEVICE', 'DEVICE_CONDITION', 'REPORT_TYPE', 'PHOTOS_TAKEN_I', 'STATEMENTS_TAKEN_I']\n",
    "crashes = crashes.drop(columns=columns_to_drop)"
   ]
  },
  {
   "cell_type": "code",
   "execution_count": 283,
   "metadata": {},
   "outputs": [
    {
     "name": "stdout",
     "output_type": "stream",
     "text": [
      "CRASH_RECORD_ID                   0.000000\n",
      "CRASH_DATE_EST_I                 92.625120\n",
      "CRASH_DATE                        0.000000\n",
      "POSTED_SPEED_LIMIT                0.000000\n",
      "WEATHER_CONDITION                 0.000000\n",
      "LIGHTING_CONDITION                0.000000\n",
      "FIRST_CRASH_TYPE                  0.000000\n",
      "TRAFFICWAY_TYPE                   0.000000\n",
      "LANE_CNT                         78.181226\n",
      "ALIGNMENT                         0.000000\n",
      "ROADWAY_SURFACE_COND              0.000000\n",
      "ROAD_DEFECT                       0.000000\n",
      "CRASH_TYPE                        0.000000\n",
      "INTERSECTION_RELATED_I           77.012029\n",
      "NOT_RIGHT_OF_WAY_I               95.453449\n",
      "HIT_AND_RUN_I                    68.640508\n",
      "DAMAGE                            0.000000\n",
      "DATE_POLICE_NOTIFIED              0.000000\n",
      "PRIM_CONTRIBUTORY_CAUSE           0.000000\n",
      "SEC_CONTRIBUTORY_CAUSE            0.000000\n",
      "STREET_NO                         0.000000\n",
      "STREET_DIRECTION                  0.000439\n",
      "STREET_NAME                       0.000110\n",
      "BEAT_OF_OCCURRENCE                0.000548\n",
      "DOORING_I                        99.685364\n",
      "WORK_ZONE_I                      99.445275\n",
      "WORK_ZONE_TYPE                   99.572226\n",
      "WORKERS_PRESENT_I                99.857263\n",
      "NUM_UNITS                         0.000000\n",
      "MOST_SEVERE_INJURY                0.220355\n",
      "INJURIES_TOTAL                    0.218820\n",
      "INJURIES_FATAL                    0.218820\n",
      "INJURIES_INCAPACITATING           0.218820\n",
      "INJURIES_NON_INCAPACITATING       0.218820\n",
      "INJURIES_REPORTED_NOT_EVIDENT     0.218820\n",
      "INJURIES_NO_INDICATION            0.218820\n",
      "INJURIES_UNKNOWN                  0.218820\n",
      "CRASH_HOUR                        0.000000\n",
      "CRASH_DAY_OF_WEEK                 0.000000\n",
      "CRASH_MONTH                       0.000000\n",
      "LATITUDE                          0.730241\n",
      "LONGITUDE                         0.730241\n",
      "LOCATION                          0.730241\n",
      "dtype: float64\n"
     ]
    }
   ],
   "source": [
    "print(crashes.isnull().mean() * 100)"
   ]
  },
  {
   "cell_type": "markdown",
   "metadata": {},
   "source": [
    "DOORING_I, WORK_ZONE_I, WORK_ZONE_TYPE, WORKERS_PRESENT_I have more than 99% of missing values, so we can drop them"
   ]
  },
  {
   "cell_type": "code",
   "execution_count": 284,
   "metadata": {},
   "outputs": [],
   "source": [
    "# DOORING_I, WORK_ZONE_I, WORK_ZONE_TYPE, WORKERS_PRESENT_I have more than 90% of missing values, so we can drop them\n",
    "columns_to_drop = ['DOORING_I', 'WORK_ZONE_I', 'WORK_ZONE_TYPE', 'WORKERS_PRESENT_I']\n",
    "crashes = crashes.drop(columns=columns_to_drop)"
   ]
  },
  {
   "cell_type": "markdown",
   "metadata": {},
   "source": [
    "---"
   ]
  },
  {
   "cell_type": "markdown",
   "metadata": {},
   "source": [
    "## Dropping NaN rows for important features\n",
    "\n",
    "first of all we want to drop NaN values for LATITUDE, LONGITUDE, LOCATION, BEAT_OF_OCCURRENCE since they will be used to create the crash profiles."
   ]
  },
  {
   "cell_type": "code",
   "execution_count": 285,
   "metadata": {},
   "outputs": [
    {
     "name": "stdout",
     "output_type": "stream",
     "text": [
      "CRASH_RECORD_ID                   0.000000\n",
      "CRASH_DATE_EST_I                 92.615792\n",
      "CRASH_DATE                        0.000000\n",
      "POSTED_SPEED_LIMIT                0.000000\n",
      "WEATHER_CONDITION                 0.000000\n",
      "LIGHTING_CONDITION                0.000000\n",
      "FIRST_CRASH_TYPE                  0.000000\n",
      "TRAFFICWAY_TYPE                   0.000000\n",
      "LANE_CNT                         78.120265\n",
      "ALIGNMENT                         0.000000\n",
      "ROADWAY_SURFACE_COND              0.000000\n",
      "ROAD_DEFECT                       0.000000\n",
      "CRASH_TYPE                        0.000000\n",
      "INTERSECTION_RELATED_I           76.966427\n",
      "NOT_RIGHT_OF_WAY_I               95.448702\n",
      "HIT_AND_RUN_I                    68.552181\n",
      "DAMAGE                            0.000000\n",
      "DATE_POLICE_NOTIFIED              0.000000\n",
      "PRIM_CONTRIBUTORY_CAUSE           0.000000\n",
      "SEC_CONTRIBUTORY_CAUSE            0.000000\n",
      "STREET_NO                         0.000000\n",
      "STREET_DIRECTION                  0.000110\n",
      "STREET_NAME                       0.000000\n",
      "BEAT_OF_OCCURRENCE                0.000000\n",
      "NUM_UNITS                         0.000000\n",
      "MOST_SEVERE_INJURY                0.220320\n",
      "INJURIES_TOTAL                    0.218774\n",
      "INJURIES_FATAL                    0.218774\n",
      "INJURIES_INCAPACITATING           0.218774\n",
      "INJURIES_NON_INCAPACITATING       0.218774\n",
      "INJURIES_REPORTED_NOT_EVIDENT     0.218774\n",
      "INJURIES_NO_INDICATION            0.218774\n",
      "INJURIES_UNKNOWN                  0.218774\n",
      "CRASH_HOUR                        0.000000\n",
      "CRASH_DAY_OF_WEEK                 0.000000\n",
      "CRASH_MONTH                       0.000000\n",
      "LATITUDE                          0.000000\n",
      "LONGITUDE                         0.000000\n",
      "LOCATION                          0.000000\n",
      "dtype: float64\n"
     ]
    }
   ],
   "source": [
    "crashes = crashes.dropna(subset=['LATITUDE', 'LONGITUDE', 'LOCATION', 'BEAT_OF_OCCURRENCE'])\n",
    "\n",
    "print(crashes.isnull().mean() * 100)"
   ]
  },
  {
   "cell_type": "markdown",
   "metadata": {},
   "source": [
    "---"
   ]
  },
  {
   "cell_type": "markdown",
   "metadata": {},
   "source": [
    "## duplicate check"
   ]
  },
  {
   "cell_type": "code",
   "execution_count": 286,
   "metadata": {},
   "outputs": [
    {
     "name": "stdout",
     "output_type": "stream",
     "text": [
      "0\n"
     ]
    }
   ],
   "source": [
    "print(crashes['CRASH_RECORD_ID'].duplicated().sum())"
   ]
  },
  {
   "cell_type": "markdown",
   "metadata": {},
   "source": [
    "## date check"
   ]
  },
  {
   "cell_type": "markdown",
   "metadata": {},
   "source": [
    "first of all we want to check if the date is correct, for example we want to check if the column 'DATE_POLICE_NOTIFIED' is problematic or not."
   ]
  },
  {
   "cell_type": "code",
   "execution_count": 287,
   "metadata": {},
   "outputs": [
    {
     "data": {
      "text/plain": [
       "np.int64(1)"
      ]
     },
     "execution_count": 287,
     "metadata": {},
     "output_type": "execute_result"
    }
   ],
   "source": [
    "crashes['CRASH_DATE'].gt(crashes['DATE_POLICE_NOTIFIED']).sum()"
   ]
  },
  {
   "cell_type": "code",
   "execution_count": 288,
   "metadata": {},
   "outputs": [
    {
     "data": {
      "text/html": [
       "<div>\n",
       "<style scoped>\n",
       "    .dataframe tbody tr th:only-of-type {\n",
       "        vertical-align: middle;\n",
       "    }\n",
       "\n",
       "    .dataframe tbody tr th {\n",
       "        vertical-align: top;\n",
       "    }\n",
       "\n",
       "    .dataframe thead th {\n",
       "        text-align: right;\n",
       "    }\n",
       "</style>\n",
       "<table border=\"1\" class=\"dataframe\">\n",
       "  <thead>\n",
       "    <tr style=\"text-align: right;\">\n",
       "      <th></th>\n",
       "      <th>CRASH_RECORD_ID</th>\n",
       "      <th>CRASH_DATE_EST_I</th>\n",
       "      <th>CRASH_DATE</th>\n",
       "      <th>POSTED_SPEED_LIMIT</th>\n",
       "      <th>WEATHER_CONDITION</th>\n",
       "      <th>LIGHTING_CONDITION</th>\n",
       "      <th>FIRST_CRASH_TYPE</th>\n",
       "      <th>TRAFFICWAY_TYPE</th>\n",
       "      <th>LANE_CNT</th>\n",
       "      <th>ALIGNMENT</th>\n",
       "      <th>ROADWAY_SURFACE_COND</th>\n",
       "      <th>ROAD_DEFECT</th>\n",
       "      <th>CRASH_TYPE</th>\n",
       "      <th>INTERSECTION_RELATED_I</th>\n",
       "      <th>NOT_RIGHT_OF_WAY_I</th>\n",
       "      <th>HIT_AND_RUN_I</th>\n",
       "      <th>DAMAGE</th>\n",
       "      <th>DATE_POLICE_NOTIFIED</th>\n",
       "      <th>PRIM_CONTRIBUTORY_CAUSE</th>\n",
       "      <th>SEC_CONTRIBUTORY_CAUSE</th>\n",
       "      <th>STREET_NO</th>\n",
       "      <th>STREET_DIRECTION</th>\n",
       "      <th>STREET_NAME</th>\n",
       "      <th>BEAT_OF_OCCURRENCE</th>\n",
       "      <th>NUM_UNITS</th>\n",
       "      <th>MOST_SEVERE_INJURY</th>\n",
       "      <th>INJURIES_TOTAL</th>\n",
       "      <th>INJURIES_FATAL</th>\n",
       "      <th>INJURIES_INCAPACITATING</th>\n",
       "      <th>INJURIES_NON_INCAPACITATING</th>\n",
       "      <th>INJURIES_REPORTED_NOT_EVIDENT</th>\n",
       "      <th>INJURIES_NO_INDICATION</th>\n",
       "      <th>INJURIES_UNKNOWN</th>\n",
       "      <th>CRASH_HOUR</th>\n",
       "      <th>CRASH_DAY_OF_WEEK</th>\n",
       "      <th>CRASH_MONTH</th>\n",
       "      <th>LATITUDE</th>\n",
       "      <th>LONGITUDE</th>\n",
       "      <th>LOCATION</th>\n",
       "    </tr>\n",
       "  </thead>\n",
       "  <tbody>\n",
       "    <tr>\n",
       "      <th>472058</th>\n",
       "      <td>89bcc8907886375b0df9aa83d87f3a686f11090b588a08...</td>\n",
       "      <td>NaN</td>\n",
       "      <td>2018-03-11 03:58:00</td>\n",
       "      <td>30</td>\n",
       "      <td>CLEAR</td>\n",
       "      <td>DARKNESS, LIGHTED ROAD</td>\n",
       "      <td>TURNING</td>\n",
       "      <td>DIVIDED - W/MEDIAN (NOT RAISED)</td>\n",
       "      <td>2.0</td>\n",
       "      <td>STRAIGHT AND LEVEL</td>\n",
       "      <td>UNKNOWN</td>\n",
       "      <td>UNKNOWN</td>\n",
       "      <td>INJURY AND / OR TOW DUE TO CRASH</td>\n",
       "      <td>True</td>\n",
       "      <td>NaN</td>\n",
       "      <td>NaN</td>\n",
       "      <td>OVER $1,500</td>\n",
       "      <td>2018-03-11 03:01:00</td>\n",
       "      <td>IMPROPER TURNING/NO SIGNAL</td>\n",
       "      <td>NOT APPLICABLE</td>\n",
       "      <td>6400</td>\n",
       "      <td>N</td>\n",
       "      <td>BELL AVE</td>\n",
       "      <td>2412.0</td>\n",
       "      <td>2</td>\n",
       "      <td>NO INDICATION OF INJURY</td>\n",
       "      <td>0.0</td>\n",
       "      <td>0.0</td>\n",
       "      <td>0.0</td>\n",
       "      <td>0.0</td>\n",
       "      <td>0.0</td>\n",
       "      <td>3.0</td>\n",
       "      <td>0.0</td>\n",
       "      <td>3</td>\n",
       "      <td>1</td>\n",
       "      <td>3</td>\n",
       "      <td>41.997882</td>\n",
       "      <td>-87.686379</td>\n",
       "      <td>POINT (-87.686378920661 41.997882381564)</td>\n",
       "    </tr>\n",
       "  </tbody>\n",
       "</table>\n",
       "</div>"
      ],
      "text/plain": [
       "                                          CRASH_RECORD_ID CRASH_DATE_EST_I  \\\n",
       "472058  89bcc8907886375b0df9aa83d87f3a686f11090b588a08...              NaN   \n",
       "\n",
       "                CRASH_DATE  POSTED_SPEED_LIMIT WEATHER_CONDITION  \\\n",
       "472058 2018-03-11 03:58:00                  30             CLEAR   \n",
       "\n",
       "            LIGHTING_CONDITION FIRST_CRASH_TYPE  \\\n",
       "472058  DARKNESS, LIGHTED ROAD          TURNING   \n",
       "\n",
       "                        TRAFFICWAY_TYPE  LANE_CNT           ALIGNMENT  \\\n",
       "472058  DIVIDED - W/MEDIAN (NOT RAISED)       2.0  STRAIGHT AND LEVEL   \n",
       "\n",
       "       ROADWAY_SURFACE_COND ROAD_DEFECT                        CRASH_TYPE  \\\n",
       "472058              UNKNOWN     UNKNOWN  INJURY AND / OR TOW DUE TO CRASH   \n",
       "\n",
       "       INTERSECTION_RELATED_I NOT_RIGHT_OF_WAY_I HIT_AND_RUN_I       DAMAGE  \\\n",
       "472058                   True                NaN           NaN  OVER $1,500   \n",
       "\n",
       "       DATE_POLICE_NOTIFIED     PRIM_CONTRIBUTORY_CAUSE  \\\n",
       "472058  2018-03-11 03:01:00  IMPROPER TURNING/NO SIGNAL   \n",
       "\n",
       "       SEC_CONTRIBUTORY_CAUSE  STREET_NO STREET_DIRECTION STREET_NAME  \\\n",
       "472058         NOT APPLICABLE       6400                N    BELL AVE   \n",
       "\n",
       "        BEAT_OF_OCCURRENCE  NUM_UNITS       MOST_SEVERE_INJURY  \\\n",
       "472058              2412.0          2  NO INDICATION OF INJURY   \n",
       "\n",
       "        INJURIES_TOTAL  INJURIES_FATAL  INJURIES_INCAPACITATING  \\\n",
       "472058             0.0             0.0                      0.0   \n",
       "\n",
       "        INJURIES_NON_INCAPACITATING  INJURIES_REPORTED_NOT_EVIDENT  \\\n",
       "472058                          0.0                            0.0   \n",
       "\n",
       "        INJURIES_NO_INDICATION  INJURIES_UNKNOWN  CRASH_HOUR  \\\n",
       "472058                     3.0               0.0           3   \n",
       "\n",
       "        CRASH_DAY_OF_WEEK  CRASH_MONTH   LATITUDE  LONGITUDE  \\\n",
       "472058                  1            3  41.997882 -87.686379   \n",
       "\n",
       "                                        LOCATION  \n",
       "472058  POINT (-87.686378920661 41.997882381564)  "
      ]
     },
     "execution_count": 288,
     "metadata": {},
     "output_type": "execute_result"
    }
   ],
   "source": [
    "crashes[crashes['CRASH_DATE'].gt(crashes['DATE_POLICE_NOTIFIED'])]"
   ]
  },
  {
   "cell_type": "markdown",
   "metadata": {},
   "source": [
    "only one entry is not correct but it could simply be a typo se we will keep it, we can now drop both DATE_POLICE_NOTIFIED and CRASH_DATE_EST_I since they won't be usefull for future analisys."
   ]
  },
  {
   "cell_type": "code",
   "execution_count": 289,
   "metadata": {},
   "outputs": [],
   "source": [
    "columns_to_drop = ['CRASH_DATE_EST_I', 'DATE_POLICE_NOTIFIED']\n",
    "crashes = crashes.drop(columns=columns_to_drop)"
   ]
  },
  {
   "cell_type": "markdown",
   "metadata": {},
   "source": [
    "### dates, CRASH_MONTH, CRASH_DAY_OF_WEEK, CRASH_HOUR, CRASH_DATE check"
   ]
  },
  {
   "cell_type": "code",
   "execution_count": 290,
   "metadata": {},
   "outputs": [
    {
     "name": "stdout",
     "output_type": "stream",
     "text": [
      "2013-03-03 16:48:00\n",
      "2025-01-22 23:55:00\n"
     ]
    }
   ],
   "source": [
    "print(crashes['CRASH_DATE'].min())\n",
    "print(crashes['CRASH_DATE'].max())"
   ]
  },
  {
   "cell_type": "code",
   "execution_count": 291,
   "metadata": {},
   "outputs": [
    {
     "data": {
      "image/png": "[encoded data removed]",
      "text/plain": [
       "<Figure size 640x480 with 1 Axes>"
      ]
     },
     "metadata": {},
     "output_type": "display_data"
    }
   ],
   "source": [
    "# plot the year distribution\n",
    "import matplotlib.pyplot as plt\n",
    "import seaborn as sns\n",
    "\n",
    "crashes['CRASH_DATE'].dt.year.value_counts().sort_index().plot(kind='bar')\n",
    "plt.xlabel('Year')\n",
    "plt.ylabel('Number of crashes')\n",
    "plt.title('Number of crashes per year')\n",
    "\n",
    "plt.show()\n",
    "\n"
   ]
  },
  {
   "cell_type": "markdown",
   "metadata": {},
   "source": [
    "Note that from the site https://data.cityofchicago.org/ we can read how the data is from 2015 to present (All police districts September 2017 - present). Maybe is it worth keeping only data from 2018 onward."
   ]
  },
  {
   "cell_type": "code",
   "execution_count": 292,
   "metadata": {},
   "outputs": [
    {
     "data": {
      "text/plain": [
       "137352"
      ]
     },
     "execution_count": 292,
     "metadata": {},
     "output_type": "execute_result"
    }
   ],
   "source": [
    "# TODO decide if 2015 is a good starting point or we want 2018.\n",
    "crashes_subset = crashes[crashes['CRASH_DATE'].dt.year.lt(2018)]\n",
    "len(crashes_subset)"
   ]
  },
  {
   "cell_type": "markdown",
   "metadata": {},
   "source": [
    "only 8 entries are before 2015, and as reported in https://data.cityofchicago.org/Transportation/Traffic-Crashes-Crashes/85ca-t3if/about_data the data should be from 2015 onward, so we are dropping this entries."
   ]
  },
  {
   "cell_type": "code",
   "execution_count": 293,
   "metadata": {},
   "outputs": [],
   "source": [
    "crashes = crashes[crashes['CRASH_DATE'].dt.year.ge(2018)]\n",
    "crashes = crashes[crashes['CRASH_DATE'].dt.year.le(2024)]"
   ]
  },
  {
   "cell_type": "code",
   "execution_count": 294,
   "metadata": {},
   "outputs": [
    {
     "name": "stdout",
     "output_type": "stream",
     "text": [
      "2018-01-01 00:00:00\n",
      "2024-12-31 23:47:00\n"
     ]
    }
   ],
   "source": [
    "print(crashes['CRASH_DATE'].min())\n",
    "print(crashes['CRASH_DATE'].max())"
   ]
  },
  {
   "cell_type": "code",
   "execution_count": 295,
   "metadata": {},
   "outputs": [
    {
     "data": {
      "image/png": "[encoded data removed]",
      "text/plain": [
       "<Figure size 640x480 with 1 Axes>"
      ]
     },
     "metadata": {},
     "output_type": "display_data"
    }
   ],
   "source": [
    "import matplotlib.pyplot as plt\n",
    "import seaborn as sns\n",
    "\n",
    "crashes['CRASH_DATE'].dt.year.value_counts().sort_index().plot(kind='bar')\n",
    "plt.xlabel('Year')\n",
    "plt.ylabel('Number of crashes')\n",
    "plt.title('Number of crashes per year')\n",
    "\n",
    "plt.show()\n",
    "\n"
   ]
  },
  {
   "cell_type": "markdown",
   "metadata": {},
   "source": [
    "we now want to check if the CRASH_MONTH, CRASH_DAY_OF_WEEK, CRASH_HOUR are consisten with the CRASH_DATE"
   ]
  },
  {
   "cell_type": "code",
   "execution_count": 296,
   "metadata": {},
   "outputs": [
    {
     "data": {
      "text/plain": [
       "np.int64(0)"
      ]
     },
     "execution_count": 296,
     "metadata": {},
     "output_type": "execute_result"
    }
   ],
   "source": [
    "(crashes['CRASH_DATE'].dt.month != crashes['CRASH_MONTH']).sum()"
   ]
  },
  {
   "cell_type": "code",
   "execution_count": 297,
   "metadata": {},
   "outputs": [
    {
     "data": {
      "text/plain": [
       "np.int64(0)"
      ]
     },
     "execution_count": 297,
     "metadata": {},
     "output_type": "execute_result"
    }
   ],
   "source": [
    "(crashes['CRASH_DATE'].dt.hour != crashes['CRASH_HOUR']).sum()"
   ]
  },
  {
   "cell_type": "markdown",
   "metadata": {},
   "source": [
    "----"
   ]
  },
  {
   "cell_type": "markdown",
   "metadata": {},
   "source": [
    "## POSTED_SPEED_LIMIT analisys"
   ]
  },
  {
   "cell_type": "code",
   "execution_count": 298,
   "metadata": {},
   "outputs": [
    {
     "name": "stdout",
     "output_type": "stream",
     "text": [
      "0\n",
      "70\n"
     ]
    }
   ],
   "source": [
    "print(crashes['POSTED_SPEED_LIMIT'].min())\n",
    "print(crashes['POSTED_SPEED_LIMIT'].max())"
   ]
  },
  {
   "cell_type": "code",
   "execution_count": 299,
   "metadata": {},
   "outputs": [
    {
     "data": {
      "text/plain": [
       "POSTED_SPEED_LIMIT\n",
       "0       4044\n",
       "1         22\n",
       "2         22\n",
       "3        193\n",
       "4          1\n",
       "5       3539\n",
       "6          5\n",
       "7          5\n",
       "8          2\n",
       "9         29\n",
       "10     18310\n",
       "11        11\n",
       "12         3\n",
       "14         4\n",
       "15     27318\n",
       "16         1\n",
       "18         2\n",
       "20     32128\n",
       "22         3\n",
       "23         3\n",
       "24        38\n",
       "25     49698\n",
       "26        10\n",
       "29         3\n",
       "30    563541\n",
       "31         2\n",
       "32        18\n",
       "33        10\n",
       "34        12\n",
       "35     50382\n",
       "36         8\n",
       "38         1\n",
       "39        81\n",
       "40      7454\n",
       "44         1\n",
       "45      4949\n",
       "46         1\n",
       "49         1\n",
       "50       236\n",
       "55       588\n",
       "60        33\n",
       "62         1\n",
       "65        10\n",
       "70         6\n",
       "Name: count, dtype: int64"
      ]
     },
     "execution_count": 299,
     "metadata": {},
     "output_type": "execute_result"
    }
   ],
   "source": [
    "crashes['POSTED_SPEED_LIMIT'].value_counts().sort_index()"
   ]
  },
  {
   "cell_type": "markdown",
   "metadata": {},
   "source": [
    "all the weird speed limit, and in particular 0 and 99, are surely invalid data "
   ]
  },
  {
   "cell_type": "code",
   "execution_count": 300,
   "metadata": {},
   "outputs": [],
   "source": [
    "crashes['POSTED_SPEED_LIMIT'] = crashes['POSTED_SPEED_LIMIT'].replace(0, None)"
   ]
  },
  {
   "cell_type": "markdown",
   "metadata": {},
   "source": [
    "we decided to keep only the valid speed limits"
   ]
  },
  {
   "cell_type": "code",
   "execution_count": 301,
   "metadata": {},
   "outputs": [],
   "source": [
    "valid_speeds = {5, 10, 15, 20, 25, 30, 35, 40, 45, 50, 55, 60, 65, 70}"
   ]
  },
  {
   "cell_type": "code",
   "execution_count": 302,
   "metadata": {},
   "outputs": [],
   "source": [
    "(crashes['POSTED_SPEED_LIMIT'].isin(valid_speeds)).sum()\n",
    "\n",
    "crashes = crashes[crashes['POSTED_SPEED_LIMIT'].isin(valid_speeds)]\n"
   ]
  },
  {
   "cell_type": "markdown",
   "metadata": {},
   "source": [
    "---"
   ]
  },
  {
   "cell_type": "markdown",
   "metadata": {},
   "source": [
    "## WEATHER_CONDITION check"
   ]
  },
  {
   "cell_type": "code",
   "execution_count": 303,
   "metadata": {},
   "outputs": [
    {
     "data": {
      "text/plain": [
       "WEATHER_CONDITION\n",
       "CLEAR                       593685\n",
       "RAIN                         65158\n",
       "UNKNOWN                      45080\n",
       "SNOW                         24991\n",
       "CLOUDY/OVERCAST              22471\n",
       "OTHER                         2395\n",
       "FREEZING RAIN/DRIZZLE         1788\n",
       "FOG/SMOKE/HAZE                1194\n",
       "SLEET/HAIL                     873\n",
       "BLOWING SNOW                   438\n",
       "SEVERE CROSS WIND GATE         111\n",
       "BLOWING SAND, SOIL, DIRT         8\n",
       "Name: count, dtype: int64"
      ]
     },
     "execution_count": 303,
     "metadata": {},
     "output_type": "execute_result"
    }
   ],
   "source": [
    "crashes['WEATHER_CONDITION'].value_counts()"
   ]
  },
  {
   "cell_type": "markdown",
   "metadata": {},
   "source": [
    "we want to define a severity level and change the values to a severity scale. -1 will be treated as NaN"
   ]
  },
  {
   "cell_type": "code",
   "execution_count": 304,
   "metadata": {},
   "outputs": [],
   "source": [
    "weather_severity = {\n",
    "    'CLEAR': 0,\n",
    "    'CLOUDY/OVERCAST': 1,\n",
    "    'RAIN': 2,\n",
    "    'FREEZING RAIN/DRIZZLE': 2,\n",
    "    'FOG/SMOKE/HAZE': 3,\n",
    "    'SNOW': 3,\n",
    "    'SLEET/HAIL': 3,\n",
    "    'BLOWING SNOW': 3,\n",
    "    'SEVERE CROSS WIND GATE': 3,\n",
    "    'BLOWING SAND, SOIL, DIRT': 4,\n",
    "    'OTHER': -1, \n",
    "    'UNKNOWN': -1\n",
    "}\n",
    "\n",
    "# Map the column\n",
    "crashes['WEATHER_SEVERITY'] = crashes['WEATHER_CONDITION'].map(weather_severity)"
   ]
  },
  {
   "cell_type": "code",
   "execution_count": 305,
   "metadata": {},
   "outputs": [],
   "source": [
    "weather_categoriy = {\n",
    "    'CLEAR': 'CLEAR',\n",
    "    'CLOUDY/OVERCAST': 'CLOUDY',\n",
    "    'RAIN': 'RAIN',\n",
    "    'FREEZING RAIN/DRIZZLE': 'RAIN',\n",
    "    'FOG/SMOKE/HAZE': 'EXTREME',\n",
    "    'SNOW': 'EXTREME',\n",
    "    'SLEET/HAIL': 'EXTREME',\n",
    "    'BLOWING SNOW': 'EXTREME',\n",
    "    'SEVERE CROSS WIND GATE': 'EXTREME',\n",
    "    'BLOWING SAND, SOIL, DIRT': 'EXTREME',\n",
    "    'OTHER': 'UNKNOWN',\n",
    "    'UNKNOWN': 'UNKNOWN'\n",
    "}\n"
   ]
  },
  {
   "cell_type": "code",
   "execution_count": 306,
   "metadata": {},
   "outputs": [],
   "source": [
    "crashes['WEATHER_CATEGORY'] = crashes['WEATHER_CONDITION'].map(weather_categoriy)"
   ]
  },
  {
   "cell_type": "code",
   "execution_count": 307,
   "metadata": {},
   "outputs": [],
   "source": [
    "crashes = pd.get_dummies(crashes, columns=['WEATHER_CATEGORY'])"
   ]
  },
  {
   "cell_type": "code",
   "execution_count": 308,
   "metadata": {},
   "outputs": [
    {
     "name": "stdout",
     "output_type": "stream",
     "text": [
      "<class 'pandas.core.frame.DataFrame'>\n",
      "Index: 758192 entries, 1 to 912163\n",
      "Data columns (total 43 columns):\n",
      " #   Column                         Non-Null Count   Dtype         \n",
      "---  ------                         --------------   -----         \n",
      " 0   CRASH_RECORD_ID                758192 non-null  object        \n",
      " 1   CRASH_DATE                     758192 non-null  datetime64[ns]\n",
      " 2   POSTED_SPEED_LIMIT             758192 non-null  object        \n",
      " 3   WEATHER_CONDITION              758192 non-null  object        \n",
      " 4   LIGHTING_CONDITION             758192 non-null  object        \n",
      " 5   FIRST_CRASH_TYPE               758192 non-null  object        \n",
      " 6   TRAFFICWAY_TYPE                758192 non-null  object        \n",
      " 7   LANE_CNT                       89847 non-null   float64       \n",
      " 8   ALIGNMENT                      758192 non-null  object        \n",
      " 9   ROADWAY_SURFACE_COND           758192 non-null  object        \n",
      " 10  ROAD_DEFECT                    758192 non-null  object        \n",
      " 11  CRASH_TYPE                     758192 non-null  object        \n",
      " 12  INTERSECTION_RELATED_I         179751 non-null  object        \n",
      " 13  NOT_RIGHT_OF_WAY_I             33922 non-null   object        \n",
      " 14  HIT_AND_RUN_I                  244017 non-null  object        \n",
      " 15  DAMAGE                         758192 non-null  object        \n",
      " 16  PRIM_CONTRIBUTORY_CAUSE        758192 non-null  object        \n",
      " 17  SEC_CONTRIBUTORY_CAUSE         758192 non-null  object        \n",
      " 18  STREET_NO                      758192 non-null  int64         \n",
      " 19  STREET_DIRECTION               758191 non-null  object        \n",
      " 20  STREET_NAME                    758192 non-null  object        \n",
      " 21  BEAT_OF_OCCURRENCE             758192 non-null  float64       \n",
      " 22  NUM_UNITS                      758192 non-null  int64         \n",
      " 23  MOST_SEVERE_INJURY             756457 non-null  object        \n",
      " 24  INJURIES_TOTAL                 756464 non-null  float64       \n",
      " 25  INJURIES_FATAL                 756464 non-null  float64       \n",
      " 26  INJURIES_INCAPACITATING        756464 non-null  float64       \n",
      " 27  INJURIES_NON_INCAPACITATING    756464 non-null  float64       \n",
      " 28  INJURIES_REPORTED_NOT_EVIDENT  756464 non-null  float64       \n",
      " 29  INJURIES_NO_INDICATION         756464 non-null  float64       \n",
      " 30  INJURIES_UNKNOWN               756464 non-null  float64       \n",
      " 31  CRASH_HOUR                     758192 non-null  int64         \n",
      " 32  CRASH_DAY_OF_WEEK              758192 non-null  int64         \n",
      " 33  CRASH_MONTH                    758192 non-null  int64         \n",
      " 34  LATITUDE                       758192 non-null  float64       \n",
      " 35  LONGITUDE                      758192 non-null  float64       \n",
      " 36  LOCATION                       758192 non-null  object        \n",
      " 37  WEATHER_SEVERITY               758192 non-null  int64         \n",
      " 38  WEATHER_CATEGORY_CLEAR         758192 non-null  bool          \n",
      " 39  WEATHER_CATEGORY_CLOUDY        758192 non-null  bool          \n",
      " 40  WEATHER_CATEGORY_EXTREME       758192 non-null  bool          \n",
      " 41  WEATHER_CATEGORY_RAIN          758192 non-null  bool          \n",
      " 42  WEATHER_CATEGORY_UNKNOWN       758192 non-null  bool          \n",
      "dtypes: bool(5), datetime64[ns](1), float64(11), int64(6), object(20)\n",
      "memory usage: 229.2+ MB\n"
     ]
    }
   ],
   "source": [
    "crashes.info()"
   ]
  },
  {
   "cell_type": "code",
   "execution_count": 309,
   "metadata": {},
   "outputs": [
    {
     "data": {
      "text/plain": [
       "WEATHER_SEVERITY\n",
       " 0    593685\n",
       " 2     66946\n",
       "-1     47475\n",
       " 3     27607\n",
       " 1     22471\n",
       " 4         8\n",
       "Name: count, dtype: int64"
      ]
     },
     "execution_count": 309,
     "metadata": {},
     "output_type": "execute_result"
    }
   ],
   "source": [
    "crashes['WEATHER_SEVERITY'].value_counts()"
   ]
  },
  {
   "cell_type": "markdown",
   "metadata": {},
   "source": [
    "---"
   ]
  },
  {
   "cell_type": "code",
   "execution_count": 310,
   "metadata": {},
   "outputs": [
    {
     "data": {
      "text/plain": [
       "LIGHTING_CONDITION\n",
       "DAYLIGHT                  483276\n",
       "DARKNESS, LIGHTED ROAD    169087\n",
       "UNKNOWN                    37017\n",
       "DARKNESS                   34844\n",
       "DUSK                       21214\n",
       "DAWN                       12754\n",
       "Name: count, dtype: int64"
      ]
     },
     "execution_count": 310,
     "metadata": {},
     "output_type": "execute_result"
    }
   ],
   "source": [
    "crashes['LIGHTING_CONDITION'].value_counts()"
   ]
  },
  {
   "cell_type": "code",
   "execution_count": 311,
   "metadata": {},
   "outputs": [],
   "source": [
    "lighting_severity = {\n",
    "    'DAYLIGHT': 0,\n",
    "    'DARKNESS, LIGHTED ROAD': 1,\n",
    "    'DARKNESS': 2,\n",
    "    'DUSK': 2,\n",
    "    'DAWN': 2,\n",
    "    'UNKNOWN': -1\n",
    "}\n",
    "\n",
    "# Map the column\n",
    "crashes['LIGHTING_SEVERITY'] = crashes['LIGHTING_CONDITION'].map(lighting_severity)"
   ]
  },
  {
   "cell_type": "code",
   "execution_count": 312,
   "metadata": {},
   "outputs": [],
   "source": [
    "lighting_category = {\n",
    "    'DAYLIGHT': 'DAYLIGHT',\n",
    "    'DARKNESS, LIGHTED ROAD': 'NIGHT',\n",
    "    'DARKNESS': 'NIGHT',\n",
    "    'DUSK': 'NIGHT',\n",
    "    'DAWN': 'NIGHT',\n",
    "    'UNKNOWN': 'UNKNOWN'\n",
    "}"
   ]
  },
  {
   "cell_type": "code",
   "execution_count": 313,
   "metadata": {},
   "outputs": [],
   "source": [
    "crashes['LIGHTING_CATEGORY'] = crashes['LIGHTING_CONDITION'].map(lighting_category)"
   ]
  },
  {
   "cell_type": "code",
   "execution_count": 314,
   "metadata": {},
   "outputs": [
    {
     "data": {
      "text/plain": [
       "LIGHTING_CATEGORY\n",
       "DAYLIGHT    483276\n",
       "NIGHT       237899\n",
       "UNKNOWN      37017\n",
       "Name: count, dtype: int64"
      ]
     },
     "execution_count": 314,
     "metadata": {},
     "output_type": "execute_result"
    }
   ],
   "source": [
    "crashes['LIGHTING_CATEGORY'].value_counts()"
   ]
  },
  {
   "cell_type": "code",
   "execution_count": 315,
   "metadata": {},
   "outputs": [],
   "source": [
    "crashes = pd.get_dummies(crashes, columns=['LIGHTING_CATEGORY'])"
   ]
  },
  {
   "cell_type": "code",
   "execution_count": 316,
   "metadata": {},
   "outputs": [
    {
     "data": {
      "text/plain": [
       "LIGHTING_SEVERITY\n",
       " 0    483276\n",
       " 1    169087\n",
       " 2     68812\n",
       "-1     37017\n",
       "Name: count, dtype: int64"
      ]
     },
     "execution_count": 316,
     "metadata": {},
     "output_type": "execute_result"
    }
   ],
   "source": [
    "crashes['LIGHTING_SEVERITY'].value_counts()"
   ]
  },
  {
   "cell_type": "markdown",
   "metadata": {},
   "source": [
    "---"
   ]
  },
  {
   "cell_type": "markdown",
   "metadata": {},
   "source": [
    "## type of road and crash, maybe usefull later on"
   ]
  },
  {
   "cell_type": "code",
   "execution_count": 317,
   "metadata": {},
   "outputs": [
    {
     "data": {
      "text/plain": [
       "FIRST_CRASH_TYPE\n",
       "PARKED MOTOR VEHICLE            176500\n",
       "REAR END                        161133\n",
       "SIDESWIPE SAME DIRECTION        113221\n",
       "TURNING                         111150\n",
       "ANGLE                            83594\n",
       "FIXED OBJECT                     36678\n",
       "PEDESTRIAN                       18891\n",
       "PEDALCYCLIST                     12558\n",
       "SIDESWIPE OPPOSITE DIRECTION     10304\n",
       "REAR TO FRONT                     9156\n",
       "OTHER OBJECT                      7839\n",
       "HEAD ON                           6419\n",
       "REAR TO SIDE                      5490\n",
       "OTHER NONCOLLISION                2267\n",
       "REAR TO REAR                      1904\n",
       "ANIMAL                             569\n",
       "OVERTURNED                         479\n",
       "TRAIN                               40\n",
       "Name: count, dtype: int64"
      ]
     },
     "execution_count": 317,
     "metadata": {},
     "output_type": "execute_result"
    }
   ],
   "source": [
    "crashes['FIRST_CRASH_TYPE'].value_counts()  "
   ]
  },
  {
   "cell_type": "code",
   "execution_count": 318,
   "metadata": {},
   "outputs": [
    {
     "data": {
      "image/png": "[encoded data removed]",
      "text/plain": [
       "<Figure size 1200x600 with 1 Axes>"
      ]
     },
     "metadata": {},
     "output_type": "display_data"
    }
   ],
   "source": [
    "# Calculate the percentage of INJURIES_FATAL for each FIRST_CRASH_TYPE\n",
    "fatal_injuries_percentage = crashes.groupby('FIRST_CRASH_TYPE')['INJURIES_FATAL'].mean() * 100\n",
    "\n",
    "# Plot the percentage\n",
    "plt.figure(figsize=(12, 6))\n",
    "fatal_injuries_percentage.sort_values(ascending=False).plot(kind='bar')\n",
    "plt.xlabel('First Crash Type')\n",
    "plt.ylabel('Percentage of Fatal Injuries')\n",
    "plt.title('Percentage of Fatal Injuries for Each First Crash Type')\n",
    "plt.xticks(rotation=90)\n",
    "plt.show()"
   ]
  },
  {
   "cell_type": "code",
   "execution_count": 319,
   "metadata": {},
   "outputs": [
    {
     "data": {
      "image/png": "[encoded data removed]",
      "text/plain": [
       "<Figure size 1200x600 with 1 Axes>"
      ]
     },
     "metadata": {},
     "output_type": "display_data"
    }
   ],
   "source": [
    "# Calculate the percentage of INJURIES_FATAL for each FIRST_CRASH_TYPE\n",
    "fatal_injuries_percentage = crashes.groupby('FIRST_CRASH_TYPE')['INJURIES_INCAPACITATING'].mean() * 100\n",
    "\n",
    "# Plot the percentage\n",
    "plt.figure(figsize=(12, 6))\n",
    "fatal_injuries_percentage.sort_values(ascending=False).plot(kind='bar')\n",
    "plt.xlabel('First Crash Type')\n",
    "plt.ylabel('Percentage of INCAPACITATING Injuries')\n",
    "plt.title('Percentage of INCAPACITATING Injuries for Each First Crash Type')\n",
    "plt.xticks(rotation=90)\n",
    "plt.show()"
   ]
  },
  {
   "cell_type": "code",
   "execution_count": 320,
   "metadata": {},
   "outputs": [
    {
     "data": {
      "image/png": "[encoded data removed]",
      "text/plain": [
       "<Figure size 1200x600 with 1 Axes>"
      ]
     },
     "metadata": {},
     "output_type": "display_data"
    },
    {
     "data": {
      "image/png": "[encoded data removed]",
      "text/plain": [
       "<Figure size 1200x600 with 1 Axes>"
      ]
     },
     "metadata": {},
     "output_type": "display_data"
    }
   ],
   "source": [
    "# Compute weighted crash severity scores using fatal and incapacitating injuries\n",
    "fatal_injuries_percentage = crashes.groupby('FIRST_CRASH_TYPE')['INJURIES_FATAL'].mean() * 100\n",
    "incapacitating_injuries_percentage = crashes.groupby('FIRST_CRASH_TYPE')['INJURIES_INCAPACITATING'].mean() * 100\n",
    "\n",
    "max_fatal = fatal_injuries_percentage.max()\n",
    "max_incapacitating = incapacitating_injuries_percentage.max()\n",
    "\n",
    "fatal_severity_scores = (fatal_injuries_percentage / max_fatal).fillna(0)\n",
    "incapacitating_severity_scores = (incapacitating_injuries_percentage / max_incapacitating).fillna(0)\n",
    "\n",
    "# Weighted severity score (70% fatal, 30% incapacitating)\n",
    "crash_severity_scores = (0.7 * fatal_severity_scores + 0.3 * incapacitating_severity_scores).to_dict()\n",
    "\n",
    "# Apply the new crash severity score\n",
    "crashes[\"crash_severity_score\"] = crashes[\"FIRST_CRASH_TYPE\"].map(crash_severity_scores).fillna(-1)\n",
    "\n",
    "# Plot the normalized severity scores\n",
    "plt.figure(figsize=(12, 6))\n",
    "fatal_injuries_percentage.sort_values(ascending=False).plot(kind='bar')\n",
    "plt.xlabel('First Crash Type')\n",
    "plt.ylabel('Percentage of Fatal Injuries')\n",
    "plt.title('Percentage of Fatal Injuries for Each First Crash Type')\n",
    "plt.xticks(rotation=90)\n",
    "plt.show()\n",
    "\n",
    "plt.figure(figsize=(12, 6))\n",
    "incapacitating_injuries_percentage.sort_values(ascending=False).plot(kind='bar')\n",
    "plt.xlabel('First Crash Type')\n",
    "plt.ylabel('Percentage of Incapacitating Injuries')\n",
    "plt.title('Percentage of Incapacitating Injuries for Each First Crash Type')\n",
    "plt.xticks(rotation=90)\n",
    "plt.show()\n",
    "\n"
   ]
  },
  {
   "cell_type": "code",
   "execution_count": 321,
   "metadata": {},
   "outputs": [
    {
     "data": {
      "text/plain": [
       "{'ANGLE': 0.07865602662074382,\n",
       " 'ANIMAL': 0.1504903775729463,\n",
       " 'FIXED OBJECT': 0.14850656201986628,\n",
       " 'HEAD ON': 0.2520285174244933,\n",
       " 'OTHER NONCOLLISION': 0.0898601202792037,\n",
       " 'OTHER OBJECT': 0.09804337893651381,\n",
       " 'OVERTURNED': 0.30169536075699827,\n",
       " 'PARKED MOTOR VEHICLE': 0.017662710715994255,\n",
       " 'PEDALCYCLIST': 0.19547364259275782,\n",
       " 'PEDESTRIAN': 0.4763061775448626,\n",
       " 'REAR END': 0.023343012805145048,\n",
       " 'REAR TO FRONT': 0.01244722572906129,\n",
       " 'REAR TO REAR': 0.003651055638446731,\n",
       " 'REAR TO SIDE': 0.015511333645014856,\n",
       " 'SIDESWIPE OPPOSITE DIRECTION': 0.03895776758215386,\n",
       " 'SIDESWIPE SAME DIRECTION': 0.01374166968189711,\n",
       " 'TRAIN': 0.7891232043025971,\n",
       " 'TURNING': 0.047309737084200845}"
      ]
     },
     "execution_count": 321,
     "metadata": {},
     "output_type": "execute_result"
    }
   ],
   "source": [
    "crash_severity_scores"
   ]
  },
  {
   "cell_type": "code",
   "execution_count": 322,
   "metadata": {},
   "outputs": [
    {
     "data": {
      "text/plain": [
       "crash_severity_score\n",
       "0.017663    176500\n",
       "0.023343    161133\n",
       "0.013742    113221\n",
       "0.047310    111150\n",
       "0.078656     83594\n",
       "0.148507     36678\n",
       "0.476306     18891\n",
       "0.195474     12558\n",
       "0.038958     10304\n",
       "0.012447      9156\n",
       "0.098043      7839\n",
       "0.252029      6419\n",
       "0.015511      5490\n",
       "0.089860      2267\n",
       "0.003651      1904\n",
       "0.150490       569\n",
       "0.301695       479\n",
       "0.789123        40\n",
       "Name: count, dtype: int64"
      ]
     },
     "execution_count": 322,
     "metadata": {},
     "output_type": "execute_result"
    }
   ],
   "source": [
    "crashes[\"crash_severity_score\"].value_counts()"
   ]
  },
  {
   "cell_type": "code",
   "execution_count": 323,
   "metadata": {},
   "outputs": [
    {
     "data": {
      "text/html": [
       "<div>\n",
       "<style scoped>\n",
       "    .dataframe tbody tr th:only-of-type {\n",
       "        vertical-align: middle;\n",
       "    }\n",
       "\n",
       "    .dataframe tbody tr th {\n",
       "        vertical-align: top;\n",
       "    }\n",
       "\n",
       "    .dataframe thead th {\n",
       "        text-align: right;\n",
       "    }\n",
       "</style>\n",
       "<table border=\"1\" class=\"dataframe\">\n",
       "  <thead>\n",
       "    <tr style=\"text-align: right;\">\n",
       "      <th></th>\n",
       "      <th>CRASH_RECORD_ID</th>\n",
       "      <th>CRASH_DATE</th>\n",
       "      <th>POSTED_SPEED_LIMIT</th>\n",
       "      <th>WEATHER_CONDITION</th>\n",
       "      <th>LIGHTING_CONDITION</th>\n",
       "      <th>FIRST_CRASH_TYPE</th>\n",
       "      <th>TRAFFICWAY_TYPE</th>\n",
       "      <th>LANE_CNT</th>\n",
       "      <th>ALIGNMENT</th>\n",
       "      <th>ROADWAY_SURFACE_COND</th>\n",
       "      <th>ROAD_DEFECT</th>\n",
       "      <th>CRASH_TYPE</th>\n",
       "      <th>INTERSECTION_RELATED_I</th>\n",
       "      <th>NOT_RIGHT_OF_WAY_I</th>\n",
       "      <th>HIT_AND_RUN_I</th>\n",
       "      <th>DAMAGE</th>\n",
       "      <th>PRIM_CONTRIBUTORY_CAUSE</th>\n",
       "      <th>SEC_CONTRIBUTORY_CAUSE</th>\n",
       "      <th>STREET_NO</th>\n",
       "      <th>STREET_DIRECTION</th>\n",
       "      <th>STREET_NAME</th>\n",
       "      <th>BEAT_OF_OCCURRENCE</th>\n",
       "      <th>NUM_UNITS</th>\n",
       "      <th>MOST_SEVERE_INJURY</th>\n",
       "      <th>INJURIES_TOTAL</th>\n",
       "      <th>INJURIES_FATAL</th>\n",
       "      <th>INJURIES_INCAPACITATING</th>\n",
       "      <th>INJURIES_NON_INCAPACITATING</th>\n",
       "      <th>INJURIES_REPORTED_NOT_EVIDENT</th>\n",
       "      <th>INJURIES_NO_INDICATION</th>\n",
       "      <th>INJURIES_UNKNOWN</th>\n",
       "      <th>CRASH_HOUR</th>\n",
       "      <th>CRASH_DAY_OF_WEEK</th>\n",
       "      <th>CRASH_MONTH</th>\n",
       "      <th>LATITUDE</th>\n",
       "      <th>LONGITUDE</th>\n",
       "      <th>LOCATION</th>\n",
       "      <th>WEATHER_SEVERITY</th>\n",
       "      <th>WEATHER_CATEGORY_CLEAR</th>\n",
       "      <th>WEATHER_CATEGORY_CLOUDY</th>\n",
       "      <th>WEATHER_CATEGORY_EXTREME</th>\n",
       "      <th>WEATHER_CATEGORY_RAIN</th>\n",
       "      <th>WEATHER_CATEGORY_UNKNOWN</th>\n",
       "      <th>LIGHTING_SEVERITY</th>\n",
       "      <th>LIGHTING_CATEGORY_DAYLIGHT</th>\n",
       "      <th>LIGHTING_CATEGORY_NIGHT</th>\n",
       "      <th>LIGHTING_CATEGORY_UNKNOWN</th>\n",
       "      <th>crash_severity_score</th>\n",
       "    </tr>\n",
       "  </thead>\n",
       "  <tbody>\n",
       "    <tr>\n",
       "      <th>35099</th>\n",
       "      <td>05237fb8371a5cfecede7edded4d66bdcaadc5b73c6f4a...</td>\n",
       "      <td>2018-07-14 09:15:00</td>\n",
       "      <td>30</td>\n",
       "      <td>CLEAR</td>\n",
       "      <td>DAYLIGHT</td>\n",
       "      <td>TRAIN</td>\n",
       "      <td>ONE-WAY</td>\n",
       "      <td>NaN</td>\n",
       "      <td>STRAIGHT AND LEVEL</td>\n",
       "      <td>DRY</td>\n",
       "      <td>NO DEFECTS</td>\n",
       "      <td>INJURY AND / OR TOW DUE TO CRASH</td>\n",
       "      <td>NaN</td>\n",
       "      <td>NaN</td>\n",
       "      <td>NaN</td>\n",
       "      <td>$500 OR LESS</td>\n",
       "      <td>HAD BEEN DRINKING (USE WHEN ARREST IS NOT MADE)</td>\n",
       "      <td>UNABLE TO DETERMINE</td>\n",
       "      <td>958</td>\n",
       "      <td>W</td>\n",
       "      <td>LAKE ST</td>\n",
       "      <td>1214.0</td>\n",
       "      <td>2</td>\n",
       "      <td>REPORTED, NOT EVIDENT</td>\n",
       "      <td>1.0</td>\n",
       "      <td>0.0</td>\n",
       "      <td>0.0</td>\n",
       "      <td>0.0</td>\n",
       "      <td>1.0</td>\n",
       "      <td>1.0</td>\n",
       "      <td>0.0</td>\n",
       "      <td>9</td>\n",
       "      <td>7</td>\n",
       "      <td>7</td>\n",
       "      <td>41.885695</td>\n",
       "      <td>-87.652086</td>\n",
       "      <td>POINT (-87.652085769794 41.885694817708)</td>\n",
       "      <td>0</td>\n",
       "      <td>True</td>\n",
       "      <td>False</td>\n",
       "      <td>False</td>\n",
       "      <td>False</td>\n",
       "      <td>False</td>\n",
       "      <td>0</td>\n",
       "      <td>True</td>\n",
       "      <td>False</td>\n",
       "      <td>False</td>\n",
       "      <td>0.789123</td>\n",
       "    </tr>\n",
       "    <tr>\n",
       "      <th>331755</th>\n",
       "      <td>5f08049e37adb904214a95eea3a72966eebea4ac099c56...</td>\n",
       "      <td>2019-11-20 00:40:00</td>\n",
       "      <td>20</td>\n",
       "      <td>CLEAR</td>\n",
       "      <td>DARKNESS</td>\n",
       "      <td>TRAIN</td>\n",
       "      <td>ONE-WAY</td>\n",
       "      <td>NaN</td>\n",
       "      <td>STRAIGHT AND LEVEL</td>\n",
       "      <td>DRY</td>\n",
       "      <td>NO DEFECTS</td>\n",
       "      <td>INJURY AND / OR TOW DUE TO CRASH</td>\n",
       "      <td>NaN</td>\n",
       "      <td>True</td>\n",
       "      <td>NaN</td>\n",
       "      <td>OVER $1,500</td>\n",
       "      <td>UNABLE TO DETERMINE</td>\n",
       "      <td>NOT APPLICABLE</td>\n",
       "      <td>5926</td>\n",
       "      <td>S</td>\n",
       "      <td>MENARD AVE</td>\n",
       "      <td>811.0</td>\n",
       "      <td>2</td>\n",
       "      <td>NO INDICATION OF INJURY</td>\n",
       "      <td>0.0</td>\n",
       "      <td>0.0</td>\n",
       "      <td>0.0</td>\n",
       "      <td>0.0</td>\n",
       "      <td>0.0</td>\n",
       "      <td>3.0</td>\n",
       "      <td>0.0</td>\n",
       "      <td>0</td>\n",
       "      <td>4</td>\n",
       "      <td>11</td>\n",
       "      <td>41.784468</td>\n",
       "      <td>-87.767011</td>\n",
       "      <td>POINT (-87.767010702561 41.784467973811)</td>\n",
       "      <td>0</td>\n",
       "      <td>True</td>\n",
       "      <td>False</td>\n",
       "      <td>False</td>\n",
       "      <td>False</td>\n",
       "      <td>False</td>\n",
       "      <td>2</td>\n",
       "      <td>False</td>\n",
       "      <td>True</td>\n",
       "      <td>False</td>\n",
       "      <td>0.789123</td>\n",
       "    </tr>\n",
       "    <tr>\n",
       "      <th>837948</th>\n",
       "      <td>f8c3f641ddd7ed7b7a79f18516e57173174250c68be1cb...</td>\n",
       "      <td>2018-12-17 18:29:00</td>\n",
       "      <td>30</td>\n",
       "      <td>CLEAR</td>\n",
       "      <td>DARKNESS, LIGHTED ROAD</td>\n",
       "      <td>TRAIN</td>\n",
       "      <td>NOT DIVIDED</td>\n",
       "      <td>NaN</td>\n",
       "      <td>STRAIGHT AND LEVEL</td>\n",
       "      <td>DRY</td>\n",
       "      <td>NO DEFECTS</td>\n",
       "      <td>INJURY AND / OR TOW DUE TO CRASH</td>\n",
       "      <td>True</td>\n",
       "      <td>NaN</td>\n",
       "      <td>NaN</td>\n",
       "      <td>OVER $1,500</td>\n",
       "      <td>DISREGARDING TRAFFIC SIGNALS</td>\n",
       "      <td>HAD BEEN DRINKING (USE WHEN ARREST IS NOT MADE)</td>\n",
       "      <td>7101</td>\n",
       "      <td>S</td>\n",
       "      <td>JEFFERY BLVD</td>\n",
       "      <td>333.0</td>\n",
       "      <td>2</td>\n",
       "      <td>REPORTED, NOT EVIDENT</td>\n",
       "      <td>1.0</td>\n",
       "      <td>0.0</td>\n",
       "      <td>0.0</td>\n",
       "      <td>0.0</td>\n",
       "      <td>1.0</td>\n",
       "      <td>1.0</td>\n",
       "      <td>0.0</td>\n",
       "      <td>18</td>\n",
       "      <td>2</td>\n",
       "      <td>12</td>\n",
       "      <td>41.766032</td>\n",
       "      <td>-87.576150</td>\n",
       "      <td>POINT (-87.576149947434 41.766032178003)</td>\n",
       "      <td>0</td>\n",
       "      <td>True</td>\n",
       "      <td>False</td>\n",
       "      <td>False</td>\n",
       "      <td>False</td>\n",
       "      <td>False</td>\n",
       "      <td>1</td>\n",
       "      <td>False</td>\n",
       "      <td>True</td>\n",
       "      <td>False</td>\n",
       "      <td>0.789123</td>\n",
       "    </tr>\n",
       "    <tr>\n",
       "      <th>617591</th>\n",
       "      <td>b5fdd4b6ab3f76f84f9de5b76b459eeefb32bb62c9ca8a...</td>\n",
       "      <td>2024-01-06 03:37:00</td>\n",
       "      <td>30</td>\n",
       "      <td>SNOW</td>\n",
       "      <td>DARKNESS</td>\n",
       "      <td>TRAIN</td>\n",
       "      <td>CENTER TURN LANE</td>\n",
       "      <td>NaN</td>\n",
       "      <td>STRAIGHT AND LEVEL</td>\n",
       "      <td>SNOW OR SLUSH</td>\n",
       "      <td>NO DEFECTS</td>\n",
       "      <td>INJURY AND / OR TOW DUE TO CRASH</td>\n",
       "      <td>NaN</td>\n",
       "      <td>NaN</td>\n",
       "      <td>NaN</td>\n",
       "      <td>OVER $1,500</td>\n",
       "      <td>NOT APPLICABLE</td>\n",
       "      <td>NOT APPLICABLE</td>\n",
       "      <td>398</td>\n",
       "      <td>E</td>\n",
       "      <td>130TH ST</td>\n",
       "      <td>532.0</td>\n",
       "      <td>1</td>\n",
       "      <td>NO INDICATION OF INJURY</td>\n",
       "      <td>0.0</td>\n",
       "      <td>0.0</td>\n",
       "      <td>0.0</td>\n",
       "      <td>0.0</td>\n",
       "      <td>0.0</td>\n",
       "      <td>1.0</td>\n",
       "      <td>0.0</td>\n",
       "      <td>3</td>\n",
       "      <td>7</td>\n",
       "      <td>1</td>\n",
       "      <td>41.659235</td>\n",
       "      <td>-87.612590</td>\n",
       "      <td>POINT (-87.612589534784 41.659234871037)</td>\n",
       "      <td>3</td>\n",
       "      <td>False</td>\n",
       "      <td>False</td>\n",
       "      <td>True</td>\n",
       "      <td>False</td>\n",
       "      <td>False</td>\n",
       "      <td>2</td>\n",
       "      <td>False</td>\n",
       "      <td>True</td>\n",
       "      <td>False</td>\n",
       "      <td>0.789123</td>\n",
       "    </tr>\n",
       "    <tr>\n",
       "      <th>2654</th>\n",
       "      <td>2ce5e84c799c2cc03d558e4788a0c9edf64170c06c1151...</td>\n",
       "      <td>2022-10-20 14:55:00</td>\n",
       "      <td>30</td>\n",
       "      <td>CLEAR</td>\n",
       "      <td>DAYLIGHT</td>\n",
       "      <td>TRAIN</td>\n",
       "      <td>NOT DIVIDED</td>\n",
       "      <td>NaN</td>\n",
       "      <td>STRAIGHT AND LEVEL</td>\n",
       "      <td>DRY</td>\n",
       "      <td>NO DEFECTS</td>\n",
       "      <td>INJURY AND / OR TOW DUE TO CRASH</td>\n",
       "      <td>NaN</td>\n",
       "      <td>NaN</td>\n",
       "      <td>NaN</td>\n",
       "      <td>OVER $1,500</td>\n",
       "      <td>UNABLE TO DETERMINE</td>\n",
       "      <td>NOT APPLICABLE</td>\n",
       "      <td>1645</td>\n",
       "      <td>S</td>\n",
       "      <td>KILBOURN AVE</td>\n",
       "      <td>1012.0</td>\n",
       "      <td>2</td>\n",
       "      <td>NO INDICATION OF INJURY</td>\n",
       "      <td>0.0</td>\n",
       "      <td>0.0</td>\n",
       "      <td>0.0</td>\n",
       "      <td>0.0</td>\n",
       "      <td>0.0</td>\n",
       "      <td>2.0</td>\n",
       "      <td>0.0</td>\n",
       "      <td>14</td>\n",
       "      <td>5</td>\n",
       "      <td>10</td>\n",
       "      <td>41.857588</td>\n",
       "      <td>-87.736996</td>\n",
       "      <td>POINT (-87.736995647 41.85758808397)</td>\n",
       "      <td>0</td>\n",
       "      <td>True</td>\n",
       "      <td>False</td>\n",
       "      <td>False</td>\n",
       "      <td>False</td>\n",
       "      <td>False</td>\n",
       "      <td>0</td>\n",
       "      <td>True</td>\n",
       "      <td>False</td>\n",
       "      <td>False</td>\n",
       "      <td>0.789123</td>\n",
       "    </tr>\n",
       "  </tbody>\n",
       "</table>\n",
       "</div>"
      ],
      "text/plain": [
       "                                          CRASH_RECORD_ID          CRASH_DATE  \\\n",
       "35099   05237fb8371a5cfecede7edded4d66bdcaadc5b73c6f4a... 2018-07-14 09:15:00   \n",
       "331755  5f08049e37adb904214a95eea3a72966eebea4ac099c56... 2019-11-20 00:40:00   \n",
       "837948  f8c3f641ddd7ed7b7a79f18516e57173174250c68be1cb... 2018-12-17 18:29:00   \n",
       "617591  b5fdd4b6ab3f76f84f9de5b76b459eeefb32bb62c9ca8a... 2024-01-06 03:37:00   \n",
       "2654    2ce5e84c799c2cc03d558e4788a0c9edf64170c06c1151... 2022-10-20 14:55:00   \n",
       "\n",
       "       POSTED_SPEED_LIMIT WEATHER_CONDITION      LIGHTING_CONDITION  \\\n",
       "35099                  30             CLEAR                DAYLIGHT   \n",
       "331755                 20             CLEAR                DARKNESS   \n",
       "837948                 30             CLEAR  DARKNESS, LIGHTED ROAD   \n",
       "617591                 30              SNOW                DARKNESS   \n",
       "2654                   30             CLEAR                DAYLIGHT   \n",
       "\n",
       "       FIRST_CRASH_TYPE   TRAFFICWAY_TYPE  LANE_CNT           ALIGNMENT  \\\n",
       "35099             TRAIN           ONE-WAY       NaN  STRAIGHT AND LEVEL   \n",
       "331755            TRAIN           ONE-WAY       NaN  STRAIGHT AND LEVEL   \n",
       "837948            TRAIN       NOT DIVIDED       NaN  STRAIGHT AND LEVEL   \n",
       "617591            TRAIN  CENTER TURN LANE       NaN  STRAIGHT AND LEVEL   \n",
       "2654              TRAIN       NOT DIVIDED       NaN  STRAIGHT AND LEVEL   \n",
       "\n",
       "       ROADWAY_SURFACE_COND ROAD_DEFECT                        CRASH_TYPE  \\\n",
       "35099                   DRY  NO DEFECTS  INJURY AND / OR TOW DUE TO CRASH   \n",
       "331755                  DRY  NO DEFECTS  INJURY AND / OR TOW DUE TO CRASH   \n",
       "837948                  DRY  NO DEFECTS  INJURY AND / OR TOW DUE TO CRASH   \n",
       "617591        SNOW OR SLUSH  NO DEFECTS  INJURY AND / OR TOW DUE TO CRASH   \n",
       "2654                    DRY  NO DEFECTS  INJURY AND / OR TOW DUE TO CRASH   \n",
       "\n",
       "       INTERSECTION_RELATED_I NOT_RIGHT_OF_WAY_I HIT_AND_RUN_I        DAMAGE  \\\n",
       "35099                     NaN                NaN           NaN  $500 OR LESS   \n",
       "331755                    NaN               True           NaN   OVER $1,500   \n",
       "837948                   True                NaN           NaN   OVER $1,500   \n",
       "617591                    NaN                NaN           NaN   OVER $1,500   \n",
       "2654                      NaN                NaN           NaN   OVER $1,500   \n",
       "\n",
       "                                PRIM_CONTRIBUTORY_CAUSE  \\\n",
       "35099   HAD BEEN DRINKING (USE WHEN ARREST IS NOT MADE)   \n",
       "331755                              UNABLE TO DETERMINE   \n",
       "837948                     DISREGARDING TRAFFIC SIGNALS   \n",
       "617591                                   NOT APPLICABLE   \n",
       "2654                                UNABLE TO DETERMINE   \n",
       "\n",
       "                                 SEC_CONTRIBUTORY_CAUSE  STREET_NO  \\\n",
       "35099                               UNABLE TO DETERMINE        958   \n",
       "331755                                   NOT APPLICABLE       5926   \n",
       "837948  HAD BEEN DRINKING (USE WHEN ARREST IS NOT MADE)       7101   \n",
       "617591                                   NOT APPLICABLE        398   \n",
       "2654                                     NOT APPLICABLE       1645   \n",
       "\n",
       "       STREET_DIRECTION   STREET_NAME  BEAT_OF_OCCURRENCE  NUM_UNITS  \\\n",
       "35099                 W       LAKE ST              1214.0          2   \n",
       "331755                S    MENARD AVE               811.0          2   \n",
       "837948                S  JEFFERY BLVD               333.0          2   \n",
       "617591                E      130TH ST               532.0          1   \n",
       "2654                  S  KILBOURN AVE              1012.0          2   \n",
       "\n",
       "             MOST_SEVERE_INJURY  INJURIES_TOTAL  INJURIES_FATAL  \\\n",
       "35099     REPORTED, NOT EVIDENT             1.0             0.0   \n",
       "331755  NO INDICATION OF INJURY             0.0             0.0   \n",
       "837948    REPORTED, NOT EVIDENT             1.0             0.0   \n",
       "617591  NO INDICATION OF INJURY             0.0             0.0   \n",
       "2654    NO INDICATION OF INJURY             0.0             0.0   \n",
       "\n",
       "        INJURIES_INCAPACITATING  INJURIES_NON_INCAPACITATING  \\\n",
       "35099                       0.0                          0.0   \n",
       "331755                      0.0                          0.0   \n",
       "837948                      0.0                          0.0   \n",
       "617591                      0.0                          0.0   \n",
       "2654                        0.0                          0.0   \n",
       "\n",
       "        INJURIES_REPORTED_NOT_EVIDENT  INJURIES_NO_INDICATION  \\\n",
       "35099                             1.0                     1.0   \n",
       "331755                            0.0                     3.0   \n",
       "837948                            1.0                     1.0   \n",
       "617591                            0.0                     1.0   \n",
       "2654                              0.0                     2.0   \n",
       "\n",
       "        INJURIES_UNKNOWN  CRASH_HOUR  CRASH_DAY_OF_WEEK  CRASH_MONTH  \\\n",
       "35099                0.0           9                  7            7   \n",
       "331755               0.0           0                  4           11   \n",
       "837948               0.0          18                  2           12   \n",
       "617591               0.0           3                  7            1   \n",
       "2654                 0.0          14                  5           10   \n",
       "\n",
       "         LATITUDE  LONGITUDE                                  LOCATION  \\\n",
       "35099   41.885695 -87.652086  POINT (-87.652085769794 41.885694817708)   \n",
       "331755  41.784468 -87.767011  POINT (-87.767010702561 41.784467973811)   \n",
       "837948  41.766032 -87.576150  POINT (-87.576149947434 41.766032178003)   \n",
       "617591  41.659235 -87.612590  POINT (-87.612589534784 41.659234871037)   \n",
       "2654    41.857588 -87.736996      POINT (-87.736995647 41.85758808397)   \n",
       "\n",
       "        WEATHER_SEVERITY  WEATHER_CATEGORY_CLEAR  WEATHER_CATEGORY_CLOUDY  \\\n",
       "35099                  0                    True                    False   \n",
       "331755                 0                    True                    False   \n",
       "837948                 0                    True                    False   \n",
       "617591                 3                   False                    False   \n",
       "2654                   0                    True                    False   \n",
       "\n",
       "        WEATHER_CATEGORY_EXTREME  WEATHER_CATEGORY_RAIN  \\\n",
       "35099                      False                  False   \n",
       "331755                     False                  False   \n",
       "837948                     False                  False   \n",
       "617591                      True                  False   \n",
       "2654                       False                  False   \n",
       "\n",
       "        WEATHER_CATEGORY_UNKNOWN  LIGHTING_SEVERITY  \\\n",
       "35099                      False                  0   \n",
       "331755                     False                  2   \n",
       "837948                     False                  1   \n",
       "617591                     False                  2   \n",
       "2654                       False                  0   \n",
       "\n",
       "        LIGHTING_CATEGORY_DAYLIGHT  LIGHTING_CATEGORY_NIGHT  \\\n",
       "35099                         True                    False   \n",
       "331755                       False                     True   \n",
       "837948                       False                     True   \n",
       "617591                       False                     True   \n",
       "2654                          True                    False   \n",
       "\n",
       "        LIGHTING_CATEGORY_UNKNOWN  crash_severity_score  \n",
       "35099                       False              0.789123  \n",
       "331755                      False              0.789123  \n",
       "837948                      False              0.789123  \n",
       "617591                      False              0.789123  \n",
       "2654                        False              0.789123  "
      ]
     },
     "execution_count": 323,
     "metadata": {},
     "output_type": "execute_result"
    }
   ],
   "source": [
    "crashes.sort_values(by='crash_severity_score', ascending=False).head()"
   ]
  },
  {
   "cell_type": "code",
   "execution_count": 324,
   "metadata": {},
   "outputs": [
    {
     "data": {
      "text/plain": [
       "TRAFFICWAY_TYPE\n",
       "NOT DIVIDED                        326527\n",
       "DIVIDED - W/MEDIAN (NOT RAISED)    114817\n",
       "ONE-WAY                             93723\n",
       "FOUR WAY                            62870\n",
       "PARKING LOT                         48066\n",
       "DIVIDED - W/MEDIAN BARRIER          41919\n",
       "OTHER                               19053\n",
       "ALLEY                               12686\n",
       "T-INTERSECTION                      12403\n",
       "UNKNOWN                              8488\n",
       "CENTER TURN LANE                     5245\n",
       "UNKNOWN INTERSECTION TYPE            2745\n",
       "DRIVEWAY                             2317\n",
       "RAMP                                 2259\n",
       "FIVE POINT, OR MORE                  1381\n",
       "Y-INTERSECTION                       1344\n",
       "TRAFFIC ROUTE                        1173\n",
       "NOT REPORTED                          687\n",
       "ROUNDABOUT                            307\n",
       "L-INTERSECTION                        182\n",
       "Name: count, dtype: int64"
      ]
     },
     "execution_count": 324,
     "metadata": {},
     "output_type": "execute_result"
    }
   ],
   "source": [
    "crashes['TRAFFICWAY_TYPE'].value_counts()"
   ]
  },
  {
   "cell_type": "code",
   "execution_count": 325,
   "metadata": {},
   "outputs": [
    {
     "data": {
      "text/plain": [
       "ALIGNMENT\n",
       "STRAIGHT AND LEVEL       740490\n",
       "STRAIGHT ON GRADE          9555\n",
       "CURVE, LEVEL               5094\n",
       "STRAIGHT ON HILLCREST      1744\n",
       "CURVE ON GRADE             1003\n",
       "CURVE ON HILLCREST          306\n",
       "Name: count, dtype: int64"
      ]
     },
     "execution_count": 325,
     "metadata": {},
     "output_type": "execute_result"
    }
   ],
   "source": [
    "crashes['ALIGNMENT'].value_counts()"
   ]
  },
  {
   "cell_type": "markdown",
   "metadata": {},
   "source": [
    "---"
   ]
  },
  {
   "cell_type": "markdown",
   "metadata": {},
   "source": [
    "## road condition\n",
    "\n",
    "we want to assigna road severity considering both the ROADWAY_SURFACE_COND and ROAD_DEFECT, we will assign -1 (null) to the instances where at least one of the two feature is -1 "
   ]
  },
  {
   "cell_type": "code",
   "execution_count": 326,
   "metadata": {},
   "outputs": [
    {
     "data": {
      "text/plain": [
       "ROADWAY_SURFACE_COND\n",
       "DRY                556552\n",
       "WET                 99573\n",
       "UNKNOWN             70526\n",
       "SNOW OR SLUSH       24577\n",
       "ICE                  4742\n",
       "OTHER                1971\n",
       "SAND, MUD, DIRT       251\n",
       "Name: count, dtype: int64"
      ]
     },
     "execution_count": 326,
     "metadata": {},
     "output_type": "execute_result"
    }
   ],
   "source": [
    "crashes['ROADWAY_SURFACE_COND'].value_counts()"
   ]
  },
  {
   "cell_type": "code",
   "execution_count": 327,
   "metadata": {},
   "outputs": [],
   "source": [
    "road_surface_severity = {\n",
    "    'DRY': 0,\n",
    "    'WET': 1,\n",
    "    'SNOW OR SLUSH': 2,\n",
    "    'ICE': 3,\n",
    "    'SAND, MUD, DIRT': 1,\n",
    "    'OTHER': 1,\n",
    "    'UNKNOWN': -1 \n",
    "}"
   ]
  },
  {
   "cell_type": "code",
   "execution_count": 328,
   "metadata": {},
   "outputs": [],
   "source": [
    "surface_category = {\n",
    "    'DRY': 'DRY',\n",
    "    'WET': 'WET',\n",
    "    'SNOW OR SLUSH': 'SNOW',\n",
    "    'ICE': 'ICE',\n",
    "    'SAND, MUD, DIRT': 'WET',\n",
    "    'OTHER': 'WET',\n",
    "    'UNKNOWN': 'UNKNOWN'\n",
    "}\n"
   ]
  },
  {
   "cell_type": "code",
   "execution_count": 329,
   "metadata": {},
   "outputs": [
    {
     "data": {
      "text/plain": [
       "ROADWAY_SURFACE_CATEGORY\n",
       "DRY        556552\n",
       "WET        101795\n",
       "UNKNOWN     70526\n",
       "SNOW        24577\n",
       "ICE          4742\n",
       "Name: count, dtype: int64"
      ]
     },
     "execution_count": 329,
     "metadata": {},
     "output_type": "execute_result"
    }
   ],
   "source": [
    "crashes['ROADWAY_SURFACE_CATEGORY'] = crashes['ROADWAY_SURFACE_COND'].map(surface_category)\n",
    "\n",
    "crashes['ROADWAY_SURFACE_CATEGORY'].value_counts()"
   ]
  },
  {
   "cell_type": "code",
   "execution_count": 330,
   "metadata": {},
   "outputs": [],
   "source": [
    "crashes = pd.get_dummies(crashes, columns=['ROADWAY_SURFACE_CATEGORY'])"
   ]
  },
  {
   "cell_type": "code",
   "execution_count": 331,
   "metadata": {},
   "outputs": [],
   "source": [
    "crashes['surface_cond'] = crashes['ROADWAY_SURFACE_COND'].map(road_surface_severity)"
   ]
  },
  {
   "cell_type": "code",
   "execution_count": 332,
   "metadata": {},
   "outputs": [
    {
     "data": {
      "text/plain": [
       "surface_cond\n",
       " 0    556552\n",
       " 1    101795\n",
       "-1     70526\n",
       " 2     24577\n",
       " 3      4742\n",
       "Name: count, dtype: int64"
      ]
     },
     "execution_count": 332,
     "metadata": {},
     "output_type": "execute_result"
    }
   ],
   "source": [
    "crashes['surface_cond'].value_counts()"
   ]
  },
  {
   "cell_type": "code",
   "execution_count": 333,
   "metadata": {},
   "outputs": [
    {
     "data": {
      "text/plain": [
       "ROAD_DEFECT\n",
       "NO DEFECTS           598746\n",
       "UNKNOWN              145618\n",
       "RUT, HOLES             5002\n",
       "OTHER                  4049\n",
       "WORN SURFACE           3044\n",
       "SHOULDER DEFECT        1206\n",
       "DEBRIS ON ROADWAY       527\n",
       "Name: count, dtype: int64"
      ]
     },
     "execution_count": 333,
     "metadata": {},
     "output_type": "execute_result"
    }
   ],
   "source": [
    "crashes['ROAD_DEFECT'].value_counts()"
   ]
  },
  {
   "cell_type": "code",
   "execution_count": 334,
   "metadata": {},
   "outputs": [],
   "source": [
    "road_defect_severity = {\n",
    "    'NO DEFECTS': 0,\n",
    "    'RUT, HOLES': 3,\n",
    "    'WORN SURFACE': 1,\n",
    "    'SHOULDER DEFECT': 1,\n",
    "    'DEBRIS ON ROADWAY': 2,\n",
    "    'OTHER': 2,\n",
    "    'UNKNOWN': -1  \n",
    "}"
   ]
  },
  {
   "cell_type": "code",
   "execution_count": 335,
   "metadata": {},
   "outputs": [],
   "source": [
    "road_defect_category = {\n",
    "    'NO DEFECTS': 'NO_DEFECTS',\n",
    "    'RUT, HOLES': 'BAD',\n",
    "    'WORN SURFACE': 'DEFECT',\n",
    "    'SHOULDER DEFECT': 'DEFECT',\n",
    "    'DEBRIS ON ROADWAY': 'DEBRIS',\n",
    "    'OTHER': 'DEBRIS',\n",
    "    'UNKNOWN': 'UNKNOWN'\n",
    "}"
   ]
  },
  {
   "cell_type": "code",
   "execution_count": 336,
   "metadata": {},
   "outputs": [
    {
     "data": {
      "text/plain": [
       "ROAD_DEFECT_CATEGORY\n",
       "NO_DEFECTS    598746\n",
       "UNKNOWN       145618\n",
       "BAD             5002\n",
       "DEBRIS          4576\n",
       "DEFECT          4250\n",
       "Name: count, dtype: int64"
      ]
     },
     "execution_count": 336,
     "metadata": {},
     "output_type": "execute_result"
    }
   ],
   "source": [
    "crashes['ROAD_DEFECT_CATEGORY'] = crashes['ROAD_DEFECT'].map(road_defect_category)\n",
    "\n",
    "crashes['ROAD_DEFECT_CATEGORY'].value_counts()"
   ]
  },
  {
   "cell_type": "code",
   "execution_count": 337,
   "metadata": {},
   "outputs": [],
   "source": [
    "crashes = pd.get_dummies(crashes, columns=['ROAD_DEFECT_CATEGORY'])"
   ]
  },
  {
   "cell_type": "code",
   "execution_count": 338,
   "metadata": {},
   "outputs": [],
   "source": [
    "crashes['road_cond'] = crashes['ROAD_DEFECT'].map(road_defect_severity)"
   ]
  },
  {
   "cell_type": "code",
   "execution_count": 339,
   "metadata": {},
   "outputs": [
    {
     "data": {
      "text/plain": [
       "road_cond\n",
       " 0    598746\n",
       "-1    145618\n",
       " 3      5002\n",
       " 2      4576\n",
       " 1      4250\n",
       "Name: count, dtype: int64"
      ]
     },
     "execution_count": 339,
     "metadata": {},
     "output_type": "execute_result"
    }
   ],
   "source": [
    "crashes['road_cond'].value_counts()"
   ]
  },
  {
   "cell_type": "code",
   "execution_count": 340,
   "metadata": {},
   "outputs": [],
   "source": [
    "crashes['ROADWAY_SEVERITY'] = crashes.apply(lambda row: -1 if row['surface_cond'] == -1 or row['road_cond'] == -1 else row['surface_cond'] + row['road_cond'], axis=1)"
   ]
  },
  {
   "cell_type": "code",
   "execution_count": 341,
   "metadata": {},
   "outputs": [
    {
     "data": {
      "text/plain": [
       "ROADWAY_SEVERITY\n",
       " 0    484860\n",
       "-1    157512\n",
       " 1     83683\n",
       " 2     22078\n",
       " 3      8268\n",
       " 4      1409\n",
       " 5       317\n",
       " 6        65\n",
       "Name: count, dtype: int64"
      ]
     },
     "execution_count": 341,
     "metadata": {},
     "output_type": "execute_result"
    }
   ],
   "source": [
    "crashes['ROADWAY_SEVERITY'].value_counts()"
   ]
  },
  {
   "cell_type": "markdown",
   "metadata": {},
   "source": [
    "---"
   ]
  },
  {
   "cell_type": "markdown",
   "metadata": {},
   "source": [
    "## CRASH_TYPE\n",
    "\n",
    "note that the last 3 are boolean and almost all true, hence we can assume false when NaN"
   ]
  },
  {
   "cell_type": "code",
   "execution_count": 342,
   "metadata": {},
   "outputs": [
    {
     "data": {
      "text/plain": [
       "CRASH_TYPE\n",
       "NO INJURY / DRIVE AWAY              538785\n",
       "INJURY AND / OR TOW DUE TO CRASH    219407\n",
       "Name: count, dtype: int64"
      ]
     },
     "execution_count": 342,
     "metadata": {},
     "output_type": "execute_result"
    }
   ],
   "source": [
    "crashes['CRASH_TYPE'].value_counts()"
   ]
  },
  {
   "cell_type": "code",
   "execution_count": 343,
   "metadata": {},
   "outputs": [
    {
     "data": {
      "text/plain": [
       "INJURIES_TOTAL\n",
       "0.0     105136\n",
       "1.0      85051\n",
       "2.0      19243\n",
       "3.0       5869\n",
       "4.0       2074\n",
       "5.0        731\n",
       "6.0        284\n",
       "7.0        123\n",
       "8.0         44\n",
       "9.0         25\n",
       "10.0        14\n",
       "11.0         7\n",
       "15.0         7\n",
       "12.0         6\n",
       "21.0         4\n",
       "13.0         2\n",
       "17.0         1\n",
       "14.0         1\n",
       "19.0         1\n",
       "16.0         1\n",
       "Name: count, dtype: int64"
      ]
     },
     "execution_count": 343,
     "metadata": {},
     "output_type": "execute_result"
    }
   ],
   "source": [
    "crashes[crashes['CRASH_TYPE'] == 'INJURY AND / OR TOW DUE TO CRASH']['INJURIES_TOTAL'].value_counts()"
   ]
  },
  {
   "cell_type": "code",
   "execution_count": 344,
   "metadata": {},
   "outputs": [
    {
     "data": {
      "text/plain": [
       "INJURIES_TOTAL\n",
       "0.0    537824\n",
       "1.0        14\n",
       "4.0         1\n",
       "2.0         1\n",
       "Name: count, dtype: int64"
      ]
     },
     "execution_count": 344,
     "metadata": {},
     "output_type": "execute_result"
    }
   ],
   "source": [
    "crashes[crashes['CRASH_TYPE'] == 'NO INJURY / DRIVE AWAY']['INJURIES_TOTAL'].value_counts()"
   ]
  },
  {
   "cell_type": "code",
   "execution_count": 345,
   "metadata": {},
   "outputs": [
    {
     "data": {
      "text/plain": [
       "INJURIES_REPORTED_NOT_EVIDENT\n",
       "0.0     179785\n",
       "1.0      30120\n",
       "2.0       6316\n",
       "3.0       1626\n",
       "4.0        515\n",
       "5.0        165\n",
       "6.0         47\n",
       "7.0         24\n",
       "8.0         11\n",
       "9.0          8\n",
       "10.0         3\n",
       "11.0         2\n",
       "15.0         2\n",
       "Name: count, dtype: int64"
      ]
     },
     "execution_count": 345,
     "metadata": {},
     "output_type": "execute_result"
    }
   ],
   "source": [
    "crashes[crashes['CRASH_TYPE'] == 'INJURY AND / OR TOW DUE TO CRASH']['INJURIES_REPORTED_NOT_EVIDENT'].value_counts()"
   ]
  },
  {
   "cell_type": "code",
   "execution_count": 346,
   "metadata": {},
   "outputs": [
    {
     "data": {
      "text/plain": [
       "INJURIES_REPORTED_NOT_EVIDENT\n",
       "0.0    537832\n",
       "1.0         7\n",
       "4.0         1\n",
       "Name: count, dtype: int64"
      ]
     },
     "execution_count": 346,
     "metadata": {},
     "output_type": "execute_result"
    }
   ],
   "source": [
    "crashes[crashes['CRASH_TYPE'] == 'NO INJURY / DRIVE AWAY']['INJURIES_REPORTED_NOT_EVIDENT'].value_counts()"
   ]
  },
  {
   "cell_type": "code",
   "execution_count": 347,
   "metadata": {},
   "outputs": [
    {
     "data": {
      "text/plain": [
       "DAMAGE\n",
       "OVER $1,500      180676\n",
       "$501 - $1,500     21385\n",
       "$500 OR LESS      17346\n",
       "Name: count, dtype: int64"
      ]
     },
     "execution_count": 347,
     "metadata": {},
     "output_type": "execute_result"
    }
   ],
   "source": [
    "crashes[crashes['CRASH_TYPE'] == 'INJURY AND / OR TOW DUE TO CRASH']['DAMAGE'].value_counts()"
   ]
  },
  {
   "cell_type": "code",
   "execution_count": 348,
   "metadata": {},
   "outputs": [
    {
     "data": {
      "text/plain": [
       "DAMAGE\n",
       "OVER $1,500      309626\n",
       "$501 - $1,500    164194\n",
       "$500 OR LESS      64965\n",
       "Name: count, dtype: int64"
      ]
     },
     "execution_count": 348,
     "metadata": {},
     "output_type": "execute_result"
    }
   ],
   "source": [
    "crashes[crashes['CRASH_TYPE'] == 'NO INJURY / DRIVE AWAY']['DAMAGE'].value_counts()"
   ]
  },
  {
   "cell_type": "code",
   "execution_count": 349,
   "metadata": {},
   "outputs": [
    {
     "data": {
      "text/plain": [
       "DAMAGE\n",
       "OVER $1,500      84066\n",
       "$500 OR LESS     16104\n",
       "$501 - $1,500    13334\n",
       "Name: count, dtype: int64"
      ]
     },
     "execution_count": 349,
     "metadata": {},
     "output_type": "execute_result"
    }
   ],
   "source": [
    "crashes[crashes['INJURIES_TOTAL'] > 0]['DAMAGE'].value_counts()"
   ]
  },
  {
   "cell_type": "code",
   "execution_count": 350,
   "metadata": {},
   "outputs": [
    {
     "data": {
      "text/plain": [
       "DAMAGE\n",
       "OVER $1,500      405019\n",
       "$501 - $1,500    171957\n",
       "$500 OR LESS      65984\n",
       "Name: count, dtype: int64"
      ]
     },
     "execution_count": 350,
     "metadata": {},
     "output_type": "execute_result"
    }
   ],
   "source": [
    "crashes[crashes['INJURIES_TOTAL'] == 0]['DAMAGE'].value_counts()"
   ]
  },
  {
   "cell_type": "code",
   "execution_count": 351,
   "metadata": {},
   "outputs": [
    {
     "data": {
      "text/plain": [
       "CRASH_TYPE_b\n",
       "0    538785\n",
       "1    219407\n",
       "Name: count, dtype: int64"
      ]
     },
     "execution_count": 351,
     "metadata": {},
     "output_type": "execute_result"
    }
   ],
   "source": [
    "CRASH_TYPE_MAPPING = {\n",
    "    'NO INJURY / DRIVE AWAY': 0,\n",
    "    'INJURY AND / OR TOW DUE TO CRASH': 1\n",
    "}\n",
    "\n",
    "crashes['CRASH_TYPE_b'] = crashes['CRASH_TYPE'].map(CRASH_TYPE_MAPPING)\n",
    "\n",
    "crashes['CRASH_TYPE_b'].value_counts()"
   ]
  },
  {
   "cell_type": "code",
   "execution_count": 352,
   "metadata": {},
   "outputs": [
    {
     "data": {
      "text/plain": [
       "INJURIES_TOTAL\n",
       "0.0    537824\n",
       "1.0        14\n",
       "4.0         1\n",
       "2.0         1\n",
       "Name: count, dtype: int64"
      ]
     },
     "execution_count": 352,
     "metadata": {},
     "output_type": "execute_result"
    }
   ],
   "source": [
    "# if CRASH_TYPE_b is 0, then INJURIES_TOTAL, INJURIES_FATAL, INJURIES_INCAPACITATING, INJURIES_NON_INCAPACITATING, INJURIES_REPORTED_NOT_EVIDENT should be 0\n",
    "crashes[crashes['CRASH_TYPE_b'] == 0]['INJURIES_TOTAL'].value_counts()\n"
   ]
  },
  {
   "cell_type": "code",
   "execution_count": 353,
   "metadata": {},
   "outputs": [
    {
     "data": {
      "text/plain": [
       "INJURIES_INCAPACITATING\n",
       "0.0    537839\n",
       "1.0         1\n",
       "Name: count, dtype: int64"
      ]
     },
     "execution_count": 353,
     "metadata": {},
     "output_type": "execute_result"
    }
   ],
   "source": [
    "crashes[crashes['CRASH_TYPE_b'] == 0]['INJURIES_INCAPACITATING'].value_counts()"
   ]
  },
  {
   "cell_type": "code",
   "execution_count": 354,
   "metadata": {},
   "outputs": [
    {
     "data": {
      "text/plain": [
       "INJURIES_NON_INCAPACITATING\n",
       "0.0    537833\n",
       "1.0         6\n",
       "2.0         1\n",
       "Name: count, dtype: int64"
      ]
     },
     "execution_count": 354,
     "metadata": {},
     "output_type": "execute_result"
    }
   ],
   "source": [
    "# if CRASH_TYPE_b is 0, then INJURIES_TOTAL, INJURIES_FATAL, INJURIES_INCAPACITATING, INJURIES_NON_INCAPACITATING, INJURIES_REPORTED_NOT_EVIDENT should be 0\n",
    "crashes[crashes['CRASH_TYPE_b'] == 0]['INJURIES_NON_INCAPACITATING'].value_counts()"
   ]
  },
  {
   "cell_type": "code",
   "execution_count": 355,
   "metadata": {},
   "outputs": [
    {
     "data": {
      "text/plain": [
       "INJURIES_REPORTED_NOT_EVIDENT\n",
       "0.0    537832\n",
       "1.0         7\n",
       "4.0         1\n",
       "Name: count, dtype: int64"
      ]
     },
     "execution_count": 355,
     "metadata": {},
     "output_type": "execute_result"
    }
   ],
   "source": [
    "# if CRASH_TYPE_b is 0, then INJURIES_TOTAL, INJURIES_FATAL, INJURIES_INCAPACITATING, INJURIES_NON_INCAPACITATING, INJURIES_REPORTED_NOT_EVIDENT should be 0\n",
    "crashes[crashes['CRASH_TYPE_b'] == 0]['INJURIES_REPORTED_NOT_EVIDENT'].value_counts()"
   ]
  },
  {
   "cell_type": "code",
   "execution_count": 356,
   "metadata": {},
   "outputs": [],
   "source": [
    "#if CRASH_TYPE_b is 0 then put 0 in all injuries columns\n",
    "injuries_columns = ['INJURIES_TOTAL', 'INJURIES_FATAL', 'INJURIES_INCAPACITATING', 'INJURIES_NON_INCAPACITATING', 'INJURIES_REPORTED_NOT_EVIDENT']\n",
    "crashes.loc[crashes['CRASH_TYPE_b'] == 0, injuries_columns] = 0"
   ]
  },
  {
   "cell_type": "code",
   "execution_count": 357,
   "metadata": {},
   "outputs": [
    {
     "data": {
      "text/plain": [
       "TOW\n",
       "0    653056\n",
       "1    105136\n",
       "Name: count, dtype: int64"
      ]
     },
     "execution_count": 357,
     "metadata": {},
     "output_type": "execute_result"
    }
   ],
   "source": [
    "#if CRASH_TYPE_b is 0 then create a new column Tow and put 1 in it\n",
    "crashes['TOW'] = 0\n",
    "crashes.loc[(crashes['CRASH_TYPE_b'] == 1) & (crashes['INJURIES_TOTAL'] == 0), 'TOW'] = 1\n",
    "\n",
    "crashes['TOW'].value_counts()"
   ]
  },
  {
   "cell_type": "markdown",
   "metadata": {},
   "source": [
    "---"
   ]
  },
  {
   "cell_type": "markdown",
   "metadata": {},
   "source": [
    "## INTERSECTION_RELATED_I - NOT_RIGHT_OF_WAY_I - HIT_AND_RUN_I"
   ]
  },
  {
   "cell_type": "code",
   "execution_count": 358,
   "metadata": {},
   "outputs": [
    {
     "data": {
      "text/plain": [
       "INTERSECTION_RELATED_I\n",
       "True     171089\n",
       "False      8662\n",
       "Name: count, dtype: int64"
      ]
     },
     "execution_count": 358,
     "metadata": {},
     "output_type": "execute_result"
    }
   ],
   "source": [
    "crashes['INTERSECTION_RELATED_I'].value_counts()"
   ]
  },
  {
   "cell_type": "code",
   "execution_count": 359,
   "metadata": {},
   "outputs": [
    {
     "data": {
      "text/plain": [
       "NOT_RIGHT_OF_WAY_I\n",
       "True     30726\n",
       "False     3196\n",
       "Name: count, dtype: int64"
      ]
     },
     "execution_count": 359,
     "metadata": {},
     "output_type": "execute_result"
    }
   ],
   "source": [
    "crashes['NOT_RIGHT_OF_WAY_I'].value_counts()"
   ]
  },
  {
   "cell_type": "code",
   "execution_count": 360,
   "metadata": {},
   "outputs": [
    {
     "data": {
      "text/plain": [
       "HIT_AND_RUN_I\n",
       "True     233576\n",
       "False     10441\n",
       "Name: count, dtype: int64"
      ]
     },
     "execution_count": 360,
     "metadata": {},
     "output_type": "execute_result"
    }
   ],
   "source": [
    "crashes['HIT_AND_RUN_I'].value_counts()"
   ]
  },
  {
   "cell_type": "markdown",
   "metadata": {},
   "source": [
    "---"
   ]
  },
  {
   "cell_type": "markdown",
   "metadata": {},
   "source": [
    "## DAMAGE severity"
   ]
  },
  {
   "cell_type": "code",
   "execution_count": 361,
   "metadata": {},
   "outputs": [
    {
     "data": {
      "text/plain": [
       "DAMAGE\n",
       "OVER $1,500      490302\n",
       "$501 - $1,500    185579\n",
       "$500 OR LESS      82311\n",
       "Name: count, dtype: int64"
      ]
     },
     "execution_count": 361,
     "metadata": {},
     "output_type": "execute_result"
    }
   ],
   "source": [
    "crashes['DAMAGE'].value_counts()"
   ]
  },
  {
   "cell_type": "code",
   "execution_count": 362,
   "metadata": {},
   "outputs": [],
   "source": [
    "# Mapping the damage\n",
    "damage_severity = {\n",
    "    'OVER $1,500': 2,\n",
    "    '$501 - $1,500': 1,\n",
    "    '$500 OR LESS': 0\n",
    "}\n",
    "\n",
    "crashes['DAMAGE_SEVERITY'] = crashes['DAMAGE'].map(damage_severity)\n"
   ]
  },
  {
   "cell_type": "code",
   "execution_count": 363,
   "metadata": {},
   "outputs": [],
   "source": [
    "damage_category = {\n",
    "    'OVER $1,500': 'HIGH',\n",
    "    '$501 - $1,500': 'MEDIUM',\n",
    "    '$500 OR LESS': 'LOW'\n",
    "}\n",
    "\n",
    "crashes['DAMAGE_CATEGORY'] = crashes['DAMAGE'].map(damage_category)\n",
    "\n",
    "crashes = pd.get_dummies(crashes, columns=['DAMAGE_CATEGORY'])"
   ]
  },
  {
   "cell_type": "code",
   "execution_count": 364,
   "metadata": {},
   "outputs": [
    {
     "data": {
      "text/plain": [
       "DAMAGE_SEVERITY\n",
       "2    490302\n",
       "1    185579\n",
       "0     82311\n",
       "Name: count, dtype: int64"
      ]
     },
     "execution_count": 364,
     "metadata": {},
     "output_type": "execute_result"
    }
   ],
   "source": [
    "crashes['DAMAGE_SEVERITY'].value_counts()"
   ]
  },
  {
   "cell_type": "markdown",
   "metadata": {},
   "source": [
    "## CRAHS CAUSES"
   ]
  },
  {
   "cell_type": "code",
   "execution_count": 365,
   "metadata": {},
   "outputs": [
    {
     "data": {
      "text/plain": [
       "PRIM_CONTRIBUTORY_CAUSE\n",
       "UNABLE TO DETERMINE                                                                 299212\n",
       "FAILING TO YIELD RIGHT-OF-WAY                                                        84294\n",
       "FOLLOWING TOO CLOSELY                                                                69501\n",
       "NOT APPLICABLE                                                                       40034\n",
       "IMPROPER OVERTAKING/PASSING                                                          37966\n",
       "FAILING TO REDUCE SPEED TO AVOID CRASH                                               33247\n",
       "IMPROPER BACKING                                                                     27599\n",
       "IMPROPER LANE USAGE                                                                  25975\n",
       "DRIVING SKILLS/KNOWLEDGE/EXPERIENCE                                                  25772\n",
       "IMPROPER TURNING/NO SIGNAL                                                           25678\n",
       "DISREGARDING TRAFFIC SIGNALS                                                         15805\n",
       "WEATHER                                                                              10868\n",
       "OPERATING VEHICLE IN ERRATIC, RECKLESS, CARELESS, NEGLIGENT OR AGGRESSIVE MANNER      9896\n",
       "DISREGARDING STOP SIGN                                                                8294\n",
       "DISTRACTION - FROM INSIDE VEHICLE                                                     5071\n",
       "EQUIPMENT - VEHICLE CONDITION                                                         4907\n",
       "PHYSICAL CONDITION OF DRIVER                                                          4661\n",
       "VISION OBSCURED (SIGNS, TREE LIMBS, BUILDINGS, ETC.)                                  4391\n",
       "DRIVING ON WRONG SIDE/WRONG WAY                                                       4360\n",
       "UNDER THE INFLUENCE OF ALCOHOL/DRUGS (USE WHEN ARREST IS EFFECTED)                    3732\n",
       "DISTRACTION - FROM OUTSIDE VEHICLE                                                    3037\n",
       "ROAD ENGINEERING/SURFACE/MARKING DEFECTS                                              1739\n",
       "DISREGARDING OTHER TRAFFIC SIGNS                                                      1673\n",
       "ROAD CONSTRUCTION/MAINTENANCE                                                         1524\n",
       "EVASIVE ACTION DUE TO ANIMAL, OBJECT, NONMOTORIST                                     1381\n",
       "EXCEEDING AUTHORIZED SPEED LIMIT                                                      1025\n",
       "CELL PHONE USE OTHER THAN TEXTING                                                     1002\n",
       "EXCEEDING SAFE SPEED FOR CONDITIONS                                                    976\n",
       "DISREGARDING ROAD MARKINGS                                                             923\n",
       "HAD BEEN DRINKING (USE WHEN ARREST IS NOT MADE)                                        746\n",
       "ANIMAL                                                                                 662\n",
       "TURNING RIGHT ON RED                                                                   595\n",
       "RELATED TO BUS STOP                                                                    484\n",
       "DISTRACTION - OTHER ELECTRONIC DEVICE (NAVIGATION DEVICE, DVD PLAYER, ETC.)            373\n",
       "TEXTING                                                                                275\n",
       "DISREGARDING YIELD SIGN                                                                235\n",
       "OBSTRUCTED CROSSWALKS                                                                   99\n",
       "PASSING STOPPED SCHOOL BUS                                                              96\n",
       "BICYCLE ADVANCING LEGALLY ON RED LIGHT                                                  65\n",
       "MOTORCYCLE ADVANCING LEGALLY ON RED LIGHT                                               19\n",
       "Name: count, dtype: int64"
      ]
     },
     "execution_count": 365,
     "metadata": {},
     "output_type": "execute_result"
    }
   ],
   "source": [
    "crashes['PRIM_CONTRIBUTORY_CAUSE'].value_counts()"
   ]
  },
  {
   "cell_type": "code",
   "execution_count": 366,
   "metadata": {},
   "outputs": [
    {
     "data": {
      "text/plain": [
       "SEC_CONTRIBUTORY_CAUSE\n",
       "NOT APPLICABLE                                                                      318576\n",
       "UNABLE TO DETERMINE                                                                 271082\n",
       "FAILING TO REDUCE SPEED TO AVOID CRASH                                               27498\n",
       "FAILING TO YIELD RIGHT-OF-WAY                                                        24161\n",
       "DRIVING SKILLS/KNOWLEDGE/EXPERIENCE                                                  23001\n",
       "FOLLOWING TOO CLOSELY                                                                19056\n",
       "IMPROPER OVERTAKING/PASSING                                                          11771\n",
       "IMPROPER LANE USAGE                                                                  10362\n",
       "WEATHER                                                                               8144\n",
       "IMPROPER TURNING/NO SIGNAL                                                            7983\n",
       "IMPROPER BACKING                                                                      5658\n",
       "OPERATING VEHICLE IN ERRATIC, RECKLESS, CARELESS, NEGLIGENT OR AGGRESSIVE MANNER      4664\n",
       "DISREGARDING TRAFFIC SIGNALS                                                          3182\n",
       "VISION OBSCURED (SIGNS, TREE LIMBS, BUILDINGS, ETC.)                                  2358\n",
       "PHYSICAL CONDITION OF DRIVER                                                          2339\n",
       "DISTRACTION - FROM INSIDE VEHICLE                                                     2198\n",
       "DISREGARDING STOP SIGN                                                                2156\n",
       "DRIVING ON WRONG SIDE/WRONG WAY                                                       1682\n",
       "EQUIPMENT - VEHICLE CONDITION                                                         1595\n",
       "UNDER THE INFLUENCE OF ALCOHOL/DRUGS (USE WHEN ARREST IS EFFECTED)                    1294\n",
       "DISTRACTION - FROM OUTSIDE VEHICLE                                                    1195\n",
       "ROAD CONSTRUCTION/MAINTENANCE                                                          832\n",
       "HAD BEEN DRINKING (USE WHEN ARREST IS NOT MADE)                                        810\n",
       "EXCEEDING AUTHORIZED SPEED LIMIT                                                       786\n",
       "EXCEEDING SAFE SPEED FOR CONDITIONS                                                    780\n",
       "DISREGARDING OTHER TRAFFIC SIGNS                                                       770\n",
       "DISREGARDING ROAD MARKINGS                                                             720\n",
       "ROAD ENGINEERING/SURFACE/MARKING DEFECTS                                               672\n",
       "CELL PHONE USE OTHER THAN TEXTING                                                      545\n",
       "RELATED TO BUS STOP                                                                    436\n",
       "EVASIVE ACTION DUE TO ANIMAL, OBJECT, NONMOTORIST                                      385\n",
       "ANIMAL                                                                                 345\n",
       "TURNING RIGHT ON RED                                                                   291\n",
       "DISTRACTION - OTHER ELECTRONIC DEVICE (NAVIGATION DEVICE, DVD PLAYER, ETC.)            214\n",
       "DISREGARDING YIELD SIGN                                                                182\n",
       "BICYCLE ADVANCING LEGALLY ON RED LIGHT                                                 130\n",
       "TEXTING                                                                                127\n",
       "OBSTRUCTED CROSSWALKS                                                                   98\n",
       "PASSING STOPPED SCHOOL BUS                                                              75\n",
       "MOTORCYCLE ADVANCING LEGALLY ON RED LIGHT                                               39\n",
       "Name: count, dtype: int64"
      ]
     },
     "execution_count": 366,
     "metadata": {},
     "output_type": "execute_result"
    }
   ],
   "source": [
    "crashes['SEC_CONTRIBUTORY_CAUSE'].value_counts()"
   ]
  },
  {
   "cell_type": "code",
   "execution_count": 367,
   "metadata": {},
   "outputs": [
    {
     "data": {
      "text/plain": [
       "set()"
      ]
     },
     "execution_count": 367,
     "metadata": {},
     "output_type": "execute_result"
    }
   ],
   "source": [
    "prim_cause = set(crashes['PRIM_CONTRIBUTORY_CAUSE'].unique())\n",
    "\n",
    "sec_cause = set(crashes['SEC_CONTRIBUTORY_CAUSE'].unique())\n",
    "\n",
    "prim_cause.difference(sec_cause)"
   ]
  },
  {
   "cell_type": "code",
   "execution_count": 368,
   "metadata": {},
   "outputs": [],
   "source": [
    "speed_categories = ['FAILING TO REDUCE SPEED TO AVOID CRASH', 'EXCEEDING AUTHORIZED SPEED LIMIT', 'EXCEEDING SAFE SPEED FOR CONDITIONS', 'OPERATING VEHICLE IN ERRATIC, RECKLESS, CARELESS, NEGLIGENT OR AGGRESSIVE MANNER']"
   ]
  },
  {
   "cell_type": "code",
   "execution_count": 369,
   "metadata": {},
   "outputs": [],
   "source": [
    "drinking_categories = ['UNDER THE INFLUENCE OF ALCOHOL/DRUGS (USE WHEN ARREST IS EFFECTED)', 'PHYSICAL CONDITION OF DRIVER', 'HAD BEEN DRINKING (USE WHEN ARREST IS NOT MADE)']"
   ]
  },
  {
   "cell_type": "code",
   "execution_count": 370,
   "metadata": {},
   "outputs": [],
   "source": [
    "telephone_categories = ['OPERATING VEHICLE WHILE USING CELL OR MOBILE PHONE', 'TEXTING', 'DISTRACTION - OTHER ELECTRONIC DEVICE (NAVIGATION DEVICE, DVD PLAYER, ETC.)']"
   ]
  },
  {
   "cell_type": "code",
   "execution_count": 371,
   "metadata": {},
   "outputs": [],
   "source": [
    "# creation of new columns\n",
    "crashes['SPEEDING'] = crashes['PRIM_CONTRIBUTORY_CAUSE'].isin(speed_categories) | crashes['SEC_CONTRIBUTORY_CAUSE'].isin(speed_categories)\n",
    "crashes['DRINKING'] = crashes['PRIM_CONTRIBUTORY_CAUSE'].isin(drinking_categories) | crashes['SEC_CONTRIBUTORY_CAUSE'].isin(drinking_categories)\n",
    "crashes['TELEPHONE'] = crashes['PRIM_CONTRIBUTORY_CAUSE'].isin(telephone_categories) | crashes['SEC_CONTRIBUTORY_CAUSE'].isin(telephone_categories)\n",
    "\n"
   ]
  },
  {
   "cell_type": "code",
   "execution_count": 372,
   "metadata": {},
   "outputs": [
    {
     "data": {
      "text/plain": [
       "SPEEDING\n",
       "False    685198\n",
       "True      72994\n",
       "Name: count, dtype: int64"
      ]
     },
     "execution_count": 372,
     "metadata": {},
     "output_type": "execute_result"
    }
   ],
   "source": [
    "crashes['SPEEDING'].value_counts()"
   ]
  },
  {
   "cell_type": "code",
   "execution_count": 373,
   "metadata": {},
   "outputs": [
    {
     "data": {
      "text/plain": [
       "DRINKING\n",
       "False    746289\n",
       "True      11903\n",
       "Name: count, dtype: int64"
      ]
     },
     "execution_count": 373,
     "metadata": {},
     "output_type": "execute_result"
    }
   ],
   "source": [
    "crashes['DRINKING'].value_counts()"
   ]
  },
  {
   "cell_type": "code",
   "execution_count": 374,
   "metadata": {},
   "outputs": [
    {
     "data": {
      "text/plain": [
       "TELEPHONE\n",
       "False    757252\n",
       "True        940\n",
       "Name: count, dtype: int64"
      ]
     },
     "execution_count": 374,
     "metadata": {},
     "output_type": "execute_result"
    }
   ],
   "source": [
    "crashes['TELEPHONE'].value_counts()"
   ]
  },
  {
   "cell_type": "markdown",
   "metadata": {},
   "source": [
    "since they have the same causes, we can use the sec cause when the first one is either NOT APPLICABLE or UNABLE TO DETERMINE"
   ]
  },
  {
   "cell_type": "code",
   "execution_count": 375,
   "metadata": {},
   "outputs": [
    {
     "data": {
      "text/plain": [
       "SEC_CONTRIBUTORY_CAUSE\n",
       "UNABLE TO DETERMINE                                                                 172752\n",
       "NOT APPLICABLE                                                                      119207\n",
       "DRIVING SKILLS/KNOWLEDGE/EXPERIENCE                                                   1671\n",
       "FAILING TO REDUCE SPEED TO AVOID CRASH                                                 860\n",
       "WEATHER                                                                                701\n",
       "FAILING TO YIELD RIGHT-OF-WAY                                                          553\n",
       "FOLLOWING TOO CLOSELY                                                                  552\n",
       "IMPROPER LANE USAGE                                                                    537\n",
       "PHYSICAL CONDITION OF DRIVER                                                           302\n",
       "HAD BEEN DRINKING (USE WHEN ARREST IS NOT MADE)                                        285\n",
       "IMPROPER OVERTAKING/PASSING                                                            258\n",
       "IMPROPER BACKING                                                                       230\n",
       "OPERATING VEHICLE IN ERRATIC, RECKLESS, CARELESS, NEGLIGENT OR AGGRESSIVE MANNER       154\n",
       "IMPROPER TURNING/NO SIGNAL                                                             140\n",
       "VISION OBSCURED (SIGNS, TREE LIMBS, BUILDINGS, ETC.)                                   118\n",
       "EQUIPMENT - VEHICLE CONDITION                                                          103\n",
       "DISREGARDING TRAFFIC SIGNALS                                                            80\n",
       "DISTRACTION - FROM INSIDE VEHICLE                                                       74\n",
       "RELATED TO BUS STOP                                                                     61\n",
       "DRIVING ON WRONG SIDE/WRONG WAY                                                         60\n",
       "ROAD CONSTRUCTION/MAINTENANCE                                                           55\n",
       "DISREGARDING STOP SIGN                                                                  55\n",
       "DISTRACTION - FROM OUTSIDE VEHICLE                                                      47\n",
       "ANIMAL                                                                                  43\n",
       "UNDER THE INFLUENCE OF ALCOHOL/DRUGS (USE WHEN ARREST IS EFFECTED)                      40\n",
       "EXCEEDING AUTHORIZED SPEED LIMIT                                                        35\n",
       "DISREGARDING OTHER TRAFFIC SIGNS                                                        30\n",
       "DISREGARDING YIELD SIGN                                                                 29\n",
       "ROAD ENGINEERING/SURFACE/MARKING DEFECTS                                                26\n",
       "EXCEEDING SAFE SPEED FOR CONDITIONS                                                     22\n",
       "DISREGARDING ROAD MARKINGS                                                              22\n",
       "CELL PHONE USE OTHER THAN TEXTING                                                       20\n",
       "BICYCLE ADVANCING LEGALLY ON RED LIGHT                                                  18\n",
       "EVASIVE ACTION DUE TO ANIMAL, OBJECT, NONMOTORIST                                       15\n",
       "OBSTRUCTED CROSSWALKS                                                                   15\n",
       "TURNING RIGHT ON RED                                                                    11\n",
       "DISTRACTION - OTHER ELECTRONIC DEVICE (NAVIGATION DEVICE, DVD PLAYER, ETC.)             10\n",
       "MOTORCYCLE ADVANCING LEGALLY ON RED LIGHT                                               10\n",
       "PASSING STOPPED SCHOOL BUS                                                               7\n",
       "TEXTING                                                                                  4\n",
       "Name: count, dtype: int64"
      ]
     },
     "execution_count": 375,
     "metadata": {},
     "output_type": "execute_result"
    }
   ],
   "source": [
    "crashes[crashes['PRIM_CONTRIBUTORY_CAUSE'] == 'UNABLE TO DETERMINE']['SEC_CONTRIBUTORY_CAUSE'].value_counts()"
   ]
  },
  {
   "cell_type": "code",
   "execution_count": 376,
   "metadata": {},
   "outputs": [],
   "source": [
    "#crashes.loc[crashes[\"responsibility_score\"] == -1, \"responsibility_score\"] = crashes[\"SEC_CONTRIBUTORY_CAUSE\"].map(responsibility_mapping).fillna(-1)"
   ]
  },
  {
   "cell_type": "code",
   "execution_count": 377,
   "metadata": {},
   "outputs": [],
   "source": [
    "responsibility_mapping = {\n",
    "    # High responsibility (1.0)\n",
    "    \"OPERATING VEHICLE IN ERRATIC, RECKLESS, CARELESS, NEGLIGENT OR AGGRESSIVE MANNER\": 1.0,\n",
    "    \"UNDER THE INFLUENCE OF ALCOHOL/DRUGS (USE WHEN ARREST IS EFFECTED)\": 1.0,\n",
    "    \"HAD BEEN DRINKING (USE WHEN ARREST IS NOT MADE)\": 1.0,\n",
    "    \"EXCEEDING AUTHORIZED SPEED LIMIT\": 1.0,\n",
    "    \"EXCEEDING SAFE SPEED FOR CONDITIONS\": 1.0,\n",
    "    \"DRIVING ON WRONG SIDE/WRONG WAY\": 1.0,\n",
    "    \"DISREGARDING TRAFFIC SIGNALS\": 1.0,\n",
    "    \"DISREGARDING STOP SIGN\": 1.0,\n",
    "    \"DISREGARDING ROAD MARKINGS\": 1.0,\n",
    "    \"DISREGARDING YIELD SIGN\": 1.0,\n",
    "\n",
    "    # Medium responsibility (0.5 - 0.7)\n",
    "    \"FAILING TO YIELD RIGHT-OF-WAY\": 0.7,\n",
    "    \"FOLLOWING TOO CLOSELY\": 0.6,\n",
    "    \"IMPROPER OVERTAKING/PASSING\": 0.6,\n",
    "    \"FAILING TO REDUCE SPEED TO AVOID CRASH\": 0.7,\n",
    "    \"IMPROPER LANE USAGE\": 0.6,\n",
    "    \"IMPROPER TURNING/NO SIGNAL\": 0.6,\n",
    "    \"TURNING RIGHT ON RED\": 0.5,\n",
    "    \"PASSING STOPPED SCHOOL BUS\": 0.7,\n",
    "    \"TEXTING\": 0.8,\n",
    "    \"CELL PHONE USE OTHER THAN TEXTING\": 0.7,\n",
    "    \"DISTRACTION - FROM INSIDE VEHICLE\": 0.6,\n",
    "    \"DISTRACTION - FROM OUTSIDE VEHICLE\": 0.5,\n",
    "    \"DISTRACTION - OTHER ELECTRONIC DEVICE (NAVIGATION DEVICE, DVD PLAYER, ETC.)\": 0.7,\n",
    "\n",
    "    # Low responsibility (0 - 0.3)\n",
    "    \"WEATHER\": 0.2,\n",
    "    \"ROAD ENGINEERING/SURFACE/MARKING DEFECTS\": 0.3,\n",
    "    \"ROAD CONSTRUCTION/MAINTENANCE\": 0.3,\n",
    "    \"EQUIPMENT - VEHICLE CONDITION\": 0.2,\n",
    "    \"PHYSICAL CONDITION OF DRIVER\": 0.3,\n",
    "    \"VISION OBSCURED (SIGNS, TREE LIMBS, BUILDINGS, ETC.)\": 0.2,\n",
    "    \"EVASIVE ACTION DUE TO ANIMAL, OBJECT, NONMOTORIST\": 0.2,\n",
    "    \"ANIMAL\": 0.1,\n",
    "\n",
    "    # Unknown responsibility (-1)\n",
    "    \"UNABLE TO DETERMINE\": -1,\n",
    "    \"NOT APPLICABLE\": -1\n",
    "}\n",
    "\n",
    "# Apply the mapping\n",
    "crashes[\"responsibility_score\"] = crashes[\"PRIM_CONTRIBUTORY_CAUSE\"].map(responsibility_mapping).fillna(-1)\n"
   ]
  },
  {
   "cell_type": "code",
   "execution_count": 378,
   "metadata": {},
   "outputs": [
    {
     "data": {
      "image/png": "[encoded data removed]",
      "text/plain": [
       "<Figure size 640x480 with 1 Axes>"
      ]
     },
     "metadata": {},
     "output_type": "display_data"
    }
   ],
   "source": [
    "# responsibility score distribution\n",
    "crashes[\"responsibility_score\"].plot.hist(bins=20)\n",
    "plt.xlabel(\"Responsibility Score\")\n",
    "plt.ylabel(\"Number of Crashes\")\n",
    "plt.show()"
   ]
  },
  {
   "cell_type": "markdown",
   "metadata": {},
   "source": [
    "---"
   ]
  },
  {
   "cell_type": "markdown",
   "metadata": {},
   "source": [
    "## BEAT_OF_OCCURRENCE \n",
    "very important feature used later for creating out crashes profile"
   ]
  },
  {
   "cell_type": "code",
   "execution_count": 379,
   "metadata": {},
   "outputs": [
    {
     "data": {
      "text/plain": [
       "BEAT_OF_OCCURRENCE\n",
       "1834.0    8603\n",
       "813.0     7533\n",
       "114.0     7530\n",
       "815.0     7210\n",
       "1831.0    6524\n",
       "          ... \n",
       "314.0      975\n",
       "2431.0     909\n",
       "1654.0     883\n",
       "422.0      833\n",
       "1125.0     728\n",
       "Name: count, Length: 271, dtype: int64"
      ]
     },
     "execution_count": 379,
     "metadata": {},
     "output_type": "execute_result"
    }
   ],
   "source": [
    "crashes['BEAT_OF_OCCURRENCE'].value_counts()"
   ]
  },
  {
   "cell_type": "markdown",
   "metadata": {},
   "source": [
    "---"
   ]
  },
  {
   "cell_type": "markdown",
   "metadata": {},
   "source": [
    "## STREET_NO, STREET_DIRECTION, STREET_NAME                                                             \n",
    "\n",
    "just checking this with latitute and longitude for some analisys later"
   ]
  },
  {
   "cell_type": "code",
   "execution_count": 380,
   "metadata": {},
   "outputs": [
    {
     "data": {
      "text/plain": [
       "STREET_NO\n",
       "1600     4825\n",
       "800      4301\n",
       "100      4162\n",
       "200      4018\n",
       "2400     3742\n",
       "         ... \n",
       "9185        1\n",
       "4285        1\n",
       "6594        1\n",
       "2587        1\n",
       "10278       1\n",
       "Name: count, Length: 11685, dtype: int64"
      ]
     },
     "execution_count": 380,
     "metadata": {},
     "output_type": "execute_result"
    }
   ],
   "source": [
    "crashes['STREET_NO'].value_counts()"
   ]
  },
  {
   "cell_type": "code",
   "execution_count": 381,
   "metadata": {},
   "outputs": [
    {
     "data": {
      "text/plain": [
       "STREET_DIRECTION\n",
       "W    272197\n",
       "S    252773\n",
       "N    183005\n",
       "E     50216\n",
       "Name: count, dtype: int64"
      ]
     },
     "execution_count": 381,
     "metadata": {},
     "output_type": "execute_result"
    }
   ],
   "source": [
    "crashes['STREET_DIRECTION'].value_counts()"
   ]
  },
  {
   "cell_type": "code",
   "execution_count": 382,
   "metadata": {},
   "outputs": [
    {
     "data": {
      "text/plain": [
       "STREET_NAME\n",
       "WESTERN AVE    20988\n",
       "PULASKI RD     18522\n",
       "CICERO AVE     17259\n",
       "ASHLAND AVE    16759\n",
       "HALSTED ST     14825\n",
       "               ...  \n",
       "THROOP PKWY        1\n",
       "94TH PL            1\n",
       "130TH ST S         1\n",
       "OLD TOWN CT        1\n",
       "LOWE ST            1\n",
       "Name: count, Length: 1545, dtype: int64"
      ]
     },
     "execution_count": 382,
     "metadata": {},
     "output_type": "execute_result"
    }
   ],
   "source": [
    "crashes['STREET_NAME'].value_counts()"
   ]
  },
  {
   "cell_type": "code",
   "execution_count": 383,
   "metadata": {},
   "outputs": [
    {
     "data": {
      "text/plain": [
       "LOCATION\n",
       "POINT (-87.905309125103 41.976201139024)    1328\n",
       "POINT (-87.619928173678 41.900958919109)     767\n",
       "POINT (-87.580147768689 41.791420282098)     520\n",
       "POINT (-87.585971992965 41.751460603167)     518\n",
       "POINT (-87.585275565077 41.722257273006)     406\n",
       "                                            ... \n",
       "POINT (-87.696627011621 41.874790490124)       1\n",
       "POINT (-87.582343132587 41.737070746882)       1\n",
       "POINT (-87.712756512047 41.893773027997)       1\n",
       "POINT (-87.634585307038 41.749913201957)       1\n",
       "POINT (-87.688593000961 41.787259180975)       1\n",
       "Name: count, Length: 289435, dtype: int64"
      ]
     },
     "execution_count": 383,
     "metadata": {},
     "output_type": "execute_result"
    }
   ],
   "source": [
    "crashes['LOCATION'].value_counts()"
   ]
  },
  {
   "cell_type": "code",
   "execution_count": 384,
   "metadata": {},
   "outputs": [
    {
     "data": {
      "text/plain": [
       "LATITUDE\n",
       "41.976201    1328\n",
       "41.900959     767\n",
       "41.791420     520\n",
       "41.751461     518\n",
       "41.722257     406\n",
       "             ... \n",
       "41.794983       1\n",
       "41.855177       1\n",
       "41.983018       1\n",
       "41.893773       1\n",
       "41.749913       1\n",
       "Name: count, Length: 289279, dtype: int64"
      ]
     },
     "execution_count": 384,
     "metadata": {},
     "output_type": "execute_result"
    }
   ],
   "source": [
    "crashes['LATITUDE'].value_counts()"
   ]
  },
  {
   "cell_type": "code",
   "execution_count": 385,
   "metadata": {},
   "outputs": [
    {
     "data": {
      "text/plain": [
       "LONGITUDE\n",
       "-87.905309    1328\n",
       "-87.619928     767\n",
       "-87.580148     520\n",
       "-87.585972     518\n",
       "-87.585276     406\n",
       "              ... \n",
       "-87.551165       1\n",
       "-87.705652       1\n",
       "-87.703724       1\n",
       "-87.708506       1\n",
       "-87.625699       1\n",
       "Name: count, Length: 289238, dtype: int64"
      ]
     },
     "execution_count": 385,
     "metadata": {},
     "output_type": "execute_result"
    }
   ],
   "source": [
    "crashes['LONGITUDE'].value_counts()"
   ]
  },
  {
   "cell_type": "markdown",
   "metadata": {},
   "source": [
    "now a quick check to see if the values are consistent"
   ]
  },
  {
   "cell_type": "markdown",
   "metadata": {},
   "source": [
    "---"
   ]
  },
  {
   "cell_type": "code",
   "execution_count": 386,
   "metadata": {},
   "outputs": [],
   "source": [
    "crashes_subset_ll = crashes[(crashes['LATITUDE'] == 41.976201139) & (crashes['LONGITUDE'] == -87.905309125)]"
   ]
  },
  {
   "cell_type": "code",
   "execution_count": 387,
   "metadata": {},
   "outputs": [
    {
     "data": {
      "text/plain": [
       "1328"
      ]
     },
     "execution_count": 387,
     "metadata": {},
     "output_type": "execute_result"
    }
   ],
   "source": [
    "len(crashes_subset_ll)"
   ]
  },
  {
   "cell_type": "code",
   "execution_count": 388,
   "metadata": {},
   "outputs": [
    {
     "data": {
      "text/plain": [
       "POSTED_SPEED_LIMIT\n",
       "30    403\n",
       "20    244\n",
       "15    195\n",
       "10    163\n",
       "25    110\n",
       "45     67\n",
       "35     58\n",
       "40     38\n",
       "55     20\n",
       "50     16\n",
       "5      13\n",
       "70      1\n",
       "Name: count, dtype: int64"
      ]
     },
     "execution_count": 388,
     "metadata": {},
     "output_type": "execute_result"
    }
   ],
   "source": [
    "crashes_subset_ll['POSTED_SPEED_LIMIT'].value_counts()"
   ]
  },
  {
   "cell_type": "markdown",
   "metadata": {},
   "source": [
    "---"
   ]
  },
  {
   "cell_type": "code",
   "execution_count": 389,
   "metadata": {},
   "outputs": [
    {
     "name": "stdout",
     "output_type": "stream",
     "text": [
      "     LATITUDE  LONGITUDE  EXTRACTED_LATITUDE  EXTRACTED_LONGITUDE\n",
      "1   41.854120 -87.665902           41.854120           -87.665902\n",
      "2   41.942976 -87.761883           41.942976           -87.761883\n",
      "13  41.809781 -87.594213           41.809781           -87.594213\n",
      "14  41.899225 -87.696642           41.899225           -87.696642\n",
      "20  41.744152 -87.585945           41.744152           -87.585945\n"
     ]
    }
   ],
   "source": [
    "import numpy as np\n",
    "\n",
    "crashes['LOCATION'] = crashes['LOCATION'].astype(str)\n",
    "\n",
    "# Extract longitude and latitude\n",
    "def extract_coordinates(location):\n",
    "    try:\n",
    "        parts = location.replace(\"POINT (\", \"\").replace(\")\", \"\").split()\n",
    "        longitude = float(parts[0])\n",
    "        latitude = float(parts[1])\n",
    "        return longitude, latitude\n",
    "    except:\n",
    "        return np.nan, np.nan  # Return NaN if the format is incorrect\n",
    "\n",
    "# Apply function\n",
    "crashes[['EXTRACTED_LONGITUDE', 'EXTRACTED_LATITUDE']] = crashes['LOCATION'].apply(lambda x: pd.Series(extract_coordinates(x)))\n",
    "\n",
    "print(crashes[['LATITUDE', 'LONGITUDE', 'EXTRACTED_LATITUDE', 'EXTRACTED_LONGITUDE']].head())"
   ]
  },
  {
   "cell_type": "code",
   "execution_count": 390,
   "metadata": {},
   "outputs": [
    {
     "data": {
      "text/plain": [
       "1    -87.665902\n",
       "2    -87.761883\n",
       "13   -87.594213\n",
       "14   -87.696642\n",
       "20   -87.585945\n",
       "Name: EXTRACTED_LONGITUDE, dtype: float64"
      ]
     },
     "execution_count": 390,
     "metadata": {},
     "output_type": "execute_result"
    }
   ],
   "source": [
    "crashes['EXTRACTED_LONGITUDE'].head()"
   ]
  },
  {
   "cell_type": "code",
   "execution_count": 391,
   "metadata": {},
   "outputs": [
    {
     "data": {
      "text/plain": [
       "1    -87.665902\n",
       "2    -87.761883\n",
       "13   -87.594213\n",
       "14   -87.696642\n",
       "20   -87.585945\n",
       "Name: LONGITUDE, dtype: float64"
      ]
     },
     "execution_count": 391,
     "metadata": {},
     "output_type": "execute_result"
    }
   ],
   "source": [
    "crashes['LONGITUDE'].head()"
   ]
  },
  {
   "cell_type": "code",
   "execution_count": 392,
   "metadata": {},
   "outputs": [
    {
     "data": {
      "text/plain": [
       "np.float64(-87.665902342962)"
      ]
     },
     "execution_count": 392,
     "metadata": {},
     "output_type": "execute_result"
    }
   ],
   "source": [
    "crashes['EXTRACTED_LONGITUDE'][1]"
   ]
  },
  {
   "cell_type": "code",
   "execution_count": 393,
   "metadata": {},
   "outputs": [
    {
     "data": {
      "text/plain": [
       "np.float64(-87.665902343)"
      ]
     },
     "execution_count": 393,
     "metadata": {},
     "output_type": "execute_result"
    }
   ],
   "source": [
    "crashes['LONGITUDE'][1]"
   ]
  },
  {
   "cell_type": "code",
   "execution_count": 394,
   "metadata": {},
   "outputs": [
    {
     "data": {
      "text/plain": [
       "np.float64(-87.665902343)"
      ]
     },
     "execution_count": 394,
     "metadata": {},
     "output_type": "execute_result"
    }
   ],
   "source": [
    "crashes['EXTRACTED_LONGITUDE'][1].round(9)"
   ]
  },
  {
   "cell_type": "markdown",
   "metadata": {},
   "source": [
    "the coordinate in the LOCATION are more precise, while for the LATITURE anf LONGITUDE we have an 9 digit precision"
   ]
  },
  {
   "cell_type": "code",
   "execution_count": 395,
   "metadata": {},
   "outputs": [
    {
     "data": {
      "text/plain": [
       "np.True_"
      ]
     },
     "execution_count": 395,
     "metadata": {},
     "output_type": "execute_result"
    }
   ],
   "source": [
    "crashes['EXTRACTED_LONGITUDE'][1].round(9) == crashes['LONGITUDE'][1]"
   ]
  },
  {
   "cell_type": "code",
   "execution_count": 396,
   "metadata": {},
   "outputs": [
    {
     "name": "stdout",
     "output_type": "stream",
     "text": [
      "Number of inconsistent rows: 944\n",
      "        LATITUDE  LONGITUDE  EXTRACTED_LATITUDE  EXTRACTED_LONGITUDE  \\\n",
      "16880  41.997446 -87.699952           41.997446           -87.699952   \n",
      "17481  41.735797 -87.670812           41.735797           -87.670812   \n",
      "17536  41.828110 -87.704402           41.828110           -87.704402   \n",
      "17777  41.886432 -87.701211           41.886432           -87.701211   \n",
      "17932  41.876991 -87.724588           41.876991           -87.724588   \n",
      "\n",
      "                                     LOCATION  \n",
      "16880   POINT (-87.69995249778 41.9974456075)  \n",
      "17481  POINT (-87.6708122735 41.735797435784)  \n",
      "17536  POINT (-87.704402189965 41.8281099935)  \n",
      "17777  POINT (-87.7012111225 41.886431603013)  \n",
      "17932  POINT (-87.7245882585 41.876990566806)  \n"
     ]
    }
   ],
   "source": [
    "# Find inconsistent rows\n",
    "inconsistent_rows = crashes[\n",
    "    (crashes['LONGITUDE'] != crashes['EXTRACTED_LONGITUDE'].round(9)) |\n",
    "    (crashes['LATITUDE'] != crashes['EXTRACTED_LATITUDE'].round(9))\n",
    "]\n",
    "\n",
    "print(\"Number of inconsistent rows:\", inconsistent_rows.shape[0])\n",
    "print(inconsistent_rows[['LATITUDE', 'LONGITUDE', 'EXTRACTED_LATITUDE', 'EXTRACTED_LONGITUDE', 'LOCATION']].head())\n"
   ]
  },
  {
   "cell_type": "code",
   "execution_count": 397,
   "metadata": {},
   "outputs": [
    {
     "data": {
      "text/plain": [
       "944"
      ]
     },
     "execution_count": 397,
     "metadata": {},
     "output_type": "execute_result"
    }
   ],
   "source": [
    "len(inconsistent_rows)"
   ]
  },
  {
   "cell_type": "code",
   "execution_count": 398,
   "metadata": {},
   "outputs": [
    {
     "name": "stdout",
     "output_type": "stream",
     "text": [
      "        LATITUDE  EXTRACTED_LATITUDE\n",
      "16880  41.997446           41.997446\n",
      "17481  41.735797           41.735797\n",
      "17536  41.828110           41.828110\n",
      "17777  41.886432           41.886432\n",
      "17932  41.876991           41.876991\n"
     ]
    }
   ],
   "source": [
    "print(inconsistent_rows[['LATITUDE', 'EXTRACTED_LATITUDE']].head())\n"
   ]
  },
  {
   "cell_type": "code",
   "execution_count": 399,
   "metadata": {},
   "outputs": [
    {
     "data": {
      "text/plain": [
       "np.float64(41.997445607)"
      ]
     },
     "execution_count": 399,
     "metadata": {},
     "output_type": "execute_result"
    }
   ],
   "source": [
    "inconsistent_rows['LATITUDE'][16880]"
   ]
  },
  {
   "cell_type": "code",
   "execution_count": 400,
   "metadata": {},
   "outputs": [
    {
     "data": {
      "text/plain": [
       "np.float64(41.997445608)"
      ]
     },
     "execution_count": 400,
     "metadata": {},
     "output_type": "execute_result"
    }
   ],
   "source": [
    "inconsistent_rows['EXTRACTED_LATITUDE'][16880].round(9)"
   ]
  },
  {
   "cell_type": "markdown",
   "metadata": {},
   "source": [
    "we can see how the 'wrong entries' are in reality corret but it is just a rounding problem. What we want to do now i check any discrepancy given an error margin"
   ]
  },
  {
   "cell_type": "code",
   "execution_count": 401,
   "metadata": {},
   "outputs": [
    {
     "name": "stdout",
     "output_type": "stream",
     "text": [
      "Number of inconsistent rows: 0\n",
      "Empty DataFrame\n",
      "Columns: [LATITUDE, LONGITUDE, EXTRACTED_LATITUDE, EXTRACTED_LONGITUDE, LOCATION]\n",
      "Index: []\n"
     ]
    }
   ],
   "source": [
    "margin_of_error = 1e-9\n",
    "\n",
    "# Find inconsistent rows with a margin of error\n",
    "inconsistent_rows = crashes[\n",
    "    ~np.isclose(crashes['LONGITUDE'], crashes['EXTRACTED_LONGITUDE'], atol=margin_of_error) |\n",
    "    ~np.isclose(crashes['LATITUDE'], crashes['EXTRACTED_LATITUDE'], atol=margin_of_error)\n",
    "]\n",
    "\n",
    "# Display inconsistencies\n",
    "print(\"Number of inconsistent rows:\", inconsistent_rows.shape[0])\n",
    "print(inconsistent_rows[['LATITUDE', 'LONGITUDE', 'EXTRACTED_LATITUDE', 'EXTRACTED_LONGITUDE', 'LOCATION']].head())\n"
   ]
  },
  {
   "cell_type": "markdown",
   "metadata": {},
   "source": [
    "---"
   ]
  },
  {
   "cell_type": "markdown",
   "metadata": {},
   "source": [
    "## NUM_UNITS and INJURIES"
   ]
  },
  {
   "cell_type": "code",
   "execution_count": 402,
   "metadata": {},
   "outputs": [
    {
     "data": {
      "text/plain": [
       "NUM_UNITS\n",
       "2     659311\n",
       "3      43842\n",
       "1      43218\n",
       "4       8693\n",
       "5       2137\n",
       "6        617\n",
       "7        209\n",
       "8         88\n",
       "9         37\n",
       "10        16\n",
       "11         8\n",
       "12         5\n",
       "18         5\n",
       "14         2\n",
       "16         2\n",
       "13         1\n",
       "15         1\n",
       "Name: count, dtype: int64"
      ]
     },
     "execution_count": 402,
     "metadata": {},
     "output_type": "execute_result"
    }
   ],
   "source": [
    "crashes['NUM_UNITS'].value_counts()"
   ]
  },
  {
   "cell_type": "code",
   "execution_count": 403,
   "metadata": {},
   "outputs": [
    {
     "data": {
      "text/plain": [
       "MOST_SEVERE_INJURY\n",
       "NO INDICATION OF INJURY     642953\n",
       "NONINCAPACITATING INJURY     64542\n",
       "REPORTED, NOT EVIDENT        34667\n",
       "INCAPACITATING INJURY        13410\n",
       "FATAL                          885\n",
       "Name: count, dtype: int64"
      ]
     },
     "execution_count": 403,
     "metadata": {},
     "output_type": "execute_result"
    }
   ],
   "source": [
    "crashes['MOST_SEVERE_INJURY'].value_counts()"
   ]
  },
  {
   "cell_type": "code",
   "execution_count": 404,
   "metadata": {},
   "outputs": [
    {
     "data": {
      "text/plain": [
       "INJURIES_TOTAL\n",
       "0.0     643921\n",
       "1.0      85051\n",
       "2.0      19243\n",
       "3.0       5869\n",
       "4.0       2074\n",
       "5.0        731\n",
       "6.0        284\n",
       "7.0        123\n",
       "8.0         44\n",
       "9.0         25\n",
       "10.0        14\n",
       "11.0         7\n",
       "15.0         7\n",
       "12.0         6\n",
       "21.0         4\n",
       "13.0         2\n",
       "17.0         1\n",
       "14.0         1\n",
       "19.0         1\n",
       "16.0         1\n",
       "Name: count, dtype: int64"
      ]
     },
     "execution_count": 404,
     "metadata": {},
     "output_type": "execute_result"
    }
   ],
   "source": [
    "crashes['INJURIES_TOTAL'].value_counts()"
   ]
  },
  {
   "cell_type": "code",
   "execution_count": 405,
   "metadata": {},
   "outputs": [
    {
     "data": {
      "text/plain": [
       "INJURIES_FATAL\n",
       "0.0    756524\n",
       "1.0       818\n",
       "2.0        59\n",
       "3.0         8\n",
       "Name: count, dtype: int64"
      ]
     },
     "execution_count": 405,
     "metadata": {},
     "output_type": "execute_result"
    }
   ],
   "source": [
    "crashes['INJURIES_FATAL'].value_counts()"
   ]
  },
  {
   "cell_type": "code",
   "execution_count": 406,
   "metadata": {},
   "outputs": [
    {
     "data": {
      "text/plain": [
       "INJURIES_INCAPACITATING\n",
       "0.0     743861\n",
       "1.0      11911\n",
       "2.0       1245\n",
       "3.0        264\n",
       "4.0         92\n",
       "5.0         26\n",
       "6.0          6\n",
       "7.0          2\n",
       "10.0         1\n",
       "8.0          1\n",
       "Name: count, dtype: int64"
      ]
     },
     "execution_count": 406,
     "metadata": {},
     "output_type": "execute_result"
    }
   ],
   "source": [
    "crashes['INJURIES_INCAPACITATING'].value_counts()"
   ]
  },
  {
   "cell_type": "code",
   "execution_count": 407,
   "metadata": {},
   "outputs": [
    {
     "data": {
      "text/plain": [
       "INJURIES_NON_INCAPACITATING\n",
       "0.0     690410\n",
       "1.0      52377\n",
       "2.0      10083\n",
       "3.0       2945\n",
       "4.0        999\n",
       "5.0        350\n",
       "6.0        142\n",
       "7.0         50\n",
       "8.0         19\n",
       "10.0         8\n",
       "9.0          8\n",
       "11.0         6\n",
       "12.0         4\n",
       "21.0         2\n",
       "14.0         1\n",
       "19.0         1\n",
       "18.0         1\n",
       "15.0         1\n",
       "16.0         1\n",
       "13.0         1\n",
       "Name: count, dtype: int64"
      ]
     },
     "execution_count": 407,
     "metadata": {},
     "output_type": "execute_result"
    }
   ],
   "source": [
    "crashes['INJURIES_NON_INCAPACITATING'].value_counts()"
   ]
  },
  {
   "cell_type": "code",
   "execution_count": 408,
   "metadata": {},
   "outputs": [
    {
     "data": {
      "text/plain": [
       "INJURIES_REPORTED_NOT_EVIDENT\n",
       "0.0     718570\n",
       "1.0      30120\n",
       "2.0       6316\n",
       "3.0       1626\n",
       "4.0        515\n",
       "5.0        165\n",
       "6.0         47\n",
       "7.0         24\n",
       "8.0         11\n",
       "9.0          8\n",
       "10.0         3\n",
       "11.0         2\n",
       "15.0         2\n",
       "Name: count, dtype: int64"
      ]
     },
     "execution_count": 408,
     "metadata": {},
     "output_type": "execute_result"
    }
   ],
   "source": [
    "crashes['INJURIES_REPORTED_NOT_EVIDENT'].value_counts()"
   ]
  },
  {
   "cell_type": "code",
   "execution_count": 409,
   "metadata": {},
   "outputs": [
    {
     "data": {
      "text/plain": [
       "INJURIES_NO_INDICATION\n",
       "2.0     346234\n",
       "1.0     236257\n",
       "3.0      95384\n",
       "4.0      35467\n",
       "0.0      17639\n",
       "5.0      14851\n",
       "6.0       6127\n",
       "7.0       2417\n",
       "8.0       1047\n",
       "9.0        441\n",
       "10.0       211\n",
       "11.0       109\n",
       "12.0        67\n",
       "13.0        36\n",
       "14.0        32\n",
       "15.0        19\n",
       "16.0        18\n",
       "17.0        14\n",
       "19.0         9\n",
       "20.0         9\n",
       "29.0         6\n",
       "26.0         6\n",
       "24.0         5\n",
       "30.0         5\n",
       "36.0         5\n",
       "21.0         5\n",
       "22.0         5\n",
       "37.0         4\n",
       "27.0         3\n",
       "25.0         3\n",
       "18.0         3\n",
       "42.0         3\n",
       "31.0         3\n",
       "32.0         2\n",
       "40.0         2\n",
       "45.0         2\n",
       "28.0         2\n",
       "34.0         2\n",
       "50.0         1\n",
       "46.0         1\n",
       "61.0         1\n",
       "48.0         1\n",
       "43.0         1\n",
       "23.0         1\n",
       "41.0         1\n",
       "35.0         1\n",
       "33.0         1\n",
       "49.0         1\n",
       "Name: count, dtype: int64"
      ]
     },
     "execution_count": 409,
     "metadata": {},
     "output_type": "execute_result"
    }
   ],
   "source": [
    "crashes['INJURIES_NO_INDICATION'].value_counts()"
   ]
  },
  {
   "cell_type": "code",
   "execution_count": 410,
   "metadata": {},
   "outputs": [
    {
     "data": {
      "text/plain": [
       "INJURIES_UNKNOWN\n",
       "0.0    756464\n",
       "Name: count, dtype: int64"
      ]
     },
     "execution_count": 410,
     "metadata": {},
     "output_type": "execute_result"
    }
   ],
   "source": [
    "crashes['INJURIES_UNKNOWN'].value_counts()"
   ]
  },
  {
   "cell_type": "markdown",
   "metadata": {},
   "source": [
    "surely we can drop INJURIES_UNKNOWN"
   ]
  },
  {
   "cell_type": "code",
   "execution_count": 411,
   "metadata": {},
   "outputs": [
    {
     "data": {
      "text/plain": [
       "np.False_"
      ]
     },
     "execution_count": 411,
     "metadata": {},
     "output_type": "execute_result"
    }
   ],
   "source": [
    "\n",
    "injuries_cols = ['INJURIES_FATAL', 'INJURIES_INCAPACITATING', 'INJURIES_NON_INCAPACITATING', 'INJURIES_REPORTED_NOT_EVIDENT']\n",
    "\n",
    "(crashes['INJURIES_TOTAL'] == crashes[injuries_cols].sum(axis=1)).all()\n",
    "\n"
   ]
  },
  {
   "cell_type": "code",
   "execution_count": 412,
   "metadata": {},
   "outputs": [
    {
     "name": "stdout",
     "output_type": "stream",
     "text": [
      "Number of inconsistent rows: 783\n"
     ]
    }
   ],
   "source": [
    "inconsistent_injuries = crashes[crashes['INJURIES_TOTAL'] != crashes[injuries_cols].sum(axis=1)]\n",
    "\n",
    "print(\"Number of inconsistent rows:\", inconsistent_injuries.shape[0])"
   ]
  },
  {
   "cell_type": "code",
   "execution_count": 413,
   "metadata": {},
   "outputs": [
    {
     "data": {
      "text/html": [
       "<div>\n",
       "<style scoped>\n",
       "    .dataframe tbody tr th:only-of-type {\n",
       "        vertical-align: middle;\n",
       "    }\n",
       "\n",
       "    .dataframe tbody tr th {\n",
       "        vertical-align: top;\n",
       "    }\n",
       "\n",
       "    .dataframe thead th {\n",
       "        text-align: right;\n",
       "    }\n",
       "</style>\n",
       "<table border=\"1\" class=\"dataframe\">\n",
       "  <thead>\n",
       "    <tr style=\"text-align: right;\">\n",
       "      <th></th>\n",
       "      <th>CRASH_RECORD_ID</th>\n",
       "      <th>CRASH_DATE</th>\n",
       "      <th>POSTED_SPEED_LIMIT</th>\n",
       "      <th>WEATHER_CONDITION</th>\n",
       "      <th>LIGHTING_CONDITION</th>\n",
       "      <th>FIRST_CRASH_TYPE</th>\n",
       "      <th>TRAFFICWAY_TYPE</th>\n",
       "      <th>LANE_CNT</th>\n",
       "      <th>ALIGNMENT</th>\n",
       "      <th>ROADWAY_SURFACE_COND</th>\n",
       "      <th>ROAD_DEFECT</th>\n",
       "      <th>CRASH_TYPE</th>\n",
       "      <th>INTERSECTION_RELATED_I</th>\n",
       "      <th>NOT_RIGHT_OF_WAY_I</th>\n",
       "      <th>HIT_AND_RUN_I</th>\n",
       "      <th>DAMAGE</th>\n",
       "      <th>PRIM_CONTRIBUTORY_CAUSE</th>\n",
       "      <th>SEC_CONTRIBUTORY_CAUSE</th>\n",
       "      <th>STREET_NO</th>\n",
       "      <th>STREET_DIRECTION</th>\n",
       "      <th>STREET_NAME</th>\n",
       "      <th>BEAT_OF_OCCURRENCE</th>\n",
       "      <th>NUM_UNITS</th>\n",
       "      <th>MOST_SEVERE_INJURY</th>\n",
       "      <th>INJURIES_TOTAL</th>\n",
       "      <th>INJURIES_FATAL</th>\n",
       "      <th>INJURIES_INCAPACITATING</th>\n",
       "      <th>INJURIES_NON_INCAPACITATING</th>\n",
       "      <th>INJURIES_REPORTED_NOT_EVIDENT</th>\n",
       "      <th>INJURIES_NO_INDICATION</th>\n",
       "      <th>INJURIES_UNKNOWN</th>\n",
       "      <th>CRASH_HOUR</th>\n",
       "      <th>CRASH_DAY_OF_WEEK</th>\n",
       "      <th>CRASH_MONTH</th>\n",
       "      <th>LATITUDE</th>\n",
       "      <th>LONGITUDE</th>\n",
       "      <th>LOCATION</th>\n",
       "      <th>WEATHER_SEVERITY</th>\n",
       "      <th>WEATHER_CATEGORY_CLEAR</th>\n",
       "      <th>WEATHER_CATEGORY_CLOUDY</th>\n",
       "      <th>WEATHER_CATEGORY_EXTREME</th>\n",
       "      <th>WEATHER_CATEGORY_RAIN</th>\n",
       "      <th>WEATHER_CATEGORY_UNKNOWN</th>\n",
       "      <th>LIGHTING_SEVERITY</th>\n",
       "      <th>LIGHTING_CATEGORY_DAYLIGHT</th>\n",
       "      <th>LIGHTING_CATEGORY_NIGHT</th>\n",
       "      <th>LIGHTING_CATEGORY_UNKNOWN</th>\n",
       "      <th>crash_severity_score</th>\n",
       "      <th>ROADWAY_SURFACE_CATEGORY_DRY</th>\n",
       "      <th>ROADWAY_SURFACE_CATEGORY_ICE</th>\n",
       "      <th>ROADWAY_SURFACE_CATEGORY_SNOW</th>\n",
       "      <th>ROADWAY_SURFACE_CATEGORY_UNKNOWN</th>\n",
       "      <th>ROADWAY_SURFACE_CATEGORY_WET</th>\n",
       "      <th>surface_cond</th>\n",
       "      <th>ROAD_DEFECT_CATEGORY_BAD</th>\n",
       "      <th>ROAD_DEFECT_CATEGORY_DEBRIS</th>\n",
       "      <th>ROAD_DEFECT_CATEGORY_DEFECT</th>\n",
       "      <th>ROAD_DEFECT_CATEGORY_NO_DEFECTS</th>\n",
       "      <th>ROAD_DEFECT_CATEGORY_UNKNOWN</th>\n",
       "      <th>road_cond</th>\n",
       "      <th>ROADWAY_SEVERITY</th>\n",
       "      <th>CRASH_TYPE_b</th>\n",
       "      <th>TOW</th>\n",
       "      <th>DAMAGE_SEVERITY</th>\n",
       "      <th>DAMAGE_CATEGORY_HIGH</th>\n",
       "      <th>DAMAGE_CATEGORY_LOW</th>\n",
       "      <th>DAMAGE_CATEGORY_MEDIUM</th>\n",
       "      <th>SPEEDING</th>\n",
       "      <th>DRINKING</th>\n",
       "      <th>TELEPHONE</th>\n",
       "      <th>responsibility_score</th>\n",
       "      <th>EXTRACTED_LONGITUDE</th>\n",
       "      <th>EXTRACTED_LATITUDE</th>\n",
       "    </tr>\n",
       "  </thead>\n",
       "  <tbody>\n",
       "  </tbody>\n",
       "</table>\n",
       "</div>"
      ],
      "text/plain": [
       "Empty DataFrame\n",
       "Columns: [CRASH_RECORD_ID, CRASH_DATE, POSTED_SPEED_LIMIT, WEATHER_CONDITION, LIGHTING_CONDITION, FIRST_CRASH_TYPE, TRAFFICWAY_TYPE, LANE_CNT, ALIGNMENT, ROADWAY_SURFACE_COND, ROAD_DEFECT, CRASH_TYPE, INTERSECTION_RELATED_I, NOT_RIGHT_OF_WAY_I, HIT_AND_RUN_I, DAMAGE, PRIM_CONTRIBUTORY_CAUSE, SEC_CONTRIBUTORY_CAUSE, STREET_NO, STREET_DIRECTION, STREET_NAME, BEAT_OF_OCCURRENCE, NUM_UNITS, MOST_SEVERE_INJURY, INJURIES_TOTAL, INJURIES_FATAL, INJURIES_INCAPACITATING, INJURIES_NON_INCAPACITATING, INJURIES_REPORTED_NOT_EVIDENT, INJURIES_NO_INDICATION, INJURIES_UNKNOWN, CRASH_HOUR, CRASH_DAY_OF_WEEK, CRASH_MONTH, LATITUDE, LONGITUDE, LOCATION, WEATHER_SEVERITY, WEATHER_CATEGORY_CLEAR, WEATHER_CATEGORY_CLOUDY, WEATHER_CATEGORY_EXTREME, WEATHER_CATEGORY_RAIN, WEATHER_CATEGORY_UNKNOWN, LIGHTING_SEVERITY, LIGHTING_CATEGORY_DAYLIGHT, LIGHTING_CATEGORY_NIGHT, LIGHTING_CATEGORY_UNKNOWN, crash_severity_score, ROADWAY_SURFACE_CATEGORY_DRY, ROADWAY_SURFACE_CATEGORY_ICE, ROADWAY_SURFACE_CATEGORY_SNOW, ROADWAY_SURFACE_CATEGORY_UNKNOWN, ROADWAY_SURFACE_CATEGORY_WET, surface_cond, ROAD_DEFECT_CATEGORY_BAD, ROAD_DEFECT_CATEGORY_DEBRIS, ROAD_DEFECT_CATEGORY_DEFECT, ROAD_DEFECT_CATEGORY_NO_DEFECTS, ROAD_DEFECT_CATEGORY_UNKNOWN, road_cond, ROADWAY_SEVERITY, CRASH_TYPE_b, TOW, DAMAGE_SEVERITY, DAMAGE_CATEGORY_HIGH, DAMAGE_CATEGORY_LOW, DAMAGE_CATEGORY_MEDIUM, SPEEDING, DRINKING, TELEPHONE, responsibility_score, EXTRACTED_LONGITUDE, EXTRACTED_LATITUDE]\n",
       "Index: []"
      ]
     },
     "execution_count": 413,
     "metadata": {},
     "output_type": "execute_result"
    }
   ],
   "source": [
    "inconsistent_injuries.dropna().head()"
   ]
  },
  {
   "cell_type": "code",
   "execution_count": 414,
   "metadata": {},
   "outputs": [
    {
     "data": {
      "text/html": [
       "<div>\n",
       "<style scoped>\n",
       "    .dataframe tbody tr th:only-of-type {\n",
       "        vertical-align: middle;\n",
       "    }\n",
       "\n",
       "    .dataframe tbody tr th {\n",
       "        vertical-align: top;\n",
       "    }\n",
       "\n",
       "    .dataframe thead th {\n",
       "        text-align: right;\n",
       "    }\n",
       "</style>\n",
       "<table border=\"1\" class=\"dataframe\">\n",
       "  <thead>\n",
       "    <tr style=\"text-align: right;\">\n",
       "      <th></th>\n",
       "      <th>CRASH_RECORD_ID</th>\n",
       "      <th>CRASH_DATE</th>\n",
       "      <th>POSTED_SPEED_LIMIT</th>\n",
       "      <th>WEATHER_CONDITION</th>\n",
       "      <th>LIGHTING_CONDITION</th>\n",
       "      <th>FIRST_CRASH_TYPE</th>\n",
       "      <th>TRAFFICWAY_TYPE</th>\n",
       "      <th>LANE_CNT</th>\n",
       "      <th>ALIGNMENT</th>\n",
       "      <th>ROADWAY_SURFACE_COND</th>\n",
       "      <th>ROAD_DEFECT</th>\n",
       "      <th>CRASH_TYPE</th>\n",
       "      <th>INTERSECTION_RELATED_I</th>\n",
       "      <th>NOT_RIGHT_OF_WAY_I</th>\n",
       "      <th>HIT_AND_RUN_I</th>\n",
       "      <th>DAMAGE</th>\n",
       "      <th>PRIM_CONTRIBUTORY_CAUSE</th>\n",
       "      <th>SEC_CONTRIBUTORY_CAUSE</th>\n",
       "      <th>STREET_NO</th>\n",
       "      <th>STREET_DIRECTION</th>\n",
       "      <th>STREET_NAME</th>\n",
       "      <th>BEAT_OF_OCCURRENCE</th>\n",
       "      <th>NUM_UNITS</th>\n",
       "      <th>MOST_SEVERE_INJURY</th>\n",
       "      <th>INJURIES_TOTAL</th>\n",
       "      <th>INJURIES_FATAL</th>\n",
       "      <th>INJURIES_INCAPACITATING</th>\n",
       "      <th>INJURIES_NON_INCAPACITATING</th>\n",
       "      <th>INJURIES_REPORTED_NOT_EVIDENT</th>\n",
       "      <th>INJURIES_NO_INDICATION</th>\n",
       "      <th>INJURIES_UNKNOWN</th>\n",
       "      <th>CRASH_HOUR</th>\n",
       "      <th>CRASH_DAY_OF_WEEK</th>\n",
       "      <th>CRASH_MONTH</th>\n",
       "      <th>LATITUDE</th>\n",
       "      <th>LONGITUDE</th>\n",
       "      <th>LOCATION</th>\n",
       "      <th>WEATHER_SEVERITY</th>\n",
       "      <th>WEATHER_CATEGORY_CLEAR</th>\n",
       "      <th>WEATHER_CATEGORY_CLOUDY</th>\n",
       "      <th>WEATHER_CATEGORY_EXTREME</th>\n",
       "      <th>WEATHER_CATEGORY_RAIN</th>\n",
       "      <th>WEATHER_CATEGORY_UNKNOWN</th>\n",
       "      <th>LIGHTING_SEVERITY</th>\n",
       "      <th>LIGHTING_CATEGORY_DAYLIGHT</th>\n",
       "      <th>LIGHTING_CATEGORY_NIGHT</th>\n",
       "      <th>LIGHTING_CATEGORY_UNKNOWN</th>\n",
       "      <th>crash_severity_score</th>\n",
       "      <th>ROADWAY_SURFACE_CATEGORY_DRY</th>\n",
       "      <th>ROADWAY_SURFACE_CATEGORY_ICE</th>\n",
       "      <th>ROADWAY_SURFACE_CATEGORY_SNOW</th>\n",
       "      <th>ROADWAY_SURFACE_CATEGORY_UNKNOWN</th>\n",
       "      <th>ROADWAY_SURFACE_CATEGORY_WET</th>\n",
       "      <th>surface_cond</th>\n",
       "      <th>ROAD_DEFECT_CATEGORY_BAD</th>\n",
       "      <th>ROAD_DEFECT_CATEGORY_DEBRIS</th>\n",
       "      <th>ROAD_DEFECT_CATEGORY_DEFECT</th>\n",
       "      <th>ROAD_DEFECT_CATEGORY_NO_DEFECTS</th>\n",
       "      <th>ROAD_DEFECT_CATEGORY_UNKNOWN</th>\n",
       "      <th>road_cond</th>\n",
       "      <th>ROADWAY_SEVERITY</th>\n",
       "      <th>CRASH_TYPE_b</th>\n",
       "      <th>TOW</th>\n",
       "      <th>DAMAGE_SEVERITY</th>\n",
       "      <th>DAMAGE_CATEGORY_HIGH</th>\n",
       "      <th>DAMAGE_CATEGORY_LOW</th>\n",
       "      <th>DAMAGE_CATEGORY_MEDIUM</th>\n",
       "      <th>SPEEDING</th>\n",
       "      <th>DRINKING</th>\n",
       "      <th>TELEPHONE</th>\n",
       "      <th>responsibility_score</th>\n",
       "      <th>EXTRACTED_LONGITUDE</th>\n",
       "      <th>EXTRACTED_LATITUDE</th>\n",
       "    </tr>\n",
       "  </thead>\n",
       "  <tbody>\n",
       "    <tr>\n",
       "      <th>1</th>\n",
       "      <td>5f54a59fcb087b12ae5b1acff96a3caf4f2d37e79f8db4...</td>\n",
       "      <td>2023-07-29 14:45:00</td>\n",
       "      <td>30</td>\n",
       "      <td>CLEAR</td>\n",
       "      <td>DAYLIGHT</td>\n",
       "      <td>PARKED MOTOR VEHICLE</td>\n",
       "      <td>DIVIDED - W/MEDIAN (NOT RAISED)</td>\n",
       "      <td>NaN</td>\n",
       "      <td>STRAIGHT AND LEVEL</td>\n",
       "      <td>DRY</td>\n",
       "      <td>NO DEFECTS</td>\n",
       "      <td>NO INJURY / DRIVE AWAY</td>\n",
       "      <td>NaN</td>\n",
       "      <td>NaN</td>\n",
       "      <td>True</td>\n",
       "      <td>OVER $1,500</td>\n",
       "      <td>FAILING TO REDUCE SPEED TO AVOID CRASH</td>\n",
       "      <td>OPERATING VEHICLE IN ERRATIC, RECKLESS, CARELE...</td>\n",
       "      <td>2101</td>\n",
       "      <td>S</td>\n",
       "      <td>ASHLAND AVE</td>\n",
       "      <td>1235.0</td>\n",
       "      <td>4</td>\n",
       "      <td>NO INDICATION OF INJURY</td>\n",
       "      <td>0.0</td>\n",
       "      <td>0.0</td>\n",
       "      <td>0.0</td>\n",
       "      <td>0.0</td>\n",
       "      <td>0.0</td>\n",
       "      <td>1.0</td>\n",
       "      <td>0.0</td>\n",
       "      <td>14</td>\n",
       "      <td>7</td>\n",
       "      <td>7</td>\n",
       "      <td>41.854120</td>\n",
       "      <td>-87.665902</td>\n",
       "      <td>POINT (-87.665902342962 41.854120262952)</td>\n",
       "      <td>0</td>\n",
       "      <td>True</td>\n",
       "      <td>False</td>\n",
       "      <td>False</td>\n",
       "      <td>False</td>\n",
       "      <td>False</td>\n",
       "      <td>0</td>\n",
       "      <td>True</td>\n",
       "      <td>False</td>\n",
       "      <td>False</td>\n",
       "      <td>0.017663</td>\n",
       "      <td>True</td>\n",
       "      <td>False</td>\n",
       "      <td>False</td>\n",
       "      <td>False</td>\n",
       "      <td>False</td>\n",
       "      <td>0</td>\n",
       "      <td>False</td>\n",
       "      <td>False</td>\n",
       "      <td>False</td>\n",
       "      <td>True</td>\n",
       "      <td>False</td>\n",
       "      <td>0</td>\n",
       "      <td>0</td>\n",
       "      <td>0</td>\n",
       "      <td>0</td>\n",
       "      <td>2</td>\n",
       "      <td>True</td>\n",
       "      <td>False</td>\n",
       "      <td>False</td>\n",
       "      <td>True</td>\n",
       "      <td>False</td>\n",
       "      <td>False</td>\n",
       "      <td>0.7</td>\n",
       "      <td>-87.665902</td>\n",
       "      <td>41.854120</td>\n",
       "    </tr>\n",
       "    <tr>\n",
       "      <th>2</th>\n",
       "      <td>61fcb8c1eb522a6469b460e2134df3d15f82e81fd93e9c...</td>\n",
       "      <td>2023-08-18 17:58:00</td>\n",
       "      <td>30</td>\n",
       "      <td>CLEAR</td>\n",
       "      <td>DAYLIGHT</td>\n",
       "      <td>PEDALCYCLIST</td>\n",
       "      <td>NOT DIVIDED</td>\n",
       "      <td>NaN</td>\n",
       "      <td>STRAIGHT AND LEVEL</td>\n",
       "      <td>DRY</td>\n",
       "      <td>NO DEFECTS</td>\n",
       "      <td>INJURY AND / OR TOW DUE TO CRASH</td>\n",
       "      <td>NaN</td>\n",
       "      <td>NaN</td>\n",
       "      <td>NaN</td>\n",
       "      <td>$501 - $1,500</td>\n",
       "      <td>FAILING TO REDUCE SPEED TO AVOID CRASH</td>\n",
       "      <td>UNABLE TO DETERMINE</td>\n",
       "      <td>3422</td>\n",
       "      <td>N</td>\n",
       "      <td>LONG AVE</td>\n",
       "      <td>1633.0</td>\n",
       "      <td>2</td>\n",
       "      <td>NONINCAPACITATING INJURY</td>\n",
       "      <td>1.0</td>\n",
       "      <td>0.0</td>\n",
       "      <td>0.0</td>\n",
       "      <td>1.0</td>\n",
       "      <td>0.0</td>\n",
       "      <td>1.0</td>\n",
       "      <td>0.0</td>\n",
       "      <td>17</td>\n",
       "      <td>6</td>\n",
       "      <td>8</td>\n",
       "      <td>41.942976</td>\n",
       "      <td>-87.761883</td>\n",
       "      <td>POINT (-87.761883496974 41.942975745006)</td>\n",
       "      <td>0</td>\n",
       "      <td>True</td>\n",
       "      <td>False</td>\n",
       "      <td>False</td>\n",
       "      <td>False</td>\n",
       "      <td>False</td>\n",
       "      <td>0</td>\n",
       "      <td>True</td>\n",
       "      <td>False</td>\n",
       "      <td>False</td>\n",
       "      <td>0.195474</td>\n",
       "      <td>True</td>\n",
       "      <td>False</td>\n",
       "      <td>False</td>\n",
       "      <td>False</td>\n",
       "      <td>False</td>\n",
       "      <td>0</td>\n",
       "      <td>False</td>\n",
       "      <td>False</td>\n",
       "      <td>False</td>\n",
       "      <td>True</td>\n",
       "      <td>False</td>\n",
       "      <td>0</td>\n",
       "      <td>0</td>\n",
       "      <td>1</td>\n",
       "      <td>0</td>\n",
       "      <td>1</td>\n",
       "      <td>False</td>\n",
       "      <td>False</td>\n",
       "      <td>True</td>\n",
       "      <td>True</td>\n",
       "      <td>False</td>\n",
       "      <td>False</td>\n",
       "      <td>0.7</td>\n",
       "      <td>-87.761883</td>\n",
       "      <td>41.942976</td>\n",
       "    </tr>\n",
       "    <tr>\n",
       "      <th>13</th>\n",
       "      <td>fd05285e9d273fe20cbbebf84794045828a2ba589073b6...</td>\n",
       "      <td>2023-07-29 14:30:00</td>\n",
       "      <td>10</td>\n",
       "      <td>UNKNOWN</td>\n",
       "      <td>UNKNOWN</td>\n",
       "      <td>ANGLE</td>\n",
       "      <td>PARKING LOT</td>\n",
       "      <td>NaN</td>\n",
       "      <td>STRAIGHT AND LEVEL</td>\n",
       "      <td>UNKNOWN</td>\n",
       "      <td>UNKNOWN</td>\n",
       "      <td>NO INJURY / DRIVE AWAY</td>\n",
       "      <td>NaN</td>\n",
       "      <td>NaN</td>\n",
       "      <td>True</td>\n",
       "      <td>$501 - $1,500</td>\n",
       "      <td>UNABLE TO DETERMINE</td>\n",
       "      <td>NOT APPLICABLE</td>\n",
       "      <td>1320</td>\n",
       "      <td>E</td>\n",
       "      <td>47TH ST</td>\n",
       "      <td>222.0</td>\n",
       "      <td>2</td>\n",
       "      <td>NO INDICATION OF INJURY</td>\n",
       "      <td>0.0</td>\n",
       "      <td>0.0</td>\n",
       "      <td>0.0</td>\n",
       "      <td>0.0</td>\n",
       "      <td>0.0</td>\n",
       "      <td>2.0</td>\n",
       "      <td>0.0</td>\n",
       "      <td>14</td>\n",
       "      <td>7</td>\n",
       "      <td>7</td>\n",
       "      <td>41.809781</td>\n",
       "      <td>-87.594213</td>\n",
       "      <td>POINT (-87.594212812011 41.809781151018)</td>\n",
       "      <td>-1</td>\n",
       "      <td>False</td>\n",
       "      <td>False</td>\n",
       "      <td>False</td>\n",
       "      <td>False</td>\n",
       "      <td>True</td>\n",
       "      <td>-1</td>\n",
       "      <td>False</td>\n",
       "      <td>False</td>\n",
       "      <td>True</td>\n",
       "      <td>0.078656</td>\n",
       "      <td>False</td>\n",
       "      <td>False</td>\n",
       "      <td>False</td>\n",
       "      <td>True</td>\n",
       "      <td>False</td>\n",
       "      <td>-1</td>\n",
       "      <td>False</td>\n",
       "      <td>False</td>\n",
       "      <td>False</td>\n",
       "      <td>False</td>\n",
       "      <td>True</td>\n",
       "      <td>-1</td>\n",
       "      <td>-1</td>\n",
       "      <td>0</td>\n",
       "      <td>0</td>\n",
       "      <td>1</td>\n",
       "      <td>False</td>\n",
       "      <td>False</td>\n",
       "      <td>True</td>\n",
       "      <td>False</td>\n",
       "      <td>False</td>\n",
       "      <td>False</td>\n",
       "      <td>-1.0</td>\n",
       "      <td>-87.594213</td>\n",
       "      <td>41.809781</td>\n",
       "    </tr>\n",
       "  </tbody>\n",
       "</table>\n",
       "</div>"
      ],
      "text/plain": [
       "                                      CRASH_RECORD_ID          CRASH_DATE  \\\n",
       "1   5f54a59fcb087b12ae5b1acff96a3caf4f2d37e79f8db4... 2023-07-29 14:45:00   \n",
       "2   61fcb8c1eb522a6469b460e2134df3d15f82e81fd93e9c... 2023-08-18 17:58:00   \n",
       "13  fd05285e9d273fe20cbbebf84794045828a2ba589073b6... 2023-07-29 14:30:00   \n",
       "\n",
       "   POSTED_SPEED_LIMIT WEATHER_CONDITION LIGHTING_CONDITION  \\\n",
       "1                  30             CLEAR           DAYLIGHT   \n",
       "2                  30             CLEAR           DAYLIGHT   \n",
       "13                 10           UNKNOWN            UNKNOWN   \n",
       "\n",
       "        FIRST_CRASH_TYPE                  TRAFFICWAY_TYPE  LANE_CNT  \\\n",
       "1   PARKED MOTOR VEHICLE  DIVIDED - W/MEDIAN (NOT RAISED)       NaN   \n",
       "2           PEDALCYCLIST                      NOT DIVIDED       NaN   \n",
       "13                 ANGLE                      PARKING LOT       NaN   \n",
       "\n",
       "             ALIGNMENT ROADWAY_SURFACE_COND ROAD_DEFECT  \\\n",
       "1   STRAIGHT AND LEVEL                  DRY  NO DEFECTS   \n",
       "2   STRAIGHT AND LEVEL                  DRY  NO DEFECTS   \n",
       "13  STRAIGHT AND LEVEL              UNKNOWN     UNKNOWN   \n",
       "\n",
       "                          CRASH_TYPE INTERSECTION_RELATED_I  \\\n",
       "1             NO INJURY / DRIVE AWAY                    NaN   \n",
       "2   INJURY AND / OR TOW DUE TO CRASH                    NaN   \n",
       "13            NO INJURY / DRIVE AWAY                    NaN   \n",
       "\n",
       "   NOT_RIGHT_OF_WAY_I HIT_AND_RUN_I         DAMAGE  \\\n",
       "1                 NaN          True    OVER $1,500   \n",
       "2                 NaN           NaN  $501 - $1,500   \n",
       "13                NaN          True  $501 - $1,500   \n",
       "\n",
       "                   PRIM_CONTRIBUTORY_CAUSE  \\\n",
       "1   FAILING TO REDUCE SPEED TO AVOID CRASH   \n",
       "2   FAILING TO REDUCE SPEED TO AVOID CRASH   \n",
       "13                     UNABLE TO DETERMINE   \n",
       "\n",
       "                               SEC_CONTRIBUTORY_CAUSE  STREET_NO  \\\n",
       "1   OPERATING VEHICLE IN ERRATIC, RECKLESS, CARELE...       2101   \n",
       "2                                 UNABLE TO DETERMINE       3422   \n",
       "13                                     NOT APPLICABLE       1320   \n",
       "\n",
       "   STREET_DIRECTION  STREET_NAME  BEAT_OF_OCCURRENCE  NUM_UNITS  \\\n",
       "1                 S  ASHLAND AVE              1235.0          4   \n",
       "2                 N     LONG AVE              1633.0          2   \n",
       "13                E      47TH ST               222.0          2   \n",
       "\n",
       "          MOST_SEVERE_INJURY  INJURIES_TOTAL  INJURIES_FATAL  \\\n",
       "1    NO INDICATION OF INJURY             0.0             0.0   \n",
       "2   NONINCAPACITATING INJURY             1.0             0.0   \n",
       "13   NO INDICATION OF INJURY             0.0             0.0   \n",
       "\n",
       "    INJURIES_INCAPACITATING  INJURIES_NON_INCAPACITATING  \\\n",
       "1                       0.0                          0.0   \n",
       "2                       0.0                          1.0   \n",
       "13                      0.0                          0.0   \n",
       "\n",
       "    INJURIES_REPORTED_NOT_EVIDENT  INJURIES_NO_INDICATION  INJURIES_UNKNOWN  \\\n",
       "1                             0.0                     1.0               0.0   \n",
       "2                             0.0                     1.0               0.0   \n",
       "13                            0.0                     2.0               0.0   \n",
       "\n",
       "    CRASH_HOUR  CRASH_DAY_OF_WEEK  CRASH_MONTH   LATITUDE  LONGITUDE  \\\n",
       "1           14                  7            7  41.854120 -87.665902   \n",
       "2           17                  6            8  41.942976 -87.761883   \n",
       "13          14                  7            7  41.809781 -87.594213   \n",
       "\n",
       "                                    LOCATION  WEATHER_SEVERITY  \\\n",
       "1   POINT (-87.665902342962 41.854120262952)                 0   \n",
       "2   POINT (-87.761883496974 41.942975745006)                 0   \n",
       "13  POINT (-87.594212812011 41.809781151018)                -1   \n",
       "\n",
       "    WEATHER_CATEGORY_CLEAR  WEATHER_CATEGORY_CLOUDY  WEATHER_CATEGORY_EXTREME  \\\n",
       "1                     True                    False                     False   \n",
       "2                     True                    False                     False   \n",
       "13                   False                    False                     False   \n",
       "\n",
       "    WEATHER_CATEGORY_RAIN  WEATHER_CATEGORY_UNKNOWN  LIGHTING_SEVERITY  \\\n",
       "1                   False                     False                  0   \n",
       "2                   False                     False                  0   \n",
       "13                  False                      True                 -1   \n",
       "\n",
       "    LIGHTING_CATEGORY_DAYLIGHT  LIGHTING_CATEGORY_NIGHT  \\\n",
       "1                         True                    False   \n",
       "2                         True                    False   \n",
       "13                       False                    False   \n",
       "\n",
       "    LIGHTING_CATEGORY_UNKNOWN  crash_severity_score  \\\n",
       "1                       False              0.017663   \n",
       "2                       False              0.195474   \n",
       "13                       True              0.078656   \n",
       "\n",
       "    ROADWAY_SURFACE_CATEGORY_DRY  ROADWAY_SURFACE_CATEGORY_ICE  \\\n",
       "1                           True                         False   \n",
       "2                           True                         False   \n",
       "13                         False                         False   \n",
       "\n",
       "    ROADWAY_SURFACE_CATEGORY_SNOW  ROADWAY_SURFACE_CATEGORY_UNKNOWN  \\\n",
       "1                           False                             False   \n",
       "2                           False                             False   \n",
       "13                          False                              True   \n",
       "\n",
       "    ROADWAY_SURFACE_CATEGORY_WET  surface_cond  ROAD_DEFECT_CATEGORY_BAD  \\\n",
       "1                          False             0                     False   \n",
       "2                          False             0                     False   \n",
       "13                         False            -1                     False   \n",
       "\n",
       "    ROAD_DEFECT_CATEGORY_DEBRIS  ROAD_DEFECT_CATEGORY_DEFECT  \\\n",
       "1                         False                        False   \n",
       "2                         False                        False   \n",
       "13                        False                        False   \n",
       "\n",
       "    ROAD_DEFECT_CATEGORY_NO_DEFECTS  ROAD_DEFECT_CATEGORY_UNKNOWN  road_cond  \\\n",
       "1                              True                         False          0   \n",
       "2                              True                         False          0   \n",
       "13                            False                          True         -1   \n",
       "\n",
       "    ROADWAY_SEVERITY  CRASH_TYPE_b  TOW  DAMAGE_SEVERITY  \\\n",
       "1                  0             0    0                2   \n",
       "2                  0             1    0                1   \n",
       "13                -1             0    0                1   \n",
       "\n",
       "    DAMAGE_CATEGORY_HIGH  DAMAGE_CATEGORY_LOW  DAMAGE_CATEGORY_MEDIUM  \\\n",
       "1                   True                False                   False   \n",
       "2                  False                False                    True   \n",
       "13                 False                False                    True   \n",
       "\n",
       "    SPEEDING  DRINKING  TELEPHONE  responsibility_score  EXTRACTED_LONGITUDE  \\\n",
       "1       True     False      False                   0.7           -87.665902   \n",
       "2       True     False      False                   0.7           -87.761883   \n",
       "13     False     False      False                  -1.0           -87.594213   \n",
       "\n",
       "    EXTRACTED_LATITUDE  \n",
       "1            41.854120  \n",
       "2            41.942976  \n",
       "13           41.809781  "
      ]
     },
     "execution_count": 414,
     "metadata": {},
     "output_type": "execute_result"
    }
   ],
   "source": [
    "crashes.head(3)"
   ]
  },
  {
   "cell_type": "code",
   "execution_count": 415,
   "metadata": {},
   "outputs": [],
   "source": [
    "crashes = crashes.drop(columns=['INJURIES_UNKNOWN'])"
   ]
  },
  {
   "cell_type": "markdown",
   "metadata": {},
   "source": [
    "---"
   ]
  },
  {
   "cell_type": "code",
   "execution_count": 416,
   "metadata": {},
   "outputs": [
    {
     "name": "stdout",
     "output_type": "stream",
     "text": [
      "5.10.4\n"
     ]
    }
   ],
   "source": [
    "import nbformat\n",
    "print(nbformat.__version__)"
   ]
  },
  {
   "cell_type": "markdown",
   "metadata": {},
   "source": [
    "## LOCATION check using plotly"
   ]
  },
  {
   "cell_type": "code",
   "execution_count": 417,
   "metadata": {},
   "outputs": [],
   "source": [
    "import plotly.express as px\n",
    "\n",
    "# Sample: Use the first 10,000 crash records for performance reasons\n",
    "crashes_sample = crashes[['LATITUDE', 'LONGITUDE']].dropna().sample(10000, random_state=42)\n",
    "\n",
    "# Create an interactive scatter map\n",
    "fig = px.scatter_map(crashes_sample,\n",
    "                        lat=\"LATITUDE\",\n",
    "                        lon=\"LONGITUDE\",\n",
    "                        hover_name=\"LATITUDE\",\n",
    "                        hover_data=[\"LONGITUDE\"],\n",
    "                        zoom=10,\n",
    "                        title=\"Chicago Traffic Crashes\",\n",
    "                        map_style=\"open-street-map\")\n",
    "\n",
    "fig.write_html(\"crash_map.html\")\n",
    "\n",
    "\n"
   ]
  },
  {
   "cell_type": "code",
   "execution_count": 418,
   "metadata": {},
   "outputs": [],
   "source": [
    "# Round latitude & longitude to 3 decimal places (~100m accuracy)\n",
    "crashes['LAT_BIN'] = crashes['LATITUDE'].round(3)\n",
    "crashes['LON_BIN'] = crashes['LONGITUDE'].round(3)\n",
    "\n",
    "# Count crashes per bin\n",
    "heatmap_data = crashes.groupby(['LAT_BIN', 'LON_BIN']).size().reset_index(name=\"CRASH_COUNT\")\n",
    "\n",
    "# Plot aggregated data\n",
    "fig = px.scatter_map(heatmap_data,\n",
    "                        lat=\"LAT_BIN\",\n",
    "                        lon=\"LON_BIN\",\n",
    "                        size=\"CRASH_COUNT\",  # Larger circles for more crashes\n",
    "                        zoom=10,\n",
    "                        title=\"Binned Traffic Crash Map\",\n",
    "                        map_style=\"open-street-map\")\n",
    "\n",
    "fig.write_html(\"crash_map_bin.html\")"
   ]
  },
  {
   "cell_type": "markdown",
   "metadata": {},
   "source": [
    "looking at both plot we can see how near the airport to the left there are 1400 crashes on the same point"
   ]
  },
  {
   "cell_type": "code",
   "execution_count": 419,
   "metadata": {},
   "outputs": [],
   "source": [
    "crashes_subset_ll = crashes[(crashes['LATITUDE'] == 41.976201139) & (crashes['LONGITUDE'] == -87.905309125)]"
   ]
  },
  {
   "cell_type": "code",
   "execution_count": 420,
   "metadata": {},
   "outputs": [
    {
     "data": {
      "text/plain": [
       "1328"
      ]
     },
     "execution_count": 420,
     "metadata": {},
     "output_type": "execute_result"
    }
   ],
   "source": [
    "len(crashes_subset_ll)"
   ]
  },
  {
   "cell_type": "code",
   "execution_count": 421,
   "metadata": {},
   "outputs": [
    {
     "data": {
      "text/plain": [
       "POSTED_SPEED_LIMIT\n",
       "30    403\n",
       "20    244\n",
       "15    195\n",
       "10    163\n",
       "25    110\n",
       "45     67\n",
       "35     58\n",
       "40     38\n",
       "55     20\n",
       "50     16\n",
       "5      13\n",
       "70      1\n",
       "Name: count, dtype: int64"
      ]
     },
     "execution_count": 421,
     "metadata": {},
     "output_type": "execute_result"
    }
   ],
   "source": [
    "crashes_subset_ll['POSTED_SPEED_LIMIT'].value_counts()"
   ]
  },
  {
   "cell_type": "code",
   "execution_count": 422,
   "metadata": {},
   "outputs": [],
   "source": [
    "# change these subset to NaN for LATITUDE and LONGITUDE, LOCATION, EXTRACTED_LATITUDE, EXTRACTED_LONGITUDE\n",
    "crashes.loc[(crashes['LATITUDE'] == 41.976201139) & (crashes['LONGITUDE'] == -87.905309125), ['LATITUDE', 'LONGITUDE', 'LOCATION', 'EXTRACTED_LATITUDE', 'EXTRACTED_LONGITUDE']] = np.nan"
   ]
  },
  {
   "cell_type": "code",
   "execution_count": 423,
   "metadata": {},
   "outputs": [],
   "source": [
    "crashes_subset_ll = crashes[(crashes['LATITUDE'] == 41.976201139) & (crashes['LONGITUDE'] == -87.905309125)]"
   ]
  },
  {
   "cell_type": "code",
   "execution_count": 424,
   "metadata": {},
   "outputs": [
    {
     "data": {
      "text/plain": [
       "0"
      ]
     },
     "execution_count": 424,
     "metadata": {},
     "output_type": "execute_result"
    }
   ],
   "source": [
    "len(crashes_subset_ll)"
   ]
  },
  {
   "cell_type": "markdown",
   "metadata": {},
   "source": [
    "---"
   ]
  },
  {
   "cell_type": "markdown",
   "metadata": {},
   "source": [
    "## finalizing crashes dataset"
   ]
  },
  {
   "cell_type": "code",
   "execution_count": 425,
   "metadata": {},
   "outputs": [
    {
     "name": "stdout",
     "output_type": "stream",
     "text": [
      "<class 'pandas.core.frame.DataFrame'>\n",
      "Index: 758192 entries, 1 to 912163\n",
      "Data columns (total 74 columns):\n",
      " #   Column                            Non-Null Count   Dtype         \n",
      "---  ------                            --------------   -----         \n",
      " 0   CRASH_RECORD_ID                   758192 non-null  object        \n",
      " 1   CRASH_DATE                        758192 non-null  datetime64[ns]\n",
      " 2   POSTED_SPEED_LIMIT                758192 non-null  object        \n",
      " 3   WEATHER_CONDITION                 758192 non-null  object        \n",
      " 4   LIGHTING_CONDITION                758192 non-null  object        \n",
      " 5   FIRST_CRASH_TYPE                  758192 non-null  object        \n",
      " 6   TRAFFICWAY_TYPE                   758192 non-null  object        \n",
      " 7   LANE_CNT                          89847 non-null   float64       \n",
      " 8   ALIGNMENT                         758192 non-null  object        \n",
      " 9   ROADWAY_SURFACE_COND              758192 non-null  object        \n",
      " 10  ROAD_DEFECT                       758192 non-null  object        \n",
      " 11  CRASH_TYPE                        758192 non-null  object        \n",
      " 12  INTERSECTION_RELATED_I            179751 non-null  object        \n",
      " 13  NOT_RIGHT_OF_WAY_I                33922 non-null   object        \n",
      " 14  HIT_AND_RUN_I                     244017 non-null  object        \n",
      " 15  DAMAGE                            758192 non-null  object        \n",
      " 16  PRIM_CONTRIBUTORY_CAUSE           758192 non-null  object        \n",
      " 17  SEC_CONTRIBUTORY_CAUSE            758192 non-null  object        \n",
      " 18  STREET_NO                         758192 non-null  int64         \n",
      " 19  STREET_DIRECTION                  758191 non-null  object        \n",
      " 20  STREET_NAME                       758192 non-null  object        \n",
      " 21  BEAT_OF_OCCURRENCE                758192 non-null  float64       \n",
      " 22  NUM_UNITS                         758192 non-null  int64         \n",
      " 23  MOST_SEVERE_INJURY                756457 non-null  object        \n",
      " 24  INJURIES_TOTAL                    757409 non-null  float64       \n",
      " 25  INJURIES_FATAL                    757409 non-null  float64       \n",
      " 26  INJURIES_INCAPACITATING           757409 non-null  float64       \n",
      " 27  INJURIES_NON_INCAPACITATING       757409 non-null  float64       \n",
      " 28  INJURIES_REPORTED_NOT_EVIDENT     757409 non-null  float64       \n",
      " 29  INJURIES_NO_INDICATION            756464 non-null  float64       \n",
      " 30  CRASH_HOUR                        758192 non-null  int64         \n",
      " 31  CRASH_DAY_OF_WEEK                 758192 non-null  int64         \n",
      " 32  CRASH_MONTH                       758192 non-null  int64         \n",
      " 33  LATITUDE                          756864 non-null  float64       \n",
      " 34  LONGITUDE                         756864 non-null  float64       \n",
      " 35  LOCATION                          756864 non-null  object        \n",
      " 36  WEATHER_SEVERITY                  758192 non-null  int64         \n",
      " 37  WEATHER_CATEGORY_CLEAR            758192 non-null  bool          \n",
      " 38  WEATHER_CATEGORY_CLOUDY           758192 non-null  bool          \n",
      " 39  WEATHER_CATEGORY_EXTREME          758192 non-null  bool          \n",
      " 40  WEATHER_CATEGORY_RAIN             758192 non-null  bool          \n",
      " 41  WEATHER_CATEGORY_UNKNOWN          758192 non-null  bool          \n",
      " 42  LIGHTING_SEVERITY                 758192 non-null  int64         \n",
      " 43  LIGHTING_CATEGORY_DAYLIGHT        758192 non-null  bool          \n",
      " 44  LIGHTING_CATEGORY_NIGHT           758192 non-null  bool          \n",
      " 45  LIGHTING_CATEGORY_UNKNOWN         758192 non-null  bool          \n",
      " 46  crash_severity_score              758192 non-null  float64       \n",
      " 47  ROADWAY_SURFACE_CATEGORY_DRY      758192 non-null  bool          \n",
      " 48  ROADWAY_SURFACE_CATEGORY_ICE      758192 non-null  bool          \n",
      " 49  ROADWAY_SURFACE_CATEGORY_SNOW     758192 non-null  bool          \n",
      " 50  ROADWAY_SURFACE_CATEGORY_UNKNOWN  758192 non-null  bool          \n",
      " 51  ROADWAY_SURFACE_CATEGORY_WET      758192 non-null  bool          \n",
      " 52  surface_cond                      758192 non-null  int64         \n",
      " 53  ROAD_DEFECT_CATEGORY_BAD          758192 non-null  bool          \n",
      " 54  ROAD_DEFECT_CATEGORY_DEBRIS       758192 non-null  bool          \n",
      " 55  ROAD_DEFECT_CATEGORY_DEFECT       758192 non-null  bool          \n",
      " 56  ROAD_DEFECT_CATEGORY_NO_DEFECTS   758192 non-null  bool          \n",
      " 57  ROAD_DEFECT_CATEGORY_UNKNOWN      758192 non-null  bool          \n",
      " 58  road_cond                         758192 non-null  int64         \n",
      " 59  ROADWAY_SEVERITY                  758192 non-null  int64         \n",
      " 60  CRASH_TYPE_b                      758192 non-null  int64         \n",
      " 61  TOW                               758192 non-null  int64         \n",
      " 62  DAMAGE_SEVERITY                   758192 non-null  int64         \n",
      " 63  DAMAGE_CATEGORY_HIGH              758192 non-null  bool          \n",
      " 64  DAMAGE_CATEGORY_LOW               758192 non-null  bool          \n",
      " 65  DAMAGE_CATEGORY_MEDIUM            758192 non-null  bool          \n",
      " 66  SPEEDING                          758192 non-null  bool          \n",
      " 67  DRINKING                          758192 non-null  bool          \n",
      " 68  TELEPHONE                         758192 non-null  bool          \n",
      " 69  responsibility_score              758192 non-null  float64       \n",
      " 70  EXTRACTED_LONGITUDE               756864 non-null  float64       \n",
      " 71  EXTRACTED_LATITUDE                756864 non-null  float64       \n",
      " 72  LAT_BIN                           758192 non-null  float64       \n",
      " 73  LON_BIN                           758192 non-null  float64       \n",
      "dtypes: bool(24), datetime64[ns](1), float64(16), int64(13), object(20)\n",
      "memory usage: 328.5+ MB\n"
     ]
    }
   ],
   "source": [
    "crashes.info()"
   ]
  },
  {
   "cell_type": "code",
   "execution_count": 426,
   "metadata": {},
   "outputs": [],
   "source": [
    "final_columns = ['CRASH_RECORD_ID', 'CRASH_DATE', 'POSTED_SPEED_LIMIT', 'WEATHER_SEVERITY', 'LIGHTING_SEVERITY', 'FIRST_CRASH_TYPE', 'TRAFFICWAY_TYPE', 'ALIGNMENT', 'ROADWAY_SEVERITY', 'CRASH_TYPE', 'DAMAGE_SEVERITY', 'PRIM_CONTRIBUTORY_CAUSE', 'SEC_CONTRIBUTORY_CAUSE', 'BEAT_OF_OCCURRENCE', 'STREET_NO', 'STREET_DIRECTION', 'STREET_NAME', 'LATITUDE', 'LONGITUDE', 'NUM_UNITS', 'MOST_SEVERE_INJURY', 'INJURIES_TOTAL', 'INJURIES_FATAL', 'INJURIES_INCAPACITATING', 'INJURIES_NON_INCAPACITATING', 'INJURIES_REPORTED_NOT_EVIDENT'\n",
    "                 , 'WEATHER_CATEGORY_CLEAR', 'WEATHER_CATEGORY_CLOUDY', 'WEATHER_CATEGORY_RAIN', 'WEATHER_CATEGORY_EXTREME', 'WEATHER_CATEGORY_UNKNOWN', 'LIGHTING_CATEGORY_DAYLIGHT', 'LIGHTING_CATEGORY_NIGHT', 'LIGHTING_CATEGORY_UNKNOWN', 'ROADWAY_SURFACE_CATEGORY_DRY', 'ROADWAY_SURFACE_CATEGORY_WET', 'ROADWAY_SURFACE_CATEGORY_SNOW', 'ROADWAY_SURFACE_CATEGORY_ICE', 'ROADWAY_SURFACE_CATEGORY_UNKNOWN', 'ROAD_DEFECT_CATEGORY_NO_DEFECTS', 'ROAD_DEFECT_CATEGORY_BAD', 'ROAD_DEFECT_CATEGORY_DEFECT', 'ROAD_DEFECT_CATEGORY_DEBRIS', 'ROAD_DEFECT_CATEGORY_UNKNOWN', 'DAMAGE_CATEGORY_HIGH', 'DAMAGE_CATEGORY_LOW', 'DAMAGE_CATEGORY_MEDIUM',\n",
    "                 'crash_severity_score', 'responsibility_score', 'CRASH_TYPE_b', 'TOW', 'SPEEDING', 'DRINKING', 'TELEPHONE']"
   ]
  },
  {
   "cell_type": "code",
   "execution_count": 427,
   "metadata": {},
   "outputs": [],
   "source": [
    "crashes_severity = crashes[final_columns]\n",
    "\n",
    "# csv\n",
    "crashes_severity.to_csv('dataset/crashes_severity_2017.csv', index=False)"
   ]
  },
  {
   "cell_type": "markdown",
   "metadata": {},
   "source": [
    "---"
   ]
  },
  {
   "cell_type": "markdown",
   "metadata": {},
   "source": [
    "# PEOPLE"
   ]
  },
  {
   "cell_type": "code",
   "execution_count": 431,
   "metadata": {},
   "outputs": [],
   "source": [
    "# load people\n",
    "people = pd.read_csv('dataset/people.csv', low_memory=False)"
   ]
  },
  {
   "cell_type": "code",
   "execution_count": 432,
   "metadata": {},
   "outputs": [
    {
     "name": "stdout",
     "output_type": "stream",
     "text": [
      "<class 'pandas.core.frame.DataFrame'>\n",
      "RangeIndex: 2003340 entries, 0 to 2003339\n",
      "Data columns (total 29 columns):\n",
      " #   Column                 Non-Null Count    Dtype  \n",
      "---  ------                 --------------    -----  \n",
      " 0   PERSON_ID              2003340 non-null  object \n",
      " 1   PERSON_TYPE            2003340 non-null  object \n",
      " 2   CRASH_RECORD_ID        2003340 non-null  object \n",
      " 3   VEHICLE_ID             1962246 non-null  float64\n",
      " 4   CRASH_DATE             2003340 non-null  object \n",
      " 5   SEAT_NO                404959 non-null   float64\n",
      " 6   CITY                   1458050 non-null  object \n",
      " 7   STATE                  1480279 non-null  object \n",
      " 8   ZIPCODE                1341900 non-null  object \n",
      " 9   SEX                    1969502 non-null  object \n",
      " 10  AGE                    1420517 non-null  float64\n",
      " 11  DRIVERS_LICENSE_STATE  1172976 non-null  object \n",
      " 12  DRIVERS_LICENSE_CLASS  974527 non-null   object \n",
      " 13  SAFETY_EQUIPMENT       1997745 non-null  object \n",
      " 14  AIRBAG_DEPLOYED        1963791 non-null  object \n",
      " 15  EJECTION               1978115 non-null  object \n",
      " 16  INJURY_CLASSIFICATION  2002584 non-null  object \n",
      " 17  HOSPITAL               323379 non-null   object \n",
      " 18  EMS_AGENCY             199529 non-null   object \n",
      " 19  EMS_RUN_NO             33361 non-null    object \n",
      " 20  DRIVER_ACTION          1594795 non-null  object \n",
      " 21  DRIVER_VISION          1594162 non-null  object \n",
      " 22  PHYSICAL_CONDITION     1595892 non-null  object \n",
      " 23  PEDPEDAL_ACTION        39281 non-null    object \n",
      " 24  PEDPEDAL_VISIBILITY    39211 non-null    object \n",
      " 25  PEDPEDAL_LOCATION      39282 non-null    object \n",
      " 26  BAC_RESULT             1595718 non-null  object \n",
      " 27  BAC_RESULT VALUE       2213 non-null     float64\n",
      " 28  CELL_PHONE_USE         1160 non-null     object \n",
      "dtypes: float64(4), object(25)\n",
      "memory usage: 443.2+ MB\n"
     ]
    }
   ],
   "source": [
    "people.info(show_counts=True)"
   ]
  },
  {
   "cell_type": "code",
   "execution_count": 433,
   "metadata": {},
   "outputs": [
    {
     "data": {
      "text/plain": [
       "PERSON_ID                 0.000000\n",
       "PERSON_TYPE               0.000000\n",
       "CRASH_RECORD_ID           0.000000\n",
       "VEHICLE_ID                2.051274\n",
       "CRASH_DATE                0.000000\n",
       "SEAT_NO                  79.785808\n",
       "CITY                     27.219044\n",
       "STATE                    26.109447\n",
       "ZIPCODE                  33.016862\n",
       "SEX                       1.689079\n",
       "AGE                      29.092565\n",
       "DRIVERS_LICENSE_STATE    41.448980\n",
       "DRIVERS_LICENSE_CLASS    51.354887\n",
       "SAFETY_EQUIPMENT          0.279284\n",
       "AIRBAG_DEPLOYED           1.974153\n",
       "EJECTION                  1.259147\n",
       "INJURY_CLASSIFICATION     0.037737\n",
       "HOSPITAL                 83.858007\n",
       "EMS_AGENCY               90.040183\n",
       "EMS_RUN_NO               98.334731\n",
       "DRIVER_ACTION            20.393193\n",
       "DRIVER_VISION            20.424791\n",
       "PHYSICAL_CONDITION       20.338435\n",
       "PEDPEDAL_ACTION          98.039224\n",
       "PEDPEDAL_VISIBILITY      98.042719\n",
       "PEDPEDAL_LOCATION        98.039175\n",
       "BAC_RESULT               20.347120\n",
       "BAC_RESULT VALUE         99.889534\n",
       "CELL_PHONE_USE           99.942097\n",
       "dtype: float64"
      ]
     },
     "execution_count": 433,
     "metadata": {},
     "output_type": "execute_result"
    }
   ],
   "source": [
    "# percentage of missing values\n",
    "people.isnull().mean() * 100"
   ]
  },
  {
   "cell_type": "code",
   "execution_count": 434,
   "metadata": {},
   "outputs": [],
   "source": [
    "# drop rows with CRASH_RECORD_ID not in crashes\n",
    "people_crash = people[people['CRASH_RECORD_ID'].isin(crashes['CRASH_RECORD_ID'])]"
   ]
  },
  {
   "cell_type": "code",
   "execution_count": 435,
   "metadata": {},
   "outputs": [
    {
     "name": "stdout",
     "output_type": "stream",
     "text": [
      "<class 'pandas.core.frame.DataFrame'>\n",
      "Index: 1667514 entries, 0 to 2002519\n",
      "Data columns (total 29 columns):\n",
      " #   Column                 Non-Null Count    Dtype  \n",
      "---  ------                 --------------    -----  \n",
      " 0   PERSON_ID              1667514 non-null  object \n",
      " 1   PERSON_TYPE            1667514 non-null  object \n",
      " 2   CRASH_RECORD_ID        1667514 non-null  object \n",
      " 3   VEHICLE_ID             1631669 non-null  float64\n",
      " 4   CRASH_DATE             1667514 non-null  object \n",
      " 5   SEAT_NO                340289 non-null   float64\n",
      " 6   CITY                   1208909 non-null  object \n",
      " 7   STATE                  1230765 non-null  object \n",
      " 8   ZIPCODE                1113678 non-null  object \n",
      " 9   SEX                    1638219 non-null  object \n",
      " 10  AGE                    1183934 non-null  float64\n",
      " 11  DRIVERS_LICENSE_STATE  971466 non-null   object \n",
      " 12  DRIVERS_LICENSE_CLASS  794109 non-null   object \n",
      " 13  SAFETY_EQUIPMENT       1662735 non-null  object \n",
      " 14  AIRBAG_DEPLOYED        1633082 non-null  object \n",
      " 15  EJECTION               1645531 non-null  object \n",
      " 16  INJURY_CLASSIFICATION  1667004 non-null  object \n",
      " 17  HOSPITAL               274050 non-null   object \n",
      " 18  EMS_AGENCY             165622 non-null   object \n",
      " 19  EMS_RUN_NO             28193 non-null    object \n",
      " 20  DRIVER_ACTION          1324155 non-null  object \n",
      " 21  DRIVER_VISION          1323579 non-null  object \n",
      " 22  PHYSICAL_CONDITION     1325132 non-null  object \n",
      " 23  PEDPEDAL_ACTION        34308 non-null    object \n",
      " 24  PEDPEDAL_VISIBILITY    34254 non-null    object \n",
      " 25  PEDPEDAL_LOCATION      34305 non-null    object \n",
      " 26  BAC_RESULT             1324614 non-null  object \n",
      " 27  BAC_RESULT VALUE       1917 non-null     float64\n",
      " 28  CELL_PHONE_USE         600 non-null      object \n",
      "dtypes: float64(4), object(25)\n",
      "memory usage: 381.7+ MB\n"
     ]
    }
   ],
   "source": [
    "people_crash.info(show_counts=True)"
   ]
  },
  {
   "cell_type": "code",
   "execution_count": 436,
   "metadata": {},
   "outputs": [
    {
     "name": "stdout",
     "output_type": "stream",
     "text": [
      "PERSON_ID                 0.000000\n",
      "PERSON_TYPE               0.000000\n",
      "CRASH_RECORD_ID           0.000000\n",
      "VEHICLE_ID                2.149607\n",
      "CRASH_DATE                0.000000\n",
      "SEAT_NO                  79.593035\n",
      "CITY                     27.502318\n",
      "STATE                    26.191624\n",
      "ZIPCODE                  33.213274\n",
      "SEX                       1.756807\n",
      "AGE                      29.000056\n",
      "DRIVERS_LICENSE_STATE    41.741659\n",
      "DRIVERS_LICENSE_CLASS    52.377671\n",
      "SAFETY_EQUIPMENT          0.286594\n",
      "AIRBAG_DEPLOYED           2.064870\n",
      "EJECTION                  1.318310\n",
      "INJURY_CLASSIFICATION     0.030584\n",
      "HOSPITAL                 83.565355\n",
      "EMS_AGENCY               90.067730\n",
      "EMS_RUN_NO               98.309280\n",
      "DRIVER_ACTION            20.591071\n",
      "DRIVER_VISION            20.625614\n",
      "PHYSICAL_CONDITION       20.532481\n",
      "PEDPEDAL_ACTION          97.942566\n",
      "PEDPEDAL_VISIBILITY      97.945804\n",
      "PEDPEDAL_LOCATION        97.942746\n",
      "BAC_RESULT               20.563545\n",
      "BAC_RESULT VALUE         99.885038\n",
      "CELL_PHONE_USE           99.964018\n",
      "dtype: float64\n"
     ]
    }
   ],
   "source": [
    "print(people_crash.isnull().mean() * 100)"
   ]
  },
  {
   "cell_type": "markdown",
   "metadata": {},
   "source": [
    "---"
   ]
  },
  {
   "cell_type": "markdown",
   "metadata": {},
   "source": [
    "## duplicate ID check"
   ]
  },
  {
   "cell_type": "code",
   "execution_count": 153,
   "metadata": {},
   "outputs": [
    {
     "data": {
      "text/plain": [
       "np.int64(0)"
      ]
     },
     "execution_count": 153,
     "metadata": {},
     "output_type": "execute_result"
    }
   ],
   "source": [
    "people['PERSON_ID'].duplicated().sum()"
   ]
  },
  {
   "cell_type": "markdown",
   "metadata": {},
   "source": [
    "## Dropping very high NaN features"
   ]
  },
  {
   "cell_type": "code",
   "execution_count": 154,
   "metadata": {},
   "outputs": [],
   "source": [
    "columns_to_drop = ['HOSPITAL', 'EMS_AGENCY', 'EMS_RUN_NO', 'PEDPEDAL_ACTION', 'PEDPEDAL_VISIBILITY', 'PEDPEDAL_LOCATION',  'BAC_RESULT VALUE', 'CELL_PHONE_USE']\n",
    "people = people.drop(columns=columns_to_drop)"
   ]
  },
  {
   "cell_type": "markdown",
   "metadata": {},
   "source": [
    "dataset overview"
   ]
  },
  {
   "cell_type": "markdown",
   "metadata": {},
   "source": [
    "---"
   ]
  },
  {
   "cell_type": "markdown",
   "metadata": {},
   "source": [
    "## PERSON_TYPE, SEAT_NO"
   ]
  },
  {
   "cell_type": "code",
   "execution_count": 155,
   "metadata": {},
   "outputs": [
    {
     "data": {
      "text/plain": [
       "PERSON_TYPE\n",
       "DRIVER                 1557809\n",
       "PASSENGER               404959\n",
       "PEDESTRIAN               23752\n",
       "BICYCLE                  14808\n",
       "NON-MOTOR VEHICLE         1681\n",
       "NON-CONTACT VEHICLE        331\n",
       "Name: count, dtype: int64"
      ]
     },
     "execution_count": 155,
     "metadata": {},
     "output_type": "execute_result"
    }
   ],
   "source": [
    "people['PERSON_TYPE'].value_counts()"
   ]
  },
  {
   "cell_type": "code",
   "execution_count": 156,
   "metadata": {},
   "outputs": [
    {
     "data": {
      "text/plain": [
       "SEAT_NO\n",
       "3.0     195359\n",
       "6.0      67897\n",
       "4.0      53913\n",
       "5.0      19089\n",
       "1.0      18179\n",
       "2.0      17188\n",
       "12.0     10738\n",
       "7.0       9327\n",
       "10.0      9133\n",
       "11.0      3598\n",
       "8.0        538\n",
       "Name: count, dtype: int64"
      ]
     },
     "execution_count": 156,
     "metadata": {},
     "output_type": "execute_result"
    }
   ],
   "source": [
    "people['SEAT_NO'].value_counts()"
   ]
  },
  {
   "cell_type": "markdown",
   "metadata": {},
   "source": [
    "This column has a lot of missing values and we won't be using it for our analisys, further more a similar overview can be obtained by the PERSON_TYPE feature. Hence we decided to drop this"
   ]
  },
  {
   "cell_type": "code",
   "execution_count": 157,
   "metadata": {},
   "outputs": [],
   "source": [
    "columns_to_drop = ['SEAT_NO']\n",
    "people = people.drop(columns=columns_to_drop)"
   ]
  },
  {
   "cell_type": "code",
   "execution_count": 158,
   "metadata": {},
   "outputs": [
    {
     "data": {
      "text/plain": [
       "CITY\n",
       "CHICAGO        1033943\n",
       "CICERO           14428\n",
       "SKOKIE            9302\n",
       "BERWYN            8022\n",
       "EVANSTON          7913\n",
       "                ...   \n",
       "BRIDDGEVIEW          1\n",
       "OLYMPIA RD           1\n",
       "NANATIH              1\n",
       "OSWEDO               1\n",
       "NOBLE                1\n",
       "Name: count, Length: 14215, dtype: int64"
      ]
     },
     "execution_count": 158,
     "metadata": {},
     "output_type": "execute_result"
    }
   ],
   "source": [
    "people['CITY'].value_counts()"
   ]
  },
  {
   "cell_type": "code",
   "execution_count": 159,
   "metadata": {},
   "outputs": [
    {
     "data": {
      "text/plain": [
       "STATE\n",
       "IL    1397341\n",
       "IN      23111\n",
       "XX       9574\n",
       "WI       7172\n",
       "MI       5395\n",
       "FL       3929\n",
       "TX       3248\n",
       "CA       2952\n",
       "OH       2799\n",
       "IA       2074\n",
       "GA       2010\n",
       "MN       1762\n",
       "MO       1756\n",
       "NY       1650\n",
       "WA       1343\n",
       "TN       1211\n",
       "AZ       1021\n",
       "NC        934\n",
       "PA        871\n",
       "CO        728\n",
       "NJ        714\n",
       "KY        701\n",
       "ID        700\n",
       "VA        627\n",
       "MD        596\n",
       "MS        565\n",
       "MA        550\n",
       "AL        528\n",
       "NV        458\n",
       "LA        447\n",
       "AR        404\n",
       "NB        377\n",
       "SC        360\n",
       "KS        346\n",
       "OK        332\n",
       "CT        227\n",
       "OR        223\n",
       "UT        170\n",
       "NM        141\n",
       "SD        114\n",
       "ND        106\n",
       "DC         96\n",
       "MT         95\n",
       "NH         76\n",
       "HI         66\n",
       "DE         65\n",
       "ME         62\n",
       "WV         61\n",
       "WY         56\n",
       "RI         51\n",
       "AK         47\n",
       "VT         37\n",
       "Name: count, dtype: int64"
      ]
     },
     "execution_count": 159,
     "metadata": {},
     "output_type": "execute_result"
    }
   ],
   "source": [
    "people['STATE'].value_counts()"
   ]
  },
  {
   "cell_type": "code",
   "execution_count": 439,
   "metadata": {},
   "outputs": [
    {
     "data": {
      "text/plain": [
       "ZIPCODE\n",
       "60629    50027\n",
       "60639    41723\n",
       "60620    36703\n",
       "60617    35748\n",
       "60623    35082\n",
       "         ...  \n",
       "38995        1\n",
       "78602        1\n",
       "13856        1\n",
       "62216        1\n",
       "10709        1\n",
       "Name: count, Length: 15141, dtype: int64"
      ]
     },
     "execution_count": 439,
     "metadata": {},
     "output_type": "execute_result"
    }
   ],
   "source": [
    "people['ZIPCODE'].value_counts()"
   ]
  },
  {
   "cell_type": "markdown",
   "metadata": {},
   "source": [
    "The CITY and STATE are very unbalanced since they are mainly local people. We have to decide what to do with this information and if it will be usefull later."
   ]
  },
  {
   "cell_type": "markdown",
   "metadata": {},
   "source": [
    "---"
   ]
  },
  {
   "cell_type": "markdown",
   "metadata": {},
   "source": [
    "## SEX, AGE"
   ]
  },
  {
   "cell_type": "code",
   "execution_count": 440,
   "metadata": {},
   "outputs": [
    {
     "data": {
      "text/plain": [
       "SEX\n",
       "M    1035662\n",
       "F     751743\n",
       "X     182097\n",
       "Name: count, dtype: int64"
      ]
     },
     "execution_count": 440,
     "metadata": {},
     "output_type": "execute_result"
    }
   ],
   "source": [
    "people['SEX'].value_counts()"
   ]
  },
  {
   "cell_type": "code",
   "execution_count": 162,
   "metadata": {},
   "outputs": [],
   "source": [
    "# change SEX to -1 0 1\n",
    "\n",
    "sex_mapping = {\n",
    "    'M': 1,\n",
    "    'F': 0,\n",
    "    'X': -1\n",
    "}\n",
    "\n",
    "people['SEX'] = people['SEX'].map(sex_mapping)"
   ]
  },
  {
   "cell_type": "code",
   "execution_count": 163,
   "metadata": {},
   "outputs": [
    {
     "data": {
      "text/plain": [
       "SEX\n",
       " 1.0    1035662\n",
       " 0.0     751743\n",
       "-1.0     182097\n",
       "Name: count, dtype: int64"
      ]
     },
     "execution_count": 163,
     "metadata": {},
     "output_type": "execute_result"
    }
   ],
   "source": [
    "people['SEX'].value_counts()"
   ]
  },
  {
   "cell_type": "code",
   "execution_count": 438,
   "metadata": {},
   "outputs": [
    {
     "data": {
      "text/plain": [
       "AGE\n",
       " 26.0     39704\n",
       " 25.0     39681\n",
       " 27.0     39675\n",
       " 28.0     39033\n",
       " 24.0     38483\n",
       "          ...  \n",
       "-47.0         1\n",
       "-177.0        1\n",
       "-49.0         1\n",
       "-40.0         1\n",
       "-59.0         1\n",
       "Name: count, Length: 117, dtype: int64"
      ]
     },
     "execution_count": 438,
     "metadata": {},
     "output_type": "execute_result"
    }
   ],
   "source": [
    "people['AGE'].value_counts()"
   ]
  },
  {
   "cell_type": "code",
   "execution_count": 437,
   "metadata": {},
   "outputs": [
    {
     "data": {
      "image/png": "[encoded data removed]",
      "text/plain": [
       "<Figure size 640x480 with 1 Axes>"
      ]
     },
     "metadata": {},
     "output_type": "display_data"
    }
   ],
   "source": [
    "# Age distribution\n",
    "people['AGE'].plot(kind='hist', bins=20)\n",
    "plt.xlabel('Age')\n",
    "plt.ylabel('Frequency')\n",
    "plt.title('Age distribution of people involved in crashes')\n",
    "plt.show()\n"
   ]
  },
  {
   "cell_type": "code",
   "execution_count": 441,
   "metadata": {},
   "outputs": [
    {
     "data": {
      "text/plain": [
       "np.int64(11)"
      ]
     },
     "execution_count": 441,
     "metadata": {},
     "output_type": "execute_result"
    }
   ],
   "source": [
    "people['AGE'].lt(0).sum()"
   ]
  },
  {
   "cell_type": "code",
   "execution_count": null,
   "metadata": {},
   "outputs": [],
   "source": [
    "# compare driver and non-driver age distribution\n",
    "people[people['PERSON_TYPE'] == 'DRIVER']['AGE'].plot(kind='hist', bins=20, alpha=0.5, label='Driver')\n",
    "people[people['PERSON_TYPE'] != 'DRIVER']['AGE'].plot(kind='hist', bins=20, alpha=0.5, label='Non-driver')\n",
    "plt.xlabel('Age')\n",
    "plt.ylabel('Frequency')\n",
    "plt.title('Age distribution of people involved in crashes')\n",
    "plt.legend()\n",
    "plt.show()"
   ]
  },
  {
   "cell_type": "markdown",
   "metadata": {},
   "source": [
    "we surely want to eliminate these values but also the other wrong values, e.g. super high age (110 etc) and super low one if they are the driver."
   ]
  },
  {
   "cell_type": "code",
   "execution_count": 443,
   "metadata": {},
   "outputs": [],
   "source": [
    "people['AGE'] = people['AGE'].apply(lambda x: np.nan if x < 0 else x)"
   ]
  },
  {
   "cell_type": "code",
   "execution_count": 168,
   "metadata": {},
   "outputs": [
    {
     "data": {
      "text/plain": [
       "AGE\n",
       "0.0      15526\n",
       "1.0       4517\n",
       "2.0       4404\n",
       "3.0       4305\n",
       "4.0       4522\n",
       "         ...  \n",
       "106.0        3\n",
       "107.0        7\n",
       "108.0        6\n",
       "109.0        7\n",
       "110.0        6\n",
       "Name: count, Length: 111, dtype: int64"
      ]
     },
     "execution_count": 168,
     "metadata": {},
     "output_type": "execute_result"
    }
   ],
   "source": [
    "people['AGE'].value_counts().sort_index()\n"
   ]
  },
  {
   "cell_type": "code",
   "execution_count": 169,
   "metadata": {},
   "outputs": [
    {
     "data": {
      "text/plain": [
       "AGE\n",
       "0.0     10075\n",
       "1.0       125\n",
       "2.0       132\n",
       "3.0        73\n",
       "4.0        64\n",
       "5.0        23\n",
       "6.0        27\n",
       "7.0        21\n",
       "8.0        26\n",
       "9.0        27\n",
       "10.0       34\n",
       "11.0       36\n",
       "12.0       54\n",
       "13.0      108\n",
       "14.0      211\n",
       "15.0      532\n",
       "16.0     3279\n",
       "17.0     7915\n",
       "18.0    13882\n",
       "19.0    17524\n",
       "Name: count, dtype: int64"
      ]
     },
     "execution_count": 169,
     "metadata": {},
     "output_type": "execute_result"
    }
   ],
   "source": [
    "# value count for PERSON_TYPE = DRIVER\n",
    "people[people['PERSON_TYPE'] == 'DRIVER']['AGE'].value_counts().sort_index().head(20)"
   ]
  },
  {
   "cell_type": "code",
   "execution_count": 170,
   "metadata": {},
   "outputs": [
    {
     "data": {
      "text/plain": [
       "AGE\n",
       "90.0     285\n",
       "91.0     198\n",
       "92.0     152\n",
       "93.0     117\n",
       "94.0      78\n",
       "95.0      56\n",
       "96.0      44\n",
       "97.0      28\n",
       "98.0      25\n",
       "99.0      27\n",
       "100.0     13\n",
       "101.0     10\n",
       "102.0      5\n",
       "103.0      6\n",
       "104.0      2\n",
       "106.0      1\n",
       "107.0      2\n",
       "108.0      3\n",
       "109.0      2\n",
       "110.0      4\n",
       "Name: count, dtype: int64"
      ]
     },
     "execution_count": 170,
     "metadata": {},
     "output_type": "execute_result"
    }
   ],
   "source": [
    "people[people['PERSON_TYPE'] == 'DRIVER']['AGE'].value_counts().sort_index().tail(20)"
   ]
  },
  {
   "cell_type": "markdown",
   "metadata": {},
   "source": [
    "from a quick online search we can see how one must be at least 15 years old to drive and also how there are only 5 people globally with 105 or more years, so we are changing them to NaN"
   ]
  },
  {
   "cell_type": "code",
   "execution_count": 447,
   "metadata": {},
   "outputs": [],
   "source": [
    "people.loc[(people['PERSON_TYPE'] == 'DRIVER') & (people['AGE'] < 15), 'AGE'] = np.nan\n",
    "people.loc[(people['PERSON_TYPE'] == 'DRIVER') & (people['AGE'] > 104), 'AGE'] = np.nan"
   ]
  },
  {
   "cell_type": "code",
   "execution_count": 172,
   "metadata": {},
   "outputs": [
    {
     "data": {
      "text/plain": [
       "AGE\n",
       "15.0      532\n",
       "16.0     3279\n",
       "17.0     7915\n",
       "18.0    13882\n",
       "19.0    17524\n",
       "Name: count, dtype: int64"
      ]
     },
     "execution_count": 172,
     "metadata": {},
     "output_type": "execute_result"
    }
   ],
   "source": [
    "people[people['PERSON_TYPE'] == 'DRIVER']['AGE'].value_counts().sort_index().head()"
   ]
  },
  {
   "cell_type": "code",
   "execution_count": 173,
   "metadata": {},
   "outputs": [
    {
     "data": {
      "text/plain": [
       "AGE\n",
       "85.0     824\n",
       "86.0     684\n",
       "87.0     575\n",
       "88.0     430\n",
       "89.0     349\n",
       "90.0     285\n",
       "91.0     198\n",
       "92.0     152\n",
       "93.0     117\n",
       "94.0      78\n",
       "95.0      56\n",
       "96.0      44\n",
       "97.0      28\n",
       "98.0      25\n",
       "99.0      27\n",
       "100.0     13\n",
       "101.0     10\n",
       "102.0      5\n",
       "103.0      6\n",
       "104.0      2\n",
       "Name: count, dtype: int64"
      ]
     },
     "execution_count": 173,
     "metadata": {},
     "output_type": "execute_result"
    }
   ],
   "source": [
    "people[people['PERSON_TYPE'] == 'DRIVER']['AGE'].value_counts().sort_index().tail(20)"
   ]
  },
  {
   "cell_type": "markdown",
   "metadata": {},
   "source": [
    "furthermore, we can assume that 0 age is a placeolder, and that we can remove over 105 yo from the dataset even for non-drivers"
   ]
  },
  {
   "cell_type": "code",
   "execution_count": 446,
   "metadata": {},
   "outputs": [],
   "source": [
    "people['AGE'] = people['AGE'].replace(0, np.nan)\n",
    "people.loc[(people['AGE'] > 104), 'AGE'] = np.nan"
   ]
  },
  {
   "cell_type": "code",
   "execution_count": 444,
   "metadata": {},
   "outputs": [
    {
     "data": {
      "image/png": "[encoded data removed]",
      "text/plain": [
       "<Figure size 640x480 with 1 Axes>"
      ]
     },
     "metadata": {},
     "output_type": "display_data"
    }
   ],
   "source": [
    "# compare driver and non-driver age distribution\n",
    "people[people['PERSON_TYPE'] == 'DRIVER']['AGE'].plot(kind='hist', bins=20, alpha=0.5, label='Driver')\n",
    "people[people['PERSON_TYPE'] != 'DRIVER']['AGE'].plot(kind='hist', bins=20, alpha=0.5, label='Non-driver')\n",
    "plt.xlabel('Age')\n",
    "plt.ylabel('Frequency')\n",
    "plt.title('Age distribution of people involved in crashes')\n",
    "plt.legend()\n",
    "plt.show()"
   ]
  },
  {
   "cell_type": "markdown",
   "metadata": {},
   "source": [
    "### Remove all non-driver users\n",
    "\n",
    "since the goeal of the project is to simulate a decision support system for an assurance company, we decided to remove all non-driver users."
   ]
  },
  {
   "cell_type": "code",
   "execution_count": 449,
   "metadata": {},
   "outputs": [],
   "source": [
    "# remove rows with non DRIVER user\n",
    "people = people[people['PERSON_TYPE'] == 'DRIVER']"
   ]
  },
  {
   "cell_type": "code",
   "execution_count": 452,
   "metadata": {},
   "outputs": [
    {
     "data": {
      "image/png": "[encoded data removed]",
      "text/plain": [
       "<Figure size 640x480 with 1 Axes>"
      ]
     },
     "metadata": {},
     "output_type": "display_data"
    }
   ],
   "source": [
    "# distribution of AGE\n",
    "people['AGE'].plot(kind='hist', bins=20)\n",
    "plt.xlabel('Age')\n",
    "plt.ylabel('Frequency')\n",
    "plt.title('Age distribution of drivers involved in crashes')\n",
    "plt.show()"
   ]
  },
  {
   "cell_type": "code",
   "execution_count": 177,
   "metadata": {},
   "outputs": [
    {
     "name": "stdout",
     "output_type": "stream",
     "text": [
      "<class 'pandas.core.frame.DataFrame'>\n",
      "Index: 1557809 entries, 0 to 2003251\n",
      "Data columns (total 20 columns):\n",
      " #   Column                 Non-Null Count    Dtype  \n",
      "---  ------                 --------------    -----  \n",
      " 0   PERSON_ID              1557809 non-null  object \n",
      " 1   PERSON_TYPE            1557809 non-null  object \n",
      " 2   CRASH_RECORD_ID        1557809 non-null  object \n",
      " 3   VEHICLE_ID             1557100 non-null  float64\n",
      " 4   CRASH_DATE             1557809 non-null  object \n",
      " 5   CITY                   1180908 non-null  object \n",
      " 6   STATE                  1164692 non-null  object \n",
      " 7   ZIPCODE                1106254 non-null  object \n",
      " 8   SEX                    1557712 non-null  float64\n",
      " 9   AGE                    1127331 non-null  float64\n",
      " 10  DRIVERS_LICENSE_STATE  1172827 non-null  object \n",
      " 11  DRIVERS_LICENSE_CLASS  974432 non-null   object \n",
      " 12  SAFETY_EQUIPMENT       1557809 non-null  object \n",
      " 13  AIRBAG_DEPLOYED        1557809 non-null  object \n",
      " 14  EJECTION               1557809 non-null  object \n",
      " 15  INJURY_CLASSIFICATION  1557809 non-null  object \n",
      " 16  DRIVER_ACTION          1557809 non-null  object \n",
      " 17  DRIVER_VISION          1557809 non-null  object \n",
      " 18  PHYSICAL_CONDITION     1557809 non-null  object \n",
      " 19  BAC_RESULT             1557809 non-null  object \n",
      "dtypes: float64(3), object(17)\n",
      "memory usage: 249.6+ MB\n"
     ]
    }
   ],
   "source": [
    "people.info()"
   ]
  },
  {
   "cell_type": "code",
   "execution_count": null,
   "metadata": {},
   "outputs": [],
   "source": []
  },
  {
   "cell_type": "markdown",
   "metadata": {},
   "source": [
    "---"
   ]
  },
  {
   "cell_type": "markdown",
   "metadata": {},
   "source": [
    "## DRIVERS_LICENSE_STATE, DRIVERS_LICENSE_CLASS"
   ]
  },
  {
   "cell_type": "code",
   "execution_count": 178,
   "metadata": {},
   "outputs": [
    {
     "data": {
      "text/plain": [
       "DRIVERS_LICENSE_STATE\n",
       "IL    1072909\n",
       "XX      26761\n",
       "IN      19961\n",
       "WI       6537\n",
       "MI       4997\n",
       "       ...   \n",
       "KE          1\n",
       "YU          1\n",
       "MY          1\n",
       "SU          1\n",
       "VS          1\n",
       "Name: count, Length: 213, dtype: int64"
      ]
     },
     "execution_count": 178,
     "metadata": {},
     "output_type": "execute_result"
    }
   ],
   "source": [
    "people['DRIVERS_LICENSE_STATE'].value_counts()"
   ]
  },
  {
   "cell_type": "code",
   "execution_count": 179,
   "metadata": {},
   "outputs": [
    {
     "data": {
      "text/plain": [
       "DRIVERS_LICENSE_CLASS\n",
       "D     847806\n",
       "A      35223\n",
       "B      26866\n",
       "C      26567\n",
       "DM     14353\n",
       "       ...  \n",
       "1G         1\n",
       "SP         1\n",
       "*E         1\n",
       "BP         1\n",
       "NM         1\n",
       "Name: count, Length: 291, dtype: int64"
      ]
     },
     "execution_count": 179,
     "metadata": {},
     "output_type": "execute_result"
    }
   ],
   "source": [
    "people['DRIVERS_LICENSE_CLASS'].value_counts()"
   ]
  },
  {
   "cell_type": "markdown",
   "metadata": {},
   "source": [
    "we will be dropping DRIVERS_LICENSE_STATE since the majority of the crashes are from local people in chicago"
   ]
  },
  {
   "cell_type": "markdown",
   "metadata": {},
   "source": [
    "---"
   ]
  },
  {
   "cell_type": "markdown",
   "metadata": {},
   "source": [
    "## SAFETY_EQUIPMENT, AIRBAG_DEPLOYED, EJECTION"
   ]
  },
  {
   "cell_type": "code",
   "execution_count": 180,
   "metadata": {},
   "outputs": [
    {
     "data": {
      "text/plain": [
       "SAFETY_EQUIPMENT\n",
       "USAGE UNKNOWN                          788368\n",
       "SAFETY BELT USED                       724255\n",
       "NONE PRESENT                            34589\n",
       "SAFETY BELT NOT USED                     5912\n",
       "HELMET NOT USED                          2176\n",
       "DOT COMPLIANT MOTORCYCLE HELMET          1530\n",
       "HELMET USED                               453\n",
       "NOT DOT COMPLIANT MOTORCYCLE HELMET       299\n",
       "SHOULD/LAP BELT USED IMPROPERLY           220\n",
       "WHEELCHAIR                                  4\n",
       "STRETCHER                                   2\n",
       "CHILD RESTRAINT USED                        1\n",
       "Name: count, dtype: int64"
      ]
     },
     "execution_count": 180,
     "metadata": {},
     "output_type": "execute_result"
    }
   ],
   "source": [
    "people['SAFETY_EQUIPMENT'].value_counts()"
   ]
  },
  {
   "cell_type": "code",
   "execution_count": 181,
   "metadata": {},
   "outputs": [],
   "source": [
    "people['SAFETY_EQUIPMENT'] = people['SAFETY_EQUIPMENT'].replace('USAGE UNKNOWN', np.nan)"
   ]
  },
  {
   "cell_type": "code",
   "execution_count": 182,
   "metadata": {},
   "outputs": [
    {
     "data": {
      "text/plain": [
       "AIRBAG_DEPLOYED\n",
       "DID NOT DEPLOY                            767058\n",
       "DEPLOYMENT UNKNOWN                        378359\n",
       "NOT APPLICABLE                            314791\n",
       "DEPLOYED, FRONT                            48632\n",
       "DEPLOYED, COMBINATION                      35785\n",
       "DEPLOYED, SIDE                             12507\n",
       "DEPLOYED OTHER (KNEE, AIR, BELT, ETC.)       677\n",
       "Name: count, dtype: int64"
      ]
     },
     "execution_count": 182,
     "metadata": {},
     "output_type": "execute_result"
    }
   ],
   "source": [
    "people['AIRBAG_DEPLOYED'].value_counts()"
   ]
  },
  {
   "cell_type": "code",
   "execution_count": 183,
   "metadata": {},
   "outputs": [
    {
     "data": {
      "text/plain": [
       "EJECTION\n",
       "NONE                  1441101\n",
       "UNKNOWN                111904\n",
       "TOTALLY EJECTED          3064\n",
       "TRAPPED/EXTRICATED        940\n",
       "PARTIALLY EJECTED         800\n",
       "Name: count, dtype: int64"
      ]
     },
     "execution_count": 183,
     "metadata": {},
     "output_type": "execute_result"
    }
   ],
   "source": [
    "people['EJECTION'].value_counts()"
   ]
  },
  {
   "cell_type": "code",
   "execution_count": 184,
   "metadata": {},
   "outputs": [],
   "source": [
    "# change ejection to 0 or 1\n",
    "ejection_mapping = {\n",
    "    'NONE': 0,\n",
    "    'UNKNOWN': 0,\n",
    "    'PARTIALLY EJECTED': 1,\n",
    "    'TOTALLY EJECTED': 1,\n",
    "    'TRAPPED/EXTRICATED': 1\n",
    "}"
   ]
  },
  {
   "cell_type": "code",
   "execution_count": 185,
   "metadata": {},
   "outputs": [],
   "source": [
    "# airbag deployed to 0 or 1\n",
    "airbag_mapping = {\n",
    "    'DEPLOYED, FRONT': 1,\n",
    "    'DEPLOYMENT UNKNOWN': 0,\n",
    "    'NOT APPLICABLE': 0,\n",
    "    'DID NOT DEPLOY': 0,\n",
    "    'DEPLOYED, COMBINATION': 1,\n",
    "    'DEPLOYED, SIDE': 1,\n",
    "    'DEPLOYED, OTHER (KNEE, AIR, BELT, ETC.)': 1\n",
    "}"
   ]
  },
  {
   "cell_type": "code",
   "execution_count": 186,
   "metadata": {},
   "outputs": [],
   "source": [
    "# NEW column for ejection and airbag deployed\n",
    "people['EJECTION'] = people['EJECTION'].map(ejection_mapping)\n",
    "people['AIRBAG_DEPLOYED'] = people['AIRBAG_DEPLOYED'].map(airbag_mapping)\n",
    "\n",
    "people['EJECTION/AIRBAG'] = people['EJECTION'] + people['AIRBAG_DEPLOYED']"
   ]
  },
  {
   "cell_type": "code",
   "execution_count": 187,
   "metadata": {},
   "outputs": [
    {
     "data": {
      "text/plain": [
       "EJECTION/AIRBAG\n",
       "0.0    1456062\n",
       "1.0     100421\n",
       "2.0        649\n",
       "Name: count, dtype: int64"
      ]
     },
     "execution_count": 187,
     "metadata": {},
     "output_type": "execute_result"
    }
   ],
   "source": [
    "people['EJECTION/AIRBAG'].value_counts()"
   ]
  },
  {
   "cell_type": "markdown",
   "metadata": {},
   "source": [
    "---"
   ]
  },
  {
   "cell_type": "markdown",
   "metadata": {},
   "source": [
    "## INJURY_CLASSIFICATION\n",
    "\n",
    "we maybe need to categorize this later"
   ]
  },
  {
   "cell_type": "code",
   "execution_count": 188,
   "metadata": {},
   "outputs": [
    {
     "data": {
      "text/plain": [
       "INJURY_CLASSIFICATION\n",
       "NO INDICATION OF INJURY     1461164\n",
       "NONINCAPACITATING INJURY      52782\n",
       "REPORTED, NOT EVIDENT         34496\n",
       "INCAPACITATING INJURY          8805\n",
       "FATAL                           562\n",
       "Name: count, dtype: int64"
      ]
     },
     "execution_count": 188,
     "metadata": {},
     "output_type": "execute_result"
    }
   ],
   "source": [
    "people['INJURY_CLASSIFICATION'].value_counts()"
   ]
  },
  {
   "cell_type": "markdown",
   "metadata": {},
   "source": [
    "---"
   ]
  },
  {
   "cell_type": "markdown",
   "metadata": {},
   "source": [
    "## DRIVER_ACTION, DRIVER_VISION, PHYSICAL_CONDITION, BAC_RESULT "
   ]
  },
  {
   "cell_type": "code",
   "execution_count": 189,
   "metadata": {},
   "outputs": [
    {
     "data": {
      "text/plain": [
       "DRIVER_ACTION\n",
       "NONE                                 546785\n",
       "UNKNOWN                              398856\n",
       "FAILED TO YIELD                      143156\n",
       "OTHER                                138573\n",
       "FOLLOWED TOO CLOSELY                  92878\n",
       "IMPROPER BACKING                      46658\n",
       "IMPROPER TURN                         41851\n",
       "IMPROPER LANE CHANGE                  40829\n",
       "IMPROPER PASSING                      35640\n",
       "DISREGARDED CONTROL DEVICES           27309\n",
       "TOO FAST FOR CONDITIONS               23165\n",
       "WRONG WAY/SIDE                         6039\n",
       "IMPROPER PARKING                       5840\n",
       "OVERCORRECTED                          3183\n",
       "EVADING POLICE VEHICLE                 2444\n",
       "CELL PHONE USE OTHER THAN TEXTING      2247\n",
       "EMERGENCY VEHICLE ON CALL              1489\n",
       "TEXTING                                 606\n",
       "STOPPED SCHOOL BUS                      192\n",
       "LICENSE RESTRICTIONS                     69\n",
       "Name: count, dtype: int64"
      ]
     },
     "execution_count": 189,
     "metadata": {},
     "output_type": "execute_result"
    }
   ],
   "source": [
    "people['DRIVER_ACTION'].value_counts()"
   ]
  },
  {
   "cell_type": "code",
   "execution_count": 190,
   "metadata": {},
   "outputs": [
    {
     "data": {
      "text/plain": [
       "DRIVER_VISION\n",
       "NOT OBSCURED              772661\n",
       "UNKNOWN                   750317\n",
       "OTHER                      13290\n",
       "MOVING VEHICLES             8642\n",
       "PARKED VEHICLES             5259\n",
       "WINDSHIELD (WATER/ICE)      4178\n",
       "BLINDED - SUNLIGHT          1882\n",
       "TREES, PLANTS                597\n",
       "BUILDINGS                    497\n",
       "BLINDED - HEADLIGHTS         162\n",
       "BLOWING MATERIALS            102\n",
       "HILLCREST                    101\n",
       "EMBANKMENT                    83\n",
       "SIGNBOARD                     38\n",
       "Name: count, dtype: int64"
      ]
     },
     "execution_count": 190,
     "metadata": {},
     "output_type": "execute_result"
    }
   ],
   "source": [
    "people['DRIVER_VISION'].value_counts()"
   ]
  },
  {
   "cell_type": "code",
   "execution_count": 191,
   "metadata": {},
   "outputs": [
    {
     "data": {
      "text/plain": [
       "PHYSICAL_CONDITION\n",
       "NORMAL                          1005008\n",
       "UNKNOWN                          526866\n",
       "IMPAIRED - ALCOHOL                 6250\n",
       "FATIGUED/ASLEEP                    4119\n",
       "EMOTIONAL                          4068\n",
       "REMOVED BY EMS                     3984\n",
       "OTHER                              3982\n",
       "ILLNESS/FAINTED                    1405\n",
       "HAD BEEN DRINKING                   917\n",
       "IMPAIRED - DRUGS                    642\n",
       "IMPAIRED - ALCOHOL AND DRUGS        384\n",
       "MEDICATED                           184\n",
       "Name: count, dtype: int64"
      ]
     },
     "execution_count": 191,
     "metadata": {},
     "output_type": "execute_result"
    }
   ],
   "source": [
    "people['PHYSICAL_CONDITION'].value_counts()"
   ]
  },
  {
   "cell_type": "code",
   "execution_count": 192,
   "metadata": {},
   "outputs": [
    {
     "data": {
      "text/plain": [
       "BAC_RESULT\n",
       "TEST NOT OFFERED                   1535474\n",
       "TEST REFUSED                         15978\n",
       "TEST PERFORMED, RESULTS UNKNOWN       3574\n",
       "TEST TAKEN                            2783\n",
       "Name: count, dtype: int64"
      ]
     },
     "execution_count": 192,
     "metadata": {},
     "output_type": "execute_result"
    }
   ],
   "source": [
    "people['BAC_RESULT'].value_counts()"
   ]
  },
  {
   "cell_type": "code",
   "execution_count": 193,
   "metadata": {},
   "outputs": [],
   "source": [
    "speed_categories_people = ['TOO FAST FOR CONDITIONS']\n",
    "alcohol_categories_people = ['IMPAIRED - ALCOHOL', 'HAD BEEN DRINKING', 'IMPAIRED - DRUGS', 'IMPAIRED - ALCOHOL AND DRUGS']\n",
    "telephone_categories_people = ['TEXTING', 'CELL PHONE USE OTHER THAN TEXTING']"
   ]
  },
  {
   "cell_type": "code",
   "execution_count": 194,
   "metadata": {},
   "outputs": [],
   "source": [
    "people['SPEEDING'] = people['DRIVER_ACTION'].isin(speed_categories_people)\n",
    "people['DRINKING'] = people['DRIVER_ACTION'].isin(alcohol_categories_people)\n",
    "people['TELEPHONE'] = people['DRIVER_ACTION'].isin(telephone_categories_people)"
   ]
  },
  {
   "cell_type": "markdown",
   "metadata": {},
   "source": [
    "---"
   ]
  },
  {
   "cell_type": "code",
   "execution_count": 195,
   "metadata": {},
   "outputs": [],
   "source": [
    "columns_to_drop = ['BAC_RESULT']\n",
    "\n",
    "people = people.drop(columns=columns_to_drop)"
   ]
  },
  {
   "cell_type": "markdown",
   "metadata": {},
   "source": [
    "---"
   ]
  },
  {
   "cell_type": "markdown",
   "metadata": {},
   "source": [
    "Finalization of people dataset"
   ]
  },
  {
   "cell_type": "code",
   "execution_count": 196,
   "metadata": {},
   "outputs": [
    {
     "name": "stdout",
     "output_type": "stream",
     "text": [
      "<class 'pandas.core.frame.DataFrame'>\n",
      "Index: 1557809 entries, 0 to 2003251\n",
      "Data columns (total 23 columns):\n",
      " #   Column                 Non-Null Count    Dtype  \n",
      "---  ------                 --------------    -----  \n",
      " 0   PERSON_ID              1557809 non-null  object \n",
      " 1   PERSON_TYPE            1557809 non-null  object \n",
      " 2   CRASH_RECORD_ID        1557809 non-null  object \n",
      " 3   VEHICLE_ID             1557100 non-null  float64\n",
      " 4   CRASH_DATE             1557809 non-null  object \n",
      " 5   CITY                   1180908 non-null  object \n",
      " 6   STATE                  1164692 non-null  object \n",
      " 7   ZIPCODE                1106254 non-null  object \n",
      " 8   SEX                    1557712 non-null  float64\n",
      " 9   AGE                    1127331 non-null  float64\n",
      " 10  DRIVERS_LICENSE_STATE  1172827 non-null  object \n",
      " 11  DRIVERS_LICENSE_CLASS  974432 non-null   object \n",
      " 12  SAFETY_EQUIPMENT       769441 non-null   object \n",
      " 13  AIRBAG_DEPLOYED        1557132 non-null  float64\n",
      " 14  EJECTION               1557809 non-null  int64  \n",
      " 15  INJURY_CLASSIFICATION  1557809 non-null  object \n",
      " 16  DRIVER_ACTION          1557809 non-null  object \n",
      " 17  DRIVER_VISION          1557809 non-null  object \n",
      " 18  PHYSICAL_CONDITION     1557809 non-null  object \n",
      " 19  EJECTION/AIRBAG        1557132 non-null  float64\n",
      " 20  SPEEDING               1557809 non-null  bool   \n",
      " 21  DRINKING               1557809 non-null  bool   \n",
      " 22  TELEPHONE              1557809 non-null  bool   \n",
      "dtypes: bool(3), float64(5), int64(1), object(14)\n",
      "memory usage: 254.0+ MB\n"
     ]
    }
   ],
   "source": [
    "people.info(show_counts=True)"
   ]
  },
  {
   "cell_type": "markdown",
   "metadata": {},
   "source": [
    "keeping only the wanted columns, maybe drop DRIVERS_LICENSE_CLASS, SAFETY_EQUIPMENT, AIRBAG_DEPLOYED, EJECTION"
   ]
  },
  {
   "cell_type": "code",
   "execution_count": 197,
   "metadata": {},
   "outputs": [],
   "source": [
    "# drop SAFETY_EQUIPMENT, AIRBAG_DEPLOYED, EJECTION\n",
    "columns_to_drop = ['SAFETY_EQUIPMENT', 'AIRBAG_DEPLOYED', 'EJECTION']\n",
    "people = people.drop(columns=columns_to_drop)"
   ]
  },
  {
   "cell_type": "markdown",
   "metadata": {},
   "source": [
    "keeping only entries in people with an existing crash"
   ]
  },
  {
   "cell_type": "code",
   "execution_count": 198,
   "metadata": {},
   "outputs": [
    {
     "name": "stdout",
     "output_type": "stream",
     "text": [
      "Number of rows in 'people' with missing crash record ID:  265913\n"
     ]
    }
   ],
   "source": [
    "missing_crash_ids_people = people[~people['CRASH_RECORD_ID'].isin(crashes_severity['CRASH_RECORD_ID'])]\n",
    "print(\"Number of rows in 'people' with missing crash record ID: \", len(missing_crash_ids_people))"
   ]
  },
  {
   "cell_type": "code",
   "execution_count": 199,
   "metadata": {},
   "outputs": [],
   "source": [
    "people_final = people[people['CRASH_RECORD_ID'].isin(crashes_severity['CRASH_RECORD_ID'])]"
   ]
  },
  {
   "cell_type": "markdown",
   "metadata": {},
   "source": [
    "a quick date check to spot errors after merging with the post-2017 crashes dataset"
   ]
  },
  {
   "cell_type": "code",
   "execution_count": 200,
   "metadata": {},
   "outputs": [
    {
     "name": "stderr",
     "output_type": "stream",
     "text": [
      "C:\\Users\\chucki\\AppData\\Local\\Temp\\ipykernel_7188\\2615432374.py:2: SettingWithCopyWarning:\n",
      "\n",
      "\n",
      "A value is trying to be set on a copy of a slice from a DataFrame.\n",
      "Try using .loc[row_indexer,col_indexer] = value instead\n",
      "\n",
      "See the caveats in the documentation: https://pandas.pydata.org/pandas-docs/stable/user_guide/indexing.html#returning-a-view-versus-a-copy\n",
      "\n"
     ]
    }
   ],
   "source": [
    "#change CRASH_DATE to datetime\n",
    "people_final['CRASH_DATE'] = pd.to_datetime(people_final['CRASH_DATE'])"
   ]
  },
  {
   "cell_type": "code",
   "execution_count": 201,
   "metadata": {},
   "outputs": [
    {
     "name": "stdout",
     "output_type": "stream",
     "text": [
      "2018-01-01 00:00:00\n",
      "2024-12-31 23:47:00\n"
     ]
    }
   ],
   "source": [
    "print(people_final['CRASH_DATE'].min())\n",
    "print(people_final['CRASH_DATE'].max())"
   ]
  },
  {
   "cell_type": "code",
   "execution_count": 202,
   "metadata": {},
   "outputs": [],
   "source": [
    "# save to csv\n",
    "people_final.to_csv('dataset/people_2017.csv', index=False)"
   ]
  },
  {
   "cell_type": "markdown",
   "metadata": {},
   "source": [
    "---"
   ]
  },
  {
   "cell_type": "markdown",
   "metadata": {},
   "source": [
    "# VEHICLES"
   ]
  },
  {
   "cell_type": "code",
   "execution_count": 203,
   "metadata": {},
   "outputs": [
    {
     "name": "stdout",
     "output_type": "stream",
     "text": [
      "<class 'pandas.core.frame.DataFrame'>\n",
      "RangeIndex: 1860568 entries, 0 to 1860567\n",
      "Data columns (total 71 columns):\n",
      " #   Column                    Non-Null Count    Dtype  \n",
      "---  ------                    --------------    -----  \n",
      " 0   CRASH_UNIT_ID             1860568 non-null  int64  \n",
      " 1   CRASH_RECORD_ID           1860568 non-null  object \n",
      " 2   CRASH_DATE                1860568 non-null  object \n",
      " 3   UNIT_NO                   1860568 non-null  int64  \n",
      " 4   UNIT_TYPE                 1858293 non-null  object \n",
      " 5   NUM_PASSENGERS            275500 non-null   float64\n",
      " 6   VEHICLE_ID                1817047 non-null  float64\n",
      " 7   CMRC_VEH_I                34572 non-null    object \n",
      " 8   MAKE                      1817042 non-null  object \n",
      " 9   MODEL                     1816897 non-null  object \n",
      " 10  LIC_PLATE_STATE           1650739 non-null  object \n",
      " 11  VEHICLE_YEAR              1528798 non-null  float64\n",
      " 12  VEHICLE_DEFECT            1817047 non-null  object \n",
      " 13  VEHICLE_TYPE              1817047 non-null  object \n",
      " 14  VEHICLE_USE               1817047 non-null  object \n",
      " 15  TRAVEL_DIRECTION          1817047 non-null  object \n",
      " 16  MANEUVER                  1817047 non-null  object \n",
      " 17  TOWED_I                   231226 non-null   object \n",
      " 18  FIRE_I                    1527 non-null     object \n",
      " 19  OCCUPANT_CNT              1817047 non-null  float64\n",
      " 20  EXCEED_SPEED_LIMIT_I      2402 non-null     object \n",
      " 21  TOWED_BY                  175158 non-null   object \n",
      " 22  TOWED_TO                  107412 non-null   object \n",
      " 23  AREA_00_I                 62881 non-null    object \n",
      " 24  AREA_01_I                 500234 non-null   object \n",
      " 25  AREA_02_I                 293212 non-null   object \n",
      " 26  AREA_03_I                 179236 non-null   object \n",
      " 27  AREA_04_I                 177197 non-null   object \n",
      " 28  AREA_05_I                 275732 non-null   object \n",
      " 29  AREA_06_I                 291607 non-null   object \n",
      " 30  AREA_07_I                 274328 non-null   object \n",
      " 31  AREA_08_I                 257884 non-null   object \n",
      " 32  AREA_09_I                 132929 non-null   object \n",
      " 33  AREA_10_I                 194666 non-null   object \n",
      " 34  AREA_11_I                 373517 non-null   object \n",
      " 35  AREA_12_I                 362684 non-null   object \n",
      " 36  AREA_99_I                 211849 non-null   object \n",
      " 37  FIRST_CONTACT_POINT       1813889 non-null  object \n",
      " 38  CMV_ID                    18713 non-null    float64\n",
      " 39  USDOT_NO                  10374 non-null    object \n",
      " 40  CCMC_NO                   2166 non-null     object \n",
      " 41  ILCC_NO                   1480 non-null     object \n",
      " 42  COMMERCIAL_SRC            12220 non-null    object \n",
      " 43  GVWR                      10267 non-null    object \n",
      " 44  CARRIER_NAME              17879 non-null    object \n",
      " 45  CARRIER_STATE             16756 non-null    object \n",
      " 46  CARRIER_CITY              16442 non-null    object \n",
      " 47  HAZMAT_PLACARDS_I         360 non-null      object \n",
      " 48  HAZMAT_NAME               63 non-null       object \n",
      " 49  UN_NO                     619 non-null      object \n",
      " 50  HAZMAT_PRESENT_I          13672 non-null    object \n",
      " 51  HAZMAT_REPORT_I           13309 non-null    object \n",
      " 52  HAZMAT_REPORT_NO          1 non-null        object \n",
      " 53  MCS_REPORT_I              13357 non-null    object \n",
      " 54  MCS_REPORT_NO             7 non-null        object \n",
      " 55  HAZMAT_VIO_CAUSE_CRASH_I  13484 non-null    object \n",
      " 56  MCS_VIO_CAUSE_CRASH_I     13264 non-null    object \n",
      " 57  IDOT_PERMIT_NO            994 non-null      object \n",
      " 58  WIDE_LOAD_I               169 non-null      object \n",
      " 59  TRAILER1_WIDTH            3053 non-null     object \n",
      " 60  TRAILER2_WIDTH            371 non-null      object \n",
      " 61  TRAILER1_LENGTH           2442 non-null     float64\n",
      " 62  TRAILER2_LENGTH           70 non-null       float64\n",
      " 63  TOTAL_VEHICLE_LENGTH      2979 non-null     float64\n",
      " 64  AXLE_CNT                  4506 non-null     float64\n",
      " 65  VEHICLE_CONFIG            15478 non-null    object \n",
      " 66  CARGO_BODY_TYPE           14802 non-null    object \n",
      " 67  LOAD_TYPE                 14142 non-null    object \n",
      " 68  HAZMAT_OUT_OF_SERVICE_I   12937 non-null    object \n",
      " 69  MCS_OUT_OF_SERVICE_I      13172 non-null    object \n",
      " 70  HAZMAT_CLASS              1183 non-null     object \n",
      "dtypes: float64(9), int64(2), object(60)\n",
      "memory usage: 1007.8+ MB\n"
     ]
    }
   ],
   "source": [
    "vehicles.info(show_counts=True)"
   ]
  },
  {
   "cell_type": "markdown",
   "metadata": {},
   "source": [
    "duplicates"
   ]
  },
  {
   "cell_type": "code",
   "execution_count": 204,
   "metadata": {},
   "outputs": [
    {
     "data": {
      "text/plain": [
       "np.int64(0)"
      ]
     },
     "execution_count": 204,
     "metadata": {},
     "output_type": "execute_result"
    }
   ],
   "source": [
    "vehicles['CRASH_UNIT_ID'].duplicated().sum()"
   ]
  },
  {
   "cell_type": "code",
   "execution_count": 205,
   "metadata": {},
   "outputs": [
    {
     "data": {
      "text/plain": [
       "np.int64(43520)"
      ]
     },
     "execution_count": 205,
     "metadata": {},
     "output_type": "execute_result"
    }
   ],
   "source": [
    "vehicles['VEHICLE_ID'].duplicated().sum()"
   ]
  },
  {
   "cell_type": "markdown",
   "metadata": {},
   "source": [
    "---"
   ]
  },
  {
   "cell_type": "code",
   "execution_count": 206,
   "metadata": {},
   "outputs": [
    {
     "data": {
      "text/html": [
       "<div>\n",
       "<style scoped>\n",
       "    .dataframe tbody tr th:only-of-type {\n",
       "        vertical-align: middle;\n",
       "    }\n",
       "\n",
       "    .dataframe tbody tr th {\n",
       "        vertical-align: top;\n",
       "    }\n",
       "\n",
       "    .dataframe thead th {\n",
       "        text-align: right;\n",
       "    }\n",
       "</style>\n",
       "<table border=\"1\" class=\"dataframe\">\n",
       "  <thead>\n",
       "    <tr style=\"text-align: right;\">\n",
       "      <th></th>\n",
       "      <th>CRASH_UNIT_ID</th>\n",
       "      <th>CRASH_RECORD_ID</th>\n",
       "      <th>CRASH_DATE</th>\n",
       "      <th>UNIT_NO</th>\n",
       "      <th>UNIT_TYPE</th>\n",
       "      <th>NUM_PASSENGERS</th>\n",
       "      <th>VEHICLE_ID</th>\n",
       "      <th>CMRC_VEH_I</th>\n",
       "      <th>MAKE</th>\n",
       "      <th>MODEL</th>\n",
       "      <th>LIC_PLATE_STATE</th>\n",
       "      <th>VEHICLE_YEAR</th>\n",
       "      <th>VEHICLE_DEFECT</th>\n",
       "      <th>VEHICLE_TYPE</th>\n",
       "      <th>VEHICLE_USE</th>\n",
       "      <th>TRAVEL_DIRECTION</th>\n",
       "      <th>MANEUVER</th>\n",
       "      <th>TOWED_I</th>\n",
       "      <th>FIRE_I</th>\n",
       "      <th>OCCUPANT_CNT</th>\n",
       "      <th>EXCEED_SPEED_LIMIT_I</th>\n",
       "      <th>TOWED_BY</th>\n",
       "      <th>TOWED_TO</th>\n",
       "      <th>AREA_00_I</th>\n",
       "      <th>AREA_01_I</th>\n",
       "      <th>AREA_02_I</th>\n",
       "      <th>AREA_03_I</th>\n",
       "      <th>AREA_04_I</th>\n",
       "      <th>AREA_05_I</th>\n",
       "      <th>AREA_06_I</th>\n",
       "      <th>AREA_07_I</th>\n",
       "      <th>AREA_08_I</th>\n",
       "      <th>AREA_09_I</th>\n",
       "      <th>AREA_10_I</th>\n",
       "      <th>AREA_11_I</th>\n",
       "      <th>AREA_12_I</th>\n",
       "      <th>AREA_99_I</th>\n",
       "      <th>FIRST_CONTACT_POINT</th>\n",
       "      <th>CMV_ID</th>\n",
       "      <th>USDOT_NO</th>\n",
       "      <th>CCMC_NO</th>\n",
       "      <th>ILCC_NO</th>\n",
       "      <th>COMMERCIAL_SRC</th>\n",
       "      <th>GVWR</th>\n",
       "      <th>CARRIER_NAME</th>\n",
       "      <th>CARRIER_STATE</th>\n",
       "      <th>CARRIER_CITY</th>\n",
       "      <th>HAZMAT_PLACARDS_I</th>\n",
       "      <th>HAZMAT_NAME</th>\n",
       "      <th>UN_NO</th>\n",
       "      <th>HAZMAT_PRESENT_I</th>\n",
       "      <th>HAZMAT_REPORT_I</th>\n",
       "      <th>HAZMAT_REPORT_NO</th>\n",
       "      <th>MCS_REPORT_I</th>\n",
       "      <th>MCS_REPORT_NO</th>\n",
       "      <th>HAZMAT_VIO_CAUSE_CRASH_I</th>\n",
       "      <th>MCS_VIO_CAUSE_CRASH_I</th>\n",
       "      <th>IDOT_PERMIT_NO</th>\n",
       "      <th>WIDE_LOAD_I</th>\n",
       "      <th>TRAILER1_WIDTH</th>\n",
       "      <th>TRAILER2_WIDTH</th>\n",
       "      <th>TRAILER1_LENGTH</th>\n",
       "      <th>TRAILER2_LENGTH</th>\n",
       "      <th>TOTAL_VEHICLE_LENGTH</th>\n",
       "      <th>AXLE_CNT</th>\n",
       "      <th>VEHICLE_CONFIG</th>\n",
       "      <th>CARGO_BODY_TYPE</th>\n",
       "      <th>LOAD_TYPE</th>\n",
       "      <th>HAZMAT_OUT_OF_SERVICE_I</th>\n",
       "      <th>MCS_OUT_OF_SERVICE_I</th>\n",
       "      <th>HAZMAT_CLASS</th>\n",
       "    </tr>\n",
       "  </thead>\n",
       "  <tbody>\n",
       "    <tr>\n",
       "      <th>0</th>\n",
       "      <td>10</td>\n",
       "      <td>2e31858c0e411f0bdcb337fb7c415aa93763cf2f23e02f...</td>\n",
       "      <td>08/04/2015 12:40:00 PM</td>\n",
       "      <td>1</td>\n",
       "      <td>DRIVER</td>\n",
       "      <td>NaN</td>\n",
       "      <td>10.0</td>\n",
       "      <td>NaN</td>\n",
       "      <td>FORD</td>\n",
       "      <td>Focus</td>\n",
       "      <td>IL</td>\n",
       "      <td>2001.0</td>\n",
       "      <td>NONE</td>\n",
       "      <td>PASSENGER</td>\n",
       "      <td>PERSONAL</td>\n",
       "      <td>N</td>\n",
       "      <td>TURNING LEFT</td>\n",
       "      <td>NaN</td>\n",
       "      <td>NaN</td>\n",
       "      <td>1.0</td>\n",
       "      <td>NaN</td>\n",
       "      <td>NaN</td>\n",
       "      <td>NaN</td>\n",
       "      <td>N</td>\n",
       "      <td>Y</td>\n",
       "      <td>Y</td>\n",
       "      <td>NaN</td>\n",
       "      <td>NaN</td>\n",
       "      <td>NaN</td>\n",
       "      <td>NaN</td>\n",
       "      <td>NaN</td>\n",
       "      <td>Y</td>\n",
       "      <td>NaN</td>\n",
       "      <td>NaN</td>\n",
       "      <td>NaN</td>\n",
       "      <td>NaN</td>\n",
       "      <td>NaN</td>\n",
       "      <td>FRONT</td>\n",
       "      <td>NaN</td>\n",
       "      <td>NaN</td>\n",
       "      <td>NaN</td>\n",
       "      <td>NaN</td>\n",
       "      <td>NaN</td>\n",
       "      <td>NaN</td>\n",
       "      <td>NaN</td>\n",
       "      <td>NaN</td>\n",
       "      <td>NaN</td>\n",
       "      <td>NaN</td>\n",
       "      <td>NaN</td>\n",
       "      <td>NaN</td>\n",
       "      <td>NaN</td>\n",
       "      <td>NaN</td>\n",
       "      <td>NaN</td>\n",
       "      <td>NaN</td>\n",
       "      <td>NaN</td>\n",
       "      <td>NaN</td>\n",
       "      <td>NaN</td>\n",
       "      <td>NaN</td>\n",
       "      <td>NaN</td>\n",
       "      <td>NaN</td>\n",
       "      <td>NaN</td>\n",
       "      <td>NaN</td>\n",
       "      <td>NaN</td>\n",
       "      <td>NaN</td>\n",
       "      <td>NaN</td>\n",
       "      <td>NaN</td>\n",
       "      <td>NaN</td>\n",
       "      <td>NaN</td>\n",
       "      <td>NaN</td>\n",
       "      <td>NaN</td>\n",
       "      <td>NaN</td>\n",
       "    </tr>\n",
       "    <tr>\n",
       "      <th>1</th>\n",
       "      <td>100</td>\n",
       "      <td>e73b35bd7651b0c6693162bee0666db159b28901437009...</td>\n",
       "      <td>07/31/2015 05:50:00 PM</td>\n",
       "      <td>1</td>\n",
       "      <td>DRIVER</td>\n",
       "      <td>NaN</td>\n",
       "      <td>96.0</td>\n",
       "      <td>NaN</td>\n",
       "      <td>NISSAN</td>\n",
       "      <td>Pathfinder</td>\n",
       "      <td>IL</td>\n",
       "      <td>1999.0</td>\n",
       "      <td>NONE</td>\n",
       "      <td>SPORT UTILITY VEHICLE (SUV)</td>\n",
       "      <td>PERSONAL</td>\n",
       "      <td>E</td>\n",
       "      <td>STRAIGHT AHEAD</td>\n",
       "      <td>NaN</td>\n",
       "      <td>NaN</td>\n",
       "      <td>1.0</td>\n",
       "      <td>NaN</td>\n",
       "      <td>NaN</td>\n",
       "      <td>NaN</td>\n",
       "      <td>NaN</td>\n",
       "      <td>Y</td>\n",
       "      <td>NaN</td>\n",
       "      <td>NaN</td>\n",
       "      <td>NaN</td>\n",
       "      <td>NaN</td>\n",
       "      <td>NaN</td>\n",
       "      <td>NaN</td>\n",
       "      <td>NaN</td>\n",
       "      <td>NaN</td>\n",
       "      <td>NaN</td>\n",
       "      <td>NaN</td>\n",
       "      <td>NaN</td>\n",
       "      <td>NaN</td>\n",
       "      <td>FRONT</td>\n",
       "      <td>NaN</td>\n",
       "      <td>NaN</td>\n",
       "      <td>NaN</td>\n",
       "      <td>NaN</td>\n",
       "      <td>NaN</td>\n",
       "      <td>NaN</td>\n",
       "      <td>NaN</td>\n",
       "      <td>NaN</td>\n",
       "      <td>NaN</td>\n",
       "      <td>NaN</td>\n",
       "      <td>NaN</td>\n",
       "      <td>NaN</td>\n",
       "      <td>NaN</td>\n",
       "      <td>NaN</td>\n",
       "      <td>NaN</td>\n",
       "      <td>NaN</td>\n",
       "      <td>NaN</td>\n",
       "      <td>NaN</td>\n",
       "      <td>NaN</td>\n",
       "      <td>NaN</td>\n",
       "      <td>NaN</td>\n",
       "      <td>NaN</td>\n",
       "      <td>NaN</td>\n",
       "      <td>NaN</td>\n",
       "      <td>NaN</td>\n",
       "      <td>NaN</td>\n",
       "      <td>NaN</td>\n",
       "      <td>NaN</td>\n",
       "      <td>NaN</td>\n",
       "      <td>NaN</td>\n",
       "      <td>NaN</td>\n",
       "      <td>NaN</td>\n",
       "      <td>NaN</td>\n",
       "    </tr>\n",
       "    <tr>\n",
       "      <th>2</th>\n",
       "      <td>1000</td>\n",
       "      <td>f2b1adeb85a15112e4fb7db74bff440d6ca53ff7a21e10...</td>\n",
       "      <td>09/02/2015 11:45:00 AM</td>\n",
       "      <td>1</td>\n",
       "      <td>DRIVER</td>\n",
       "      <td>NaN</td>\n",
       "      <td>954.0</td>\n",
       "      <td>NaN</td>\n",
       "      <td>FORD</td>\n",
       "      <td>F150</td>\n",
       "      <td>KS</td>\n",
       "      <td>NaN</td>\n",
       "      <td>UNKNOWN</td>\n",
       "      <td>VAN/MINI-VAN</td>\n",
       "      <td>UNKNOWN/NA</td>\n",
       "      <td>W</td>\n",
       "      <td>STRAIGHT AHEAD</td>\n",
       "      <td>NaN</td>\n",
       "      <td>NaN</td>\n",
       "      <td>1.0</td>\n",
       "      <td>NaN</td>\n",
       "      <td>NaN</td>\n",
       "      <td>NaN</td>\n",
       "      <td>NaN</td>\n",
       "      <td>NaN</td>\n",
       "      <td>NaN</td>\n",
       "      <td>NaN</td>\n",
       "      <td>NaN</td>\n",
       "      <td>NaN</td>\n",
       "      <td>NaN</td>\n",
       "      <td>NaN</td>\n",
       "      <td>NaN</td>\n",
       "      <td>NaN</td>\n",
       "      <td>NaN</td>\n",
       "      <td>NaN</td>\n",
       "      <td>NaN</td>\n",
       "      <td>Y</td>\n",
       "      <td>FRONT</td>\n",
       "      <td>NaN</td>\n",
       "      <td>NaN</td>\n",
       "      <td>NaN</td>\n",
       "      <td>NaN</td>\n",
       "      <td>NaN</td>\n",
       "      <td>NaN</td>\n",
       "      <td>NaN</td>\n",
       "      <td>NaN</td>\n",
       "      <td>NaN</td>\n",
       "      <td>NaN</td>\n",
       "      <td>NaN</td>\n",
       "      <td>NaN</td>\n",
       "      <td>NaN</td>\n",
       "      <td>NaN</td>\n",
       "      <td>NaN</td>\n",
       "      <td>NaN</td>\n",
       "      <td>NaN</td>\n",
       "      <td>NaN</td>\n",
       "      <td>NaN</td>\n",
       "      <td>NaN</td>\n",
       "      <td>NaN</td>\n",
       "      <td>NaN</td>\n",
       "      <td>NaN</td>\n",
       "      <td>NaN</td>\n",
       "      <td>NaN</td>\n",
       "      <td>NaN</td>\n",
       "      <td>NaN</td>\n",
       "      <td>NaN</td>\n",
       "      <td>NaN</td>\n",
       "      <td>NaN</td>\n",
       "      <td>NaN</td>\n",
       "      <td>NaN</td>\n",
       "      <td>NaN</td>\n",
       "    </tr>\n",
       "    <tr>\n",
       "      <th>3</th>\n",
       "      <td>10000</td>\n",
       "      <td>15a3e24fce3ce7cd2b02d44013d1a93ff2fbdca80632ec...</td>\n",
       "      <td>10/31/2015 09:30:00 PM</td>\n",
       "      <td>2</td>\n",
       "      <td>DRIVER</td>\n",
       "      <td>NaN</td>\n",
       "      <td>9561.0</td>\n",
       "      <td>NaN</td>\n",
       "      <td>HYUNDAI</td>\n",
       "      <td>SONATA</td>\n",
       "      <td>NaN</td>\n",
       "      <td>2011.0</td>\n",
       "      <td>NONE</td>\n",
       "      <td>PASSENGER</td>\n",
       "      <td>PERSONAL</td>\n",
       "      <td>E</td>\n",
       "      <td>SLOW/STOP IN TRAFFIC</td>\n",
       "      <td>NaN</td>\n",
       "      <td>NaN</td>\n",
       "      <td>1.0</td>\n",
       "      <td>NaN</td>\n",
       "      <td>NaN</td>\n",
       "      <td>NaN</td>\n",
       "      <td>NaN</td>\n",
       "      <td>NaN</td>\n",
       "      <td>NaN</td>\n",
       "      <td>NaN</td>\n",
       "      <td>NaN</td>\n",
       "      <td>NaN</td>\n",
       "      <td>NaN</td>\n",
       "      <td>NaN</td>\n",
       "      <td>NaN</td>\n",
       "      <td>NaN</td>\n",
       "      <td>NaN</td>\n",
       "      <td>NaN</td>\n",
       "      <td>NaN</td>\n",
       "      <td>NaN</td>\n",
       "      <td>REAR</td>\n",
       "      <td>NaN</td>\n",
       "      <td>NaN</td>\n",
       "      <td>NaN</td>\n",
       "      <td>NaN</td>\n",
       "      <td>NaN</td>\n",
       "      <td>NaN</td>\n",
       "      <td>NaN</td>\n",
       "      <td>NaN</td>\n",
       "      <td>NaN</td>\n",
       "      <td>NaN</td>\n",
       "      <td>NaN</td>\n",
       "      <td>NaN</td>\n",
       "      <td>NaN</td>\n",
       "      <td>NaN</td>\n",
       "      <td>NaN</td>\n",
       "      <td>NaN</td>\n",
       "      <td>NaN</td>\n",
       "      <td>NaN</td>\n",
       "      <td>NaN</td>\n",
       "      <td>NaN</td>\n",
       "      <td>NaN</td>\n",
       "      <td>NaN</td>\n",
       "      <td>NaN</td>\n",
       "      <td>NaN</td>\n",
       "      <td>NaN</td>\n",
       "      <td>NaN</td>\n",
       "      <td>NaN</td>\n",
       "      <td>NaN</td>\n",
       "      <td>NaN</td>\n",
       "      <td>NaN</td>\n",
       "      <td>NaN</td>\n",
       "      <td>NaN</td>\n",
       "      <td>NaN</td>\n",
       "    </tr>\n",
       "    <tr>\n",
       "      <th>4</th>\n",
       "      <td>100000</td>\n",
       "      <td>1d3c178880366c77deaf06b8c3198429112a1c8e8807ed...</td>\n",
       "      <td>11/16/2016 01:00:00 PM</td>\n",
       "      <td>2</td>\n",
       "      <td>PARKED</td>\n",
       "      <td>NaN</td>\n",
       "      <td>96745.0</td>\n",
       "      <td>NaN</td>\n",
       "      <td>TOYOTA MOTOR COMPANY, LTD.</td>\n",
       "      <td>RAV4 (sport utility)</td>\n",
       "      <td>IL</td>\n",
       "      <td>2001.0</td>\n",
       "      <td>UNKNOWN</td>\n",
       "      <td>SPORT UTILITY VEHICLE (SUV)</td>\n",
       "      <td>NOT IN USE</td>\n",
       "      <td>S</td>\n",
       "      <td>PARKED</td>\n",
       "      <td>NaN</td>\n",
       "      <td>NaN</td>\n",
       "      <td>0.0</td>\n",
       "      <td>NaN</td>\n",
       "      <td>NaN</td>\n",
       "      <td>NaN</td>\n",
       "      <td>N</td>\n",
       "      <td>Y</td>\n",
       "      <td>NaN</td>\n",
       "      <td>NaN</td>\n",
       "      <td>NaN</td>\n",
       "      <td>Y</td>\n",
       "      <td>NaN</td>\n",
       "      <td>NaN</td>\n",
       "      <td>NaN</td>\n",
       "      <td>NaN</td>\n",
       "      <td>NaN</td>\n",
       "      <td>NaN</td>\n",
       "      <td>NaN</td>\n",
       "      <td>NaN</td>\n",
       "      <td>UNKNOWN</td>\n",
       "      <td>NaN</td>\n",
       "      <td>NaN</td>\n",
       "      <td>NaN</td>\n",
       "      <td>NaN</td>\n",
       "      <td>NaN</td>\n",
       "      <td>NaN</td>\n",
       "      <td>NaN</td>\n",
       "      <td>NaN</td>\n",
       "      <td>NaN</td>\n",
       "      <td>NaN</td>\n",
       "      <td>NaN</td>\n",
       "      <td>NaN</td>\n",
       "      <td>NaN</td>\n",
       "      <td>NaN</td>\n",
       "      <td>NaN</td>\n",
       "      <td>NaN</td>\n",
       "      <td>NaN</td>\n",
       "      <td>NaN</td>\n",
       "      <td>NaN</td>\n",
       "      <td>NaN</td>\n",
       "      <td>NaN</td>\n",
       "      <td>NaN</td>\n",
       "      <td>NaN</td>\n",
       "      <td>NaN</td>\n",
       "      <td>NaN</td>\n",
       "      <td>NaN</td>\n",
       "      <td>NaN</td>\n",
       "      <td>NaN</td>\n",
       "      <td>NaN</td>\n",
       "      <td>NaN</td>\n",
       "      <td>NaN</td>\n",
       "      <td>NaN</td>\n",
       "      <td>NaN</td>\n",
       "    </tr>\n",
       "  </tbody>\n",
       "</table>\n",
       "</div>"
      ],
      "text/plain": [
       "   CRASH_UNIT_ID                                    CRASH_RECORD_ID  \\\n",
       "0             10  2e31858c0e411f0bdcb337fb7c415aa93763cf2f23e02f...   \n",
       "1            100  e73b35bd7651b0c6693162bee0666db159b28901437009...   \n",
       "2           1000  f2b1adeb85a15112e4fb7db74bff440d6ca53ff7a21e10...   \n",
       "3          10000  15a3e24fce3ce7cd2b02d44013d1a93ff2fbdca80632ec...   \n",
       "4         100000  1d3c178880366c77deaf06b8c3198429112a1c8e8807ed...   \n",
       "\n",
       "               CRASH_DATE  UNIT_NO UNIT_TYPE  NUM_PASSENGERS  VEHICLE_ID  \\\n",
       "0  08/04/2015 12:40:00 PM        1    DRIVER             NaN        10.0   \n",
       "1  07/31/2015 05:50:00 PM        1    DRIVER             NaN        96.0   \n",
       "2  09/02/2015 11:45:00 AM        1    DRIVER             NaN       954.0   \n",
       "3  10/31/2015 09:30:00 PM        2    DRIVER             NaN      9561.0   \n",
       "4  11/16/2016 01:00:00 PM        2    PARKED             NaN     96745.0   \n",
       "\n",
       "  CMRC_VEH_I                        MAKE                 MODEL  \\\n",
       "0        NaN                        FORD                 Focus   \n",
       "1        NaN                      NISSAN            Pathfinder   \n",
       "2        NaN                        FORD                  F150   \n",
       "3        NaN                     HYUNDAI                SONATA   \n",
       "4        NaN  TOYOTA MOTOR COMPANY, LTD.  RAV4 (sport utility)   \n",
       "\n",
       "  LIC_PLATE_STATE  VEHICLE_YEAR VEHICLE_DEFECT                 VEHICLE_TYPE  \\\n",
       "0              IL        2001.0           NONE                    PASSENGER   \n",
       "1              IL        1999.0           NONE  SPORT UTILITY VEHICLE (SUV)   \n",
       "2              KS           NaN        UNKNOWN                 VAN/MINI-VAN   \n",
       "3             NaN        2011.0           NONE                    PASSENGER   \n",
       "4              IL        2001.0        UNKNOWN  SPORT UTILITY VEHICLE (SUV)   \n",
       "\n",
       "  VEHICLE_USE TRAVEL_DIRECTION              MANEUVER TOWED_I FIRE_I  \\\n",
       "0    PERSONAL                N          TURNING LEFT     NaN    NaN   \n",
       "1    PERSONAL                E        STRAIGHT AHEAD     NaN    NaN   \n",
       "2  UNKNOWN/NA                W        STRAIGHT AHEAD     NaN    NaN   \n",
       "3    PERSONAL                E  SLOW/STOP IN TRAFFIC     NaN    NaN   \n",
       "4  NOT IN USE                S                PARKED     NaN    NaN   \n",
       "\n",
       "   OCCUPANT_CNT EXCEED_SPEED_LIMIT_I TOWED_BY TOWED_TO AREA_00_I AREA_01_I  \\\n",
       "0           1.0                  NaN      NaN      NaN         N         Y   \n",
       "1           1.0                  NaN      NaN      NaN       NaN         Y   \n",
       "2           1.0                  NaN      NaN      NaN       NaN       NaN   \n",
       "3           1.0                  NaN      NaN      NaN       NaN       NaN   \n",
       "4           0.0                  NaN      NaN      NaN         N         Y   \n",
       "\n",
       "  AREA_02_I AREA_03_I AREA_04_I AREA_05_I AREA_06_I AREA_07_I AREA_08_I  \\\n",
       "0         Y       NaN       NaN       NaN       NaN       NaN         Y   \n",
       "1       NaN       NaN       NaN       NaN       NaN       NaN       NaN   \n",
       "2       NaN       NaN       NaN       NaN       NaN       NaN       NaN   \n",
       "3       NaN       NaN       NaN       NaN       NaN       NaN       NaN   \n",
       "4       NaN       NaN       NaN         Y       NaN       NaN       NaN   \n",
       "\n",
       "  AREA_09_I AREA_10_I AREA_11_I AREA_12_I AREA_99_I FIRST_CONTACT_POINT  \\\n",
       "0       NaN       NaN       NaN       NaN       NaN               FRONT   \n",
       "1       NaN       NaN       NaN       NaN       NaN               FRONT   \n",
       "2       NaN       NaN       NaN       NaN         Y               FRONT   \n",
       "3       NaN       NaN       NaN       NaN       NaN                REAR   \n",
       "4       NaN       NaN       NaN       NaN       NaN             UNKNOWN   \n",
       "\n",
       "   CMV_ID USDOT_NO CCMC_NO ILCC_NO COMMERCIAL_SRC GVWR CARRIER_NAME  \\\n",
       "0     NaN      NaN     NaN     NaN            NaN  NaN          NaN   \n",
       "1     NaN      NaN     NaN     NaN            NaN  NaN          NaN   \n",
       "2     NaN      NaN     NaN     NaN            NaN  NaN          NaN   \n",
       "3     NaN      NaN     NaN     NaN            NaN  NaN          NaN   \n",
       "4     NaN      NaN     NaN     NaN            NaN  NaN          NaN   \n",
       "\n",
       "  CARRIER_STATE CARRIER_CITY HAZMAT_PLACARDS_I HAZMAT_NAME UN_NO  \\\n",
       "0           NaN          NaN               NaN         NaN   NaN   \n",
       "1           NaN          NaN               NaN         NaN   NaN   \n",
       "2           NaN          NaN               NaN         NaN   NaN   \n",
       "3           NaN          NaN               NaN         NaN   NaN   \n",
       "4           NaN          NaN               NaN         NaN   NaN   \n",
       "\n",
       "  HAZMAT_PRESENT_I HAZMAT_REPORT_I HAZMAT_REPORT_NO MCS_REPORT_I  \\\n",
       "0              NaN             NaN              NaN          NaN   \n",
       "1              NaN             NaN              NaN          NaN   \n",
       "2              NaN             NaN              NaN          NaN   \n",
       "3              NaN             NaN              NaN          NaN   \n",
       "4              NaN             NaN              NaN          NaN   \n",
       "\n",
       "  MCS_REPORT_NO HAZMAT_VIO_CAUSE_CRASH_I MCS_VIO_CAUSE_CRASH_I IDOT_PERMIT_NO  \\\n",
       "0           NaN                      NaN                   NaN            NaN   \n",
       "1           NaN                      NaN                   NaN            NaN   \n",
       "2           NaN                      NaN                   NaN            NaN   \n",
       "3           NaN                      NaN                   NaN            NaN   \n",
       "4           NaN                      NaN                   NaN            NaN   \n",
       "\n",
       "  WIDE_LOAD_I TRAILER1_WIDTH TRAILER2_WIDTH  TRAILER1_LENGTH  TRAILER2_LENGTH  \\\n",
       "0         NaN            NaN            NaN              NaN              NaN   \n",
       "1         NaN            NaN            NaN              NaN              NaN   \n",
       "2         NaN            NaN            NaN              NaN              NaN   \n",
       "3         NaN            NaN            NaN              NaN              NaN   \n",
       "4         NaN            NaN            NaN              NaN              NaN   \n",
       "\n",
       "   TOTAL_VEHICLE_LENGTH  AXLE_CNT VEHICLE_CONFIG CARGO_BODY_TYPE LOAD_TYPE  \\\n",
       "0                   NaN       NaN            NaN             NaN       NaN   \n",
       "1                   NaN       NaN            NaN             NaN       NaN   \n",
       "2                   NaN       NaN            NaN             NaN       NaN   \n",
       "3                   NaN       NaN            NaN             NaN       NaN   \n",
       "4                   NaN       NaN            NaN             NaN       NaN   \n",
       "\n",
       "  HAZMAT_OUT_OF_SERVICE_I MCS_OUT_OF_SERVICE_I HAZMAT_CLASS  \n",
       "0                     NaN                  NaN          NaN  \n",
       "1                     NaN                  NaN          NaN  \n",
       "2                     NaN                  NaN          NaN  \n",
       "3                     NaN                  NaN          NaN  \n",
       "4                     NaN                  NaN          NaN  "
      ]
     },
     "execution_count": 206,
     "metadata": {},
     "output_type": "execute_result"
    }
   ],
   "source": [
    "vehicles.head()"
   ]
  },
  {
   "cell_type": "code",
   "execution_count": 207,
   "metadata": {},
   "outputs": [],
   "source": [
    "# columns to keep\n",
    "columns_to_keep = ['CRASH_UNIT_ID', 'CRASH_RECORD_ID', 'VEHICLE_ID', 'CRASH_DATE', 'UNIT_NO', 'UNIT_TYPE', 'NUM_PASSENGERS',\n",
    "                   'VEHICLE_YEAR', 'VEHICLE_DEFECT', 'VEHICLE_TYPE', 'MANEUVER', 'OCCUPANT_CNT', 'FIRST_CONTACT_POINT']"
   ]
  },
  {
   "cell_type": "code",
   "execution_count": 208,
   "metadata": {},
   "outputs": [],
   "source": [
    "vehicles = vehicles[columns_to_keep]"
   ]
  },
  {
   "cell_type": "code",
   "execution_count": 209,
   "metadata": {},
   "outputs": [
    {
     "name": "stdout",
     "output_type": "stream",
     "text": [
      "<class 'pandas.core.frame.DataFrame'>\n",
      "RangeIndex: 1860568 entries, 0 to 1860567\n",
      "Data columns (total 13 columns):\n",
      " #   Column               Non-Null Count    Dtype  \n",
      "---  ------               --------------    -----  \n",
      " 0   CRASH_UNIT_ID        1860568 non-null  int64  \n",
      " 1   CRASH_RECORD_ID      1860568 non-null  object \n",
      " 2   VEHICLE_ID           1817047 non-null  float64\n",
      " 3   CRASH_DATE           1860568 non-null  object \n",
      " 4   UNIT_NO              1860568 non-null  int64  \n",
      " 5   UNIT_TYPE            1858293 non-null  object \n",
      " 6   NUM_PASSENGERS       275500 non-null   float64\n",
      " 7   VEHICLE_YEAR         1528798 non-null  float64\n",
      " 8   VEHICLE_DEFECT       1817047 non-null  object \n",
      " 9   VEHICLE_TYPE         1817047 non-null  object \n",
      " 10  MANEUVER             1817047 non-null  object \n",
      " 11  OCCUPANT_CNT         1817047 non-null  float64\n",
      " 12  FIRST_CONTACT_POINT  1813889 non-null  object \n",
      "dtypes: float64(4), int64(2), object(7)\n",
      "memory usage: 184.5+ MB\n"
     ]
    }
   ],
   "source": [
    "vehicles.info(show_counts=True)"
   ]
  },
  {
   "cell_type": "markdown",
   "metadata": {},
   "source": [
    "---"
   ]
  },
  {
   "cell_type": "markdown",
   "metadata": {},
   "source": [
    "## CRASH_UNIT_ID, UNIT_NO"
   ]
  },
  {
   "cell_type": "code",
   "execution_count": 210,
   "metadata": {},
   "outputs": [
    {
     "data": {
      "text/plain": [
       "CRASH_UNIT_ID\n",
       "1991616    1\n",
       "10         1\n",
       "100        1\n",
       "1000       1\n",
       "10000      1\n",
       "Name: count, dtype: int64"
      ]
     },
     "execution_count": 210,
     "metadata": {},
     "output_type": "execute_result"
    }
   ],
   "source": [
    "vehicles['CRASH_UNIT_ID'].value_counts().head()"
   ]
  },
  {
   "cell_type": "code",
   "execution_count": 211,
   "metadata": {},
   "outputs": [
    {
     "data": {
      "text/plain": [
       "VEHICLE_ID\n",
       "1897858.0    1\n",
       "10.0         1\n",
       "96.0         1\n",
       "954.0        1\n",
       "9561.0       1\n",
       "Name: count, dtype: int64"
      ]
     },
     "execution_count": 211,
     "metadata": {},
     "output_type": "execute_result"
    }
   ],
   "source": [
    "vehicles['VEHICLE_ID'].value_counts().head()"
   ]
  },
  {
   "cell_type": "markdown",
   "metadata": {},
   "source": [
    "maybe we won't need vehicle ID"
   ]
  },
  {
   "cell_type": "code",
   "execution_count": 212,
   "metadata": {},
   "outputs": [
    {
     "data": {
      "text/plain": [
       "UNIT_NO\n",
       "1          916565\n",
       "2          863811\n",
       "3           62134\n",
       "4           12767\n",
       "5            3400\n",
       "6            1062\n",
       "7             405\n",
       "8             178\n",
       "9              82\n",
       "10             43\n",
       "0              37\n",
       "11             24\n",
       "12             15\n",
       "13             10\n",
       "14              9\n",
       "15              8\n",
       "16              7\n",
       "17              5\n",
       "18              5\n",
       "3778035         1\n",
       "Name: count, dtype: int64"
      ]
     },
     "execution_count": 212,
     "metadata": {},
     "output_type": "execute_result"
    }
   ],
   "source": [
    "vehicles['UNIT_NO'].value_counts()"
   ]
  },
  {
   "cell_type": "markdown",
   "metadata": {},
   "source": [
    "this feature is reported as: \n",
    "\n",
    "\t\n",
    "`A unique ID for each unit within a specific crash report`\n",
    "\n",
    "but looking at it it seems more liek the number of units (vehicles) involved in a crash.\n",
    "\n",
    "for now we will drop both 0 and the bug number as we are interpreting it as the number of vehicles involved."
   ]
  },
  {
   "cell_type": "code",
   "execution_count": 213,
   "metadata": {},
   "outputs": [],
   "source": [
    "vehicles = vehicles[vehicles['UNIT_NO'].between(1, 18)]"
   ]
  },
  {
   "cell_type": "code",
   "execution_count": 214,
   "metadata": {},
   "outputs": [
    {
     "data": {
      "text/plain": [
       "UNIT_NO\n",
       "1     916565\n",
       "2     863811\n",
       "3      62134\n",
       "4      12767\n",
       "5       3400\n",
       "6       1062\n",
       "7        405\n",
       "8        178\n",
       "9         82\n",
       "10        43\n",
       "11        24\n",
       "12        15\n",
       "13        10\n",
       "14         9\n",
       "15         8\n",
       "16         7\n",
       "17         5\n",
       "18         5\n",
       "Name: count, dtype: int64"
      ]
     },
     "execution_count": 214,
     "metadata": {},
     "output_type": "execute_result"
    }
   ],
   "source": [
    "vehicles['UNIT_NO'].value_counts()"
   ]
  },
  {
   "cell_type": "markdown",
   "metadata": {},
   "source": [
    "---"
   ]
  },
  {
   "cell_type": "markdown",
   "metadata": {},
   "source": [
    "## NUM_PASSENGERS , OCCUPANT_CNT               "
   ]
  },
  {
   "cell_type": "code",
   "execution_count": 215,
   "metadata": {},
   "outputs": [
    {
     "data": {
      "text/plain": [
       "NUM_PASSENGERS\n",
       "1.0     194889\n",
       "2.0      50916\n",
       "3.0      19857\n",
       "4.0       6557\n",
       "5.0       1766\n",
       "6.0        705\n",
       "7.0        264\n",
       "8.0        121\n",
       "10.0        81\n",
       "9.0         74\n",
       "11.0        46\n",
       "12.0        40\n",
       "14.0        23\n",
       "15.0        18\n",
       "13.0        17\n",
       "17.0        13\n",
       "19.0        11\n",
       "18.0        10\n",
       "16.0         9\n",
       "27.0         8\n",
       "24.0         6\n",
       "26.0         6\n",
       "20.0         5\n",
       "28.0         5\n",
       "29.0         4\n",
       "21.0         4\n",
       "25.0         4\n",
       "34.0         4\n",
       "35.0         4\n",
       "40.0         4\n",
       "43.0         4\n",
       "22.0         3\n",
       "32.0         3\n",
       "33.0         3\n",
       "36.0         2\n",
       "30.0         2\n",
       "38.0         2\n",
       "46.0         2\n",
       "42.0         2\n",
       "23.0         2\n",
       "31.0         1\n",
       "59.0         1\n",
       "37.0         1\n",
       "52.0         1\n",
       "Name: count, dtype: int64"
      ]
     },
     "execution_count": 215,
     "metadata": {},
     "output_type": "execute_result"
    }
   ],
   "source": [
    "vehicles['NUM_PASSENGERS'].value_counts()"
   ]
  },
  {
   "cell_type": "code",
   "execution_count": 216,
   "metadata": {},
   "outputs": [
    {
     "data": {
      "text/html": [
       "<div>\n",
       "<style scoped>\n",
       "    .dataframe tbody tr th:only-of-type {\n",
       "        vertical-align: middle;\n",
       "    }\n",
       "\n",
       "    .dataframe tbody tr th {\n",
       "        vertical-align: top;\n",
       "    }\n",
       "\n",
       "    .dataframe thead th {\n",
       "        text-align: right;\n",
       "    }\n",
       "</style>\n",
       "<table border=\"1\" class=\"dataframe\">\n",
       "  <thead>\n",
       "    <tr style=\"text-align: right;\">\n",
       "      <th></th>\n",
       "      <th>CRASH_UNIT_ID</th>\n",
       "      <th>CRASH_RECORD_ID</th>\n",
       "      <th>VEHICLE_ID</th>\n",
       "      <th>CRASH_DATE</th>\n",
       "      <th>UNIT_NO</th>\n",
       "      <th>UNIT_TYPE</th>\n",
       "      <th>NUM_PASSENGERS</th>\n",
       "      <th>VEHICLE_YEAR</th>\n",
       "      <th>VEHICLE_DEFECT</th>\n",
       "      <th>VEHICLE_TYPE</th>\n",
       "      <th>MANEUVER</th>\n",
       "      <th>OCCUPANT_CNT</th>\n",
       "      <th>FIRST_CONTACT_POINT</th>\n",
       "    </tr>\n",
       "  </thead>\n",
       "  <tbody>\n",
       "    <tr>\n",
       "      <th>696450</th>\n",
       "      <td>1666812</td>\n",
       "      <td>26ba2ab5083a4a12e79d9c822e0f62244a6b8f14e446f6...</td>\n",
       "      <td>1586356.0</td>\n",
       "      <td>09/20/2023 09:45:00 AM</td>\n",
       "      <td>1</td>\n",
       "      <td>DRIVER</td>\n",
       "      <td>20.0</td>\n",
       "      <td>2006.0</td>\n",
       "      <td>UNKNOWN</td>\n",
       "      <td>OTHER</td>\n",
       "      <td>STRAIGHT AHEAD</td>\n",
       "      <td>21.0</td>\n",
       "      <td>SIDE-RIGHT</td>\n",
       "    </tr>\n",
       "    <tr>\n",
       "      <th>707209</th>\n",
       "      <td>1677120</td>\n",
       "      <td>e809db9da6e7b27ec49a18607207d12fe70813b58a8737...</td>\n",
       "      <td>1596189.0</td>\n",
       "      <td>10/07/2023 06:23:00 PM</td>\n",
       "      <td>3</td>\n",
       "      <td>DRIVER</td>\n",
       "      <td>16.0</td>\n",
       "      <td>NaN</td>\n",
       "      <td>UNKNOWN</td>\n",
       "      <td>BUS UP TO 15 PASS.</td>\n",
       "      <td>SLOW/STOP IN TRAFFIC</td>\n",
       "      <td>17.0</td>\n",
       "      <td>REAR</td>\n",
       "    </tr>\n",
       "    <tr>\n",
       "      <th>1006341</th>\n",
       "      <td>389377</td>\n",
       "      <td>41a38b35aa49152e29d94b5a27febeb10136e4b0b35c87...</td>\n",
       "      <td>374784.0</td>\n",
       "      <td>05/19/2018 09:47:00 AM</td>\n",
       "      <td>1</td>\n",
       "      <td>DRIVER</td>\n",
       "      <td>16.0</td>\n",
       "      <td>2009.0</td>\n",
       "      <td>NONE</td>\n",
       "      <td>OTHER</td>\n",
       "      <td>STRAIGHT AHEAD</td>\n",
       "      <td>17.0</td>\n",
       "      <td>NONE</td>\n",
       "    </tr>\n",
       "    <tr>\n",
       "      <th>1109252</th>\n",
       "      <td>488862</td>\n",
       "      <td>1b2c0f3aede6a75eb935b5be7787d5c3f206c37b5f0a7f...</td>\n",
       "      <td>467665.0</td>\n",
       "      <td>09/30/2018 12:10:00 AM</td>\n",
       "      <td>2</td>\n",
       "      <td>DRIVER</td>\n",
       "      <td>23.0</td>\n",
       "      <td>2010.0</td>\n",
       "      <td>NONE</td>\n",
       "      <td>PASSENGER</td>\n",
       "      <td>STRAIGHT AHEAD</td>\n",
       "      <td>4.0</td>\n",
       "      <td>FRONT</td>\n",
       "    </tr>\n",
       "    <tr>\n",
       "      <th>1253286</th>\n",
       "      <td>629103</td>\n",
       "      <td>130a7343d7bf75828b8d36b6aeab379c938d08757ee215...</td>\n",
       "      <td>599255.0</td>\n",
       "      <td>04/20/2019 12:10:00 PM</td>\n",
       "      <td>2</td>\n",
       "      <td>DRIVER</td>\n",
       "      <td>16.0</td>\n",
       "      <td>2915.0</td>\n",
       "      <td>UNKNOWN</td>\n",
       "      <td>PASSENGER</td>\n",
       "      <td>STRAIGHT AHEAD</td>\n",
       "      <td>3.0</td>\n",
       "      <td>TOTAL (ALL AREAS)</td>\n",
       "    </tr>\n",
       "    <tr>\n",
       "      <th>1265489</th>\n",
       "      <td>640950</td>\n",
       "      <td>04225d53f733b9cb6c42a3ff1c05b88c5b0e03a17ec274...</td>\n",
       "      <td>610465.0</td>\n",
       "      <td>05/07/2019 05:03:00 AM</td>\n",
       "      <td>2</td>\n",
       "      <td>DRIVER</td>\n",
       "      <td>21.0</td>\n",
       "      <td>2008.0</td>\n",
       "      <td>UNKNOWN</td>\n",
       "      <td>PASSENGER</td>\n",
       "      <td>STRAIGHT AHEAD</td>\n",
       "      <td>2.0</td>\n",
       "      <td>REAR-LEFT</td>\n",
       "    </tr>\n",
       "    <tr>\n",
       "      <th>1489916</th>\n",
       "      <td>856775</td>\n",
       "      <td>b8c1315393f8d3155c03fe6967516695ca7be422ca3fa9...</td>\n",
       "      <td>813017.0</td>\n",
       "      <td>03/06/2020 05:17:00 PM</td>\n",
       "      <td>3</td>\n",
       "      <td>DRIVER</td>\n",
       "      <td>35.0</td>\n",
       "      <td>2012.0</td>\n",
       "      <td>UNKNOWN</td>\n",
       "      <td>UNKNOWN/NA</td>\n",
       "      <td>STRAIGHT AHEAD</td>\n",
       "      <td>36.0</td>\n",
       "      <td>REAR</td>\n",
       "    </tr>\n",
       "  </tbody>\n",
       "</table>\n",
       "</div>"
      ],
      "text/plain": [
       "         CRASH_UNIT_ID                                    CRASH_RECORD_ID  \\\n",
       "696450         1666812  26ba2ab5083a4a12e79d9c822e0f62244a6b8f14e446f6...   \n",
       "707209         1677120  e809db9da6e7b27ec49a18607207d12fe70813b58a8737...   \n",
       "1006341         389377  41a38b35aa49152e29d94b5a27febeb10136e4b0b35c87...   \n",
       "1109252         488862  1b2c0f3aede6a75eb935b5be7787d5c3f206c37b5f0a7f...   \n",
       "1253286         629103  130a7343d7bf75828b8d36b6aeab379c938d08757ee215...   \n",
       "1265489         640950  04225d53f733b9cb6c42a3ff1c05b88c5b0e03a17ec274...   \n",
       "1489916         856775  b8c1315393f8d3155c03fe6967516695ca7be422ca3fa9...   \n",
       "\n",
       "         VEHICLE_ID              CRASH_DATE  UNIT_NO UNIT_TYPE  \\\n",
       "696450    1586356.0  09/20/2023 09:45:00 AM        1    DRIVER   \n",
       "707209    1596189.0  10/07/2023 06:23:00 PM        3    DRIVER   \n",
       "1006341    374784.0  05/19/2018 09:47:00 AM        1    DRIVER   \n",
       "1109252    467665.0  09/30/2018 12:10:00 AM        2    DRIVER   \n",
       "1253286    599255.0  04/20/2019 12:10:00 PM        2    DRIVER   \n",
       "1265489    610465.0  05/07/2019 05:03:00 AM        2    DRIVER   \n",
       "1489916    813017.0  03/06/2020 05:17:00 PM        3    DRIVER   \n",
       "\n",
       "         NUM_PASSENGERS  VEHICLE_YEAR VEHICLE_DEFECT        VEHICLE_TYPE  \\\n",
       "696450             20.0        2006.0        UNKNOWN               OTHER   \n",
       "707209             16.0           NaN        UNKNOWN  BUS UP TO 15 PASS.   \n",
       "1006341            16.0        2009.0           NONE               OTHER   \n",
       "1109252            23.0        2010.0           NONE           PASSENGER   \n",
       "1253286            16.0        2915.0        UNKNOWN           PASSENGER   \n",
       "1265489            21.0        2008.0        UNKNOWN           PASSENGER   \n",
       "1489916            35.0        2012.0        UNKNOWN          UNKNOWN/NA   \n",
       "\n",
       "                     MANEUVER  OCCUPANT_CNT FIRST_CONTACT_POINT  \n",
       "696450         STRAIGHT AHEAD          21.0          SIDE-RIGHT  \n",
       "707209   SLOW/STOP IN TRAFFIC          17.0                REAR  \n",
       "1006341        STRAIGHT AHEAD          17.0                NONE  \n",
       "1109252        STRAIGHT AHEAD           4.0               FRONT  \n",
       "1253286        STRAIGHT AHEAD           3.0   TOTAL (ALL AREAS)  \n",
       "1265489        STRAIGHT AHEAD           2.0           REAR-LEFT  \n",
       "1489916        STRAIGHT AHEAD          36.0                REAR  "
      ]
     },
     "execution_count": 216,
     "metadata": {},
     "output_type": "execute_result"
    }
   ],
   "source": [
    "#subset with values higher than 6\n",
    "vehicles[(vehicles['NUM_PASSENGERS'] > 15) & (vehicles['VEHICLE_TYPE'] != 'BUS OVER 15 PASS.')]"
   ]
  },
  {
   "cell_type": "markdown",
   "metadata": {},
   "source": [
    "from this quick look we can look how the NUM_PASSENGERS and OCCUPANT_CNT are not coherent"
   ]
  },
  {
   "cell_type": "code",
   "execution_count": 217,
   "metadata": {},
   "outputs": [
    {
     "data": {
      "text/plain": [
       "OCCUPANT_CNT\n",
       "1.0     1316992\n",
       "0.0      239589\n",
       "2.0      183844\n",
       "3.0       48143\n",
       "4.0       19079\n",
       "5.0        6271\n",
       "6.0        1668\n",
       "7.0         667\n",
       "8.0         253\n",
       "9.0         117\n",
       "11.0         76\n",
       "10.0         72\n",
       "12.0         44\n",
       "13.0         39\n",
       "15.0         21\n",
       "14.0         17\n",
       "16.0         16\n",
       "18.0         13\n",
       "20.0         12\n",
       "19.0         10\n",
       "28.0          8\n",
       "17.0          8\n",
       "25.0          6\n",
       "26.0          6\n",
       "29.0          5\n",
       "36.0          5\n",
       "21.0          5\n",
       "41.0          4\n",
       "44.0          4\n",
       "27.0          4\n",
       "35.0          4\n",
       "33.0          3\n",
       "34.0          3\n",
       "23.0          3\n",
       "22.0          3\n",
       "30.0          3\n",
       "31.0          2\n",
       "39.0          2\n",
       "43.0          2\n",
       "99.0          2\n",
       "47.0          2\n",
       "37.0          1\n",
       "32.0          1\n",
       "60.0          1\n",
       "24.0          1\n",
       "38.0          1\n",
       "53.0          1\n",
       "Name: count, dtype: int64"
      ]
     },
     "execution_count": 217,
     "metadata": {},
     "output_type": "execute_result"
    }
   ],
   "source": [
    "vehicles['OCCUPANT_CNT'].value_counts()"
   ]
  },
  {
   "cell_type": "markdown",
   "metadata": {},
   "source": [
    "we want to see in how many istances we have the NUM_PASSENGERS higher than OCCUPANT_CNT, which is clearly an error"
   ]
  },
  {
   "cell_type": "code",
   "execution_count": 218,
   "metadata": {},
   "outputs": [
    {
     "data": {
      "text/plain": [
       "np.int64(176)"
      ]
     },
     "execution_count": 218,
     "metadata": {},
     "output_type": "execute_result"
    }
   ],
   "source": [
    "(vehicles['NUM_PASSENGERS'] > vehicles['OCCUPANT_CNT']).sum()"
   ]
  },
  {
   "cell_type": "markdown",
   "metadata": {},
   "source": [
    "these values are wrong so we want to delete them"
   ]
  },
  {
   "cell_type": "code",
   "execution_count": 219,
   "metadata": {},
   "outputs": [],
   "source": [
    "vehicles = vehicles[(vehicles['NUM_PASSENGERS'] <= vehicles['OCCUPANT_CNT']) | vehicles['NUM_PASSENGERS'].isna()]"
   ]
  },
  {
   "cell_type": "markdown",
   "metadata": {},
   "source": [
    "---"
   ]
  },
  {
   "cell_type": "code",
   "execution_count": 220,
   "metadata": {},
   "outputs": [
    {
     "name": "stdout",
     "output_type": "stream",
     "text": [
      "<class 'pandas.core.frame.DataFrame'>\n",
      "Index: 1860354 entries, 0 to 1860567\n",
      "Data columns (total 13 columns):\n",
      " #   Column               Non-Null Count    Dtype  \n",
      "---  ------               --------------    -----  \n",
      " 0   CRASH_UNIT_ID        1860354 non-null  int64  \n",
      " 1   CRASH_RECORD_ID      1860354 non-null  object \n",
      " 2   VEHICLE_ID           1816857 non-null  float64\n",
      " 3   CRASH_DATE           1860354 non-null  object \n",
      " 4   UNIT_NO              1860354 non-null  int64  \n",
      " 5   UNIT_TYPE            1858079 non-null  object \n",
      " 6   NUM_PASSENGERS       275324 non-null   float64\n",
      " 7   VEHICLE_YEAR         1528636 non-null  float64\n",
      " 8   VEHICLE_DEFECT       1816857 non-null  object \n",
      " 9   VEHICLE_TYPE         1816857 non-null  object \n",
      " 10  MANEUVER             1816857 non-null  object \n",
      " 11  OCCUPANT_CNT         1816857 non-null  float64\n",
      " 12  FIRST_CONTACT_POINT  1813700 non-null  object \n",
      "dtypes: float64(4), int64(2), object(7)\n",
      "memory usage: 198.7+ MB\n"
     ]
    }
   ],
   "source": [
    "vehicles.info(show_counts=True)"
   ]
  },
  {
   "cell_type": "markdown",
   "metadata": {},
   "source": [
    "---"
   ]
  },
  {
   "cell_type": "markdown",
   "metadata": {},
   "source": [
    "## UNIT_TYPE, VEHICLE_YEAR, VEHICLE_DEFECT, VEHICLE_TYPE"
   ]
  },
  {
   "cell_type": "code",
   "execution_count": 221,
   "metadata": {},
   "outputs": [
    {
     "data": {
      "text/plain": [
       "UNIT_TYPE\n",
       "BICYCLE               14807\n",
       "DISABLED VEHICLE        286\n",
       "DRIVER              1557709\n",
       "DRIVERLESS            14629\n",
       "EQUESTRIAN                8\n",
       "Name: count, dtype: int64"
      ]
     },
     "execution_count": 221,
     "metadata": {},
     "output_type": "execute_result"
    }
   ],
   "source": [
    "vehicles['UNIT_TYPE'].value_counts().sort_index().head()"
   ]
  },
  {
   "cell_type": "code",
   "execution_count": 222,
   "metadata": {},
   "outputs": [
    {
     "data": {
      "text/plain": [
       "VEHICLE_YEAR\n",
       "2015.0    111511\n",
       "2016.0    105127\n",
       "2017.0    105073\n",
       "2014.0     98903\n",
       "2013.0     91464\n",
       "           ...  \n",
       "2320.0         1\n",
       "2922.0         1\n",
       "1919.0         1\n",
       "2323.0         1\n",
       "5019.0         1\n",
       "Name: count, Length: 244, dtype: int64"
      ]
     },
     "execution_count": 222,
     "metadata": {},
     "output_type": "execute_result"
    }
   ],
   "source": [
    "vehicles['VEHICLE_YEAR'].value_counts()"
   ]
  },
  {
   "cell_type": "code",
   "execution_count": 223,
   "metadata": {},
   "outputs": [
    {
     "data": {
      "text/plain": [
       "VEHICLE_DEFECT\n",
       "NONE                968264\n",
       "UNKNOWN             828811\n",
       "OTHER                10828\n",
       "BRAKES                5568\n",
       "TIRES                  910\n",
       "STEERING               822\n",
       "WHEELS                 452\n",
       "SUSPENSION             285\n",
       "FUEL SYSTEM            269\n",
       "ENGINE/MOTOR           233\n",
       "WINDOWS                118\n",
       "LIGHTS                 110\n",
       "CARGO                   67\n",
       "SIGNALS                 46\n",
       "RESTRAINT SYSTEM        28\n",
       "TRAILER COUPLING        25\n",
       "EXHAUST                 21\n",
       "Name: count, dtype: int64"
      ]
     },
     "execution_count": 223,
     "metadata": {},
     "output_type": "execute_result"
    }
   ],
   "source": [
    "vehicles['VEHICLE_DEFECT'].value_counts()"
   ]
  },
  {
   "cell_type": "code",
   "execution_count": 224,
   "metadata": {},
   "outputs": [
    {
     "data": {
      "text/plain": [
       "VEHICLE_TYPE\n",
       "PASSENGER                                 1139517\n",
       "SPORT UTILITY VEHICLE (SUV)                253904\n",
       "UNKNOWN/NA                                 165509\n",
       "VAN/MINI-VAN                                84936\n",
       "PICKUP                                      59739\n",
       "TRUCK - SINGLE UNIT                         34024\n",
       "OTHER                                       22378\n",
       "BUS OVER 15 PASS.                           19996\n",
       "TRACTOR W/ SEMI-TRAILER                     17128\n",
       "BUS UP TO 15 PASS.                           5454\n",
       "MOTORCYCLE (OVER 150CC)                      4389\n",
       "SINGLE UNIT TRUCK WITH TRAILER               3081\n",
       "OTHER VEHICLE WITH TRAILER                   2467\n",
       "TRACTOR W/O SEMI-TRAILER                     2246\n",
       "AUTOCYCLE                                     683\n",
       "MOPED OR MOTORIZED BICYCLE                    680\n",
       "MOTOR DRIVEN CYCLE                            328\n",
       "ALL-TERRAIN VEHICLE (ATV)                     199\n",
       "FARM EQUIPMENT                                 87\n",
       "3-WHEELED MOTORCYCLE (2 REAR WHEELS)           73\n",
       "RECREATIONAL OFF-HIGHWAY VEHICLE (ROV)         31\n",
       "SNOWMOBILE                                      8\n",
       "Name: count, dtype: int64"
      ]
     },
     "execution_count": 224,
     "metadata": {},
     "output_type": "execute_result"
    }
   ],
   "source": [
    "vehicles['VEHICLE_TYPE'].value_counts()"
   ]
  },
  {
   "cell_type": "markdown",
   "metadata": {},
   "source": [
    "---"
   ]
  },
  {
   "cell_type": "markdown",
   "metadata": {},
   "source": [
    "## MANEUVER, FIRST_CONTACT_POINT               "
   ]
  },
  {
   "cell_type": "code",
   "execution_count": 225,
   "metadata": {},
   "outputs": [
    {
     "data": {
      "text/plain": [
       "MANEUVER\n",
       "STRAIGHT AHEAD                        842200\n",
       "PARKED                                249036\n",
       "UNKNOWN/NA                            137832\n",
       "SLOW/STOP IN TRAFFIC                  132017\n",
       "TURNING LEFT                          108797\n",
       "BACKING                                72885\n",
       "TURNING RIGHT                          60864\n",
       "PASSING/OVERTAKING                     44352\n",
       "CHANGING LANES                         34729\n",
       "OTHER                                  30698\n",
       "ENTERING TRAFFIC LANE FROM PARKING     21416\n",
       "MERGING                                12873\n",
       "U-TURN                                 10452\n",
       "STARTING IN TRAFFIC                    10127\n",
       "LEAVING TRAFFIC LANE TO PARK            8778\n",
       "AVOIDING VEHICLES/OBJECTS               7622\n",
       "SKIDDING/CONTROL LOSS                   6691\n",
       "ENTER FROM DRIVE/ALLEY                  6380\n",
       "PARKED IN TRAFFIC LANE                  5603\n",
       "SLOW/STOP - LEFT TURN                   3042\n",
       "DRIVING WRONG WAY                       2733\n",
       "NEGOTIATING A CURVE                     2184\n",
       "SLOW/STOP - RIGHT TURN                  1929\n",
       "SLOW/STOP - LOAD/UNLOAD                 1662\n",
       "TURNING ON RED                           701\n",
       "DRIVERLESS                               680\n",
       "DISABLED                                 287\n",
       "DIVERGING                                287\n",
       "Name: count, dtype: int64"
      ]
     },
     "execution_count": 225,
     "metadata": {},
     "output_type": "execute_result"
    }
   ],
   "source": [
    "vehicles['MANEUVER'].value_counts()"
   ]
  },
  {
   "cell_type": "code",
   "execution_count": 226,
   "metadata": {},
   "outputs": [
    {
     "data": {
      "text/plain": [
       "FIRST_CONTACT_POINT\n",
       "FRONT                 356916\n",
       "REAR                  239987\n",
       "UNKNOWN               173275\n",
       "SIDE-LEFT             125356\n",
       "FRONT-LEFT-CORNER     123101\n",
       "FRONT-RIGHT-CORNER    120493\n",
       "SIDE-RIGHT            119365\n",
       "FRONT-LEFT             81509\n",
       "FRONT-RIGHT            76890\n",
       "REAR-LEFT              68082\n",
       "REAR-LEFT-CORNER       54482\n",
       "OTHER                  41974\n",
       "REAR-RIGHT-CORNER      40022\n",
       "REAR-RIGHT             36483\n",
       "SIDE-LEFT-REAR         31139\n",
       "TOTAL (ALL AREAS)      28398\n",
       "SIDE-RIGHT-REAR        23632\n",
       "SIDE-LEFT-FRONT        20618\n",
       "SIDE-RIGHT-FRONT       17698\n",
       "NONE                   14118\n",
       "ROOF                   11957\n",
       "UNDER CARRIAGE          5915\n",
       "TOP                     2290\n",
       "Name: count, dtype: int64"
      ]
     },
     "execution_count": 226,
     "metadata": {},
     "output_type": "execute_result"
    }
   ],
   "source": [
    "vehicles['FIRST_CONTACT_POINT'].value_counts()  "
   ]
  },
  {
   "cell_type": "markdown",
   "metadata": {},
   "source": [
    "---"
   ]
  },
  {
   "cell_type": "markdown",
   "metadata": {},
   "source": [
    "removing entries pre 2017 by checking the CRASH_RECORD_ID"
   ]
  },
  {
   "cell_type": "code",
   "execution_count": 227,
   "metadata": {},
   "outputs": [
    {
     "name": "stdout",
     "output_type": "stream",
     "text": [
      "Number of rows in 'vehicles' with missing crash record ID:  310884\n"
     ]
    }
   ],
   "source": [
    "missing_crash_ids_vehicles = vehicles[~vehicles['CRASH_RECORD_ID'].isin(crashes_severity['CRASH_RECORD_ID'])]\n",
    "print(\"Number of rows in 'vehicles' with missing crash record ID: \", len(missing_crash_ids_vehicles))"
   ]
  },
  {
   "cell_type": "code",
   "execution_count": 228,
   "metadata": {},
   "outputs": [],
   "source": [
    "vehicle_final = vehicles[vehicles['CRASH_RECORD_ID'].isin(crashes_severity['CRASH_RECORD_ID'])]"
   ]
  },
  {
   "cell_type": "code",
   "execution_count": 229,
   "metadata": {},
   "outputs": [
    {
     "name": "stderr",
     "output_type": "stream",
     "text": [
      "C:\\Users\\chucki\\AppData\\Local\\Temp\\ipykernel_7188\\3598224188.py:1: UserWarning:\n",
      "\n",
      "Could not infer format, so each element will be parsed individually, falling back to `dateutil`. To ensure parsing is consistent and as-expected, please specify a format.\n",
      "\n"
     ]
    },
    {
     "name": "stdout",
     "output_type": "stream",
     "text": [
      "2018-01-01 00:00:00\n",
      "2024-12-31 23:47:00\n"
     ]
    },
    {
     "name": "stderr",
     "output_type": "stream",
     "text": [
      "C:\\Users\\chucki\\AppData\\Local\\Temp\\ipykernel_7188\\3598224188.py:1: SettingWithCopyWarning:\n",
      "\n",
      "\n",
      "A value is trying to be set on a copy of a slice from a DataFrame.\n",
      "Try using .loc[row_indexer,col_indexer] = value instead\n",
      "\n",
      "See the caveats in the documentation: https://pandas.pydata.org/pandas-docs/stable/user_guide/indexing.html#returning-a-view-versus-a-copy\n",
      "\n"
     ]
    }
   ],
   "source": [
    "vehicle_final['CRASH_DATE'] = pd.to_datetime(vehicle_final['CRASH_DATE'])\n",
    "print(vehicle_final['CRASH_DATE'].min())\n",
    "print(vehicle_final['CRASH_DATE'].max())"
   ]
  },
  {
   "cell_type": "code",
   "execution_count": 230,
   "metadata": {},
   "outputs": [],
   "source": [
    "# save to csv\n",
    "vehicle_final.to_csv('dataset/vehicles_2017.csv', index=False)"
   ]
  },
  {
   "cell_type": "markdown",
   "metadata": {},
   "source": [
    "---"
   ]
  },
  {
   "cell_type": "markdown",
   "metadata": {},
   "source": [
    "# Entries removal\n",
    "\n",
    "We want to keep only the entries from the 'people' and 'vehicles' dataset which are linked to some crashes, hence when they have a 'CRASH_RECORD_ID' present in the 'crashes' dataset"
   ]
  },
  {
   "cell_type": "code",
   "execution_count": 231,
   "metadata": {},
   "outputs": [
    {
     "name": "stdout",
     "output_type": "stream",
     "text": [
      "0\n",
      "0\n",
      "0\n"
     ]
    }
   ],
   "source": [
    "# null value check for CRASH_RECORD_ID\n",
    "print(crashes['CRASH_RECORD_ID'].isnull().sum())\n",
    "print(people['CRASH_RECORD_ID'].isnull().sum())\n",
    "print(vehicles['CRASH_RECORD_ID'].isnull().sum())"
   ]
  },
  {
   "cell_type": "code",
   "execution_count": 232,
   "metadata": {},
   "outputs": [
    {
     "name": "stdout",
     "output_type": "stream",
     "text": [
      "Number of rows in 'people' with missing crash record ID:  265913\n"
     ]
    }
   ],
   "source": [
    "missing_crash_ids_people = people[~people['CRASH_RECORD_ID'].isin(crashes['CRASH_RECORD_ID'])]\n",
    "print(\"Number of rows in 'people' with missing crash record ID: \", len(missing_crash_ids_people))"
   ]
  },
  {
   "cell_type": "code",
   "execution_count": 233,
   "metadata": {},
   "outputs": [
    {
     "name": "stdout",
     "output_type": "stream",
     "text": [
      "Number of rows in 'vehicles' with missing crash record ID:  310884\n"
     ]
    }
   ],
   "source": [
    "missing_crash_ids_vehicles = vehicles[~vehicles['CRASH_RECORD_ID'].isin(crashes['CRASH_RECORD_ID'])]\n",
    "print(\"Number of rows in 'vehicles' with missing crash record ID: \", len(missing_crash_ids_vehicles))"
   ]
  },
  {
   "cell_type": "markdown",
   "metadata": {},
   "source": [
    "---"
   ]
  },
  {
   "cell_type": "markdown",
   "metadata": {},
   "source": [
    "# MULTI DATASET ANALISYS"
   ]
  },
  {
   "cell_type": "code",
   "execution_count": 234,
   "metadata": {},
   "outputs": [],
   "source": [
    "crashes = pd.read_csv('dataset/crashes_severity_2017.csv')\n",
    "people = pd.read_csv('dataset/people_2017.csv')\n",
    "vehicles = pd.read_csv('dataset/vehicles_2017.csv')"
   ]
  },
  {
   "cell_type": "code",
   "execution_count": 235,
   "metadata": {},
   "outputs": [],
   "source": [
    "crash_people_counts = people['CRASH_RECORD_ID'].value_counts().reset_index(name='PEOPLE_COUNT')\n",
    "crash_people_counts.columns = ['CRASH_RECORD_ID', 'PEOPLE_COUNT']"
   ]
  },
  {
   "cell_type": "code",
   "execution_count": 236,
   "metadata": {},
   "outputs": [
    {
     "data": {
      "text/html": [
       "<div>\n",
       "<style scoped>\n",
       "    .dataframe tbody tr th:only-of-type {\n",
       "        vertical-align: middle;\n",
       "    }\n",
       "\n",
       "    .dataframe tbody tr th {\n",
       "        vertical-align: top;\n",
       "    }\n",
       "\n",
       "    .dataframe thead th {\n",
       "        text-align: right;\n",
       "    }\n",
       "</style>\n",
       "<table border=\"1\" class=\"dataframe\">\n",
       "  <thead>\n",
       "    <tr style=\"text-align: right;\">\n",
       "      <th></th>\n",
       "      <th>CRASH_RECORD_ID</th>\n",
       "      <th>PEOPLE_COUNT</th>\n",
       "    </tr>\n",
       "  </thead>\n",
       "  <tbody>\n",
       "    <tr>\n",
       "      <th>0</th>\n",
       "      <td>45ef99d6739c22de4260bc091e70dd495a1fd4d57557f5...</td>\n",
       "      <td>12</td>\n",
       "    </tr>\n",
       "    <tr>\n",
       "      <th>1</th>\n",
       "      <td>c9d233e31a4f2a07733ef75f0404e75c360b30c7ee9bc4...</td>\n",
       "      <td>12</td>\n",
       "    </tr>\n",
       "    <tr>\n",
       "      <th>2</th>\n",
       "      <td>d71effb95c9fa25c60c5f5b5d925de5e79bb5ba483d84e...</td>\n",
       "      <td>11</td>\n",
       "    </tr>\n",
       "    <tr>\n",
       "      <th>3</th>\n",
       "      <td>74e9d893f1df817db0fd24a7d10006941f1eda0c9e7a33...</td>\n",
       "      <td>11</td>\n",
       "    </tr>\n",
       "    <tr>\n",
       "      <th>4</th>\n",
       "      <td>7855f06f3cb2939b9bde3eb6b571baf4cad498d1462dc5...</td>\n",
       "      <td>10</td>\n",
       "    </tr>\n",
       "  </tbody>\n",
       "</table>\n",
       "</div>"
      ],
      "text/plain": [
       "                                     CRASH_RECORD_ID  PEOPLE_COUNT\n",
       "0  45ef99d6739c22de4260bc091e70dd495a1fd4d57557f5...            12\n",
       "1  c9d233e31a4f2a07733ef75f0404e75c360b30c7ee9bc4...            12\n",
       "2  d71effb95c9fa25c60c5f5b5d925de5e79bb5ba483d84e...            11\n",
       "3  74e9d893f1df817db0fd24a7d10006941f1eda0c9e7a33...            11\n",
       "4  7855f06f3cb2939b9bde3eb6b571baf4cad498d1462dc5...            10"
      ]
     },
     "execution_count": 236,
     "metadata": {},
     "output_type": "execute_result"
    }
   ],
   "source": [
    "crash_people_counts.head()"
   ]
  },
  {
   "cell_type": "code",
   "execution_count": 237,
   "metadata": {},
   "outputs": [
    {
     "data": {
      "text/html": [
       "<div>\n",
       "<style scoped>\n",
       "    .dataframe tbody tr th:only-of-type {\n",
       "        vertical-align: middle;\n",
       "    }\n",
       "\n",
       "    .dataframe tbody tr th {\n",
       "        vertical-align: top;\n",
       "    }\n",
       "\n",
       "    .dataframe thead th {\n",
       "        text-align: right;\n",
       "    }\n",
       "</style>\n",
       "<table border=\"1\" class=\"dataframe\">\n",
       "  <thead>\n",
       "    <tr style=\"text-align: right;\">\n",
       "      <th></th>\n",
       "      <th>CRASH_RECORD_ID</th>\n",
       "      <th>PEOPLE_COUNT</th>\n",
       "    </tr>\n",
       "  </thead>\n",
       "  <tbody>\n",
       "    <tr>\n",
       "      <th>755172</th>\n",
       "      <td>6db2c57e34287f0e8ed3b997337a4c4dd5b0102a5b7324...</td>\n",
       "      <td>1</td>\n",
       "    </tr>\n",
       "    <tr>\n",
       "      <th>755173</th>\n",
       "      <td>1213696dffb7e267f6111187667ba0ad60480096b4f889...</td>\n",
       "      <td>1</td>\n",
       "    </tr>\n",
       "    <tr>\n",
       "      <th>755174</th>\n",
       "      <td>30ae6a0fa4343e7bd96ce20d69c06f13922079f627eb55...</td>\n",
       "      <td>1</td>\n",
       "    </tr>\n",
       "    <tr>\n",
       "      <th>755175</th>\n",
       "      <td>bb14295ec98715f47661f44124048ddd892e6ed4edd20d...</td>\n",
       "      <td>1</td>\n",
       "    </tr>\n",
       "    <tr>\n",
       "      <th>755176</th>\n",
       "      <td>d36a4e739f0f183037d36c7d57d60121112ef988dcc3bf...</td>\n",
       "      <td>1</td>\n",
       "    </tr>\n",
       "  </tbody>\n",
       "</table>\n",
       "</div>"
      ],
      "text/plain": [
       "                                          CRASH_RECORD_ID  PEOPLE_COUNT\n",
       "755172  6db2c57e34287f0e8ed3b997337a4c4dd5b0102a5b7324...             1\n",
       "755173  1213696dffb7e267f6111187667ba0ad60480096b4f889...             1\n",
       "755174  30ae6a0fa4343e7bd96ce20d69c06f13922079f627eb55...             1\n",
       "755175  bb14295ec98715f47661f44124048ddd892e6ed4edd20d...             1\n",
       "755176  d36a4e739f0f183037d36c7d57d60121112ef988dcc3bf...             1"
      ]
     },
     "execution_count": 237,
     "metadata": {},
     "output_type": "execute_result"
    }
   ],
   "source": [
    "crash_people_counts.tail()"
   ]
  },
  {
   "cell_type": "markdown",
   "metadata": {},
   "source": [
    "if we analyze the first entry we can notice a problem"
   ]
  },
  {
   "cell_type": "code",
   "execution_count": null,
   "metadata": {},
   "outputs": [],
   "source": []
  },
  {
   "cell_type": "code",
   "execution_count": 238,
   "metadata": {},
   "outputs": [],
   "source": [
    "first_id = crash_people_counts['CRASH_RECORD_ID'][0]"
   ]
  },
  {
   "cell_type": "code",
   "execution_count": 239,
   "metadata": {},
   "outputs": [
    {
     "data": {
      "text/html": [
       "<div>\n",
       "<style scoped>\n",
       "    .dataframe tbody tr th:only-of-type {\n",
       "        vertical-align: middle;\n",
       "    }\n",
       "\n",
       "    .dataframe tbody tr th {\n",
       "        vertical-align: top;\n",
       "    }\n",
       "\n",
       "    .dataframe thead th {\n",
       "        text-align: right;\n",
       "    }\n",
       "</style>\n",
       "<table border=\"1\" class=\"dataframe\">\n",
       "  <thead>\n",
       "    <tr style=\"text-align: right;\">\n",
       "      <th></th>\n",
       "      <th>CRASH_RECORD_ID</th>\n",
       "      <th>PEOPLE_COUNT</th>\n",
       "    </tr>\n",
       "  </thead>\n",
       "  <tbody>\n",
       "    <tr>\n",
       "      <th>0</th>\n",
       "      <td>45ef99d6739c22de4260bc091e70dd495a1fd4d57557f5...</td>\n",
       "      <td>12</td>\n",
       "    </tr>\n",
       "  </tbody>\n",
       "</table>\n",
       "</div>"
      ],
      "text/plain": [
       "                                     CRASH_RECORD_ID  PEOPLE_COUNT\n",
       "0  45ef99d6739c22de4260bc091e70dd495a1fd4d57557f5...            12"
      ]
     },
     "execution_count": 239,
     "metadata": {},
     "output_type": "execute_result"
    }
   ],
   "source": [
    "crash_people_counts.loc[crash_people_counts['CRASH_RECORD_ID'] == first_id]"
   ]
  },
  {
   "cell_type": "code",
   "execution_count": 240,
   "metadata": {},
   "outputs": [
    {
     "data": {
      "text/plain": [
       "202694    12\n",
       "Name: NUM_UNITS, dtype: int64"
      ]
     },
     "execution_count": 240,
     "metadata": {},
     "output_type": "execute_result"
    }
   ],
   "source": [
    "crashes.loc[crashes['CRASH_RECORD_ID'] == first_id]['NUM_UNITS']"
   ]
  },
  {
   "cell_type": "markdown",
   "metadata": {},
   "source": [
    "the crashes has 6 vehicles coinvolted but 12 drivers"
   ]
  },
  {
   "cell_type": "code",
   "execution_count": 241,
   "metadata": {},
   "outputs": [
    {
     "data": {
      "text/html": [
       "<div>\n",
       "<style scoped>\n",
       "    .dataframe tbody tr th:only-of-type {\n",
       "        vertical-align: middle;\n",
       "    }\n",
       "\n",
       "    .dataframe tbody tr th {\n",
       "        vertical-align: top;\n",
       "    }\n",
       "\n",
       "    .dataframe thead th {\n",
       "        text-align: right;\n",
       "    }\n",
       "</style>\n",
       "<table border=\"1\" class=\"dataframe\">\n",
       "  <thead>\n",
       "    <tr style=\"text-align: right;\">\n",
       "      <th></th>\n",
       "      <th>PERSON_ID</th>\n",
       "      <th>PERSON_TYPE</th>\n",
       "      <th>CRASH_RECORD_ID</th>\n",
       "      <th>VEHICLE_ID</th>\n",
       "      <th>CRASH_DATE</th>\n",
       "      <th>CITY</th>\n",
       "      <th>STATE</th>\n",
       "      <th>ZIPCODE</th>\n",
       "      <th>SEX</th>\n",
       "      <th>AGE</th>\n",
       "      <th>DRIVERS_LICENSE_STATE</th>\n",
       "      <th>DRIVERS_LICENSE_CLASS</th>\n",
       "      <th>INJURY_CLASSIFICATION</th>\n",
       "      <th>DRIVER_ACTION</th>\n",
       "      <th>DRIVER_VISION</th>\n",
       "      <th>PHYSICAL_CONDITION</th>\n",
       "      <th>EJECTION/AIRBAG</th>\n",
       "      <th>SPEEDING</th>\n",
       "      <th>DRINKING</th>\n",
       "      <th>TELEPHONE</th>\n",
       "    </tr>\n",
       "  </thead>\n",
       "  <tbody>\n",
       "    <tr>\n",
       "      <th>908814</th>\n",
       "      <td>O1505479</td>\n",
       "      <td>DRIVER</td>\n",
       "      <td>45ef99d6739c22de4260bc091e70dd495a1fd4d57557f5...</td>\n",
       "      <td>1431279.0</td>\n",
       "      <td>2023-01-26 06:35:00</td>\n",
       "      <td>CHICAGO</td>\n",
       "      <td>IL</td>\n",
       "      <td>60630</td>\n",
       "      <td>0.0</td>\n",
       "      <td>50.0</td>\n",
       "      <td>IL</td>\n",
       "      <td>D</td>\n",
       "      <td>REPORTED, NOT EVIDENT</td>\n",
       "      <td>NONE</td>\n",
       "      <td>MOVING VEHICLES</td>\n",
       "      <td>NORMAL</td>\n",
       "      <td>0.0</td>\n",
       "      <td>False</td>\n",
       "      <td>False</td>\n",
       "      <td>False</td>\n",
       "    </tr>\n",
       "    <tr>\n",
       "      <th>908815</th>\n",
       "      <td>O1505485</td>\n",
       "      <td>DRIVER</td>\n",
       "      <td>45ef99d6739c22de4260bc091e70dd495a1fd4d57557f5...</td>\n",
       "      <td>1431290.0</td>\n",
       "      <td>2023-01-26 06:35:00</td>\n",
       "      <td>SCHILLER PARK</td>\n",
       "      <td>IL</td>\n",
       "      <td>60176</td>\n",
       "      <td>1.0</td>\n",
       "      <td>77.0</td>\n",
       "      <td>IL</td>\n",
       "      <td>D</td>\n",
       "      <td>REPORTED, NOT EVIDENT</td>\n",
       "      <td>NONE</td>\n",
       "      <td>MOVING VEHICLES</td>\n",
       "      <td>NORMAL</td>\n",
       "      <td>0.0</td>\n",
       "      <td>False</td>\n",
       "      <td>False</td>\n",
       "      <td>False</td>\n",
       "    </tr>\n",
       "    <tr>\n",
       "      <th>939731</th>\n",
       "      <td>O1505374</td>\n",
       "      <td>DRIVER</td>\n",
       "      <td>45ef99d6739c22de4260bc091e70dd495a1fd4d57557f5...</td>\n",
       "      <td>1431182.0</td>\n",
       "      <td>2023-01-26 06:35:00</td>\n",
       "      <td>NaN</td>\n",
       "      <td>NaN</td>\n",
       "      <td>NaN</td>\n",
       "      <td>-1.0</td>\n",
       "      <td>NaN</td>\n",
       "      <td>NaN</td>\n",
       "      <td>NaN</td>\n",
       "      <td>NO INDICATION OF INJURY</td>\n",
       "      <td>UNKNOWN</td>\n",
       "      <td>UNKNOWN</td>\n",
       "      <td>UNKNOWN</td>\n",
       "      <td>0.0</td>\n",
       "      <td>False</td>\n",
       "      <td>False</td>\n",
       "      <td>False</td>\n",
       "    </tr>\n",
       "    <tr>\n",
       "      <th>939732</th>\n",
       "      <td>O1505375</td>\n",
       "      <td>DRIVER</td>\n",
       "      <td>45ef99d6739c22de4260bc091e70dd495a1fd4d57557f5...</td>\n",
       "      <td>1431179.0</td>\n",
       "      <td>2023-01-26 06:35:00</td>\n",
       "      <td>NaN</td>\n",
       "      <td>NaN</td>\n",
       "      <td>NaN</td>\n",
       "      <td>-1.0</td>\n",
       "      <td>NaN</td>\n",
       "      <td>NaN</td>\n",
       "      <td>NaN</td>\n",
       "      <td>NO INDICATION OF INJURY</td>\n",
       "      <td>UNKNOWN</td>\n",
       "      <td>UNKNOWN</td>\n",
       "      <td>UNKNOWN</td>\n",
       "      <td>0.0</td>\n",
       "      <td>False</td>\n",
       "      <td>False</td>\n",
       "      <td>False</td>\n",
       "    </tr>\n",
       "    <tr>\n",
       "      <th>939733</th>\n",
       "      <td>O1505376</td>\n",
       "      <td>DRIVER</td>\n",
       "      <td>45ef99d6739c22de4260bc091e70dd495a1fd4d57557f5...</td>\n",
       "      <td>1431200.0</td>\n",
       "      <td>2023-01-26 06:35:00</td>\n",
       "      <td>CHICAGO</td>\n",
       "      <td>IL</td>\n",
       "      <td>60634</td>\n",
       "      <td>1.0</td>\n",
       "      <td>NaN</td>\n",
       "      <td>IL</td>\n",
       "      <td>NaN</td>\n",
       "      <td>REPORTED, NOT EVIDENT</td>\n",
       "      <td>OTHER</td>\n",
       "      <td>MOVING VEHICLES</td>\n",
       "      <td>NORMAL</td>\n",
       "      <td>0.0</td>\n",
       "      <td>False</td>\n",
       "      <td>False</td>\n",
       "      <td>False</td>\n",
       "    </tr>\n",
       "    <tr>\n",
       "      <th>939734</th>\n",
       "      <td>O1505377</td>\n",
       "      <td>DRIVER</td>\n",
       "      <td>45ef99d6739c22de4260bc091e70dd495a1fd4d57557f5...</td>\n",
       "      <td>1431229.0</td>\n",
       "      <td>2023-01-26 06:35:00</td>\n",
       "      <td>CHICAGO</td>\n",
       "      <td>IL</td>\n",
       "      <td>60634</td>\n",
       "      <td>0.0</td>\n",
       "      <td>50.0</td>\n",
       "      <td>IL</td>\n",
       "      <td>D</td>\n",
       "      <td>REPORTED, NOT EVIDENT</td>\n",
       "      <td>NONE</td>\n",
       "      <td>MOVING VEHICLES</td>\n",
       "      <td>NORMAL</td>\n",
       "      <td>0.0</td>\n",
       "      <td>False</td>\n",
       "      <td>False</td>\n",
       "      <td>False</td>\n",
       "    </tr>\n",
       "    <tr>\n",
       "      <th>939735</th>\n",
       "      <td>O1505378</td>\n",
       "      <td>DRIVER</td>\n",
       "      <td>45ef99d6739c22de4260bc091e70dd495a1fd4d57557f5...</td>\n",
       "      <td>1431247.0</td>\n",
       "      <td>2023-01-26 06:35:00</td>\n",
       "      <td>CHICAGO</td>\n",
       "      <td>IL</td>\n",
       "      <td>60639</td>\n",
       "      <td>0.0</td>\n",
       "      <td>44.0</td>\n",
       "      <td>IL</td>\n",
       "      <td>D</td>\n",
       "      <td>REPORTED, NOT EVIDENT</td>\n",
       "      <td>NONE</td>\n",
       "      <td>MOVING VEHICLES</td>\n",
       "      <td>NORMAL</td>\n",
       "      <td>0.0</td>\n",
       "      <td>False</td>\n",
       "      <td>False</td>\n",
       "      <td>False</td>\n",
       "    </tr>\n",
       "    <tr>\n",
       "      <th>939779</th>\n",
       "      <td>O1505453</td>\n",
       "      <td>DRIVER</td>\n",
       "      <td>45ef99d6739c22de4260bc091e70dd495a1fd4d57557f5...</td>\n",
       "      <td>1431260.0</td>\n",
       "      <td>2023-01-26 06:35:00</td>\n",
       "      <td>RIVER GROVE</td>\n",
       "      <td>IL</td>\n",
       "      <td>60171</td>\n",
       "      <td>0.0</td>\n",
       "      <td>50.0</td>\n",
       "      <td>IL</td>\n",
       "      <td>D</td>\n",
       "      <td>REPORTED, NOT EVIDENT</td>\n",
       "      <td>NONE</td>\n",
       "      <td>MOVING VEHICLES</td>\n",
       "      <td>NORMAL</td>\n",
       "      <td>0.0</td>\n",
       "      <td>False</td>\n",
       "      <td>False</td>\n",
       "      <td>False</td>\n",
       "    </tr>\n",
       "    <tr>\n",
       "      <th>939807</th>\n",
       "      <td>O1505490</td>\n",
       "      <td>DRIVER</td>\n",
       "      <td>45ef99d6739c22de4260bc091e70dd495a1fd4d57557f5...</td>\n",
       "      <td>1431298.0</td>\n",
       "      <td>2023-01-26 06:35:00</td>\n",
       "      <td>CHICAGO</td>\n",
       "      <td>IL</td>\n",
       "      <td>60639</td>\n",
       "      <td>0.0</td>\n",
       "      <td>41.0</td>\n",
       "      <td>MR</td>\n",
       "      <td>NaN</td>\n",
       "      <td>REPORTED, NOT EVIDENT</td>\n",
       "      <td>NONE</td>\n",
       "      <td>MOVING VEHICLES</td>\n",
       "      <td>NORMAL</td>\n",
       "      <td>0.0</td>\n",
       "      <td>False</td>\n",
       "      <td>False</td>\n",
       "      <td>False</td>\n",
       "    </tr>\n",
       "    <tr>\n",
       "      <th>939817</th>\n",
       "      <td>O1505504</td>\n",
       "      <td>DRIVER</td>\n",
       "      <td>45ef99d6739c22de4260bc091e70dd495a1fd4d57557f5...</td>\n",
       "      <td>1431306.0</td>\n",
       "      <td>2023-01-26 06:35:00</td>\n",
       "      <td>CHICAGO</td>\n",
       "      <td>IL</td>\n",
       "      <td>60634</td>\n",
       "      <td>1.0</td>\n",
       "      <td>22.0</td>\n",
       "      <td>IL</td>\n",
       "      <td>D</td>\n",
       "      <td>REPORTED, NOT EVIDENT</td>\n",
       "      <td>NONE</td>\n",
       "      <td>MOVING VEHICLES</td>\n",
       "      <td>NORMAL</td>\n",
       "      <td>0.0</td>\n",
       "      <td>False</td>\n",
       "      <td>False</td>\n",
       "      <td>False</td>\n",
       "    </tr>\n",
       "    <tr>\n",
       "      <th>939825</th>\n",
       "      <td>O1505513</td>\n",
       "      <td>DRIVER</td>\n",
       "      <td>45ef99d6739c22de4260bc091e70dd495a1fd4d57557f5...</td>\n",
       "      <td>1431317.0</td>\n",
       "      <td>2023-01-26 06:35:00</td>\n",
       "      <td>CHICAGO</td>\n",
       "      <td>IL</td>\n",
       "      <td>60639</td>\n",
       "      <td>0.0</td>\n",
       "      <td>NaN</td>\n",
       "      <td>IL</td>\n",
       "      <td>NaN</td>\n",
       "      <td>INCAPACITATING INJURY</td>\n",
       "      <td>NONE</td>\n",
       "      <td>MOVING VEHICLES</td>\n",
       "      <td>NORMAL</td>\n",
       "      <td>0.0</td>\n",
       "      <td>False</td>\n",
       "      <td>False</td>\n",
       "      <td>False</td>\n",
       "    </tr>\n",
       "    <tr>\n",
       "      <th>939829</th>\n",
       "      <td>O1505523</td>\n",
       "      <td>DRIVER</td>\n",
       "      <td>45ef99d6739c22de4260bc091e70dd495a1fd4d57557f5...</td>\n",
       "      <td>1431331.0</td>\n",
       "      <td>2023-01-26 06:35:00</td>\n",
       "      <td>CHICAGO</td>\n",
       "      <td>IL</td>\n",
       "      <td>60634</td>\n",
       "      <td>1.0</td>\n",
       "      <td>72.0</td>\n",
       "      <td>IL</td>\n",
       "      <td>DM</td>\n",
       "      <td>REPORTED, NOT EVIDENT</td>\n",
       "      <td>NONE</td>\n",
       "      <td>MOVING VEHICLES</td>\n",
       "      <td>NORMAL</td>\n",
       "      <td>0.0</td>\n",
       "      <td>False</td>\n",
       "      <td>False</td>\n",
       "      <td>False</td>\n",
       "    </tr>\n",
       "  </tbody>\n",
       "</table>\n",
       "</div>"
      ],
      "text/plain": [
       "       PERSON_ID PERSON_TYPE  \\\n",
       "908814  O1505479      DRIVER   \n",
       "908815  O1505485      DRIVER   \n",
       "939731  O1505374      DRIVER   \n",
       "939732  O1505375      DRIVER   \n",
       "939733  O1505376      DRIVER   \n",
       "939734  O1505377      DRIVER   \n",
       "939735  O1505378      DRIVER   \n",
       "939779  O1505453      DRIVER   \n",
       "939807  O1505490      DRIVER   \n",
       "939817  O1505504      DRIVER   \n",
       "939825  O1505513      DRIVER   \n",
       "939829  O1505523      DRIVER   \n",
       "\n",
       "                                          CRASH_RECORD_ID  VEHICLE_ID  \\\n",
       "908814  45ef99d6739c22de4260bc091e70dd495a1fd4d57557f5...   1431279.0   \n",
       "908815  45ef99d6739c22de4260bc091e70dd495a1fd4d57557f5...   1431290.0   \n",
       "939731  45ef99d6739c22de4260bc091e70dd495a1fd4d57557f5...   1431182.0   \n",
       "939732  45ef99d6739c22de4260bc091e70dd495a1fd4d57557f5...   1431179.0   \n",
       "939733  45ef99d6739c22de4260bc091e70dd495a1fd4d57557f5...   1431200.0   \n",
       "939734  45ef99d6739c22de4260bc091e70dd495a1fd4d57557f5...   1431229.0   \n",
       "939735  45ef99d6739c22de4260bc091e70dd495a1fd4d57557f5...   1431247.0   \n",
       "939779  45ef99d6739c22de4260bc091e70dd495a1fd4d57557f5...   1431260.0   \n",
       "939807  45ef99d6739c22de4260bc091e70dd495a1fd4d57557f5...   1431298.0   \n",
       "939817  45ef99d6739c22de4260bc091e70dd495a1fd4d57557f5...   1431306.0   \n",
       "939825  45ef99d6739c22de4260bc091e70dd495a1fd4d57557f5...   1431317.0   \n",
       "939829  45ef99d6739c22de4260bc091e70dd495a1fd4d57557f5...   1431331.0   \n",
       "\n",
       "                 CRASH_DATE           CITY STATE ZIPCODE  SEX   AGE  \\\n",
       "908814  2023-01-26 06:35:00        CHICAGO    IL   60630  0.0  50.0   \n",
       "908815  2023-01-26 06:35:00  SCHILLER PARK    IL   60176  1.0  77.0   \n",
       "939731  2023-01-26 06:35:00            NaN   NaN     NaN -1.0   NaN   \n",
       "939732  2023-01-26 06:35:00            NaN   NaN     NaN -1.0   NaN   \n",
       "939733  2023-01-26 06:35:00        CHICAGO    IL   60634  1.0   NaN   \n",
       "939734  2023-01-26 06:35:00        CHICAGO    IL   60634  0.0  50.0   \n",
       "939735  2023-01-26 06:35:00        CHICAGO    IL   60639  0.0  44.0   \n",
       "939779  2023-01-26 06:35:00    RIVER GROVE    IL   60171  0.0  50.0   \n",
       "939807  2023-01-26 06:35:00        CHICAGO    IL   60639  0.0  41.0   \n",
       "939817  2023-01-26 06:35:00        CHICAGO    IL   60634  1.0  22.0   \n",
       "939825  2023-01-26 06:35:00        CHICAGO    IL   60639  0.0   NaN   \n",
       "939829  2023-01-26 06:35:00        CHICAGO    IL   60634  1.0  72.0   \n",
       "\n",
       "       DRIVERS_LICENSE_STATE DRIVERS_LICENSE_CLASS    INJURY_CLASSIFICATION  \\\n",
       "908814                    IL                     D    REPORTED, NOT EVIDENT   \n",
       "908815                    IL                     D    REPORTED, NOT EVIDENT   \n",
       "939731                   NaN                   NaN  NO INDICATION OF INJURY   \n",
       "939732                   NaN                   NaN  NO INDICATION OF INJURY   \n",
       "939733                    IL                   NaN    REPORTED, NOT EVIDENT   \n",
       "939734                    IL                     D    REPORTED, NOT EVIDENT   \n",
       "939735                    IL                     D    REPORTED, NOT EVIDENT   \n",
       "939779                    IL                     D    REPORTED, NOT EVIDENT   \n",
       "939807                    MR                   NaN    REPORTED, NOT EVIDENT   \n",
       "939817                    IL                     D    REPORTED, NOT EVIDENT   \n",
       "939825                    IL                   NaN    INCAPACITATING INJURY   \n",
       "939829                    IL                    DM    REPORTED, NOT EVIDENT   \n",
       "\n",
       "       DRIVER_ACTION    DRIVER_VISION PHYSICAL_CONDITION  EJECTION/AIRBAG  \\\n",
       "908814          NONE  MOVING VEHICLES             NORMAL              0.0   \n",
       "908815          NONE  MOVING VEHICLES             NORMAL              0.0   \n",
       "939731       UNKNOWN          UNKNOWN            UNKNOWN              0.0   \n",
       "939732       UNKNOWN          UNKNOWN            UNKNOWN              0.0   \n",
       "939733         OTHER  MOVING VEHICLES             NORMAL              0.0   \n",
       "939734          NONE  MOVING VEHICLES             NORMAL              0.0   \n",
       "939735          NONE  MOVING VEHICLES             NORMAL              0.0   \n",
       "939779          NONE  MOVING VEHICLES             NORMAL              0.0   \n",
       "939807          NONE  MOVING VEHICLES             NORMAL              0.0   \n",
       "939817          NONE  MOVING VEHICLES             NORMAL              0.0   \n",
       "939825          NONE  MOVING VEHICLES             NORMAL              0.0   \n",
       "939829          NONE  MOVING VEHICLES             NORMAL              0.0   \n",
       "\n",
       "        SPEEDING  DRINKING  TELEPHONE  \n",
       "908814     False     False      False  \n",
       "908815     False     False      False  \n",
       "939731     False     False      False  \n",
       "939732     False     False      False  \n",
       "939733     False     False      False  \n",
       "939734     False     False      False  \n",
       "939735     False     False      False  \n",
       "939779     False     False      False  \n",
       "939807     False     False      False  \n",
       "939817     False     False      False  \n",
       "939825     False     False      False  \n",
       "939829     False     False      False  "
      ]
     },
     "execution_count": 241,
     "metadata": {},
     "output_type": "execute_result"
    }
   ],
   "source": [
    "people.loc[(people['CRASH_RECORD_ID'] == first_id) & (people['PERSON_TYPE'] == 'DRIVER')]"
   ]
  },
  {
   "cell_type": "markdown",
   "metadata": {},
   "source": [
    "new approach to quickly count the number of inconsistent crashes"
   ]
  },
  {
   "cell_type": "code",
   "execution_count": 242,
   "metadata": {},
   "outputs": [],
   "source": [
    "drivers_per_crash = people[people['PERSON_TYPE'] == 'DRIVER'].groupby('CRASH_RECORD_ID').size().reset_index(name='DRIVER_COUNT')\n"
   ]
  },
  {
   "cell_type": "code",
   "execution_count": 243,
   "metadata": {},
   "outputs": [],
   "source": [
    "crash_driver_comparison = crashes[['CRASH_RECORD_ID', 'NUM_UNITS']].merge(drivers_per_crash, on='CRASH_RECORD_ID', how='left')\n"
   ]
  },
  {
   "cell_type": "code",
   "execution_count": 244,
   "metadata": {},
   "outputs": [],
   "source": [
    "inconsistent_crashes = crash_driver_comparison[crash_driver_comparison['NUM_UNITS'] != crash_driver_comparison['DRIVER_COUNT']]\n"
   ]
  },
  {
   "cell_type": "code",
   "execution_count": 245,
   "metadata": {},
   "outputs": [
    {
     "name": "stdout",
     "output_type": "stream",
     "text": [
      "Total crashes with mismatched vehicle-driver count: 223050\n",
      "Mismatch Rate: 29.42%\n"
     ]
    }
   ],
   "source": [
    "print(f\"Total crashes with mismatched vehicle-driver count: {inconsistent_crashes.shape[0]}\")\n",
    "\n",
    "# Percentage of mismatches\n",
    "mismatch_rate = inconsistent_crashes.shape[0] / crash_driver_comparison.shape[0] * 100\n",
    "print(f\"Mismatch Rate: {mismatch_rate:.2f}%\")\n"
   ]
  },
  {
   "cell_type": "code",
   "execution_count": 246,
   "metadata": {},
   "outputs": [
    {
     "name": "stdout",
     "output_type": "stream",
     "text": [
      "Total crashes with mismatched vehicle-driver count: 1391\n",
      "Mismatch Rate: 0.18%\n"
     ]
    }
   ],
   "source": [
    "inconsistent_crashes = inconsistent_crashes[inconsistent_crashes['DRIVER_COUNT'] > inconsistent_crashes['NUM_UNITS']]\n",
    "print(f\"Total crashes with mismatched vehicle-driver count: {inconsistent_crashes.shape[0]}\")\n",
    "\n",
    "# Percentage of mismatches\n",
    "mismatch_rate = inconsistent_crashes.shape[0] / crash_driver_comparison.shape[0] * 100\n",
    "print(f\"Mismatch Rate: {mismatch_rate:.2f}%\")\n",
    "\n"
   ]
  },
  {
   "cell_type": "code",
   "execution_count": 247,
   "metadata": {},
   "outputs": [],
   "source": [
    "# subset of people coinvolted in the inconsistent crashes\n",
    "inconsistent_people = people[people['CRASH_RECORD_ID'].isin(inconsistent_crashes['CRASH_RECORD_ID'])]"
   ]
  },
  {
   "cell_type": "code",
   "execution_count": 248,
   "metadata": {},
   "outputs": [],
   "source": [
    "# list of the crash record IDs with mismatched vehicle-driver count\n",
    "inconsistent_crash_ids = inconsistent_crashes['CRASH_RECORD_ID'].tolist()\n",
    "\n",
    "# subset of the data with only the inconsistent crash records\n",
    "crashes_subset = crashes[crashes['CRASH_RECORD_ID'].isin(inconsistent_crash_ids)]\n",
    "people_subset = people[people['CRASH_RECORD_ID'].isin(inconsistent_crash_ids)]\n"
   ]
  },
  {
   "cell_type": "code",
   "execution_count": 249,
   "metadata": {},
   "outputs": [
    {
     "data": {
      "text/html": [
       "<div>\n",
       "<style scoped>\n",
       "    .dataframe tbody tr th:only-of-type {\n",
       "        vertical-align: middle;\n",
       "    }\n",
       "\n",
       "    .dataframe tbody tr th {\n",
       "        vertical-align: top;\n",
       "    }\n",
       "\n",
       "    .dataframe thead th {\n",
       "        text-align: right;\n",
       "    }\n",
       "</style>\n",
       "<table border=\"1\" class=\"dataframe\">\n",
       "  <thead>\n",
       "    <tr style=\"text-align: right;\">\n",
       "      <th></th>\n",
       "      <th>CRASH_RECORD_ID</th>\n",
       "      <th>CRASH_DATE</th>\n",
       "      <th>POSTED_SPEED_LIMIT</th>\n",
       "      <th>WEATHER_SEVERITY</th>\n",
       "      <th>LIGHTING_SEVERITY</th>\n",
       "      <th>FIRST_CRASH_TYPE</th>\n",
       "      <th>TRAFFICWAY_TYPE</th>\n",
       "      <th>ALIGNMENT</th>\n",
       "      <th>ROADWAY_SEVERITY</th>\n",
       "      <th>CRASH_TYPE</th>\n",
       "      <th>DAMAGE_SEVERITY</th>\n",
       "      <th>PRIM_CONTRIBUTORY_CAUSE</th>\n",
       "      <th>SEC_CONTRIBUTORY_CAUSE</th>\n",
       "      <th>BEAT_OF_OCCURRENCE</th>\n",
       "      <th>STREET_NO</th>\n",
       "      <th>STREET_DIRECTION</th>\n",
       "      <th>STREET_NAME</th>\n",
       "      <th>LATITUDE</th>\n",
       "      <th>LONGITUDE</th>\n",
       "      <th>NUM_UNITS</th>\n",
       "      <th>MOST_SEVERE_INJURY</th>\n",
       "      <th>INJURIES_TOTAL</th>\n",
       "      <th>INJURIES_FATAL</th>\n",
       "      <th>INJURIES_INCAPACITATING</th>\n",
       "      <th>INJURIES_NON_INCAPACITATING</th>\n",
       "      <th>INJURIES_REPORTED_NOT_EVIDENT</th>\n",
       "      <th>WEATHER_CATEGORY_CLEAR</th>\n",
       "      <th>WEATHER_CATEGORY_CLOUDY</th>\n",
       "      <th>WEATHER_CATEGORY_RAIN</th>\n",
       "      <th>WEATHER_CATEGORY_EXTREME</th>\n",
       "      <th>WEATHER_CATEGORY_UNKNOWN</th>\n",
       "      <th>LIGHTING_CATEGORY_DAYLIGHT</th>\n",
       "      <th>LIGHTING_CATEGORY_NIGHT</th>\n",
       "      <th>LIGHTING_CATEGORY_UNKNOWN</th>\n",
       "      <th>ROADWAY_SURFACE_CATEGORY_DRY</th>\n",
       "      <th>ROADWAY_SURFACE_CATEGORY_WET</th>\n",
       "      <th>ROADWAY_SURFACE_CATEGORY_SNOW</th>\n",
       "      <th>ROADWAY_SURFACE_CATEGORY_ICE</th>\n",
       "      <th>ROADWAY_SURFACE_CATEGORY_UNKNOWN</th>\n",
       "      <th>ROAD_DEFECT_CATEGORY_NO_DEFECTS</th>\n",
       "      <th>ROAD_DEFECT_CATEGORY_BAD</th>\n",
       "      <th>ROAD_DEFECT_CATEGORY_DEFECT</th>\n",
       "      <th>ROAD_DEFECT_CATEGORY_DEBRIS</th>\n",
       "      <th>ROAD_DEFECT_CATEGORY_UNKNOWN</th>\n",
       "      <th>DAMAGE_CATEGORY_HIGH</th>\n",
       "      <th>DAMAGE_CATEGORY_LOW</th>\n",
       "      <th>DAMAGE_CATEGORY_MEDIUM</th>\n",
       "      <th>crash_severity_score</th>\n",
       "      <th>responsibility_score</th>\n",
       "      <th>CRASH_TYPE_b</th>\n",
       "      <th>TOW</th>\n",
       "      <th>SPEEDING</th>\n",
       "      <th>DRINKING</th>\n",
       "      <th>TELEPHONE</th>\n",
       "    </tr>\n",
       "  </thead>\n",
       "  <tbody>\n",
       "    <tr>\n",
       "      <th>713682</th>\n",
       "      <td>ec4efa4db1fbbe74d46a61d4a4389a746bc4323322a35c...</td>\n",
       "      <td>2023-06-13 13:45:00</td>\n",
       "      <td>30</td>\n",
       "      <td>2</td>\n",
       "      <td>0</td>\n",
       "      <td>REAR END</td>\n",
       "      <td>NOT DIVIDED</td>\n",
       "      <td>STRAIGHT AND LEVEL</td>\n",
       "      <td>-1</td>\n",
       "      <td>NO INJURY / DRIVE AWAY</td>\n",
       "      <td>2</td>\n",
       "      <td>UNABLE TO DETERMINE</td>\n",
       "      <td>UNABLE TO DETERMINE</td>\n",
       "      <td>1912.0</td>\n",
       "      <td>4033</td>\n",
       "      <td>N</td>\n",
       "      <td>ASHLAND AVE</td>\n",
       "      <td>41.955297</td>\n",
       "      <td>-87.668930</td>\n",
       "      <td>2</td>\n",
       "      <td>NO INDICATION OF INJURY</td>\n",
       "      <td>0.0</td>\n",
       "      <td>0.0</td>\n",
       "      <td>0.0</td>\n",
       "      <td>0.0</td>\n",
       "      <td>0.0</td>\n",
       "      <td>False</td>\n",
       "      <td>False</td>\n",
       "      <td>True</td>\n",
       "      <td>False</td>\n",
       "      <td>False</td>\n",
       "      <td>True</td>\n",
       "      <td>False</td>\n",
       "      <td>False</td>\n",
       "      <td>False</td>\n",
       "      <td>True</td>\n",
       "      <td>False</td>\n",
       "      <td>False</td>\n",
       "      <td>False</td>\n",
       "      <td>False</td>\n",
       "      <td>False</td>\n",
       "      <td>False</td>\n",
       "      <td>False</td>\n",
       "      <td>True</td>\n",
       "      <td>True</td>\n",
       "      <td>False</td>\n",
       "      <td>False</td>\n",
       "      <td>0.023343</td>\n",
       "      <td>-1.0</td>\n",
       "      <td>0</td>\n",
       "      <td>0</td>\n",
       "      <td>False</td>\n",
       "      <td>False</td>\n",
       "      <td>False</td>\n",
       "    </tr>\n",
       "    <tr>\n",
       "      <th>713806</th>\n",
       "      <td>081f0e00b5d7ea0545ca0ba6b01ef878329b0f6cfdd68a...</td>\n",
       "      <td>2020-05-06 10:45:00</td>\n",
       "      <td>30</td>\n",
       "      <td>0</td>\n",
       "      <td>0</td>\n",
       "      <td>REAR END</td>\n",
       "      <td>NOT DIVIDED</td>\n",
       "      <td>STRAIGHT AND LEVEL</td>\n",
       "      <td>0</td>\n",
       "      <td>NO INJURY / DRIVE AWAY</td>\n",
       "      <td>1</td>\n",
       "      <td>NOT APPLICABLE</td>\n",
       "      <td>NOT APPLICABLE</td>\n",
       "      <td>1513.0</td>\n",
       "      <td>200</td>\n",
       "      <td>S</td>\n",
       "      <td>CENTRAL AVE</td>\n",
       "      <td>41.877734</td>\n",
       "      <td>-87.764917</td>\n",
       "      <td>2</td>\n",
       "      <td>NO INDICATION OF INJURY</td>\n",
       "      <td>0.0</td>\n",
       "      <td>0.0</td>\n",
       "      <td>0.0</td>\n",
       "      <td>0.0</td>\n",
       "      <td>0.0</td>\n",
       "      <td>True</td>\n",
       "      <td>False</td>\n",
       "      <td>False</td>\n",
       "      <td>False</td>\n",
       "      <td>False</td>\n",
       "      <td>True</td>\n",
       "      <td>False</td>\n",
       "      <td>False</td>\n",
       "      <td>True</td>\n",
       "      <td>False</td>\n",
       "      <td>False</td>\n",
       "      <td>False</td>\n",
       "      <td>False</td>\n",
       "      <td>True</td>\n",
       "      <td>False</td>\n",
       "      <td>False</td>\n",
       "      <td>False</td>\n",
       "      <td>False</td>\n",
       "      <td>False</td>\n",
       "      <td>False</td>\n",
       "      <td>True</td>\n",
       "      <td>0.023343</td>\n",
       "      <td>-1.0</td>\n",
       "      <td>0</td>\n",
       "      <td>0</td>\n",
       "      <td>False</td>\n",
       "      <td>False</td>\n",
       "      <td>False</td>\n",
       "    </tr>\n",
       "    <tr>\n",
       "      <th>713892</th>\n",
       "      <td>4b1ddc701441ee9d83ffab2ec6553a047de2603c0d9b43...</td>\n",
       "      <td>2019-10-09 10:16:00</td>\n",
       "      <td>35</td>\n",
       "      <td>0</td>\n",
       "      <td>0</td>\n",
       "      <td>TURNING</td>\n",
       "      <td>NOT DIVIDED</td>\n",
       "      <td>STRAIGHT AND LEVEL</td>\n",
       "      <td>0</td>\n",
       "      <td>NO INJURY / DRIVE AWAY</td>\n",
       "      <td>0</td>\n",
       "      <td>UNABLE TO DETERMINE</td>\n",
       "      <td>NOT APPLICABLE</td>\n",
       "      <td>411.0</td>\n",
       "      <td>7825</td>\n",
       "      <td>S</td>\n",
       "      <td>STONY ISLAND AVE</td>\n",
       "      <td>41.752532</td>\n",
       "      <td>-87.585338</td>\n",
       "      <td>2</td>\n",
       "      <td>NO INDICATION OF INJURY</td>\n",
       "      <td>0.0</td>\n",
       "      <td>0.0</td>\n",
       "      <td>0.0</td>\n",
       "      <td>0.0</td>\n",
       "      <td>0.0</td>\n",
       "      <td>True</td>\n",
       "      <td>False</td>\n",
       "      <td>False</td>\n",
       "      <td>False</td>\n",
       "      <td>False</td>\n",
       "      <td>True</td>\n",
       "      <td>False</td>\n",
       "      <td>False</td>\n",
       "      <td>True</td>\n",
       "      <td>False</td>\n",
       "      <td>False</td>\n",
       "      <td>False</td>\n",
       "      <td>False</td>\n",
       "      <td>True</td>\n",
       "      <td>False</td>\n",
       "      <td>False</td>\n",
       "      <td>False</td>\n",
       "      <td>False</td>\n",
       "      <td>False</td>\n",
       "      <td>True</td>\n",
       "      <td>False</td>\n",
       "      <td>0.047310</td>\n",
       "      <td>-1.0</td>\n",
       "      <td>0</td>\n",
       "      <td>0</td>\n",
       "      <td>False</td>\n",
       "      <td>False</td>\n",
       "      <td>False</td>\n",
       "    </tr>\n",
       "    <tr>\n",
       "      <th>713918</th>\n",
       "      <td>60a1c92b854107c1dccaa6a0ac294c63f1636f13eb037b...</td>\n",
       "      <td>2023-07-24 13:30:00</td>\n",
       "      <td>25</td>\n",
       "      <td>0</td>\n",
       "      <td>0</td>\n",
       "      <td>REAR END</td>\n",
       "      <td>NOT DIVIDED</td>\n",
       "      <td>STRAIGHT AND LEVEL</td>\n",
       "      <td>0</td>\n",
       "      <td>NO INJURY / DRIVE AWAY</td>\n",
       "      <td>0</td>\n",
       "      <td>UNABLE TO DETERMINE</td>\n",
       "      <td>UNABLE TO DETERMINE</td>\n",
       "      <td>1225.0</td>\n",
       "      <td>702</td>\n",
       "      <td>S</td>\n",
       "      <td>DAMEN AVE</td>\n",
       "      <td>0.000000</td>\n",
       "      <td>0.000000</td>\n",
       "      <td>2</td>\n",
       "      <td>NO INDICATION OF INJURY</td>\n",
       "      <td>0.0</td>\n",
       "      <td>0.0</td>\n",
       "      <td>0.0</td>\n",
       "      <td>0.0</td>\n",
       "      <td>0.0</td>\n",
       "      <td>True</td>\n",
       "      <td>False</td>\n",
       "      <td>False</td>\n",
       "      <td>False</td>\n",
       "      <td>False</td>\n",
       "      <td>True</td>\n",
       "      <td>False</td>\n",
       "      <td>False</td>\n",
       "      <td>True</td>\n",
       "      <td>False</td>\n",
       "      <td>False</td>\n",
       "      <td>False</td>\n",
       "      <td>False</td>\n",
       "      <td>True</td>\n",
       "      <td>False</td>\n",
       "      <td>False</td>\n",
       "      <td>False</td>\n",
       "      <td>False</td>\n",
       "      <td>False</td>\n",
       "      <td>True</td>\n",
       "      <td>False</td>\n",
       "      <td>0.023343</td>\n",
       "      <td>-1.0</td>\n",
       "      <td>0</td>\n",
       "      <td>0</td>\n",
       "      <td>False</td>\n",
       "      <td>False</td>\n",
       "      <td>False</td>\n",
       "    </tr>\n",
       "    <tr>\n",
       "      <th>713970</th>\n",
       "      <td>8e5e9ec078b5de00d9a5831ec28815ddbb2b9bd43856d6...</td>\n",
       "      <td>2020-03-20 09:20:00</td>\n",
       "      <td>30</td>\n",
       "      <td>0</td>\n",
       "      <td>0</td>\n",
       "      <td>REAR END</td>\n",
       "      <td>NOT DIVIDED</td>\n",
       "      <td>STRAIGHT AND LEVEL</td>\n",
       "      <td>0</td>\n",
       "      <td>NO INJURY / DRIVE AWAY</td>\n",
       "      <td>1</td>\n",
       "      <td>NOT APPLICABLE</td>\n",
       "      <td>NOT APPLICABLE</td>\n",
       "      <td>1033.0</td>\n",
       "      <td>2200</td>\n",
       "      <td>S</td>\n",
       "      <td>CALIFORNIA AVE</td>\n",
       "      <td>41.851854</td>\n",
       "      <td>-87.695591</td>\n",
       "      <td>2</td>\n",
       "      <td>NO INDICATION OF INJURY</td>\n",
       "      <td>0.0</td>\n",
       "      <td>0.0</td>\n",
       "      <td>0.0</td>\n",
       "      <td>0.0</td>\n",
       "      <td>0.0</td>\n",
       "      <td>True</td>\n",
       "      <td>False</td>\n",
       "      <td>False</td>\n",
       "      <td>False</td>\n",
       "      <td>False</td>\n",
       "      <td>True</td>\n",
       "      <td>False</td>\n",
       "      <td>False</td>\n",
       "      <td>True</td>\n",
       "      <td>False</td>\n",
       "      <td>False</td>\n",
       "      <td>False</td>\n",
       "      <td>False</td>\n",
       "      <td>True</td>\n",
       "      <td>False</td>\n",
       "      <td>False</td>\n",
       "      <td>False</td>\n",
       "      <td>False</td>\n",
       "      <td>False</td>\n",
       "      <td>False</td>\n",
       "      <td>True</td>\n",
       "      <td>0.023343</td>\n",
       "      <td>-1.0</td>\n",
       "      <td>0</td>\n",
       "      <td>0</td>\n",
       "      <td>False</td>\n",
       "      <td>False</td>\n",
       "      <td>False</td>\n",
       "    </tr>\n",
       "  </tbody>\n",
       "</table>\n",
       "</div>"
      ],
      "text/plain": [
       "                                          CRASH_RECORD_ID  \\\n",
       "713682  ec4efa4db1fbbe74d46a61d4a4389a746bc4323322a35c...   \n",
       "713806  081f0e00b5d7ea0545ca0ba6b01ef878329b0f6cfdd68a...   \n",
       "713892  4b1ddc701441ee9d83ffab2ec6553a047de2603c0d9b43...   \n",
       "713918  60a1c92b854107c1dccaa6a0ac294c63f1636f13eb037b...   \n",
       "713970  8e5e9ec078b5de00d9a5831ec28815ddbb2b9bd43856d6...   \n",
       "\n",
       "                 CRASH_DATE  POSTED_SPEED_LIMIT  WEATHER_SEVERITY  \\\n",
       "713682  2023-06-13 13:45:00                  30                 2   \n",
       "713806  2020-05-06 10:45:00                  30                 0   \n",
       "713892  2019-10-09 10:16:00                  35                 0   \n",
       "713918  2023-07-24 13:30:00                  25                 0   \n",
       "713970  2020-03-20 09:20:00                  30                 0   \n",
       "\n",
       "        LIGHTING_SEVERITY FIRST_CRASH_TYPE TRAFFICWAY_TYPE  \\\n",
       "713682                  0         REAR END     NOT DIVIDED   \n",
       "713806                  0         REAR END     NOT DIVIDED   \n",
       "713892                  0          TURNING     NOT DIVIDED   \n",
       "713918                  0         REAR END     NOT DIVIDED   \n",
       "713970                  0         REAR END     NOT DIVIDED   \n",
       "\n",
       "                 ALIGNMENT  ROADWAY_SEVERITY              CRASH_TYPE  \\\n",
       "713682  STRAIGHT AND LEVEL                -1  NO INJURY / DRIVE AWAY   \n",
       "713806  STRAIGHT AND LEVEL                 0  NO INJURY / DRIVE AWAY   \n",
       "713892  STRAIGHT AND LEVEL                 0  NO INJURY / DRIVE AWAY   \n",
       "713918  STRAIGHT AND LEVEL                 0  NO INJURY / DRIVE AWAY   \n",
       "713970  STRAIGHT AND LEVEL                 0  NO INJURY / DRIVE AWAY   \n",
       "\n",
       "        DAMAGE_SEVERITY PRIM_CONTRIBUTORY_CAUSE SEC_CONTRIBUTORY_CAUSE  \\\n",
       "713682                2     UNABLE TO DETERMINE    UNABLE TO DETERMINE   \n",
       "713806                1          NOT APPLICABLE         NOT APPLICABLE   \n",
       "713892                0     UNABLE TO DETERMINE         NOT APPLICABLE   \n",
       "713918                0     UNABLE TO DETERMINE    UNABLE TO DETERMINE   \n",
       "713970                1          NOT APPLICABLE         NOT APPLICABLE   \n",
       "\n",
       "        BEAT_OF_OCCURRENCE  STREET_NO STREET_DIRECTION       STREET_NAME  \\\n",
       "713682              1912.0       4033                N       ASHLAND AVE   \n",
       "713806              1513.0        200                S       CENTRAL AVE   \n",
       "713892               411.0       7825                S  STONY ISLAND AVE   \n",
       "713918              1225.0        702                S         DAMEN AVE   \n",
       "713970              1033.0       2200                S    CALIFORNIA AVE   \n",
       "\n",
       "         LATITUDE  LONGITUDE  NUM_UNITS       MOST_SEVERE_INJURY  \\\n",
       "713682  41.955297 -87.668930          2  NO INDICATION OF INJURY   \n",
       "713806  41.877734 -87.764917          2  NO INDICATION OF INJURY   \n",
       "713892  41.752532 -87.585338          2  NO INDICATION OF INJURY   \n",
       "713918   0.000000   0.000000          2  NO INDICATION OF INJURY   \n",
       "713970  41.851854 -87.695591          2  NO INDICATION OF INJURY   \n",
       "\n",
       "        INJURIES_TOTAL  INJURIES_FATAL  INJURIES_INCAPACITATING  \\\n",
       "713682             0.0             0.0                      0.0   \n",
       "713806             0.0             0.0                      0.0   \n",
       "713892             0.0             0.0                      0.0   \n",
       "713918             0.0             0.0                      0.0   \n",
       "713970             0.0             0.0                      0.0   \n",
       "\n",
       "        INJURIES_NON_INCAPACITATING  INJURIES_REPORTED_NOT_EVIDENT  \\\n",
       "713682                          0.0                            0.0   \n",
       "713806                          0.0                            0.0   \n",
       "713892                          0.0                            0.0   \n",
       "713918                          0.0                            0.0   \n",
       "713970                          0.0                            0.0   \n",
       "\n",
       "        WEATHER_CATEGORY_CLEAR  WEATHER_CATEGORY_CLOUDY  \\\n",
       "713682                   False                    False   \n",
       "713806                    True                    False   \n",
       "713892                    True                    False   \n",
       "713918                    True                    False   \n",
       "713970                    True                    False   \n",
       "\n",
       "        WEATHER_CATEGORY_RAIN  WEATHER_CATEGORY_EXTREME  \\\n",
       "713682                   True                     False   \n",
       "713806                  False                     False   \n",
       "713892                  False                     False   \n",
       "713918                  False                     False   \n",
       "713970                  False                     False   \n",
       "\n",
       "        WEATHER_CATEGORY_UNKNOWN  LIGHTING_CATEGORY_DAYLIGHT  \\\n",
       "713682                     False                        True   \n",
       "713806                     False                        True   \n",
       "713892                     False                        True   \n",
       "713918                     False                        True   \n",
       "713970                     False                        True   \n",
       "\n",
       "        LIGHTING_CATEGORY_NIGHT  LIGHTING_CATEGORY_UNKNOWN  \\\n",
       "713682                    False                      False   \n",
       "713806                    False                      False   \n",
       "713892                    False                      False   \n",
       "713918                    False                      False   \n",
       "713970                    False                      False   \n",
       "\n",
       "        ROADWAY_SURFACE_CATEGORY_DRY  ROADWAY_SURFACE_CATEGORY_WET  \\\n",
       "713682                         False                          True   \n",
       "713806                          True                         False   \n",
       "713892                          True                         False   \n",
       "713918                          True                         False   \n",
       "713970                          True                         False   \n",
       "\n",
       "        ROADWAY_SURFACE_CATEGORY_SNOW  ROADWAY_SURFACE_CATEGORY_ICE  \\\n",
       "713682                          False                         False   \n",
       "713806                          False                         False   \n",
       "713892                          False                         False   \n",
       "713918                          False                         False   \n",
       "713970                          False                         False   \n",
       "\n",
       "        ROADWAY_SURFACE_CATEGORY_UNKNOWN  ROAD_DEFECT_CATEGORY_NO_DEFECTS  \\\n",
       "713682                             False                            False   \n",
       "713806                             False                             True   \n",
       "713892                             False                             True   \n",
       "713918                             False                             True   \n",
       "713970                             False                             True   \n",
       "\n",
       "        ROAD_DEFECT_CATEGORY_BAD  ROAD_DEFECT_CATEGORY_DEFECT  \\\n",
       "713682                     False                        False   \n",
       "713806                     False                        False   \n",
       "713892                     False                        False   \n",
       "713918                     False                        False   \n",
       "713970                     False                        False   \n",
       "\n",
       "        ROAD_DEFECT_CATEGORY_DEBRIS  ROAD_DEFECT_CATEGORY_UNKNOWN  \\\n",
       "713682                        False                          True   \n",
       "713806                        False                         False   \n",
       "713892                        False                         False   \n",
       "713918                        False                         False   \n",
       "713970                        False                         False   \n",
       "\n",
       "        DAMAGE_CATEGORY_HIGH  DAMAGE_CATEGORY_LOW  DAMAGE_CATEGORY_MEDIUM  \\\n",
       "713682                  True                False                   False   \n",
       "713806                 False                False                    True   \n",
       "713892                 False                 True                   False   \n",
       "713918                 False                 True                   False   \n",
       "713970                 False                False                    True   \n",
       "\n",
       "        crash_severity_score  responsibility_score  CRASH_TYPE_b  TOW  \\\n",
       "713682              0.023343                  -1.0             0    0   \n",
       "713806              0.023343                  -1.0             0    0   \n",
       "713892              0.047310                  -1.0             0    0   \n",
       "713918              0.023343                  -1.0             0    0   \n",
       "713970              0.023343                  -1.0             0    0   \n",
       "\n",
       "        SPEEDING  DRINKING  TELEPHONE  \n",
       "713682     False     False      False  \n",
       "713806     False     False      False  \n",
       "713892     False     False      False  \n",
       "713918     False     False      False  \n",
       "713970     False     False      False  "
      ]
     },
     "execution_count": 249,
     "metadata": {},
     "output_type": "execute_result"
    }
   ],
   "source": [
    "crashes_subset.head()"
   ]
  },
  {
   "cell_type": "code",
   "execution_count": 250,
   "metadata": {},
   "outputs": [],
   "source": [
    "last_id = crashes_subset['CRASH_RECORD_ID'].iloc[-1]"
   ]
  },
  {
   "cell_type": "code",
   "execution_count": 251,
   "metadata": {},
   "outputs": [
    {
     "data": {
      "text/html": [
       "<div>\n",
       "<style scoped>\n",
       "    .dataframe tbody tr th:only-of-type {\n",
       "        vertical-align: middle;\n",
       "    }\n",
       "\n",
       "    .dataframe tbody tr th {\n",
       "        vertical-align: top;\n",
       "    }\n",
       "\n",
       "    .dataframe thead th {\n",
       "        text-align: right;\n",
       "    }\n",
       "</style>\n",
       "<table border=\"1\" class=\"dataframe\">\n",
       "  <thead>\n",
       "    <tr style=\"text-align: right;\">\n",
       "      <th></th>\n",
       "      <th>CRASH_RECORD_ID</th>\n",
       "      <th>CRASH_DATE</th>\n",
       "      <th>POSTED_SPEED_LIMIT</th>\n",
       "      <th>WEATHER_SEVERITY</th>\n",
       "      <th>LIGHTING_SEVERITY</th>\n",
       "      <th>FIRST_CRASH_TYPE</th>\n",
       "      <th>TRAFFICWAY_TYPE</th>\n",
       "      <th>ALIGNMENT</th>\n",
       "      <th>ROADWAY_SEVERITY</th>\n",
       "      <th>CRASH_TYPE</th>\n",
       "      <th>DAMAGE_SEVERITY</th>\n",
       "      <th>PRIM_CONTRIBUTORY_CAUSE</th>\n",
       "      <th>SEC_CONTRIBUTORY_CAUSE</th>\n",
       "      <th>BEAT_OF_OCCURRENCE</th>\n",
       "      <th>STREET_NO</th>\n",
       "      <th>STREET_DIRECTION</th>\n",
       "      <th>STREET_NAME</th>\n",
       "      <th>LATITUDE</th>\n",
       "      <th>LONGITUDE</th>\n",
       "      <th>NUM_UNITS</th>\n",
       "      <th>MOST_SEVERE_INJURY</th>\n",
       "      <th>INJURIES_TOTAL</th>\n",
       "      <th>INJURIES_FATAL</th>\n",
       "      <th>INJURIES_INCAPACITATING</th>\n",
       "      <th>INJURIES_NON_INCAPACITATING</th>\n",
       "      <th>INJURIES_REPORTED_NOT_EVIDENT</th>\n",
       "      <th>WEATHER_CATEGORY_CLEAR</th>\n",
       "      <th>WEATHER_CATEGORY_CLOUDY</th>\n",
       "      <th>WEATHER_CATEGORY_RAIN</th>\n",
       "      <th>WEATHER_CATEGORY_EXTREME</th>\n",
       "      <th>WEATHER_CATEGORY_UNKNOWN</th>\n",
       "      <th>LIGHTING_CATEGORY_DAYLIGHT</th>\n",
       "      <th>LIGHTING_CATEGORY_NIGHT</th>\n",
       "      <th>LIGHTING_CATEGORY_UNKNOWN</th>\n",
       "      <th>ROADWAY_SURFACE_CATEGORY_DRY</th>\n",
       "      <th>ROADWAY_SURFACE_CATEGORY_WET</th>\n",
       "      <th>ROADWAY_SURFACE_CATEGORY_SNOW</th>\n",
       "      <th>ROADWAY_SURFACE_CATEGORY_ICE</th>\n",
       "      <th>ROADWAY_SURFACE_CATEGORY_UNKNOWN</th>\n",
       "      <th>ROAD_DEFECT_CATEGORY_NO_DEFECTS</th>\n",
       "      <th>ROAD_DEFECT_CATEGORY_BAD</th>\n",
       "      <th>ROAD_DEFECT_CATEGORY_DEFECT</th>\n",
       "      <th>ROAD_DEFECT_CATEGORY_DEBRIS</th>\n",
       "      <th>ROAD_DEFECT_CATEGORY_UNKNOWN</th>\n",
       "      <th>DAMAGE_CATEGORY_HIGH</th>\n",
       "      <th>DAMAGE_CATEGORY_LOW</th>\n",
       "      <th>DAMAGE_CATEGORY_MEDIUM</th>\n",
       "      <th>crash_severity_score</th>\n",
       "      <th>responsibility_score</th>\n",
       "      <th>CRASH_TYPE_b</th>\n",
       "      <th>TOW</th>\n",
       "      <th>SPEEDING</th>\n",
       "      <th>DRINKING</th>\n",
       "      <th>TELEPHONE</th>\n",
       "    </tr>\n",
       "  </thead>\n",
       "  <tbody>\n",
       "    <tr>\n",
       "      <th>758191</th>\n",
       "      <td>67dd84a904e46800b722c9f368de8b3e634864ff30099a...</td>\n",
       "      <td>2019-03-04 18:40:00</td>\n",
       "      <td>30</td>\n",
       "      <td>0</td>\n",
       "      <td>1</td>\n",
       "      <td>TURNING</td>\n",
       "      <td>NOT DIVIDED</td>\n",
       "      <td>STRAIGHT AND LEVEL</td>\n",
       "      <td>0</td>\n",
       "      <td>NO INJURY / DRIVE AWAY</td>\n",
       "      <td>2</td>\n",
       "      <td>UNABLE TO DETERMINE</td>\n",
       "      <td>UNABLE TO DETERMINE</td>\n",
       "      <td>1723.0</td>\n",
       "      <td>3958</td>\n",
       "      <td>W</td>\n",
       "      <td>IRVING PARK RD</td>\n",
       "      <td>41.95376</td>\n",
       "      <td>-87.72748</td>\n",
       "      <td>2</td>\n",
       "      <td>NO INDICATION OF INJURY</td>\n",
       "      <td>0.0</td>\n",
       "      <td>0.0</td>\n",
       "      <td>0.0</td>\n",
       "      <td>0.0</td>\n",
       "      <td>0.0</td>\n",
       "      <td>True</td>\n",
       "      <td>False</td>\n",
       "      <td>False</td>\n",
       "      <td>False</td>\n",
       "      <td>False</td>\n",
       "      <td>False</td>\n",
       "      <td>True</td>\n",
       "      <td>False</td>\n",
       "      <td>True</td>\n",
       "      <td>False</td>\n",
       "      <td>False</td>\n",
       "      <td>False</td>\n",
       "      <td>False</td>\n",
       "      <td>True</td>\n",
       "      <td>False</td>\n",
       "      <td>False</td>\n",
       "      <td>False</td>\n",
       "      <td>False</td>\n",
       "      <td>True</td>\n",
       "      <td>False</td>\n",
       "      <td>False</td>\n",
       "      <td>0.04731</td>\n",
       "      <td>-1.0</td>\n",
       "      <td>0</td>\n",
       "      <td>0</td>\n",
       "      <td>False</td>\n",
       "      <td>False</td>\n",
       "      <td>False</td>\n",
       "    </tr>\n",
       "  </tbody>\n",
       "</table>\n",
       "</div>"
      ],
      "text/plain": [
       "                                          CRASH_RECORD_ID  \\\n",
       "758191  67dd84a904e46800b722c9f368de8b3e634864ff30099a...   \n",
       "\n",
       "                 CRASH_DATE  POSTED_SPEED_LIMIT  WEATHER_SEVERITY  \\\n",
       "758191  2019-03-04 18:40:00                  30                 0   \n",
       "\n",
       "        LIGHTING_SEVERITY FIRST_CRASH_TYPE TRAFFICWAY_TYPE  \\\n",
       "758191                  1          TURNING     NOT DIVIDED   \n",
       "\n",
       "                 ALIGNMENT  ROADWAY_SEVERITY              CRASH_TYPE  \\\n",
       "758191  STRAIGHT AND LEVEL                 0  NO INJURY / DRIVE AWAY   \n",
       "\n",
       "        DAMAGE_SEVERITY PRIM_CONTRIBUTORY_CAUSE SEC_CONTRIBUTORY_CAUSE  \\\n",
       "758191                2     UNABLE TO DETERMINE    UNABLE TO DETERMINE   \n",
       "\n",
       "        BEAT_OF_OCCURRENCE  STREET_NO STREET_DIRECTION     STREET_NAME  \\\n",
       "758191              1723.0       3958                W  IRVING PARK RD   \n",
       "\n",
       "        LATITUDE  LONGITUDE  NUM_UNITS       MOST_SEVERE_INJURY  \\\n",
       "758191  41.95376  -87.72748          2  NO INDICATION OF INJURY   \n",
       "\n",
       "        INJURIES_TOTAL  INJURIES_FATAL  INJURIES_INCAPACITATING  \\\n",
       "758191             0.0             0.0                      0.0   \n",
       "\n",
       "        INJURIES_NON_INCAPACITATING  INJURIES_REPORTED_NOT_EVIDENT  \\\n",
       "758191                          0.0                            0.0   \n",
       "\n",
       "        WEATHER_CATEGORY_CLEAR  WEATHER_CATEGORY_CLOUDY  \\\n",
       "758191                    True                    False   \n",
       "\n",
       "        WEATHER_CATEGORY_RAIN  WEATHER_CATEGORY_EXTREME  \\\n",
       "758191                  False                     False   \n",
       "\n",
       "        WEATHER_CATEGORY_UNKNOWN  LIGHTING_CATEGORY_DAYLIGHT  \\\n",
       "758191                     False                       False   \n",
       "\n",
       "        LIGHTING_CATEGORY_NIGHT  LIGHTING_CATEGORY_UNKNOWN  \\\n",
       "758191                     True                      False   \n",
       "\n",
       "        ROADWAY_SURFACE_CATEGORY_DRY  ROADWAY_SURFACE_CATEGORY_WET  \\\n",
       "758191                          True                         False   \n",
       "\n",
       "        ROADWAY_SURFACE_CATEGORY_SNOW  ROADWAY_SURFACE_CATEGORY_ICE  \\\n",
       "758191                          False                         False   \n",
       "\n",
       "        ROADWAY_SURFACE_CATEGORY_UNKNOWN  ROAD_DEFECT_CATEGORY_NO_DEFECTS  \\\n",
       "758191                             False                             True   \n",
       "\n",
       "        ROAD_DEFECT_CATEGORY_BAD  ROAD_DEFECT_CATEGORY_DEFECT  \\\n",
       "758191                     False                        False   \n",
       "\n",
       "        ROAD_DEFECT_CATEGORY_DEBRIS  ROAD_DEFECT_CATEGORY_UNKNOWN  \\\n",
       "758191                        False                         False   \n",
       "\n",
       "        DAMAGE_CATEGORY_HIGH  DAMAGE_CATEGORY_LOW  DAMAGE_CATEGORY_MEDIUM  \\\n",
       "758191                  True                False                   False   \n",
       "\n",
       "        crash_severity_score  responsibility_score  CRASH_TYPE_b  TOW  \\\n",
       "758191               0.04731                  -1.0             0    0   \n",
       "\n",
       "        SPEEDING  DRINKING  TELEPHONE  \n",
       "758191     False     False      False  "
      ]
     },
     "execution_count": 251,
     "metadata": {},
     "output_type": "execute_result"
    }
   ],
   "source": [
    "crashes_subset.loc[crashes_subset['CRASH_RECORD_ID'] == last_id]"
   ]
  },
  {
   "cell_type": "code",
   "execution_count": 252,
   "metadata": {},
   "outputs": [
    {
     "data": {
      "text/html": [
       "<div>\n",
       "<style scoped>\n",
       "    .dataframe tbody tr th:only-of-type {\n",
       "        vertical-align: middle;\n",
       "    }\n",
       "\n",
       "    .dataframe tbody tr th {\n",
       "        vertical-align: top;\n",
       "    }\n",
       "\n",
       "    .dataframe thead th {\n",
       "        text-align: right;\n",
       "    }\n",
       "</style>\n",
       "<table border=\"1\" class=\"dataframe\">\n",
       "  <thead>\n",
       "    <tr style=\"text-align: right;\">\n",
       "      <th></th>\n",
       "      <th>PERSON_ID</th>\n",
       "      <th>PERSON_TYPE</th>\n",
       "      <th>CRASH_RECORD_ID</th>\n",
       "      <th>VEHICLE_ID</th>\n",
       "      <th>CRASH_DATE</th>\n",
       "      <th>CITY</th>\n",
       "      <th>STATE</th>\n",
       "      <th>ZIPCODE</th>\n",
       "      <th>SEX</th>\n",
       "      <th>AGE</th>\n",
       "      <th>DRIVERS_LICENSE_STATE</th>\n",
       "      <th>DRIVERS_LICENSE_CLASS</th>\n",
       "      <th>INJURY_CLASSIFICATION</th>\n",
       "      <th>DRIVER_ACTION</th>\n",
       "      <th>DRIVER_VISION</th>\n",
       "      <th>PHYSICAL_CONDITION</th>\n",
       "      <th>EJECTION/AIRBAG</th>\n",
       "      <th>SPEEDING</th>\n",
       "      <th>DRINKING</th>\n",
       "      <th>TELEPHONE</th>\n",
       "    </tr>\n",
       "  </thead>\n",
       "  <tbody>\n",
       "    <tr>\n",
       "      <th>59874</th>\n",
       "      <td>O596295</td>\n",
       "      <td>DRIVER</td>\n",
       "      <td>67dd84a904e46800b722c9f368de8b3e634864ff30099a...</td>\n",
       "      <td>568401.0</td>\n",
       "      <td>2019-03-04 05:00:00</td>\n",
       "      <td>CHICAGO</td>\n",
       "      <td>IL</td>\n",
       "      <td>60639</td>\n",
       "      <td>1.0</td>\n",
       "      <td>42.0</td>\n",
       "      <td>IL</td>\n",
       "      <td>D</td>\n",
       "      <td>NO INDICATION OF INJURY</td>\n",
       "      <td>UNKNOWN</td>\n",
       "      <td>UNKNOWN</td>\n",
       "      <td>UNKNOWN</td>\n",
       "      <td>1.0</td>\n",
       "      <td>False</td>\n",
       "      <td>False</td>\n",
       "      <td>False</td>\n",
       "    </tr>\n",
       "    <tr>\n",
       "      <th>63366</th>\n",
       "      <td>O762263</td>\n",
       "      <td>DRIVER</td>\n",
       "      <td>67dd84a904e46800b722c9f368de8b3e634864ff30099a...</td>\n",
       "      <td>NaN</td>\n",
       "      <td>2019-03-04 18:40:00</td>\n",
       "      <td>CHICAGO</td>\n",
       "      <td>IL</td>\n",
       "      <td>60641</td>\n",
       "      <td>1.0</td>\n",
       "      <td>26.0</td>\n",
       "      <td>IL</td>\n",
       "      <td>D</td>\n",
       "      <td>NO INDICATION OF INJURY</td>\n",
       "      <td>UNKNOWN</td>\n",
       "      <td>NOT OBSCURED</td>\n",
       "      <td>NORMAL</td>\n",
       "      <td>0.0</td>\n",
       "      <td>False</td>\n",
       "      <td>False</td>\n",
       "      <td>False</td>\n",
       "    </tr>\n",
       "    <tr>\n",
       "      <th>63367</th>\n",
       "      <td>O762264</td>\n",
       "      <td>DRIVER</td>\n",
       "      <td>67dd84a904e46800b722c9f368de8b3e634864ff30099a...</td>\n",
       "      <td>NaN</td>\n",
       "      <td>2019-03-04 18:40:00</td>\n",
       "      <td>CHICAGO</td>\n",
       "      <td>IL</td>\n",
       "      <td>60647</td>\n",
       "      <td>1.0</td>\n",
       "      <td>36.0</td>\n",
       "      <td>IL</td>\n",
       "      <td>DM</td>\n",
       "      <td>NO INDICATION OF INJURY</td>\n",
       "      <td>NONE</td>\n",
       "      <td>NOT OBSCURED</td>\n",
       "      <td>NORMAL</td>\n",
       "      <td>0.0</td>\n",
       "      <td>False</td>\n",
       "      <td>False</td>\n",
       "      <td>False</td>\n",
       "    </tr>\n",
       "  </tbody>\n",
       "</table>\n",
       "</div>"
      ],
      "text/plain": [
       "      PERSON_ID PERSON_TYPE  \\\n",
       "59874   O596295      DRIVER   \n",
       "63366   O762263      DRIVER   \n",
       "63367   O762264      DRIVER   \n",
       "\n",
       "                                         CRASH_RECORD_ID  VEHICLE_ID  \\\n",
       "59874  67dd84a904e46800b722c9f368de8b3e634864ff30099a...    568401.0   \n",
       "63366  67dd84a904e46800b722c9f368de8b3e634864ff30099a...         NaN   \n",
       "63367  67dd84a904e46800b722c9f368de8b3e634864ff30099a...         NaN   \n",
       "\n",
       "                CRASH_DATE     CITY STATE ZIPCODE  SEX   AGE  \\\n",
       "59874  2019-03-04 05:00:00  CHICAGO    IL   60639  1.0  42.0   \n",
       "63366  2019-03-04 18:40:00  CHICAGO    IL   60641  1.0  26.0   \n",
       "63367  2019-03-04 18:40:00  CHICAGO    IL   60647  1.0  36.0   \n",
       "\n",
       "      DRIVERS_LICENSE_STATE DRIVERS_LICENSE_CLASS    INJURY_CLASSIFICATION  \\\n",
       "59874                    IL                     D  NO INDICATION OF INJURY   \n",
       "63366                    IL                     D  NO INDICATION OF INJURY   \n",
       "63367                    IL                    DM  NO INDICATION OF INJURY   \n",
       "\n",
       "      DRIVER_ACTION DRIVER_VISION PHYSICAL_CONDITION  EJECTION/AIRBAG  \\\n",
       "59874       UNKNOWN       UNKNOWN            UNKNOWN              1.0   \n",
       "63366       UNKNOWN  NOT OBSCURED             NORMAL              0.0   \n",
       "63367          NONE  NOT OBSCURED             NORMAL              0.0   \n",
       "\n",
       "       SPEEDING  DRINKING  TELEPHONE  \n",
       "59874     False     False      False  \n",
       "63366     False     False      False  \n",
       "63367     False     False      False  "
      ]
     },
     "execution_count": 252,
     "metadata": {},
     "output_type": "execute_result"
    }
   ],
   "source": [
    "people_subset[people_subset['CRASH_RECORD_ID'] == last_id]"
   ]
  },
  {
   "cell_type": "markdown",
   "metadata": {},
   "source": [
    "----"
   ]
  },
  {
   "cell_type": "markdown",
   "metadata": {},
   "source": [
    "## Quasi-Identifier for people"
   ]
  },
  {
   "cell_type": "code",
   "execution_count": 253,
   "metadata": {},
   "outputs": [],
   "source": [
    "# define a quasi-id for each person\n",
    "\n",
    "columns_to_identify_people = ['CRASH_DATE', 'CITY', 'STATE', 'ZIPCODE', 'SEX', 'AGE', 'DRIVERS_LICENSE_STATE', 'DRIVERS_LICENSE_CLASS']"
   ]
  },
  {
   "cell_type": "code",
   "execution_count": 254,
   "metadata": {},
   "outputs": [
    {
     "name": "stdout",
     "output_type": "stream",
     "text": [
      "<class 'pandas.core.frame.DataFrame'>\n",
      "RangeIndex: 1291896 entries, 0 to 1291895\n",
      "Data columns (total 20 columns):\n",
      " #   Column                 Non-Null Count    Dtype  \n",
      "---  ------                 --------------    -----  \n",
      " 0   PERSON_ID              1291896 non-null  object \n",
      " 1   PERSON_TYPE            1291896 non-null  object \n",
      " 2   CRASH_RECORD_ID        1291896 non-null  object \n",
      " 3   VEHICLE_ID             1291234 non-null  float64\n",
      " 4   CRASH_DATE             1291896 non-null  object \n",
      " 5   CITY                   975635 non-null   object \n",
      " 6   STATE                  964496 non-null   object \n",
      " 7   ZIPCODE                914326 non-null   object \n",
      " 8   SEX                    1291896 non-null  float64\n",
      " 9   AGE                    934203 non-null   float64\n",
      " 10  DRIVERS_LICENSE_STATE  971342 non-null   object \n",
      " 11  DRIVERS_LICENSE_CLASS  794025 non-null   object \n",
      " 12  INJURY_CLASSIFICATION  1291896 non-null  object \n",
      " 13  DRIVER_ACTION          1291896 non-null  object \n",
      " 14  DRIVER_VISION          1291896 non-null  object \n",
      " 15  PHYSICAL_CONDITION     1291896 non-null  object \n",
      " 16  EJECTION/AIRBAG        1291304 non-null  float64\n",
      " 17  SPEEDING               1291896 non-null  bool   \n",
      " 18  DRINKING               1291896 non-null  bool   \n",
      " 19  TELEPHONE              1291896 non-null  bool   \n",
      "dtypes: bool(3), float64(4), object(13)\n",
      "memory usage: 171.3+ MB\n"
     ]
    }
   ],
   "source": [
    "people.info()"
   ]
  },
  {
   "cell_type": "code",
   "execution_count": 255,
   "metadata": {},
   "outputs": [],
   "source": [
    "duplicate_check = people.groupby(columns_to_identify_people)['PERSON_ID'].nunique().reset_index()\n"
   ]
  },
  {
   "cell_type": "code",
   "execution_count": 256,
   "metadata": {},
   "outputs": [
    {
     "data": {
      "text/html": [
       "<div>\n",
       "<style scoped>\n",
       "    .dataframe tbody tr th:only-of-type {\n",
       "        vertical-align: middle;\n",
       "    }\n",
       "\n",
       "    .dataframe tbody tr th {\n",
       "        vertical-align: top;\n",
       "    }\n",
       "\n",
       "    .dataframe thead th {\n",
       "        text-align: right;\n",
       "    }\n",
       "</style>\n",
       "<table border=\"1\" class=\"dataframe\">\n",
       "  <thead>\n",
       "    <tr style=\"text-align: right;\">\n",
       "      <th></th>\n",
       "      <th>CRASH_DATE</th>\n",
       "      <th>CITY</th>\n",
       "      <th>STATE</th>\n",
       "      <th>ZIPCODE</th>\n",
       "      <th>SEX</th>\n",
       "      <th>AGE</th>\n",
       "      <th>DRIVERS_LICENSE_STATE</th>\n",
       "      <th>DRIVERS_LICENSE_CLASS</th>\n",
       "      <th>PERSON_ID</th>\n",
       "    </tr>\n",
       "  </thead>\n",
       "  <tbody>\n",
       "    <tr>\n",
       "      <th>1280</th>\n",
       "      <td>2018-01-04 07:45:00</td>\n",
       "      <td>CHICAGO</td>\n",
       "      <td>IL</td>\n",
       "      <td>60651</td>\n",
       "      <td>0.0</td>\n",
       "      <td>27.0</td>\n",
       "      <td>IL</td>\n",
       "      <td>D</td>\n",
       "      <td>2</td>\n",
       "    </tr>\n",
       "    <tr>\n",
       "      <th>2090</th>\n",
       "      <td>2018-01-06 08:45:00</td>\n",
       "      <td>CHICAGO</td>\n",
       "      <td>IL</td>\n",
       "      <td>60621</td>\n",
       "      <td>1.0</td>\n",
       "      <td>59.0</td>\n",
       "      <td>IL</td>\n",
       "      <td>D</td>\n",
       "      <td>2</td>\n",
       "    </tr>\n",
       "    <tr>\n",
       "      <th>2178</th>\n",
       "      <td>2018-01-06 12:30:00</td>\n",
       "      <td>CHICAGO</td>\n",
       "      <td>IL</td>\n",
       "      <td>60619</td>\n",
       "      <td>0.0</td>\n",
       "      <td>59.0</td>\n",
       "      <td>IL</td>\n",
       "      <td>D</td>\n",
       "      <td>2</td>\n",
       "    </tr>\n",
       "    <tr>\n",
       "      <th>2865</th>\n",
       "      <td>2018-01-08 18:00:00</td>\n",
       "      <td>CHICAGO</td>\n",
       "      <td>IL</td>\n",
       "      <td>60622</td>\n",
       "      <td>1.0</td>\n",
       "      <td>19.0</td>\n",
       "      <td>IL</td>\n",
       "      <td>D</td>\n",
       "      <td>2</td>\n",
       "    </tr>\n",
       "    <tr>\n",
       "      <th>2947</th>\n",
       "      <td>2018-01-09 08:10:00</td>\n",
       "      <td>CHICAGO</td>\n",
       "      <td>IL</td>\n",
       "      <td>60636</td>\n",
       "      <td>0.0</td>\n",
       "      <td>58.0</td>\n",
       "      <td>IL</td>\n",
       "      <td>B</td>\n",
       "      <td>3</td>\n",
       "    </tr>\n",
       "  </tbody>\n",
       "</table>\n",
       "</div>"
      ],
      "text/plain": [
       "               CRASH_DATE     CITY STATE ZIPCODE  SEX   AGE  \\\n",
       "1280  2018-01-04 07:45:00  CHICAGO    IL   60651  0.0  27.0   \n",
       "2090  2018-01-06 08:45:00  CHICAGO    IL   60621  1.0  59.0   \n",
       "2178  2018-01-06 12:30:00  CHICAGO    IL   60619  0.0  59.0   \n",
       "2865  2018-01-08 18:00:00  CHICAGO    IL   60622  1.0  19.0   \n",
       "2947  2018-01-09 08:10:00  CHICAGO    IL   60636  0.0  58.0   \n",
       "\n",
       "     DRIVERS_LICENSE_STATE DRIVERS_LICENSE_CLASS  PERSON_ID  \n",
       "1280                    IL                     D          2  \n",
       "2090                    IL                     D          2  \n",
       "2178                    IL                     D          2  \n",
       "2865                    IL                     D          2  \n",
       "2947                    IL                     B          3  "
      ]
     },
     "execution_count": 256,
     "metadata": {},
     "output_type": "execute_result"
    }
   ],
   "source": [
    "potential_duplicates = duplicate_check[duplicate_check['PERSON_ID'] > 1]\n",
    "potential_duplicates.head()"
   ]
  },
  {
   "cell_type": "code",
   "execution_count": 257,
   "metadata": {},
   "outputs": [
    {
     "data": {
      "text/plain": [
       "2790"
      ]
     },
     "execution_count": 257,
     "metadata": {},
     "output_type": "execute_result"
    }
   ],
   "source": [
    "len(potential_duplicates)"
   ]
  },
  {
   "cell_type": "code",
   "execution_count": 258,
   "metadata": {},
   "outputs": [
    {
     "data": {
      "text/plain": [
       "1563"
      ]
     },
     "execution_count": 258,
     "metadata": {},
     "output_type": "execute_result"
    }
   ],
   "source": [
    "# now do the same for inconsistent_people\n",
    "duplicate_check_p = inconsistent_people.groupby(columns_to_identify_people)['PERSON_ID'].nunique().reset_index()\n",
    "\n",
    "potential_duplicates_p = duplicate_check_p[duplicate_check_p['PERSON_ID'] > 1]\n",
    "\n",
    "len(potential_duplicates_p)"
   ]
  },
  {
   "cell_type": "markdown",
   "metadata": {},
   "source": [
    "let's try to cancel the duplicate and check again in how many instances we have more drivers than vehicles"
   ]
  },
  {
   "cell_type": "code",
   "execution_count": 259,
   "metadata": {},
   "outputs": [
    {
     "name": "stdout",
     "output_type": "stream",
     "text": [
      "<class 'pandas.core.frame.DataFrame'>\n",
      "RangeIndex: 1291896 entries, 0 to 1291895\n",
      "Data columns (total 20 columns):\n",
      " #   Column                 Non-Null Count    Dtype  \n",
      "---  ------                 --------------    -----  \n",
      " 0   PERSON_ID              1291896 non-null  object \n",
      " 1   PERSON_TYPE            1291896 non-null  object \n",
      " 2   CRASH_RECORD_ID        1291896 non-null  object \n",
      " 3   VEHICLE_ID             1291234 non-null  float64\n",
      " 4   CRASH_DATE             1291896 non-null  object \n",
      " 5   CITY                   975635 non-null   object \n",
      " 6   STATE                  964496 non-null   object \n",
      " 7   ZIPCODE                914326 non-null   object \n",
      " 8   SEX                    1291896 non-null  float64\n",
      " 9   AGE                    934203 non-null   float64\n",
      " 10  DRIVERS_LICENSE_STATE  971342 non-null   object \n",
      " 11  DRIVERS_LICENSE_CLASS  794025 non-null   object \n",
      " 12  INJURY_CLASSIFICATION  1291896 non-null  object \n",
      " 13  DRIVER_ACTION          1291896 non-null  object \n",
      " 14  DRIVER_VISION          1291896 non-null  object \n",
      " 15  PHYSICAL_CONDITION     1291896 non-null  object \n",
      " 16  EJECTION/AIRBAG        1291304 non-null  float64\n",
      " 17  SPEEDING               1291896 non-null  bool   \n",
      " 18  DRINKING               1291896 non-null  bool   \n",
      " 19  TELEPHONE              1291896 non-null  bool   \n",
      "dtypes: bool(3), float64(4), object(13)\n",
      "memory usage: 171.3+ MB\n"
     ]
    }
   ],
   "source": [
    "people.info()"
   ]
  },
  {
   "cell_type": "code",
   "execution_count": 260,
   "metadata": {},
   "outputs": [],
   "source": [
    "people_no_duplicates = people.drop_duplicates(subset=columns_to_identify_people)"
   ]
  },
  {
   "cell_type": "code",
   "execution_count": 261,
   "metadata": {},
   "outputs": [
    {
     "name": "stdout",
     "output_type": "stream",
     "text": [
      "<class 'pandas.core.frame.DataFrame'>\n",
      "Index: 1255610 entries, 0 to 1291895\n",
      "Data columns (total 20 columns):\n",
      " #   Column                 Non-Null Count    Dtype  \n",
      "---  ------                 --------------    -----  \n",
      " 0   PERSON_ID              1255610 non-null  object \n",
      " 1   PERSON_TYPE            1255610 non-null  object \n",
      " 2   CRASH_RECORD_ID        1255610 non-null  object \n",
      " 3   VEHICLE_ID             1255135 non-null  float64\n",
      " 4   CRASH_DATE             1255610 non-null  object \n",
      " 5   CITY                   971334 non-null   object \n",
      " 6   STATE                  960247 non-null   object \n",
      " 7   ZIPCODE                910651 non-null   object \n",
      " 8   SEX                    1255610 non-null  float64\n",
      " 9   AGE                    930631 non-null   float64\n",
      " 10  DRIVERS_LICENSE_STATE  966075 non-null   object \n",
      " 11  DRIVERS_LICENSE_CLASS  790459 non-null   object \n",
      " 12  INJURY_CLASSIFICATION  1255610 non-null  object \n",
      " 13  DRIVER_ACTION          1255610 non-null  object \n",
      " 14  DRIVER_VISION          1255610 non-null  object \n",
      " 15  PHYSICAL_CONDITION     1255610 non-null  object \n",
      " 16  EJECTION/AIRBAG        1255021 non-null  float64\n",
      " 17  SPEEDING               1255610 non-null  bool   \n",
      " 18  DRINKING               1255610 non-null  bool   \n",
      " 19  TELEPHONE              1255610 non-null  bool   \n",
      "dtypes: bool(3), float64(4), object(13)\n",
      "memory usage: 176.0+ MB\n"
     ]
    }
   ],
   "source": [
    "people_no_duplicates.info()"
   ]
  },
  {
   "cell_type": "code",
   "execution_count": 262,
   "metadata": {},
   "outputs": [],
   "source": [
    "drivers_per_crash = people_no_duplicates.groupby('CRASH_RECORD_ID').size().reset_index(name='DRIVER_COUNT')\n"
   ]
  },
  {
   "cell_type": "code",
   "execution_count": 263,
   "metadata": {},
   "outputs": [
    {
     "data": {
      "text/html": [
       "<div>\n",
       "<style scoped>\n",
       "    .dataframe tbody tr th:only-of-type {\n",
       "        vertical-align: middle;\n",
       "    }\n",
       "\n",
       "    .dataframe tbody tr th {\n",
       "        vertical-align: top;\n",
       "    }\n",
       "\n",
       "    .dataframe thead th {\n",
       "        text-align: right;\n",
       "    }\n",
       "</style>\n",
       "<table border=\"1\" class=\"dataframe\">\n",
       "  <thead>\n",
       "    <tr style=\"text-align: right;\">\n",
       "      <th></th>\n",
       "      <th>CRASH_RECORD_ID</th>\n",
       "      <th>DRIVER_COUNT</th>\n",
       "    </tr>\n",
       "  </thead>\n",
       "  <tbody>\n",
       "    <tr>\n",
       "      <th>201611</th>\n",
       "      <td>45ef99d6739c22de4260bc091e70dd495a1fd4d57557f5...</td>\n",
       "      <td>11</td>\n",
       "    </tr>\n",
       "    <tr>\n",
       "      <th>619359</th>\n",
       "      <td>d71effb95c9fa25c60c5f5b5d925de5e79bb5ba483d84e...</td>\n",
       "      <td>10</td>\n",
       "    </tr>\n",
       "    <tr>\n",
       "      <th>72889</th>\n",
       "      <td>196e0d42ec2dd3c503f98ad28d08067091e9801170ce6b...</td>\n",
       "      <td>9</td>\n",
       "    </tr>\n",
       "    <tr>\n",
       "      <th>465359</th>\n",
       "      <td>a19b95007379ac8f209cb6e74812f6dfb959bf12f658df...</td>\n",
       "      <td>9</td>\n",
       "    </tr>\n",
       "    <tr>\n",
       "      <th>99430</th>\n",
       "      <td>2294d7387552dd1804e1eddde6b4ce561209f90ede1fb9...</td>\n",
       "      <td>9</td>\n",
       "    </tr>\n",
       "  </tbody>\n",
       "</table>\n",
       "</div>"
      ],
      "text/plain": [
       "                                          CRASH_RECORD_ID  DRIVER_COUNT\n",
       "201611  45ef99d6739c22de4260bc091e70dd495a1fd4d57557f5...            11\n",
       "619359  d71effb95c9fa25c60c5f5b5d925de5e79bb5ba483d84e...            10\n",
       "72889   196e0d42ec2dd3c503f98ad28d08067091e9801170ce6b...             9\n",
       "465359  a19b95007379ac8f209cb6e74812f6dfb959bf12f658df...             9\n",
       "99430   2294d7387552dd1804e1eddde6b4ce561209f90ede1fb9...             9"
      ]
     },
     "execution_count": 263,
     "metadata": {},
     "output_type": "execute_result"
    }
   ],
   "source": [
    "drivers_per_crash_sorted = drivers_per_crash.sort_values(by='DRIVER_COUNT', ascending=False)\n",
    "drivers_per_crash_sorted.head()"
   ]
  },
  {
   "cell_type": "code",
   "execution_count": 264,
   "metadata": {},
   "outputs": [],
   "source": [
    "crash_driver_comparison = crashes[['CRASH_RECORD_ID', 'NUM_UNITS']].merge(drivers_per_crash, on='CRASH_RECORD_ID', how='left')"
   ]
  },
  {
   "cell_type": "code",
   "execution_count": 265,
   "metadata": {},
   "outputs": [],
   "source": [
    "inconsistent_crashes = crash_driver_comparison[crash_driver_comparison['NUM_UNITS'] < crash_driver_comparison['DRIVER_COUNT']]\n"
   ]
  },
  {
   "cell_type": "code",
   "execution_count": 266,
   "metadata": {},
   "outputs": [
    {
     "name": "stdout",
     "output_type": "stream",
     "text": [
      "Total crashes with mismatched vehicle-driver count: 325\n",
      "Mismatch Rate: 0.04%\n"
     ]
    }
   ],
   "source": [
    "print(f\"Total crashes with mismatched vehicle-driver count: {inconsistent_crashes.shape[0]}\")\n",
    "\n",
    "# Percentage of mismatches\n",
    "mismatch_rate = inconsistent_crashes.shape[0] / crash_driver_comparison.shape[0] * 100\n",
    "print(f\"Mismatch Rate: {mismatch_rate:.2f}%\")"
   ]
  },
  {
   "cell_type": "code",
   "execution_count": 267,
   "metadata": {},
   "outputs": [],
   "source": [
    "# list of the crash record IDs with mismatched vehicle-driver count\n",
    "inconsistent_crash_ids = inconsistent_crashes['CRASH_RECORD_ID'].tolist()\n",
    "\n",
    "# subset of the data with only the inconsistent crash records\n",
    "crashes_subset = crashes[crashes['CRASH_RECORD_ID'].isin(inconsistent_crash_ids)]\n",
    "people_subset = people[people['CRASH_RECORD_ID'].isin(inconsistent_crash_ids)]"
   ]
  },
  {
   "cell_type": "code",
   "execution_count": 268,
   "metadata": {},
   "outputs": [
    {
     "data": {
      "text/html": [
       "<div>\n",
       "<style scoped>\n",
       "    .dataframe tbody tr th:only-of-type {\n",
       "        vertical-align: middle;\n",
       "    }\n",
       "\n",
       "    .dataframe tbody tr th {\n",
       "        vertical-align: top;\n",
       "    }\n",
       "\n",
       "    .dataframe thead th {\n",
       "        text-align: right;\n",
       "    }\n",
       "</style>\n",
       "<table border=\"1\" class=\"dataframe\">\n",
       "  <thead>\n",
       "    <tr style=\"text-align: right;\">\n",
       "      <th></th>\n",
       "      <th>CRASH_RECORD_ID</th>\n",
       "      <th>CRASH_DATE</th>\n",
       "      <th>POSTED_SPEED_LIMIT</th>\n",
       "      <th>WEATHER_SEVERITY</th>\n",
       "      <th>LIGHTING_SEVERITY</th>\n",
       "      <th>FIRST_CRASH_TYPE</th>\n",
       "      <th>TRAFFICWAY_TYPE</th>\n",
       "      <th>ALIGNMENT</th>\n",
       "      <th>ROADWAY_SEVERITY</th>\n",
       "      <th>CRASH_TYPE</th>\n",
       "      <th>DAMAGE_SEVERITY</th>\n",
       "      <th>PRIM_CONTRIBUTORY_CAUSE</th>\n",
       "      <th>SEC_CONTRIBUTORY_CAUSE</th>\n",
       "      <th>BEAT_OF_OCCURRENCE</th>\n",
       "      <th>STREET_NO</th>\n",
       "      <th>STREET_DIRECTION</th>\n",
       "      <th>STREET_NAME</th>\n",
       "      <th>LATITUDE</th>\n",
       "      <th>LONGITUDE</th>\n",
       "      <th>NUM_UNITS</th>\n",
       "      <th>MOST_SEVERE_INJURY</th>\n",
       "      <th>INJURIES_TOTAL</th>\n",
       "      <th>INJURIES_FATAL</th>\n",
       "      <th>INJURIES_INCAPACITATING</th>\n",
       "      <th>INJURIES_NON_INCAPACITATING</th>\n",
       "      <th>INJURIES_REPORTED_NOT_EVIDENT</th>\n",
       "      <th>WEATHER_CATEGORY_CLEAR</th>\n",
       "      <th>WEATHER_CATEGORY_CLOUDY</th>\n",
       "      <th>WEATHER_CATEGORY_RAIN</th>\n",
       "      <th>WEATHER_CATEGORY_EXTREME</th>\n",
       "      <th>WEATHER_CATEGORY_UNKNOWN</th>\n",
       "      <th>LIGHTING_CATEGORY_DAYLIGHT</th>\n",
       "      <th>LIGHTING_CATEGORY_NIGHT</th>\n",
       "      <th>LIGHTING_CATEGORY_UNKNOWN</th>\n",
       "      <th>ROADWAY_SURFACE_CATEGORY_DRY</th>\n",
       "      <th>ROADWAY_SURFACE_CATEGORY_WET</th>\n",
       "      <th>ROADWAY_SURFACE_CATEGORY_SNOW</th>\n",
       "      <th>ROADWAY_SURFACE_CATEGORY_ICE</th>\n",
       "      <th>ROADWAY_SURFACE_CATEGORY_UNKNOWN</th>\n",
       "      <th>ROAD_DEFECT_CATEGORY_NO_DEFECTS</th>\n",
       "      <th>ROAD_DEFECT_CATEGORY_BAD</th>\n",
       "      <th>ROAD_DEFECT_CATEGORY_DEFECT</th>\n",
       "      <th>ROAD_DEFECT_CATEGORY_DEBRIS</th>\n",
       "      <th>ROAD_DEFECT_CATEGORY_UNKNOWN</th>\n",
       "      <th>DAMAGE_CATEGORY_HIGH</th>\n",
       "      <th>DAMAGE_CATEGORY_LOW</th>\n",
       "      <th>DAMAGE_CATEGORY_MEDIUM</th>\n",
       "      <th>crash_severity_score</th>\n",
       "      <th>responsibility_score</th>\n",
       "      <th>CRASH_TYPE_b</th>\n",
       "      <th>TOW</th>\n",
       "      <th>SPEEDING</th>\n",
       "      <th>DRINKING</th>\n",
       "      <th>TELEPHONE</th>\n",
       "    </tr>\n",
       "  </thead>\n",
       "  <tbody>\n",
       "    <tr>\n",
       "      <th>713970</th>\n",
       "      <td>8e5e9ec078b5de00d9a5831ec28815ddbb2b9bd43856d6...</td>\n",
       "      <td>2020-03-20 09:20:00</td>\n",
       "      <td>30</td>\n",
       "      <td>0</td>\n",
       "      <td>0</td>\n",
       "      <td>REAR END</td>\n",
       "      <td>NOT DIVIDED</td>\n",
       "      <td>STRAIGHT AND LEVEL</td>\n",
       "      <td>0</td>\n",
       "      <td>NO INJURY / DRIVE AWAY</td>\n",
       "      <td>1</td>\n",
       "      <td>NOT APPLICABLE</td>\n",
       "      <td>NOT APPLICABLE</td>\n",
       "      <td>1033.0</td>\n",
       "      <td>2200</td>\n",
       "      <td>S</td>\n",
       "      <td>CALIFORNIA AVE</td>\n",
       "      <td>41.851854</td>\n",
       "      <td>-87.695591</td>\n",
       "      <td>2</td>\n",
       "      <td>NO INDICATION OF INJURY</td>\n",
       "      <td>0.0</td>\n",
       "      <td>0.0</td>\n",
       "      <td>0.0</td>\n",
       "      <td>0.0</td>\n",
       "      <td>0.0</td>\n",
       "      <td>True</td>\n",
       "      <td>False</td>\n",
       "      <td>False</td>\n",
       "      <td>False</td>\n",
       "      <td>False</td>\n",
       "      <td>True</td>\n",
       "      <td>False</td>\n",
       "      <td>False</td>\n",
       "      <td>True</td>\n",
       "      <td>False</td>\n",
       "      <td>False</td>\n",
       "      <td>False</td>\n",
       "      <td>False</td>\n",
       "      <td>True</td>\n",
       "      <td>False</td>\n",
       "      <td>False</td>\n",
       "      <td>False</td>\n",
       "      <td>False</td>\n",
       "      <td>False</td>\n",
       "      <td>False</td>\n",
       "      <td>True</td>\n",
       "      <td>0.023343</td>\n",
       "      <td>-1.0</td>\n",
       "      <td>0</td>\n",
       "      <td>0</td>\n",
       "      <td>False</td>\n",
       "      <td>False</td>\n",
       "      <td>False</td>\n",
       "    </tr>\n",
       "    <tr>\n",
       "      <th>714013</th>\n",
       "      <td>b447747b75012261346e71cead9a4fdab835b2defcb439...</td>\n",
       "      <td>2019-10-06 11:30:00</td>\n",
       "      <td>15</td>\n",
       "      <td>0</td>\n",
       "      <td>0</td>\n",
       "      <td>ANGLE</td>\n",
       "      <td>OTHER</td>\n",
       "      <td>STRAIGHT AND LEVEL</td>\n",
       "      <td>0</td>\n",
       "      <td>NO INJURY / DRIVE AWAY</td>\n",
       "      <td>1</td>\n",
       "      <td>IMPROPER BACKING</td>\n",
       "      <td>FAILING TO REDUCE SPEED TO AVOID CRASH</td>\n",
       "      <td>2512.0</td>\n",
       "      <td>2333</td>\n",
       "      <td>N</td>\n",
       "      <td>NEVA AVE</td>\n",
       "      <td>41.922128</td>\n",
       "      <td>-87.804211</td>\n",
       "      <td>2</td>\n",
       "      <td>NO INDICATION OF INJURY</td>\n",
       "      <td>0.0</td>\n",
       "      <td>0.0</td>\n",
       "      <td>0.0</td>\n",
       "      <td>0.0</td>\n",
       "      <td>0.0</td>\n",
       "      <td>True</td>\n",
       "      <td>False</td>\n",
       "      <td>False</td>\n",
       "      <td>False</td>\n",
       "      <td>False</td>\n",
       "      <td>True</td>\n",
       "      <td>False</td>\n",
       "      <td>False</td>\n",
       "      <td>True</td>\n",
       "      <td>False</td>\n",
       "      <td>False</td>\n",
       "      <td>False</td>\n",
       "      <td>False</td>\n",
       "      <td>True</td>\n",
       "      <td>False</td>\n",
       "      <td>False</td>\n",
       "      <td>False</td>\n",
       "      <td>False</td>\n",
       "      <td>False</td>\n",
       "      <td>False</td>\n",
       "      <td>True</td>\n",
       "      <td>0.078656</td>\n",
       "      <td>-1.0</td>\n",
       "      <td>0</td>\n",
       "      <td>0</td>\n",
       "      <td>True</td>\n",
       "      <td>False</td>\n",
       "      <td>False</td>\n",
       "    </tr>\n",
       "    <tr>\n",
       "      <th>714045</th>\n",
       "      <td>cc7f46f2d71b510c80d7791acbf87db10f533261bfda7f...</td>\n",
       "      <td>2023-09-16 17:50:00</td>\n",
       "      <td>30</td>\n",
       "      <td>0</td>\n",
       "      <td>0</td>\n",
       "      <td>ANGLE</td>\n",
       "      <td>FOUR WAY</td>\n",
       "      <td>STRAIGHT AND LEVEL</td>\n",
       "      <td>-1</td>\n",
       "      <td>NO INJURY / DRIVE AWAY</td>\n",
       "      <td>2</td>\n",
       "      <td>UNABLE TO DETERMINE</td>\n",
       "      <td>NOT APPLICABLE</td>\n",
       "      <td>1012.0</td>\n",
       "      <td>1600</td>\n",
       "      <td>S</td>\n",
       "      <td>KOSTNER AVE</td>\n",
       "      <td>41.858682</td>\n",
       "      <td>-87.734881</td>\n",
       "      <td>2</td>\n",
       "      <td>NO INDICATION OF INJURY</td>\n",
       "      <td>0.0</td>\n",
       "      <td>0.0</td>\n",
       "      <td>0.0</td>\n",
       "      <td>0.0</td>\n",
       "      <td>0.0</td>\n",
       "      <td>True</td>\n",
       "      <td>False</td>\n",
       "      <td>False</td>\n",
       "      <td>False</td>\n",
       "      <td>False</td>\n",
       "      <td>True</td>\n",
       "      <td>False</td>\n",
       "      <td>False</td>\n",
       "      <td>True</td>\n",
       "      <td>False</td>\n",
       "      <td>False</td>\n",
       "      <td>False</td>\n",
       "      <td>False</td>\n",
       "      <td>False</td>\n",
       "      <td>False</td>\n",
       "      <td>False</td>\n",
       "      <td>False</td>\n",
       "      <td>True</td>\n",
       "      <td>True</td>\n",
       "      <td>False</td>\n",
       "      <td>False</td>\n",
       "      <td>0.078656</td>\n",
       "      <td>-1.0</td>\n",
       "      <td>0</td>\n",
       "      <td>0</td>\n",
       "      <td>False</td>\n",
       "      <td>False</td>\n",
       "      <td>False</td>\n",
       "    </tr>\n",
       "    <tr>\n",
       "      <th>714106</th>\n",
       "      <td>54840d25b098da48ce9a495595bc975bb4cea8c2b70d47...</td>\n",
       "      <td>2023-06-18 21:20:00</td>\n",
       "      <td>30</td>\n",
       "      <td>0</td>\n",
       "      <td>2</td>\n",
       "      <td>TURNING</td>\n",
       "      <td>DIVIDED - W/MEDIAN (NOT RAISED)</td>\n",
       "      <td>STRAIGHT AND LEVEL</td>\n",
       "      <td>-1</td>\n",
       "      <td>NO INJURY / DRIVE AWAY</td>\n",
       "      <td>2</td>\n",
       "      <td>IMPROPER TURNING/NO SIGNAL</td>\n",
       "      <td>NOT APPLICABLE</td>\n",
       "      <td>2223.0</td>\n",
       "      <td>1141</td>\n",
       "      <td>W</td>\n",
       "      <td>99TH ST</td>\n",
       "      <td>41.714014</td>\n",
       "      <td>-87.651980</td>\n",
       "      <td>2</td>\n",
       "      <td>NO INDICATION OF INJURY</td>\n",
       "      <td>0.0</td>\n",
       "      <td>0.0</td>\n",
       "      <td>0.0</td>\n",
       "      <td>0.0</td>\n",
       "      <td>0.0</td>\n",
       "      <td>True</td>\n",
       "      <td>False</td>\n",
       "      <td>False</td>\n",
       "      <td>False</td>\n",
       "      <td>False</td>\n",
       "      <td>False</td>\n",
       "      <td>True</td>\n",
       "      <td>False</td>\n",
       "      <td>False</td>\n",
       "      <td>False</td>\n",
       "      <td>False</td>\n",
       "      <td>False</td>\n",
       "      <td>True</td>\n",
       "      <td>False</td>\n",
       "      <td>False</td>\n",
       "      <td>False</td>\n",
       "      <td>False</td>\n",
       "      <td>True</td>\n",
       "      <td>True</td>\n",
       "      <td>False</td>\n",
       "      <td>False</td>\n",
       "      <td>0.047310</td>\n",
       "      <td>0.6</td>\n",
       "      <td>0</td>\n",
       "      <td>0</td>\n",
       "      <td>False</td>\n",
       "      <td>False</td>\n",
       "      <td>False</td>\n",
       "    </tr>\n",
       "    <tr>\n",
       "      <th>715332</th>\n",
       "      <td>3845f34b6ef59519258bc690080c4c0fb9c5eef56e2410...</td>\n",
       "      <td>2023-07-05 12:55:00</td>\n",
       "      <td>30</td>\n",
       "      <td>0</td>\n",
       "      <td>0</td>\n",
       "      <td>REAR END</td>\n",
       "      <td>FOUR WAY</td>\n",
       "      <td>STRAIGHT AND LEVEL</td>\n",
       "      <td>0</td>\n",
       "      <td>INJURY AND / OR TOW DUE TO CRASH</td>\n",
       "      <td>2</td>\n",
       "      <td>FOLLOWING TOO CLOSELY</td>\n",
       "      <td>UNABLE TO DETERMINE</td>\n",
       "      <td>835.0</td>\n",
       "      <td>2734</td>\n",
       "      <td>W</td>\n",
       "      <td>87TH ST</td>\n",
       "      <td>41.735492</td>\n",
       "      <td>-87.691071</td>\n",
       "      <td>3</td>\n",
       "      <td>REPORTED, NOT EVIDENT</td>\n",
       "      <td>3.0</td>\n",
       "      <td>0.0</td>\n",
       "      <td>0.0</td>\n",
       "      <td>0.0</td>\n",
       "      <td>3.0</td>\n",
       "      <td>True</td>\n",
       "      <td>False</td>\n",
       "      <td>False</td>\n",
       "      <td>False</td>\n",
       "      <td>False</td>\n",
       "      <td>True</td>\n",
       "      <td>False</td>\n",
       "      <td>False</td>\n",
       "      <td>True</td>\n",
       "      <td>False</td>\n",
       "      <td>False</td>\n",
       "      <td>False</td>\n",
       "      <td>False</td>\n",
       "      <td>True</td>\n",
       "      <td>False</td>\n",
       "      <td>False</td>\n",
       "      <td>False</td>\n",
       "      <td>False</td>\n",
       "      <td>True</td>\n",
       "      <td>False</td>\n",
       "      <td>False</td>\n",
       "      <td>0.023343</td>\n",
       "      <td>0.6</td>\n",
       "      <td>1</td>\n",
       "      <td>0</td>\n",
       "      <td>False</td>\n",
       "      <td>False</td>\n",
       "      <td>False</td>\n",
       "    </tr>\n",
       "  </tbody>\n",
       "</table>\n",
       "</div>"
      ],
      "text/plain": [
       "                                          CRASH_RECORD_ID  \\\n",
       "713970  8e5e9ec078b5de00d9a5831ec28815ddbb2b9bd43856d6...   \n",
       "714013  b447747b75012261346e71cead9a4fdab835b2defcb439...   \n",
       "714045  cc7f46f2d71b510c80d7791acbf87db10f533261bfda7f...   \n",
       "714106  54840d25b098da48ce9a495595bc975bb4cea8c2b70d47...   \n",
       "715332  3845f34b6ef59519258bc690080c4c0fb9c5eef56e2410...   \n",
       "\n",
       "                 CRASH_DATE  POSTED_SPEED_LIMIT  WEATHER_SEVERITY  \\\n",
       "713970  2020-03-20 09:20:00                  30                 0   \n",
       "714013  2019-10-06 11:30:00                  15                 0   \n",
       "714045  2023-09-16 17:50:00                  30                 0   \n",
       "714106  2023-06-18 21:20:00                  30                 0   \n",
       "715332  2023-07-05 12:55:00                  30                 0   \n",
       "\n",
       "        LIGHTING_SEVERITY FIRST_CRASH_TYPE                  TRAFFICWAY_TYPE  \\\n",
       "713970                  0         REAR END                      NOT DIVIDED   \n",
       "714013                  0            ANGLE                            OTHER   \n",
       "714045                  0            ANGLE                         FOUR WAY   \n",
       "714106                  2          TURNING  DIVIDED - W/MEDIAN (NOT RAISED)   \n",
       "715332                  0         REAR END                         FOUR WAY   \n",
       "\n",
       "                 ALIGNMENT  ROADWAY_SEVERITY  \\\n",
       "713970  STRAIGHT AND LEVEL                 0   \n",
       "714013  STRAIGHT AND LEVEL                 0   \n",
       "714045  STRAIGHT AND LEVEL                -1   \n",
       "714106  STRAIGHT AND LEVEL                -1   \n",
       "715332  STRAIGHT AND LEVEL                 0   \n",
       "\n",
       "                              CRASH_TYPE  DAMAGE_SEVERITY  \\\n",
       "713970            NO INJURY / DRIVE AWAY                1   \n",
       "714013            NO INJURY / DRIVE AWAY                1   \n",
       "714045            NO INJURY / DRIVE AWAY                2   \n",
       "714106            NO INJURY / DRIVE AWAY                2   \n",
       "715332  INJURY AND / OR TOW DUE TO CRASH                2   \n",
       "\n",
       "           PRIM_CONTRIBUTORY_CAUSE                  SEC_CONTRIBUTORY_CAUSE  \\\n",
       "713970              NOT APPLICABLE                          NOT APPLICABLE   \n",
       "714013            IMPROPER BACKING  FAILING TO REDUCE SPEED TO AVOID CRASH   \n",
       "714045         UNABLE TO DETERMINE                          NOT APPLICABLE   \n",
       "714106  IMPROPER TURNING/NO SIGNAL                          NOT APPLICABLE   \n",
       "715332       FOLLOWING TOO CLOSELY                     UNABLE TO DETERMINE   \n",
       "\n",
       "        BEAT_OF_OCCURRENCE  STREET_NO STREET_DIRECTION     STREET_NAME  \\\n",
       "713970              1033.0       2200                S  CALIFORNIA AVE   \n",
       "714013              2512.0       2333                N        NEVA AVE   \n",
       "714045              1012.0       1600                S     KOSTNER AVE   \n",
       "714106              2223.0       1141                W         99TH ST   \n",
       "715332               835.0       2734                W         87TH ST   \n",
       "\n",
       "         LATITUDE  LONGITUDE  NUM_UNITS       MOST_SEVERE_INJURY  \\\n",
       "713970  41.851854 -87.695591          2  NO INDICATION OF INJURY   \n",
       "714013  41.922128 -87.804211          2  NO INDICATION OF INJURY   \n",
       "714045  41.858682 -87.734881          2  NO INDICATION OF INJURY   \n",
       "714106  41.714014 -87.651980          2  NO INDICATION OF INJURY   \n",
       "715332  41.735492 -87.691071          3    REPORTED, NOT EVIDENT   \n",
       "\n",
       "        INJURIES_TOTAL  INJURIES_FATAL  INJURIES_INCAPACITATING  \\\n",
       "713970             0.0             0.0                      0.0   \n",
       "714013             0.0             0.0                      0.0   \n",
       "714045             0.0             0.0                      0.0   \n",
       "714106             0.0             0.0                      0.0   \n",
       "715332             3.0             0.0                      0.0   \n",
       "\n",
       "        INJURIES_NON_INCAPACITATING  INJURIES_REPORTED_NOT_EVIDENT  \\\n",
       "713970                          0.0                            0.0   \n",
       "714013                          0.0                            0.0   \n",
       "714045                          0.0                            0.0   \n",
       "714106                          0.0                            0.0   \n",
       "715332                          0.0                            3.0   \n",
       "\n",
       "        WEATHER_CATEGORY_CLEAR  WEATHER_CATEGORY_CLOUDY  \\\n",
       "713970                    True                    False   \n",
       "714013                    True                    False   \n",
       "714045                    True                    False   \n",
       "714106                    True                    False   \n",
       "715332                    True                    False   \n",
       "\n",
       "        WEATHER_CATEGORY_RAIN  WEATHER_CATEGORY_EXTREME  \\\n",
       "713970                  False                     False   \n",
       "714013                  False                     False   \n",
       "714045                  False                     False   \n",
       "714106                  False                     False   \n",
       "715332                  False                     False   \n",
       "\n",
       "        WEATHER_CATEGORY_UNKNOWN  LIGHTING_CATEGORY_DAYLIGHT  \\\n",
       "713970                     False                        True   \n",
       "714013                     False                        True   \n",
       "714045                     False                        True   \n",
       "714106                     False                       False   \n",
       "715332                     False                        True   \n",
       "\n",
       "        LIGHTING_CATEGORY_NIGHT  LIGHTING_CATEGORY_UNKNOWN  \\\n",
       "713970                    False                      False   \n",
       "714013                    False                      False   \n",
       "714045                    False                      False   \n",
       "714106                     True                      False   \n",
       "715332                    False                      False   \n",
       "\n",
       "        ROADWAY_SURFACE_CATEGORY_DRY  ROADWAY_SURFACE_CATEGORY_WET  \\\n",
       "713970                          True                         False   \n",
       "714013                          True                         False   \n",
       "714045                          True                         False   \n",
       "714106                         False                         False   \n",
       "715332                          True                         False   \n",
       "\n",
       "        ROADWAY_SURFACE_CATEGORY_SNOW  ROADWAY_SURFACE_CATEGORY_ICE  \\\n",
       "713970                          False                         False   \n",
       "714013                          False                         False   \n",
       "714045                          False                         False   \n",
       "714106                          False                         False   \n",
       "715332                          False                         False   \n",
       "\n",
       "        ROADWAY_SURFACE_CATEGORY_UNKNOWN  ROAD_DEFECT_CATEGORY_NO_DEFECTS  \\\n",
       "713970                             False                             True   \n",
       "714013                             False                             True   \n",
       "714045                             False                            False   \n",
       "714106                              True                            False   \n",
       "715332                             False                             True   \n",
       "\n",
       "        ROAD_DEFECT_CATEGORY_BAD  ROAD_DEFECT_CATEGORY_DEFECT  \\\n",
       "713970                     False                        False   \n",
       "714013                     False                        False   \n",
       "714045                     False                        False   \n",
       "714106                     False                        False   \n",
       "715332                     False                        False   \n",
       "\n",
       "        ROAD_DEFECT_CATEGORY_DEBRIS  ROAD_DEFECT_CATEGORY_UNKNOWN  \\\n",
       "713970                        False                         False   \n",
       "714013                        False                         False   \n",
       "714045                        False                          True   \n",
       "714106                        False                          True   \n",
       "715332                        False                         False   \n",
       "\n",
       "        DAMAGE_CATEGORY_HIGH  DAMAGE_CATEGORY_LOW  DAMAGE_CATEGORY_MEDIUM  \\\n",
       "713970                 False                False                    True   \n",
       "714013                 False                False                    True   \n",
       "714045                  True                False                   False   \n",
       "714106                  True                False                   False   \n",
       "715332                  True                False                   False   \n",
       "\n",
       "        crash_severity_score  responsibility_score  CRASH_TYPE_b  TOW  \\\n",
       "713970              0.023343                  -1.0             0    0   \n",
       "714013              0.078656                  -1.0             0    0   \n",
       "714045              0.078656                  -1.0             0    0   \n",
       "714106              0.047310                   0.6             0    0   \n",
       "715332              0.023343                   0.6             1    0   \n",
       "\n",
       "        SPEEDING  DRINKING  TELEPHONE  \n",
       "713970     False     False      False  \n",
       "714013      True     False      False  \n",
       "714045     False     False      False  \n",
       "714106     False     False      False  \n",
       "715332     False     False      False  "
      ]
     },
     "execution_count": 268,
     "metadata": {},
     "output_type": "execute_result"
    }
   ],
   "source": [
    "crashes_subset.head()"
   ]
  },
  {
   "cell_type": "code",
   "execution_count": 269,
   "metadata": {},
   "outputs": [],
   "source": [
    "first = crashes_subset['CRASH_RECORD_ID'].iloc[1]"
   ]
  },
  {
   "cell_type": "code",
   "execution_count": 270,
   "metadata": {},
   "outputs": [
    {
     "data": {
      "text/html": [
       "<div>\n",
       "<style scoped>\n",
       "    .dataframe tbody tr th:only-of-type {\n",
       "        vertical-align: middle;\n",
       "    }\n",
       "\n",
       "    .dataframe tbody tr th {\n",
       "        vertical-align: top;\n",
       "    }\n",
       "\n",
       "    .dataframe thead th {\n",
       "        text-align: right;\n",
       "    }\n",
       "</style>\n",
       "<table border=\"1\" class=\"dataframe\">\n",
       "  <thead>\n",
       "    <tr style=\"text-align: right;\">\n",
       "      <th></th>\n",
       "      <th>CRASH_RECORD_ID</th>\n",
       "      <th>CRASH_DATE</th>\n",
       "      <th>POSTED_SPEED_LIMIT</th>\n",
       "      <th>WEATHER_SEVERITY</th>\n",
       "      <th>LIGHTING_SEVERITY</th>\n",
       "      <th>FIRST_CRASH_TYPE</th>\n",
       "      <th>TRAFFICWAY_TYPE</th>\n",
       "      <th>ALIGNMENT</th>\n",
       "      <th>ROADWAY_SEVERITY</th>\n",
       "      <th>CRASH_TYPE</th>\n",
       "      <th>DAMAGE_SEVERITY</th>\n",
       "      <th>PRIM_CONTRIBUTORY_CAUSE</th>\n",
       "      <th>SEC_CONTRIBUTORY_CAUSE</th>\n",
       "      <th>BEAT_OF_OCCURRENCE</th>\n",
       "      <th>STREET_NO</th>\n",
       "      <th>STREET_DIRECTION</th>\n",
       "      <th>STREET_NAME</th>\n",
       "      <th>LATITUDE</th>\n",
       "      <th>LONGITUDE</th>\n",
       "      <th>NUM_UNITS</th>\n",
       "      <th>MOST_SEVERE_INJURY</th>\n",
       "      <th>INJURIES_TOTAL</th>\n",
       "      <th>INJURIES_FATAL</th>\n",
       "      <th>INJURIES_INCAPACITATING</th>\n",
       "      <th>INJURIES_NON_INCAPACITATING</th>\n",
       "      <th>INJURIES_REPORTED_NOT_EVIDENT</th>\n",
       "      <th>WEATHER_CATEGORY_CLEAR</th>\n",
       "      <th>WEATHER_CATEGORY_CLOUDY</th>\n",
       "      <th>WEATHER_CATEGORY_RAIN</th>\n",
       "      <th>WEATHER_CATEGORY_EXTREME</th>\n",
       "      <th>WEATHER_CATEGORY_UNKNOWN</th>\n",
       "      <th>LIGHTING_CATEGORY_DAYLIGHT</th>\n",
       "      <th>LIGHTING_CATEGORY_NIGHT</th>\n",
       "      <th>LIGHTING_CATEGORY_UNKNOWN</th>\n",
       "      <th>ROADWAY_SURFACE_CATEGORY_DRY</th>\n",
       "      <th>ROADWAY_SURFACE_CATEGORY_WET</th>\n",
       "      <th>ROADWAY_SURFACE_CATEGORY_SNOW</th>\n",
       "      <th>ROADWAY_SURFACE_CATEGORY_ICE</th>\n",
       "      <th>ROADWAY_SURFACE_CATEGORY_UNKNOWN</th>\n",
       "      <th>ROAD_DEFECT_CATEGORY_NO_DEFECTS</th>\n",
       "      <th>ROAD_DEFECT_CATEGORY_BAD</th>\n",
       "      <th>ROAD_DEFECT_CATEGORY_DEFECT</th>\n",
       "      <th>ROAD_DEFECT_CATEGORY_DEBRIS</th>\n",
       "      <th>ROAD_DEFECT_CATEGORY_UNKNOWN</th>\n",
       "      <th>DAMAGE_CATEGORY_HIGH</th>\n",
       "      <th>DAMAGE_CATEGORY_LOW</th>\n",
       "      <th>DAMAGE_CATEGORY_MEDIUM</th>\n",
       "      <th>crash_severity_score</th>\n",
       "      <th>responsibility_score</th>\n",
       "      <th>CRASH_TYPE_b</th>\n",
       "      <th>TOW</th>\n",
       "      <th>SPEEDING</th>\n",
       "      <th>DRINKING</th>\n",
       "      <th>TELEPHONE</th>\n",
       "    </tr>\n",
       "  </thead>\n",
       "  <tbody>\n",
       "    <tr>\n",
       "      <th>714013</th>\n",
       "      <td>b447747b75012261346e71cead9a4fdab835b2defcb439...</td>\n",
       "      <td>2019-10-06 11:30:00</td>\n",
       "      <td>15</td>\n",
       "      <td>0</td>\n",
       "      <td>0</td>\n",
       "      <td>ANGLE</td>\n",
       "      <td>OTHER</td>\n",
       "      <td>STRAIGHT AND LEVEL</td>\n",
       "      <td>0</td>\n",
       "      <td>NO INJURY / DRIVE AWAY</td>\n",
       "      <td>1</td>\n",
       "      <td>IMPROPER BACKING</td>\n",
       "      <td>FAILING TO REDUCE SPEED TO AVOID CRASH</td>\n",
       "      <td>2512.0</td>\n",
       "      <td>2333</td>\n",
       "      <td>N</td>\n",
       "      <td>NEVA AVE</td>\n",
       "      <td>41.922128</td>\n",
       "      <td>-87.804211</td>\n",
       "      <td>2</td>\n",
       "      <td>NO INDICATION OF INJURY</td>\n",
       "      <td>0.0</td>\n",
       "      <td>0.0</td>\n",
       "      <td>0.0</td>\n",
       "      <td>0.0</td>\n",
       "      <td>0.0</td>\n",
       "      <td>True</td>\n",
       "      <td>False</td>\n",
       "      <td>False</td>\n",
       "      <td>False</td>\n",
       "      <td>False</td>\n",
       "      <td>True</td>\n",
       "      <td>False</td>\n",
       "      <td>False</td>\n",
       "      <td>True</td>\n",
       "      <td>False</td>\n",
       "      <td>False</td>\n",
       "      <td>False</td>\n",
       "      <td>False</td>\n",
       "      <td>True</td>\n",
       "      <td>False</td>\n",
       "      <td>False</td>\n",
       "      <td>False</td>\n",
       "      <td>False</td>\n",
       "      <td>False</td>\n",
       "      <td>False</td>\n",
       "      <td>True</td>\n",
       "      <td>0.078656</td>\n",
       "      <td>-1.0</td>\n",
       "      <td>0</td>\n",
       "      <td>0</td>\n",
       "      <td>True</td>\n",
       "      <td>False</td>\n",
       "      <td>False</td>\n",
       "    </tr>\n",
       "  </tbody>\n",
       "</table>\n",
       "</div>"
      ],
      "text/plain": [
       "                                          CRASH_RECORD_ID  \\\n",
       "714013  b447747b75012261346e71cead9a4fdab835b2defcb439...   \n",
       "\n",
       "                 CRASH_DATE  POSTED_SPEED_LIMIT  WEATHER_SEVERITY  \\\n",
       "714013  2019-10-06 11:30:00                  15                 0   \n",
       "\n",
       "        LIGHTING_SEVERITY FIRST_CRASH_TYPE TRAFFICWAY_TYPE  \\\n",
       "714013                  0            ANGLE           OTHER   \n",
       "\n",
       "                 ALIGNMENT  ROADWAY_SEVERITY              CRASH_TYPE  \\\n",
       "714013  STRAIGHT AND LEVEL                 0  NO INJURY / DRIVE AWAY   \n",
       "\n",
       "        DAMAGE_SEVERITY PRIM_CONTRIBUTORY_CAUSE  \\\n",
       "714013                1        IMPROPER BACKING   \n",
       "\n",
       "                        SEC_CONTRIBUTORY_CAUSE  BEAT_OF_OCCURRENCE  STREET_NO  \\\n",
       "714013  FAILING TO REDUCE SPEED TO AVOID CRASH              2512.0       2333   \n",
       "\n",
       "       STREET_DIRECTION STREET_NAME   LATITUDE  LONGITUDE  NUM_UNITS  \\\n",
       "714013                N    NEVA AVE  41.922128 -87.804211          2   \n",
       "\n",
       "             MOST_SEVERE_INJURY  INJURIES_TOTAL  INJURIES_FATAL  \\\n",
       "714013  NO INDICATION OF INJURY             0.0             0.0   \n",
       "\n",
       "        INJURIES_INCAPACITATING  INJURIES_NON_INCAPACITATING  \\\n",
       "714013                      0.0                          0.0   \n",
       "\n",
       "        INJURIES_REPORTED_NOT_EVIDENT  WEATHER_CATEGORY_CLEAR  \\\n",
       "714013                            0.0                    True   \n",
       "\n",
       "        WEATHER_CATEGORY_CLOUDY  WEATHER_CATEGORY_RAIN  \\\n",
       "714013                    False                  False   \n",
       "\n",
       "        WEATHER_CATEGORY_EXTREME  WEATHER_CATEGORY_UNKNOWN  \\\n",
       "714013                     False                     False   \n",
       "\n",
       "        LIGHTING_CATEGORY_DAYLIGHT  LIGHTING_CATEGORY_NIGHT  \\\n",
       "714013                        True                    False   \n",
       "\n",
       "        LIGHTING_CATEGORY_UNKNOWN  ROADWAY_SURFACE_CATEGORY_DRY  \\\n",
       "714013                      False                          True   \n",
       "\n",
       "        ROADWAY_SURFACE_CATEGORY_WET  ROADWAY_SURFACE_CATEGORY_SNOW  \\\n",
       "714013                         False                          False   \n",
       "\n",
       "        ROADWAY_SURFACE_CATEGORY_ICE  ROADWAY_SURFACE_CATEGORY_UNKNOWN  \\\n",
       "714013                         False                             False   \n",
       "\n",
       "        ROAD_DEFECT_CATEGORY_NO_DEFECTS  ROAD_DEFECT_CATEGORY_BAD  \\\n",
       "714013                             True                     False   \n",
       "\n",
       "        ROAD_DEFECT_CATEGORY_DEFECT  ROAD_DEFECT_CATEGORY_DEBRIS  \\\n",
       "714013                        False                        False   \n",
       "\n",
       "        ROAD_DEFECT_CATEGORY_UNKNOWN  DAMAGE_CATEGORY_HIGH  \\\n",
       "714013                         False                 False   \n",
       "\n",
       "        DAMAGE_CATEGORY_LOW  DAMAGE_CATEGORY_MEDIUM  crash_severity_score  \\\n",
       "714013                False                    True              0.078656   \n",
       "\n",
       "        responsibility_score  CRASH_TYPE_b  TOW  SPEEDING  DRINKING  TELEPHONE  \n",
       "714013                  -1.0             0    0      True     False      False  "
      ]
     },
     "execution_count": 270,
     "metadata": {},
     "output_type": "execute_result"
    }
   ],
   "source": [
    "crashes_subset.loc[crashes_subset['CRASH_RECORD_ID'] == first]"
   ]
  },
  {
   "cell_type": "code",
   "execution_count": 271,
   "metadata": {},
   "outputs": [
    {
     "data": {
      "text/html": [
       "<div>\n",
       "<style scoped>\n",
       "    .dataframe tbody tr th:only-of-type {\n",
       "        vertical-align: middle;\n",
       "    }\n",
       "\n",
       "    .dataframe tbody tr th {\n",
       "        vertical-align: top;\n",
       "    }\n",
       "\n",
       "    .dataframe thead th {\n",
       "        text-align: right;\n",
       "    }\n",
       "</style>\n",
       "<table border=\"1\" class=\"dataframe\">\n",
       "  <thead>\n",
       "    <tr style=\"text-align: right;\">\n",
       "      <th></th>\n",
       "      <th>PERSON_ID</th>\n",
       "      <th>PERSON_TYPE</th>\n",
       "      <th>CRASH_RECORD_ID</th>\n",
       "      <th>VEHICLE_ID</th>\n",
       "      <th>CRASH_DATE</th>\n",
       "      <th>CITY</th>\n",
       "      <th>STATE</th>\n",
       "      <th>ZIPCODE</th>\n",
       "      <th>SEX</th>\n",
       "      <th>AGE</th>\n",
       "      <th>DRIVERS_LICENSE_STATE</th>\n",
       "      <th>DRIVERS_LICENSE_CLASS</th>\n",
       "      <th>INJURY_CLASSIFICATION</th>\n",
       "      <th>DRIVER_ACTION</th>\n",
       "      <th>DRIVER_VISION</th>\n",
       "      <th>PHYSICAL_CONDITION</th>\n",
       "      <th>EJECTION/AIRBAG</th>\n",
       "      <th>SPEEDING</th>\n",
       "      <th>DRINKING</th>\n",
       "      <th>TELEPHONE</th>\n",
       "    </tr>\n",
       "  </thead>\n",
       "  <tbody>\n",
       "    <tr>\n",
       "      <th>63208</th>\n",
       "      <td>O754384</td>\n",
       "      <td>DRIVER</td>\n",
       "      <td>b447747b75012261346e71cead9a4fdab835b2defcb439...</td>\n",
       "      <td>716609.0</td>\n",
       "      <td>2019-10-06 11:30:00</td>\n",
       "      <td>UNKNOWN</td>\n",
       "      <td>XX</td>\n",
       "      <td>NaN</td>\n",
       "      <td>1.0</td>\n",
       "      <td>NaN</td>\n",
       "      <td>XX</td>\n",
       "      <td>NaN</td>\n",
       "      <td>NO INDICATION OF INJURY</td>\n",
       "      <td>IMPROPER BACKING</td>\n",
       "      <td>NOT OBSCURED</td>\n",
       "      <td>NORMAL</td>\n",
       "      <td>0.0</td>\n",
       "      <td>False</td>\n",
       "      <td>False</td>\n",
       "      <td>False</td>\n",
       "    </tr>\n",
       "    <tr>\n",
       "      <th>63209</th>\n",
       "      <td>O754385</td>\n",
       "      <td>DRIVER</td>\n",
       "      <td>b447747b75012261346e71cead9a4fdab835b2defcb439...</td>\n",
       "      <td>716612.0</td>\n",
       "      <td>2019-10-06 11:30:00</td>\n",
       "      <td>CHICAGO</td>\n",
       "      <td>IL</td>\n",
       "      <td>60707</td>\n",
       "      <td>0.0</td>\n",
       "      <td>NaN</td>\n",
       "      <td>IL</td>\n",
       "      <td>D</td>\n",
       "      <td>NO INDICATION OF INJURY</td>\n",
       "      <td>OTHER</td>\n",
       "      <td>NOT OBSCURED</td>\n",
       "      <td>NORMAL</td>\n",
       "      <td>0.0</td>\n",
       "      <td>False</td>\n",
       "      <td>False</td>\n",
       "      <td>False</td>\n",
       "    </tr>\n",
       "    <tr>\n",
       "      <th>63581</th>\n",
       "      <td>O771683</td>\n",
       "      <td>DRIVER</td>\n",
       "      <td>b447747b75012261346e71cead9a4fdab835b2defcb439...</td>\n",
       "      <td>732966.0</td>\n",
       "      <td>2019-10-06 11:30:00</td>\n",
       "      <td>CHICAGO</td>\n",
       "      <td>IL</td>\n",
       "      <td>60707</td>\n",
       "      <td>0.0</td>\n",
       "      <td>NaN</td>\n",
       "      <td>IL</td>\n",
       "      <td>D</td>\n",
       "      <td>NO INDICATION OF INJURY</td>\n",
       "      <td>OTHER</td>\n",
       "      <td>NOT OBSCURED</td>\n",
       "      <td>NORMAL</td>\n",
       "      <td>0.0</td>\n",
       "      <td>False</td>\n",
       "      <td>False</td>\n",
       "      <td>False</td>\n",
       "    </tr>\n",
       "    <tr>\n",
       "      <th>749123</th>\n",
       "      <td>O771682</td>\n",
       "      <td>DRIVER</td>\n",
       "      <td>b447747b75012261346e71cead9a4fdab835b2defcb439...</td>\n",
       "      <td>732965.0</td>\n",
       "      <td>2019-10-06 11:30:00</td>\n",
       "      <td>CHICAGO</td>\n",
       "      <td>IL</td>\n",
       "      <td>60707</td>\n",
       "      <td>1.0</td>\n",
       "      <td>64.0</td>\n",
       "      <td>IL</td>\n",
       "      <td>D</td>\n",
       "      <td>NO INDICATION OF INJURY</td>\n",
       "      <td>IMPROPER BACKING</td>\n",
       "      <td>NOT OBSCURED</td>\n",
       "      <td>NORMAL</td>\n",
       "      <td>0.0</td>\n",
       "      <td>False</td>\n",
       "      <td>False</td>\n",
       "      <td>False</td>\n",
       "    </tr>\n",
       "  </tbody>\n",
       "</table>\n",
       "</div>"
      ],
      "text/plain": [
       "       PERSON_ID PERSON_TYPE  \\\n",
       "63208    O754384      DRIVER   \n",
       "63209    O754385      DRIVER   \n",
       "63581    O771683      DRIVER   \n",
       "749123   O771682      DRIVER   \n",
       "\n",
       "                                          CRASH_RECORD_ID  VEHICLE_ID  \\\n",
       "63208   b447747b75012261346e71cead9a4fdab835b2defcb439...    716609.0   \n",
       "63209   b447747b75012261346e71cead9a4fdab835b2defcb439...    716612.0   \n",
       "63581   b447747b75012261346e71cead9a4fdab835b2defcb439...    732966.0   \n",
       "749123  b447747b75012261346e71cead9a4fdab835b2defcb439...    732965.0   \n",
       "\n",
       "                 CRASH_DATE     CITY STATE ZIPCODE  SEX   AGE  \\\n",
       "63208   2019-10-06 11:30:00  UNKNOWN    XX     NaN  1.0   NaN   \n",
       "63209   2019-10-06 11:30:00  CHICAGO    IL   60707  0.0   NaN   \n",
       "63581   2019-10-06 11:30:00  CHICAGO    IL   60707  0.0   NaN   \n",
       "749123  2019-10-06 11:30:00  CHICAGO    IL   60707  1.0  64.0   \n",
       "\n",
       "       DRIVERS_LICENSE_STATE DRIVERS_LICENSE_CLASS    INJURY_CLASSIFICATION  \\\n",
       "63208                     XX                   NaN  NO INDICATION OF INJURY   \n",
       "63209                     IL                     D  NO INDICATION OF INJURY   \n",
       "63581                     IL                     D  NO INDICATION OF INJURY   \n",
       "749123                    IL                     D  NO INDICATION OF INJURY   \n",
       "\n",
       "           DRIVER_ACTION DRIVER_VISION PHYSICAL_CONDITION  EJECTION/AIRBAG  \\\n",
       "63208   IMPROPER BACKING  NOT OBSCURED             NORMAL              0.0   \n",
       "63209              OTHER  NOT OBSCURED             NORMAL              0.0   \n",
       "63581              OTHER  NOT OBSCURED             NORMAL              0.0   \n",
       "749123  IMPROPER BACKING  NOT OBSCURED             NORMAL              0.0   \n",
       "\n",
       "        SPEEDING  DRINKING  TELEPHONE  \n",
       "63208      False     False      False  \n",
       "63209      False     False      False  \n",
       "63581      False     False      False  \n",
       "749123     False     False      False  "
      ]
     },
     "execution_count": 271,
     "metadata": {},
     "output_type": "execute_result"
    }
   ],
   "source": [
    "people_subset[people_subset['CRASH_RECORD_ID'] == first]"
   ]
  },
  {
   "cell_type": "code",
   "execution_count": 272,
   "metadata": {},
   "outputs": [],
   "source": [
    "# drop these inconsisten entries both from people and crashes\n",
    "people = people[~people['CRASH_RECORD_ID'].isin(inconsistent_crash_ids)]\n",
    "\n",
    "crashes = crashes[~crashes['CRASH_RECORD_ID'].isin(inconsistent_crash_ids)]\n",
    "\n",
    "# save to csv\n",
    "people.to_csv('dataset/people_2017.csv', index=False)\n",
    "crashes.to_csv('dataset/crashes_severity_2017.csv', index=False)"
   ]
  },
  {
   "cell_type": "markdown",
   "metadata": {},
   "source": [
    "---"
   ]
  }
 ],
 "metadata": {
  "kernelspec": {
   "display_name": ".venv",
   "language": "python",
   "name": "python3"
  },
  "language_info": {
   "codemirror_mode": {
    "name": "ipython",
    "version": 3
   },
   "file_extension": ".py",
   "mimetype": "text/x-python",
   "name": "python",
   "nbconvert_exporter": "python",
   "pygments_lexer": "ipython3",
   "version": "3.10.8"
  }
 },
 "nbformat": 4,
 "nbformat_minor": 2
}
